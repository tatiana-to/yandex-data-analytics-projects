{
 "cells": [
  {
   "cell_type": "markdown",
   "metadata": {},
   "source": [
    "# Яндекс.Музыка"
   ]
  },
  {
   "cell_type": "markdown",
   "metadata": {
    "id": "VUC88oWjTJw2"
   },
   "source": [
    "\n",
    "\n",
    "**Цель исследования** — проверить три гипотезы:\n",
    "1. Активность пользователей зависит от дня недели. Причём в Москве и Петербурге это проявляется по-разному.\n",
    "2. В понедельник утром в Москве преобладают одни жанры, а в Петербурге — другие. Так же и вечером пятницы преобладают разные жанры — в зависимости от города. \n",
    "3. Москва и Петербург предпочитают разные жанры музыки. В Москве чаще слушают поп-музыку, в Петербурге — русский рэп.\n",
    "\n",
    "\n"
   ]
  },
  {
   "cell_type": "markdown",
   "metadata": {
    "id": "Ml1hmfXC_Zcs"
   },
   "source": [
    "## Обзор данных\n",
    "\n",
    "Составить первое представление о данных Яндекс.Музыки.\n",
    "\n",
    "\n"
   ]
  },
  {
   "cell_type": "code",
   "execution_count": 36,
   "metadata": {
    "id": "AXN7PHPN_Zcs"
   },
   "outputs": [],
   "source": [
    "import pandas as pd # импорт библиотеки pandas"
   ]
  },
  {
   "cell_type": "code",
   "execution_count": 37,
   "metadata": {
    "id": "fFVu7vqh_Zct"
   },
   "outputs": [],
   "source": [
    "df = pd.read_csv('~/datasets/yandex_music_project.csv')# чтение файла с данными и сохранение в df"
   ]
  },
  {
   "cell_type": "code",
   "execution_count": 38,
   "metadata": {
    "id": "oWTVX3gW_Zct"
   },
   "outputs": [
    {
     "data": {
      "text/html": [
       "<div>\n",
       "<style scoped>\n",
       "    .dataframe tbody tr th:only-of-type {\n",
       "        vertical-align: middle;\n",
       "    }\n",
       "\n",
       "    .dataframe tbody tr th {\n",
       "        vertical-align: top;\n",
       "    }\n",
       "\n",
       "    .dataframe thead th {\n",
       "        text-align: right;\n",
       "    }\n",
       "</style>\n",
       "<table border=\"1\" class=\"dataframe\">\n",
       "  <thead>\n",
       "    <tr style=\"text-align: right;\">\n",
       "      <th></th>\n",
       "      <th>userID</th>\n",
       "      <th>Track</th>\n",
       "      <th>artist</th>\n",
       "      <th>genre</th>\n",
       "      <th>City</th>\n",
       "      <th>time</th>\n",
       "      <th>Day</th>\n",
       "    </tr>\n",
       "  </thead>\n",
       "  <tbody>\n",
       "    <tr>\n",
       "      <th>0</th>\n",
       "      <td>FFB692EC</td>\n",
       "      <td>Kamigata To Boots</td>\n",
       "      <td>The Mass Missile</td>\n",
       "      <td>rock</td>\n",
       "      <td>Saint-Petersburg</td>\n",
       "      <td>20:28:33</td>\n",
       "      <td>Wednesday</td>\n",
       "    </tr>\n",
       "    <tr>\n",
       "      <th>1</th>\n",
       "      <td>55204538</td>\n",
       "      <td>Delayed Because of Accident</td>\n",
       "      <td>Andreas Rönnberg</td>\n",
       "      <td>rock</td>\n",
       "      <td>Moscow</td>\n",
       "      <td>14:07:09</td>\n",
       "      <td>Friday</td>\n",
       "    </tr>\n",
       "    <tr>\n",
       "      <th>2</th>\n",
       "      <td>20EC38</td>\n",
       "      <td>Funiculì funiculà</td>\n",
       "      <td>Mario Lanza</td>\n",
       "      <td>pop</td>\n",
       "      <td>Saint-Petersburg</td>\n",
       "      <td>20:58:07</td>\n",
       "      <td>Wednesday</td>\n",
       "    </tr>\n",
       "    <tr>\n",
       "      <th>3</th>\n",
       "      <td>A3DD03C9</td>\n",
       "      <td>Dragons in the Sunset</td>\n",
       "      <td>Fire + Ice</td>\n",
       "      <td>folk</td>\n",
       "      <td>Saint-Petersburg</td>\n",
       "      <td>08:37:09</td>\n",
       "      <td>Monday</td>\n",
       "    </tr>\n",
       "    <tr>\n",
       "      <th>4</th>\n",
       "      <td>E2DC1FAE</td>\n",
       "      <td>Soul People</td>\n",
       "      <td>Space Echo</td>\n",
       "      <td>dance</td>\n",
       "      <td>Moscow</td>\n",
       "      <td>08:34:34</td>\n",
       "      <td>Monday</td>\n",
       "    </tr>\n",
       "    <tr>\n",
       "      <th>5</th>\n",
       "      <td>842029A1</td>\n",
       "      <td>Преданная</td>\n",
       "      <td>IMPERVTOR</td>\n",
       "      <td>rusrap</td>\n",
       "      <td>Saint-Petersburg</td>\n",
       "      <td>13:09:41</td>\n",
       "      <td>Friday</td>\n",
       "    </tr>\n",
       "    <tr>\n",
       "      <th>6</th>\n",
       "      <td>4CB90AA5</td>\n",
       "      <td>True</td>\n",
       "      <td>Roman Messer</td>\n",
       "      <td>dance</td>\n",
       "      <td>Moscow</td>\n",
       "      <td>13:00:07</td>\n",
       "      <td>Wednesday</td>\n",
       "    </tr>\n",
       "    <tr>\n",
       "      <th>7</th>\n",
       "      <td>F03E1C1F</td>\n",
       "      <td>Feeling This Way</td>\n",
       "      <td>Polina Griffith</td>\n",
       "      <td>dance</td>\n",
       "      <td>Moscow</td>\n",
       "      <td>20:47:49</td>\n",
       "      <td>Wednesday</td>\n",
       "    </tr>\n",
       "    <tr>\n",
       "      <th>8</th>\n",
       "      <td>8FA1D3BE</td>\n",
       "      <td>И вновь продолжается бой</td>\n",
       "      <td>NaN</td>\n",
       "      <td>ruspop</td>\n",
       "      <td>Moscow</td>\n",
       "      <td>09:17:40</td>\n",
       "      <td>Friday</td>\n",
       "    </tr>\n",
       "    <tr>\n",
       "      <th>9</th>\n",
       "      <td>E772D5C0</td>\n",
       "      <td>Pessimist</td>\n",
       "      <td>NaN</td>\n",
       "      <td>dance</td>\n",
       "      <td>Saint-Petersburg</td>\n",
       "      <td>21:20:49</td>\n",
       "      <td>Wednesday</td>\n",
       "    </tr>\n",
       "  </tbody>\n",
       "</table>\n",
       "</div>"
      ],
      "text/plain": [
       "     userID                        Track            artist   genre  \\\n",
       "0  FFB692EC            Kamigata To Boots  The Mass Missile    rock   \n",
       "1  55204538  Delayed Because of Accident  Andreas Rönnberg    rock   \n",
       "2    20EC38            Funiculì funiculà       Mario Lanza     pop   \n",
       "3  A3DD03C9        Dragons in the Sunset        Fire + Ice    folk   \n",
       "4  E2DC1FAE                  Soul People        Space Echo   dance   \n",
       "5  842029A1                    Преданная         IMPERVTOR  rusrap   \n",
       "6  4CB90AA5                         True      Roman Messer   dance   \n",
       "7  F03E1C1F             Feeling This Way   Polina Griffith   dance   \n",
       "8  8FA1D3BE     И вновь продолжается бой               NaN  ruspop   \n",
       "9  E772D5C0                    Pessimist               NaN   dance   \n",
       "\n",
       "             City        time        Day  \n",
       "0  Saint-Petersburg  20:28:33  Wednesday  \n",
       "1            Moscow  14:07:09     Friday  \n",
       "2  Saint-Petersburg  20:58:07  Wednesday  \n",
       "3  Saint-Petersburg  08:37:09     Monday  \n",
       "4            Moscow  08:34:34     Monday  \n",
       "5  Saint-Petersburg  13:09:41     Friday  \n",
       "6            Moscow  13:00:07  Wednesday  \n",
       "7            Moscow  20:47:49  Wednesday  \n",
       "8            Moscow  09:17:40     Friday  \n",
       "9  Saint-Petersburg  21:20:49  Wednesday  "
      ]
     },
     "metadata": {},
     "output_type": "display_data"
    }
   ],
   "source": [
    "display(df.head(10))# получение первых 10 строк таблицы df"
   ]
  },
  {
   "cell_type": "code",
   "execution_count": 39,
   "metadata": {
    "id": "DSf2kIb-_Zct"
   },
   "outputs": [
    {
     "name": "stdout",
     "output_type": "stream",
     "text": [
      "<class 'pandas.core.frame.DataFrame'>\n",
      "RangeIndex: 65079 entries, 0 to 65078\n",
      "Data columns (total 7 columns):\n",
      " #   Column    Non-Null Count  Dtype \n",
      "---  ------    --------------  ----- \n",
      " 0     userID  65079 non-null  object\n",
      " 1   Track     63848 non-null  object\n",
      " 2   artist    57876 non-null  object\n",
      " 3   genre     63881 non-null  object\n",
      " 4     City    65079 non-null  object\n",
      " 5   time      65079 non-null  object\n",
      " 6   Day       65079 non-null  object\n",
      "dtypes: object(7)\n",
      "memory usage: 3.5+ MB\n"
     ]
    }
   ],
   "source": [
    "df.info()# получение общей информации о данных в таблице df"
   ]
  },
  {
   "cell_type": "markdown",
   "metadata": {
    "id": "TaQ2Iwbr_Zct"
   },
   "source": [
    "Итак, в таблице семь столбцов. Тип данных во всех столбцах — `object`.\n",
    "\n",
    "Согласно документации к данным:\n",
    "* `userID` — идентификатор пользователя;\n",
    "* `Track` — название трека;  \n",
    "* `artist` — имя исполнителя;\n",
    "* `genre` — название жанра;\n",
    "* `City` — город пользователя;\n",
    "* `time` — время начала прослушивания;\n",
    "* `Day` — день недели.\n",
    "\n",
    "В названиях колонок видны  нарушения стиля:\n",
    "1. Строчные буквы сочетаются с прописными.\n",
    "2. Встречаются пробелы.\n",
    "3. Количество значений в столбцах различается. Значит, в данных есть пропущенные значения.\n",
    "4. `userID`необходимо записать в змеином_регистре.\n",
    "\n",
    "\n"
   ]
  },
  {
   "cell_type": "markdown",
   "metadata": {
    "id": "MCB6-dXG_Zct"
   },
   "source": [
    "**Выводы**\n",
    "\n",
    "В каждой строке таблицы — данные о прослушанном треке. Часть колонок описывает саму композицию: название, исполнителя и жанр. Остальные данные рассказывают о пользователе: из какого он города, когда он слушал музыку. \n",
    "\n",
    "Предварительно можно утверждать, что, данных достаточно для проверки гипотез. Но встречаются пропуски в данных, а в названиях колонок — расхождения с хорошим стилем.\n",
    "\n",
    "Чтобы двигаться дальше, нужно устранить проблемы в данных."
   ]
  },
  {
   "cell_type": "markdown",
   "metadata": {
    "id": "SjYF6Ub9_Zct"
   },
   "source": [
    "## Предобработка данных\n",
    "Исправить стиль в заголовках столбцов, исключить пропуски. Затем проверить данные на дубликаты."
   ]
  },
  {
   "cell_type": "markdown",
   "metadata": {
    "id": "dIaKXr29_Zct"
   },
   "source": [
    "### Стиль заголовков\n",
    "Выведем на экран названия столбцов:"
   ]
  },
  {
   "cell_type": "code",
   "execution_count": 40,
   "metadata": {
    "id": "oKOTdF_Q_Zct"
   },
   "outputs": [
    {
     "data": {
      "text/plain": [
       "Index(['  userID', 'Track', 'artist', 'genre', '  City  ', 'time', 'Day'], dtype='object')"
      ]
     },
     "metadata": {},
     "output_type": "display_data"
    }
   ],
   "source": [
    "display(df.columns)# перечень названий столбцов таблицы df"
   ]
  },
  {
   "cell_type": "markdown",
   "metadata": {
    "id": "zj5534cv_Zct"
   },
   "source": [
    "Приведем названия в соответствие с хорошим стилем:\n"
   ]
  },
  {
   "cell_type": "code",
   "execution_count": 41,
   "metadata": {
    "id": "ISlFqs5y_Zct"
   },
   "outputs": [],
   "source": [
    "df = df.rename(columns={'  userID': 'user_id' , 'Track': 'track', '  City  ': 'city', 'Day': 'day'})# переименование столбцов"
   ]
  },
  {
   "cell_type": "code",
   "execution_count": 42,
   "metadata": {
    "id": "d4NOAmTW_Zct"
   },
   "outputs": [
    {
     "data": {
      "text/plain": [
       "Index(['user_id', 'track', 'artist', 'genre', 'city', 'time', 'day'], dtype='object')"
      ]
     },
     "metadata": {},
     "output_type": "display_data"
    }
   ],
   "source": [
    "display(df.columns)# проверка результатов - перечень названий столбцов"
   ]
  },
  {
   "cell_type": "markdown",
   "metadata": {
    "id": "5ISfbcfY_Zct"
   },
   "source": [
    "### Пропуски значений\n",
    "Сначала посчитаем, сколько в таблице пропущенных значений. Для этого достаточно двух методов `pandas`:"
   ]
  },
  {
   "cell_type": "code",
   "execution_count": 43,
   "metadata": {
    "id": "RskX29qr_Zct"
   },
   "outputs": [
    {
     "data": {
      "text/plain": [
       "user_id       0\n",
       "track      1231\n",
       "artist     7203\n",
       "genre      1198\n",
       "city          0\n",
       "time          0\n",
       "day           0\n",
       "dtype: int64"
      ]
     },
     "execution_count": 43,
     "metadata": {},
     "output_type": "execute_result"
    }
   ],
   "source": [
    "df.isna().sum()# подсчёт пропусков"
   ]
  },
  {
   "cell_type": "markdown",
   "metadata": {
    "id": "qubhgnlO_Zct"
   },
   "source": [
    "Не все пропущенные значения влияют на исследование. Так в `track` и `artist` пропуски не важны для нашей работы. Достаточно заменить их явными обозначениями.\n",
    "\n",
    "Но пропуски в `genre` могут помешать сравнению музыкальных вкусов в Москве и Санкт-Петербурге. На практике было бы правильно установить причину пропусков и восстановить данные. Такой возможности нет в учебном проекте. Придётся:\n",
    "* заполнить и эти пропуски явными обозначениями,\n",
    "* оценить, насколько они повредят расчётам. "
   ]
  },
  {
   "cell_type": "markdown",
   "metadata": {
    "id": "fSv2laPA_Zct"
   },
   "source": [
    "Заменим пропущенные значения в столбцах `track`, `artist` и `genre` на строку `'unknown'`. Для этого создадим список `columns_to_replace`, переберем его элементы циклом `for` и для каждого столбца выполним замену пропущенных значений:"
   ]
  },
  {
   "cell_type": "code",
   "execution_count": 44,
   "metadata": {
    "id": "KplB5qWs_Zct"
   },
   "outputs": [],
   "source": [
    "columns_to_replace = ['track', 'artist', 'genre']\n",
    "\n",
    "for column in columns_to_replace:\n",
    "    df[column] = df[column].fillna('unknown')\n",
    "    \n",
    "        \n",
    "    # перебор названий столбцов в цикле и замена пропущенных значений на 'unknown'"
   ]
  },
  {
   "cell_type": "markdown",
   "metadata": {
    "id": "Ilsm-MZo_Zct"
   },
   "source": [
    "Убедимся, что в таблице не осталось пропусков."
   ]
  },
  {
   "cell_type": "code",
   "execution_count": 45,
   "metadata": {
    "id": "Tq4nYRX4_Zct"
   },
   "outputs": [
    {
     "data": {
      "text/plain": [
       "user_id    0\n",
       "track      0\n",
       "artist     0\n",
       "genre      0\n",
       "city       0\n",
       "time       0\n",
       "day        0\n",
       "dtype: int64"
      ]
     },
     "execution_count": 45,
     "metadata": {},
     "output_type": "execute_result"
    }
   ],
   "source": [
    "df.isna().sum()# подсчёт пропусков"
   ]
  },
  {
   "cell_type": "markdown",
   "metadata": {
    "id": "BWKRtBJ3_Zct"
   },
   "source": [
    "### Дубликаты\n",
    "Посчитаем явные дубликаты в таблице одной командой:"
   ]
  },
  {
   "cell_type": "code",
   "execution_count": 46,
   "metadata": {
    "id": "36eES_S0_Zct"
   },
   "outputs": [
    {
     "data": {
      "text/plain": [
       "3826"
      ]
     },
     "execution_count": 46,
     "metadata": {},
     "output_type": "execute_result"
    }
   ],
   "source": [
    "df.duplicated().sum()# подсчёт явных дубликатов"
   ]
  },
  {
   "cell_type": "code",
   "execution_count": 47,
   "metadata": {
    "id": "exFHq6tt_Zct"
   },
   "outputs": [],
   "source": [
    "df = df.drop_duplicates().reset_index(drop\n",
    "= True)\n",
    "# удаление явных дубликатов (с удалением старых индексов и формированием новых)"
   ]
  },
  {
   "cell_type": "code",
   "execution_count": 48,
   "metadata": {
    "id": "-8PuNWQ0_Zct"
   },
   "outputs": [
    {
     "data": {
      "text/plain": [
       "0"
      ]
     },
     "execution_count": 48,
     "metadata": {},
     "output_type": "execute_result"
    }
   ],
   "source": [
    "df.duplicated().sum()\n",
    "# проверка на отсутствие дубликатов"
   ]
  },
  {
   "cell_type": "markdown",
   "metadata": {
    "id": "QlFBsxAr_Zct"
   },
   "source": [
    "Теперь избавимся от неявных дубликатов в колонке `genre`. Например, название одного и того же жанра может быть записано немного по-разному. Такие ошибки тоже повлияют на результат исследования."
   ]
  },
  {
   "cell_type": "markdown",
   "metadata": {
    "id": "eSjWwsOh_Zct"
   },
   "source": [
    "Выведем на экран список уникальных названий жанров, отсортированный в алфавитном порядке. "
   ]
  },
  {
   "cell_type": "code",
   "execution_count": 49,
   "metadata": {
    "id": "JIUcqzZN_Zct"
   },
   "outputs": [
    {
     "name": "stdout",
     "output_type": "stream",
     "text": [
      "['acid', 'acoustic', 'action', 'adult', 'africa', 'afrikaans', 'alternative', 'alternativepunk', 'ambient', 'americana', 'animated', 'anime', 'arabesk', 'arabic', 'arena', 'argentinetango', 'art', 'audiobook', 'author', 'avantgarde', 'axé', 'baile', 'balkan', 'beats', 'bigroom', 'black', 'bluegrass', 'blues', 'bollywood', 'bossa', 'brazilian', 'breakbeat', 'breaks', 'broadway', 'cantautori', 'cantopop', 'canzone', 'caribbean', 'caucasian', 'celtic', 'chamber', 'chanson', 'children', 'chill', 'chinese', 'choral', 'christian', 'christmas', 'classical', 'classicmetal', 'club', 'colombian', 'comedy', 'conjazz', 'contemporary', 'country', 'cuban', 'dance', 'dancehall', 'dancepop', 'dark', 'death', 'deep', 'deutschrock', 'deutschspr', 'dirty', 'disco', 'dnb', 'documentary', 'downbeat', 'downtempo', 'drum', 'dub', 'dubstep', 'eastern', 'easy', 'electronic', 'electropop', 'emo', 'entehno', 'epicmetal', 'estrada', 'ethnic', 'eurofolk', 'european', 'experimental', 'extrememetal', 'fado', 'fairytail', 'film', 'fitness', 'flamenco', 'folk', 'folklore', 'folkmetal', 'folkrock', 'folktronica', 'forró', 'frankreich', 'französisch', 'french', 'funk', 'future', 'gangsta', 'garage', 'german', 'ghazal', 'gitarre', 'glitch', 'gospel', 'gothic', 'grime', 'grunge', 'gypsy', 'handsup', \"hard'n'heavy\", 'hardcore', 'hardstyle', 'hardtechno', 'hip', 'hip-hop', 'hiphop', 'historisch', 'holiday', 'hop', 'horror', 'house', 'hymn', 'idm', 'independent', 'indian', 'indie', 'indipop', 'industrial', 'inspirational', 'instrumental', 'international', 'irish', 'jam', 'japanese', 'jazz', 'jewish', 'jpop', 'jungle', 'k-pop', 'karadeniz', 'karaoke', 'kayokyoku', 'korean', 'laiko', 'latin', 'latino', 'leftfield', 'local', 'lounge', 'loungeelectronic', 'lovers', 'malaysian', 'mandopop', 'marschmusik', 'meditative', 'mediterranean', 'melodic', 'metal', 'metalcore', 'mexican', 'middle', 'minimal', 'miscellaneous', 'modern', 'mood', 'mpb', 'muslim', 'native', 'neoklassik', 'neue', 'new', 'newage', 'newwave', 'nu', 'nujazz', 'numetal', 'oceania', 'old', 'opera', 'orchestral', 'other', 'piano', 'podcasts', 'pop', 'popdance', 'popelectronic', 'popeurodance', 'poprussian', 'post', 'posthardcore', 'postrock', 'power', 'progmetal', 'progressive', 'psychedelic', 'punjabi', 'punk', 'quebecois', 'ragga', 'ram', 'rancheras', 'rap', 'rave', 'reggae', 'reggaeton', 'regional', 'relax', 'religious', 'retro', 'rhythm', 'rnb', 'rnr', 'rock', 'rockabilly', 'rockalternative', 'rockindie', 'rockother', 'romance', 'roots', 'ruspop', 'rusrap', 'rusrock', 'russian', 'salsa', 'samba', 'scenic', 'schlager', 'self', 'sertanejo', 'shanson', 'shoegazing', 'showtunes', 'singer', 'ska', 'skarock', 'slow', 'smooth', 'soft', 'soul', 'soulful', 'sound', 'soundtrack', 'southern', 'specialty', 'speech', 'spiritual', 'sport', 'stonerrock', 'surf', 'swing', 'synthpop', 'synthrock', 'sängerportrait', 'tango', 'tanzorchester', 'taraftar', 'tatar', 'tech', 'techno', 'teen', 'thrash', 'top', 'traditional', 'tradjazz', 'trance', 'tribal', 'trip', 'triphop', 'tropical', 'türk', 'türkçe', 'ukrrock', 'unknown', 'urban', 'uzbek', 'variété', 'vi', 'videogame', 'vocal', 'western', 'world', 'worldbeat', 'ïîï', 'электроника']\n"
     ]
    }
   ],
   "source": [
    "print(sorted(df['genre'].unique()))\n",
    "# Просмотр уникальных названий жанров"
   ]
  },
  {
   "cell_type": "markdown",
   "metadata": {
    "id": "qej-Qmuo_Zct"
   },
   "source": [
    "Просмотрите список и найдите неявные дубликаты названия `hiphop`. Это могут быть названия с ошибками или альтернативные названия того же жанра.\n",
    "Можно заметить следующие неявные дубликаты:\n",
    "* *hip*,\n",
    "* *hop*,\n",
    "* *hip-hop*\n",
    "* *электроника*\n",
    "* *electronic*\n",
    "\n",
    "Чтобы очистить от них таблицу, напишем функцию `replace_wrong_genres()` с двумя параметрами: \n",
    "* `wrong_genres` — список дубликатов,\n",
    "* `correct_genre` — строка с правильным значением.\n",
    "\n",
    "Функция должна исправить колонку `genre` в таблице `df`: заменить каждое значение из списка `wrong_genres` на значение из `correct_genre`."
   ]
  },
  {
   "cell_type": "code",
   "execution_count": 50,
   "metadata": {
    "id": "ErNDkmns_Zct"
   },
   "outputs": [],
   "source": [
    "def replace_wrong_genres(wrong_genres, correct_genre):\n",
    "    \n",
    "    for wrong_genre in wrong_genres: \n",
    "        \n",
    "        df['genre'] = df['genre'].replace(wrong_genre, correct_genre)\n",
    "\n",
    "duplicates = ['hip', 'hop','hip-hop'] \n",
    "genre = 'hiphop'\n",
    "replace_wrong_genres(duplicates, genre) \n",
    "\n",
    "df['genre'] = df['genre'].replace('электроника', 'electronic')\n",
    "\n",
    "\n",
    "\n",
    "# Функция для замены неявных дубликатов"
   ]
  },
  {
   "cell_type": "code",
   "execution_count": 51,
   "metadata": {
    "id": "YN5i2hpmSo09"
   },
   "outputs": [
    {
     "name": "stdout",
     "output_type": "stream",
     "text": [
      "0\n",
      "0\n",
      "0\n",
      "0\n"
     ]
    }
   ],
   "source": [
    "# Устранение неявных дубликатов\n",
    "genre_final_count_1 = df.loc[df.loc[:,'genre'] == 'hip'][\"genre\"].count()\n",
    "print(genre_final_count_1)\n",
    "\n",
    "genre_final_count_2 = df.loc[df.loc[:,'genre'] == 'hop'][\"genre\"].count()\n",
    "print(genre_final_count_2)\n",
    "\n",
    "genre_final_count_3 = df.loc[df.loc[:,'genre'] == 'hip-hop'][\"genre\"].count()\n",
    "print(genre_final_count_3)\n",
    "\n",
    "genre_final_count_4 = df.loc[df.loc[:,'genre'] == 'электроника']['genre'].count()\n",
    "print(genre_final_count_4)"
   ]
  },
  {
   "cell_type": "markdown",
   "metadata": {
    "id": "zQKF16_RG15m"
   },
   "source": [
    "\n",
    "Выведем отсортированный список уникальных значений столбца `genre`:"
   ]
  },
  {
   "cell_type": "code",
   "execution_count": 52,
   "metadata": {
    "id": "wvixALnFG15m"
   },
   "outputs": [
    {
     "name": "stdout",
     "output_type": "stream",
     "text": [
      "['acid', 'acoustic', 'action', 'adult', 'africa', 'afrikaans', 'alternative', 'alternativepunk', 'ambient', 'americana', 'animated', 'anime', 'arabesk', 'arabic', 'arena', 'argentinetango', 'art', 'audiobook', 'author', 'avantgarde', 'axé', 'baile', 'balkan', 'beats', 'bigroom', 'black', 'bluegrass', 'blues', 'bollywood', 'bossa', 'brazilian', 'breakbeat', 'breaks', 'broadway', 'cantautori', 'cantopop', 'canzone', 'caribbean', 'caucasian', 'celtic', 'chamber', 'chanson', 'children', 'chill', 'chinese', 'choral', 'christian', 'christmas', 'classical', 'classicmetal', 'club', 'colombian', 'comedy', 'conjazz', 'contemporary', 'country', 'cuban', 'dance', 'dancehall', 'dancepop', 'dark', 'death', 'deep', 'deutschrock', 'deutschspr', 'dirty', 'disco', 'dnb', 'documentary', 'downbeat', 'downtempo', 'drum', 'dub', 'dubstep', 'eastern', 'easy', 'electronic', 'electropop', 'emo', 'entehno', 'epicmetal', 'estrada', 'ethnic', 'eurofolk', 'european', 'experimental', 'extrememetal', 'fado', 'fairytail', 'film', 'fitness', 'flamenco', 'folk', 'folklore', 'folkmetal', 'folkrock', 'folktronica', 'forró', 'frankreich', 'französisch', 'french', 'funk', 'future', 'gangsta', 'garage', 'german', 'ghazal', 'gitarre', 'glitch', 'gospel', 'gothic', 'grime', 'grunge', 'gypsy', 'handsup', \"hard'n'heavy\", 'hardcore', 'hardstyle', 'hardtechno', 'hiphop', 'historisch', 'holiday', 'horror', 'house', 'hymn', 'idm', 'independent', 'indian', 'indie', 'indipop', 'industrial', 'inspirational', 'instrumental', 'international', 'irish', 'jam', 'japanese', 'jazz', 'jewish', 'jpop', 'jungle', 'k-pop', 'karadeniz', 'karaoke', 'kayokyoku', 'korean', 'laiko', 'latin', 'latino', 'leftfield', 'local', 'lounge', 'loungeelectronic', 'lovers', 'malaysian', 'mandopop', 'marschmusik', 'meditative', 'mediterranean', 'melodic', 'metal', 'metalcore', 'mexican', 'middle', 'minimal', 'miscellaneous', 'modern', 'mood', 'mpb', 'muslim', 'native', 'neoklassik', 'neue', 'new', 'newage', 'newwave', 'nu', 'nujazz', 'numetal', 'oceania', 'old', 'opera', 'orchestral', 'other', 'piano', 'podcasts', 'pop', 'popdance', 'popelectronic', 'popeurodance', 'poprussian', 'post', 'posthardcore', 'postrock', 'power', 'progmetal', 'progressive', 'psychedelic', 'punjabi', 'punk', 'quebecois', 'ragga', 'ram', 'rancheras', 'rap', 'rave', 'reggae', 'reggaeton', 'regional', 'relax', 'religious', 'retro', 'rhythm', 'rnb', 'rnr', 'rock', 'rockabilly', 'rockalternative', 'rockindie', 'rockother', 'romance', 'roots', 'ruspop', 'rusrap', 'rusrock', 'russian', 'salsa', 'samba', 'scenic', 'schlager', 'self', 'sertanejo', 'shanson', 'shoegazing', 'showtunes', 'singer', 'ska', 'skarock', 'slow', 'smooth', 'soft', 'soul', 'soulful', 'sound', 'soundtrack', 'southern', 'specialty', 'speech', 'spiritual', 'sport', 'stonerrock', 'surf', 'swing', 'synthpop', 'synthrock', 'sängerportrait', 'tango', 'tanzorchester', 'taraftar', 'tatar', 'tech', 'techno', 'teen', 'thrash', 'top', 'traditional', 'tradjazz', 'trance', 'tribal', 'trip', 'triphop', 'tropical', 'türk', 'türkçe', 'ukrrock', 'unknown', 'urban', 'uzbek', 'variété', 'vi', 'videogame', 'vocal', 'western', 'world', 'worldbeat', 'ïîï']\n"
     ]
    }
   ],
   "source": [
    "print(sorted(df['genre'].unique()))"
   ]
  },
  {
   "cell_type": "markdown",
   "metadata": {
    "id": "jz6a9-7HQUDd"
   },
   "source": [
    "**Выводы**\n",
    "\n",
    "Предобработка обнаружила три проблемы в данных:\n",
    "\n",
    "- нарушения в стиле заголовков,\n",
    "- пропущенные значения,\n",
    "- дубликаты — явные и неявные.\n",
    "\n",
    "Мы исправили заголовки, чтобы упростить работу с таблицей. Без дубликатов исследование станет более точным.\n",
    "\n",
    "Пропущенные значения заменили на `'unknown'`. Ещё предстоит увидеть, не повредят ли исследованию пропуски в колонке `genre`.\n",
    "\n",
    "Теперь можно перейти к проверке гипотез. "
   ]
  },
  {
   "cell_type": "markdown",
   "metadata": {
    "id": "WttZHXH0SqKk"
   },
   "source": [
    "## Проверка гипотез"
   ]
  },
  {
   "cell_type": "markdown",
   "metadata": {
    "id": "Im936VVi_Zcu"
   },
   "source": [
    "### Сравнение поведения пользователей двух столиц"
   ]
  },
  {
   "cell_type": "markdown",
   "metadata": {
    "id": "nwt_MuaL_Zcu"
   },
   "source": [
    "Первая гипотеза утверждает, что пользователи по-разному слушают музыку в Москве и Санкт-Петербурге. Проверим это предположение по данным о трёх днях недели — понедельнике, среде и пятнице. Для этого:\n",
    "\n",
    "* Разделим пользователей Москвы и Санкт-Петербурга\n",
    "* Сравним, сколько треков послушала каждая группа пользователей в понедельник, среду и пятницу.\n"
   ]
  },
  {
   "cell_type": "markdown",
   "metadata": {
    "id": "8Dw_YMmT_Zcu"
   },
   "source": [
    "Для тренировки сначала выполним каждый из расчётов по отдельности. \n",
    "\n",
    "Оценим активность пользователей в каждом городе. Сгруппируем данные по городу и посчитаем прослушивания в каждой группе.\n",
    "\n"
   ]
  },
  {
   "cell_type": "code",
   "execution_count": 53,
   "metadata": {
    "id": "0_Qs96oh_Zcu"
   },
   "outputs": [
    {
     "data": {
      "text/plain": [
       "city\n",
       "Moscow              42741\n",
       "Saint-Petersburg    18512\n",
       "Name: genre, dtype: int64"
      ]
     },
     "execution_count": 53,
     "metadata": {},
     "output_type": "execute_result"
    }
   ],
   "source": [
    "df.groupby('city')['genre'].count() # Подсчёт прослушиваний в каждом городе"
   ]
  },
  {
   "cell_type": "markdown",
   "metadata": {
    "id": "dzli3w8o_Zcu"
   },
   "source": [
    "В Москве прослушиваний больше, чем в Петербурге. Из этого не следует, что московские пользователи чаще слушают музыку. Просто самих пользователей в Москве больше.\n",
    "\n",
    "Теперь сгруппируем данные по дню недели и подсчитаем прослушивания в понедельник, среду и пятницу, в данных есть информация \n",
    "о прослушиваниях только за эти дни.\n"
   ]
  },
  {
   "cell_type": "code",
   "execution_count": 54,
   "metadata": {
    "id": "uZMKjiJz_Zcu"
   },
   "outputs": [
    {
     "data": {
      "text/plain": [
       "day\n",
       "Friday       21840\n",
       "Monday       21354\n",
       "Wednesday    18059\n",
       "Name: genre, dtype: int64"
      ]
     },
     "execution_count": 54,
     "metadata": {},
     "output_type": "execute_result"
    }
   ],
   "source": [
    "df.groupby('day')['genre'].count()# Подсчёт прослушиваний в каждый из трёх дней"
   ]
  },
  {
   "cell_type": "markdown",
   "metadata": {
    "id": "cC2tNrlL_Zcu"
   },
   "source": [
    "В среднем пользователи из двух городов менее активны по средам. Но картина может измениться, если рассмотреть каждый город в отдельности."
   ]
  },
  {
   "cell_type": "markdown",
   "metadata": {
    "id": "POzs8bGa_Zcu"
   },
   "source": [
    "\n",
    "Создадим функцию `number_tracks()`, которая посчитает прослушивания для заданного дня и города. Ей понадобятся два параметра:\n",
    "* день недели,\n",
    "* название города.\n",
    "\n",
    "В функции сохраним в переменную строки исходной таблицы, у которых значение:\n",
    "  * в колонке `day` равно параметру `day`,\n",
    "  * в колонке `city` равно параметру `city`.\n",
    "\n",
    "Для этого применим последовательную фильтрацию с логической индексацией.\n",
    "\n",
    "Затем посчитаем значения в столбце `user_id` получившейся таблицы. Результат сохраним в новую переменную. Вернем эту переменную из функции."
   ]
  },
  {
   "cell_type": "code",
   "execution_count": 55,
   "metadata": {
    "id": "Nz3GdQB1_Zcu"
   },
   "outputs": [],
   "source": [
    "# <создание функции number_tracks()>\n",
    "\n",
    "def number_tracks(day, city): #  функция с двумя параметрами: day, city.\n",
    "\n",
    "    track_list = df[df['day'] == day]\n",
    "\n",
    "    track_list = track_list[track_list['city'] == city]\n",
    "    track_list_count = track_list['user_id'].count()\n",
    "    \n",
    "    return track_list_count \n",
    "\n",
    "# В переменной track_list_count сохраняется число значений столбца 'user_id',\n",
    "# рассчитанное методом count() для таблицы track_list.\n",
    "# Функция возвращает число - значение track_list_count.\n",
    "\n",
    "# Функция для подсчёта прослушиваний для конкретного города и дня.\n",
    "# С помощью последовательной фильтрации с логической индексацией она \n",
    "# сначала получит из исходной таблицы строки с нужным днём,\n",
    "# затем из результата отфильтрует строки с нужным городом,\n",
    "# методом count() посчитает количество значений в колонке user_id. \n",
    "# Это количество функция вернёт в качестве результата"
   ]
  },
  {
   "cell_type": "markdown",
   "metadata": {
    "id": "ytf7xFrFJQ2r"
   },
   "source": [
    "Вызовим `number_tracks()` шесть раз, меняя значение параметров — так, чтобы получить данные для каждого города в каждый из трёх дней."
   ]
  },
  {
   "cell_type": "code",
   "execution_count": 56,
   "metadata": {
    "id": "rJcRATNQ_Zcu"
   },
   "outputs": [
    {
     "data": {
      "text/plain": [
       "15740"
      ]
     },
     "execution_count": 56,
     "metadata": {},
     "output_type": "execute_result"
    }
   ],
   "source": [
    "number_tracks('Monday', 'Moscow')# количество прослушиваний в Москве по понедельникам"
   ]
  },
  {
   "cell_type": "code",
   "execution_count": 57,
   "metadata": {
    "id": "hq_ncZ5T_Zcu"
   },
   "outputs": [
    {
     "data": {
      "text/plain": [
       "5614"
      ]
     },
     "execution_count": 57,
     "metadata": {},
     "output_type": "execute_result"
    }
   ],
   "source": [
    "number_tracks('Monday', 'Saint-Petersburg')# количество прослушиваний в Санкт-Петербурге по понедельникам"
   ]
  },
  {
   "cell_type": "code",
   "execution_count": 58,
   "metadata": {
    "id": "_NTy2VPU_Zcu"
   },
   "outputs": [
    {
     "data": {
      "text/plain": [
       "11056"
      ]
     },
     "execution_count": 58,
     "metadata": {},
     "output_type": "execute_result"
    }
   ],
   "source": [
    "number_tracks('Wednesday', 'Moscow')# количество прослушиваний в Москве по средам"
   ]
  },
  {
   "cell_type": "code",
   "execution_count": 59,
   "metadata": {
    "id": "j2y3TAwo_Zcu"
   },
   "outputs": [
    {
     "data": {
      "text/plain": [
       "7003"
      ]
     },
     "execution_count": 59,
     "metadata": {},
     "output_type": "execute_result"
    }
   ],
   "source": [
    "number_tracks('Wednesday', 'Saint-Petersburg')# количество прослушиваний в Санкт-Петербурге по средам"
   ]
  },
  {
   "cell_type": "code",
   "execution_count": 60,
   "metadata": {
    "id": "vYDw5u_K_Zcu"
   },
   "outputs": [
    {
     "data": {
      "text/plain": [
       "15945"
      ]
     },
     "execution_count": 60,
     "metadata": {},
     "output_type": "execute_result"
    }
   ],
   "source": [
    "number_tracks('Friday', 'Moscow')# количество прослушиваний в Москве по пятницам"
   ]
  },
  {
   "cell_type": "code",
   "execution_count": 61,
   "metadata": {
    "id": "8_yzFtW3_Zcu"
   },
   "outputs": [
    {
     "data": {
      "text/plain": [
       "5895"
      ]
     },
     "execution_count": 61,
     "metadata": {},
     "output_type": "execute_result"
    }
   ],
   "source": [
    "number_tracks('Friday', 'Saint-Petersburg')# количество прослушиваний в Санкт-Петербурге по пятницам"
   ]
  },
  {
   "cell_type": "markdown",
   "metadata": {
    "id": "7QXffbO-_Zcu"
   },
   "source": [
    "Создадим c помощью конструктора `pd.DataFrame` таблицу, где\n",
    "* названия колонок — `['city', 'monday', 'wednesday', 'friday']`;\n",
    "* данные — результаты, которые  получили с помощью `number_tracks`."
   ]
  },
  {
   "cell_type": "code",
   "execution_count": 74,
   "metadata": {
    "id": "APAcLpOr_Zcu"
   },
   "outputs": [
    {
     "data": {
      "text/html": [
       "<div>\n",
       "<style scoped>\n",
       "    .dataframe tbody tr th:only-of-type {\n",
       "        vertical-align: middle;\n",
       "    }\n",
       "\n",
       "    .dataframe tbody tr th {\n",
       "        vertical-align: top;\n",
       "    }\n",
       "\n",
       "    .dataframe thead th {\n",
       "        text-align: right;\n",
       "    }\n",
       "</style>\n",
       "<table border=\"1\" class=\"dataframe\">\n",
       "  <thead>\n",
       "    <tr style=\"text-align: right;\">\n",
       "      <th></th>\n",
       "      <th>city</th>\n",
       "      <th>monday</th>\n",
       "      <th>wednesday</th>\n",
       "      <th>friday</th>\n",
       "    </tr>\n",
       "  </thead>\n",
       "  <tbody>\n",
       "    <tr>\n",
       "      <th>0</th>\n",
       "      <td>Moscow</td>\n",
       "      <td>15740</td>\n",
       "      <td>11056</td>\n",
       "      <td>15945</td>\n",
       "    </tr>\n",
       "    <tr>\n",
       "      <th>1</th>\n",
       "      <td>Saint-Petersburg</td>\n",
       "      <td>5614</td>\n",
       "      <td>7003</td>\n",
       "      <td>5895</td>\n",
       "    </tr>\n",
       "  </tbody>\n",
       "</table>\n",
       "</div>"
      ],
      "text/plain": [
       "               city  monday  wednesday  friday\n",
       "0            Moscow   15740      11056   15945\n",
       "1  Saint-Petersburg    5614       7003    5895"
      ]
     },
     "metadata": {},
     "output_type": "display_data"
    }
   ],
   "source": [
    "table = pd.DataFrame(data = [['Moscow', 15740, 11056, 15945], ['Saint-Petersburg', 5614, 7003, 5895]], columns = ['city', 'monday', 'wednesday', 'friday'])\n",
    "display(table)# Таблица с результатами"
   ]
  },
  {
   "cell_type": "markdown",
   "metadata": {
    "id": "-EgPIHYu_Zcu"
   },
   "source": [
    "**Выводы**\n",
    "\n",
    "Данные показывают разницу поведения пользователей:\n",
    "\n",
    "- В Москве пик прослушиваний приходится на понедельник и пятницу, а в среду заметен спад.\n",
    "- В Петербурге, наоборот, больше слушают музыку по средам. Активность в понедельник и пятницу здесь почти в равной мере уступает среде.\n",
    "\n",
    "Значит, данные говорят в пользу первой гипотезы."
   ]
  },
  {
   "cell_type": "markdown",
   "metadata": {
    "id": "atZAxtq4_Zcu"
   },
   "source": [
    "### Музыка в начале и в конце недели"
   ]
  },
  {
   "cell_type": "markdown",
   "metadata": {
    "id": "eXrQqXFH_Zcu"
   },
   "source": [
    "Согласно второй гипотезе, утром в понедельник в Москве преобладают одни жанры, а в Петербурге — другие. Так же и вечером пятницы преобладают разные жанры — в зависимости от города."
   ]
  },
  {
   "cell_type": "markdown",
   "metadata": {
    "id": "S8UcW6Hw_Zcu"
   },
   "source": [
    "Сохраним таблицы с данными в две переменные:\n",
    "* по Москве — в `moscow_general`;\n",
    "* по Санкт-Петербургу — в `spb_general`."
   ]
  },
  {
   "cell_type": "code",
   "execution_count": 63,
   "metadata": {
    "id": "qeaFfM_P_Zcu"
   },
   "outputs": [
    {
     "data": {
      "text/html": [
       "<div>\n",
       "<style scoped>\n",
       "    .dataframe tbody tr th:only-of-type {\n",
       "        vertical-align: middle;\n",
       "    }\n",
       "\n",
       "    .dataframe tbody tr th {\n",
       "        vertical-align: top;\n",
       "    }\n",
       "\n",
       "    .dataframe thead th {\n",
       "        text-align: right;\n",
       "    }\n",
       "</style>\n",
       "<table border=\"1\" class=\"dataframe\">\n",
       "  <thead>\n",
       "    <tr style=\"text-align: right;\">\n",
       "      <th></th>\n",
       "      <th>user_id</th>\n",
       "      <th>track</th>\n",
       "      <th>artist</th>\n",
       "      <th>genre</th>\n",
       "      <th>city</th>\n",
       "      <th>time</th>\n",
       "      <th>day</th>\n",
       "    </tr>\n",
       "  </thead>\n",
       "  <tbody>\n",
       "    <tr>\n",
       "      <th>1</th>\n",
       "      <td>55204538</td>\n",
       "      <td>Delayed Because of Accident</td>\n",
       "      <td>Andreas Rönnberg</td>\n",
       "      <td>rock</td>\n",
       "      <td>Moscow</td>\n",
       "      <td>14:07:09</td>\n",
       "      <td>Friday</td>\n",
       "    </tr>\n",
       "    <tr>\n",
       "      <th>4</th>\n",
       "      <td>E2DC1FAE</td>\n",
       "      <td>Soul People</td>\n",
       "      <td>Space Echo</td>\n",
       "      <td>dance</td>\n",
       "      <td>Moscow</td>\n",
       "      <td>08:34:34</td>\n",
       "      <td>Monday</td>\n",
       "    </tr>\n",
       "    <tr>\n",
       "      <th>6</th>\n",
       "      <td>4CB90AA5</td>\n",
       "      <td>True</td>\n",
       "      <td>Roman Messer</td>\n",
       "      <td>dance</td>\n",
       "      <td>Moscow</td>\n",
       "      <td>13:00:07</td>\n",
       "      <td>Wednesday</td>\n",
       "    </tr>\n",
       "    <tr>\n",
       "      <th>7</th>\n",
       "      <td>F03E1C1F</td>\n",
       "      <td>Feeling This Way</td>\n",
       "      <td>Polina Griffith</td>\n",
       "      <td>dance</td>\n",
       "      <td>Moscow</td>\n",
       "      <td>20:47:49</td>\n",
       "      <td>Wednesday</td>\n",
       "    </tr>\n",
       "    <tr>\n",
       "      <th>8</th>\n",
       "      <td>8FA1D3BE</td>\n",
       "      <td>И вновь продолжается бой</td>\n",
       "      <td>unknown</td>\n",
       "      <td>ruspop</td>\n",
       "      <td>Moscow</td>\n",
       "      <td>09:17:40</td>\n",
       "      <td>Friday</td>\n",
       "    </tr>\n",
       "    <tr>\n",
       "      <th>...</th>\n",
       "      <td>...</td>\n",
       "      <td>...</td>\n",
       "      <td>...</td>\n",
       "      <td>...</td>\n",
       "      <td>...</td>\n",
       "      <td>...</td>\n",
       "      <td>...</td>\n",
       "    </tr>\n",
       "    <tr>\n",
       "      <th>61247</th>\n",
       "      <td>83A474E7</td>\n",
       "      <td>I Worship Only What You Bleed</td>\n",
       "      <td>The Black Dahlia Murder</td>\n",
       "      <td>extrememetal</td>\n",
       "      <td>Moscow</td>\n",
       "      <td>21:07:12</td>\n",
       "      <td>Monday</td>\n",
       "    </tr>\n",
       "    <tr>\n",
       "      <th>61248</th>\n",
       "      <td>729CBB09</td>\n",
       "      <td>My Name</td>\n",
       "      <td>McLean</td>\n",
       "      <td>rnb</td>\n",
       "      <td>Moscow</td>\n",
       "      <td>13:32:28</td>\n",
       "      <td>Wednesday</td>\n",
       "    </tr>\n",
       "    <tr>\n",
       "      <th>61250</th>\n",
       "      <td>C5E3A0D5</td>\n",
       "      <td>Jalopiina</td>\n",
       "      <td>unknown</td>\n",
       "      <td>industrial</td>\n",
       "      <td>Moscow</td>\n",
       "      <td>20:09:26</td>\n",
       "      <td>Friday</td>\n",
       "    </tr>\n",
       "    <tr>\n",
       "      <th>61251</th>\n",
       "      <td>321D0506</td>\n",
       "      <td>Freight Train</td>\n",
       "      <td>Chas McDevitt</td>\n",
       "      <td>rock</td>\n",
       "      <td>Moscow</td>\n",
       "      <td>21:43:59</td>\n",
       "      <td>Friday</td>\n",
       "    </tr>\n",
       "    <tr>\n",
       "      <th>61252</th>\n",
       "      <td>3A64EF84</td>\n",
       "      <td>Tell Me Sweet Little Lies</td>\n",
       "      <td>Monica Lopez</td>\n",
       "      <td>country</td>\n",
       "      <td>Moscow</td>\n",
       "      <td>21:59:46</td>\n",
       "      <td>Friday</td>\n",
       "    </tr>\n",
       "  </tbody>\n",
       "</table>\n",
       "<p>42741 rows × 7 columns</p>\n",
       "</div>"
      ],
      "text/plain": [
       "        user_id                          track                   artist  \\\n",
       "1      55204538    Delayed Because of Accident         Andreas Rönnberg   \n",
       "4      E2DC1FAE                    Soul People               Space Echo   \n",
       "6      4CB90AA5                           True             Roman Messer   \n",
       "7      F03E1C1F               Feeling This Way          Polina Griffith   \n",
       "8      8FA1D3BE       И вновь продолжается бой                  unknown   \n",
       "...         ...                            ...                      ...   \n",
       "61247  83A474E7  I Worship Only What You Bleed  The Black Dahlia Murder   \n",
       "61248  729CBB09                        My Name                   McLean   \n",
       "61250  C5E3A0D5                      Jalopiina                  unknown   \n",
       "61251  321D0506                  Freight Train            Chas McDevitt   \n",
       "61252  3A64EF84      Tell Me Sweet Little Lies             Monica Lopez   \n",
       "\n",
       "              genre    city      time        day  \n",
       "1              rock  Moscow  14:07:09     Friday  \n",
       "4             dance  Moscow  08:34:34     Monday  \n",
       "6             dance  Moscow  13:00:07  Wednesday  \n",
       "7             dance  Moscow  20:47:49  Wednesday  \n",
       "8            ruspop  Moscow  09:17:40     Friday  \n",
       "...             ...     ...       ...        ...  \n",
       "61247  extrememetal  Moscow  21:07:12     Monday  \n",
       "61248           rnb  Moscow  13:32:28  Wednesday  \n",
       "61250    industrial  Moscow  20:09:26     Friday  \n",
       "61251          rock  Moscow  21:43:59     Friday  \n",
       "61252       country  Moscow  21:59:46     Friday  \n",
       "\n",
       "[42741 rows x 7 columns]"
      ]
     },
     "metadata": {},
     "output_type": "display_data"
    }
   ],
   "source": [
    "moscow_general = df[df['city'] == 'Moscow']\n",
    "display(moscow_general)# получение таблицы moscow_general из тех строк таблицы df, \n",
    "# для которых значение в столбце 'city' равно 'Moscow'\n"
   ]
  },
  {
   "cell_type": "code",
   "execution_count": 64,
   "metadata": {
    "id": "ORaVRKto_Zcu"
   },
   "outputs": [
    {
     "data": {
      "text/html": [
       "<div>\n",
       "<style scoped>\n",
       "    .dataframe tbody tr th:only-of-type {\n",
       "        vertical-align: middle;\n",
       "    }\n",
       "\n",
       "    .dataframe tbody tr th {\n",
       "        vertical-align: top;\n",
       "    }\n",
       "\n",
       "    .dataframe thead th {\n",
       "        text-align: right;\n",
       "    }\n",
       "</style>\n",
       "<table border=\"1\" class=\"dataframe\">\n",
       "  <thead>\n",
       "    <tr style=\"text-align: right;\">\n",
       "      <th></th>\n",
       "      <th>user_id</th>\n",
       "      <th>track</th>\n",
       "      <th>artist</th>\n",
       "      <th>genre</th>\n",
       "      <th>city</th>\n",
       "      <th>time</th>\n",
       "      <th>day</th>\n",
       "    </tr>\n",
       "  </thead>\n",
       "  <tbody>\n",
       "    <tr>\n",
       "      <th>0</th>\n",
       "      <td>FFB692EC</td>\n",
       "      <td>Kamigata To Boots</td>\n",
       "      <td>The Mass Missile</td>\n",
       "      <td>rock</td>\n",
       "      <td>Saint-Petersburg</td>\n",
       "      <td>20:28:33</td>\n",
       "      <td>Wednesday</td>\n",
       "    </tr>\n",
       "    <tr>\n",
       "      <th>2</th>\n",
       "      <td>20EC38</td>\n",
       "      <td>Funiculì funiculà</td>\n",
       "      <td>Mario Lanza</td>\n",
       "      <td>pop</td>\n",
       "      <td>Saint-Petersburg</td>\n",
       "      <td>20:58:07</td>\n",
       "      <td>Wednesday</td>\n",
       "    </tr>\n",
       "    <tr>\n",
       "      <th>3</th>\n",
       "      <td>A3DD03C9</td>\n",
       "      <td>Dragons in the Sunset</td>\n",
       "      <td>Fire + Ice</td>\n",
       "      <td>folk</td>\n",
       "      <td>Saint-Petersburg</td>\n",
       "      <td>08:37:09</td>\n",
       "      <td>Monday</td>\n",
       "    </tr>\n",
       "    <tr>\n",
       "      <th>5</th>\n",
       "      <td>842029A1</td>\n",
       "      <td>Преданная</td>\n",
       "      <td>IMPERVTOR</td>\n",
       "      <td>rusrap</td>\n",
       "      <td>Saint-Petersburg</td>\n",
       "      <td>13:09:41</td>\n",
       "      <td>Friday</td>\n",
       "    </tr>\n",
       "    <tr>\n",
       "      <th>9</th>\n",
       "      <td>E772D5C0</td>\n",
       "      <td>Pessimist</td>\n",
       "      <td>unknown</td>\n",
       "      <td>dance</td>\n",
       "      <td>Saint-Petersburg</td>\n",
       "      <td>21:20:49</td>\n",
       "      <td>Wednesday</td>\n",
       "    </tr>\n",
       "    <tr>\n",
       "      <th>...</th>\n",
       "      <td>...</td>\n",
       "      <td>...</td>\n",
       "      <td>...</td>\n",
       "      <td>...</td>\n",
       "      <td>...</td>\n",
       "      <td>...</td>\n",
       "      <td>...</td>\n",
       "    </tr>\n",
       "    <tr>\n",
       "      <th>61239</th>\n",
       "      <td>D94F810B</td>\n",
       "      <td>Theme from the Walking Dead</td>\n",
       "      <td>Proyecto Halloween</td>\n",
       "      <td>film</td>\n",
       "      <td>Saint-Petersburg</td>\n",
       "      <td>21:14:40</td>\n",
       "      <td>Monday</td>\n",
       "    </tr>\n",
       "    <tr>\n",
       "      <th>61240</th>\n",
       "      <td>BC8EC5CF</td>\n",
       "      <td>Red Lips: Gta (Rover Rework)</td>\n",
       "      <td>Rover</td>\n",
       "      <td>electronic</td>\n",
       "      <td>Saint-Petersburg</td>\n",
       "      <td>21:06:50</td>\n",
       "      <td>Monday</td>\n",
       "    </tr>\n",
       "    <tr>\n",
       "      <th>61241</th>\n",
       "      <td>29E04611</td>\n",
       "      <td>Bre Petrunko</td>\n",
       "      <td>Perunika Trio</td>\n",
       "      <td>world</td>\n",
       "      <td>Saint-Petersburg</td>\n",
       "      <td>13:56:00</td>\n",
       "      <td>Monday</td>\n",
       "    </tr>\n",
       "    <tr>\n",
       "      <th>61242</th>\n",
       "      <td>1B91C621</td>\n",
       "      <td>(Hello) Cloud Mountain</td>\n",
       "      <td>sleepmakeswaves</td>\n",
       "      <td>postrock</td>\n",
       "      <td>Saint-Petersburg</td>\n",
       "      <td>09:22:13</td>\n",
       "      <td>Monday</td>\n",
       "    </tr>\n",
       "    <tr>\n",
       "      <th>61249</th>\n",
       "      <td>D08D4A55</td>\n",
       "      <td>Maybe One Day (feat. Black Spade)</td>\n",
       "      <td>Blu &amp; Exile</td>\n",
       "      <td>hiphop</td>\n",
       "      <td>Saint-Petersburg</td>\n",
       "      <td>10:00:00</td>\n",
       "      <td>Monday</td>\n",
       "    </tr>\n",
       "  </tbody>\n",
       "</table>\n",
       "<p>18512 rows × 7 columns</p>\n",
       "</div>"
      ],
      "text/plain": [
       "        user_id                              track              artist  \\\n",
       "0      FFB692EC                  Kamigata To Boots    The Mass Missile   \n",
       "2        20EC38                  Funiculì funiculà         Mario Lanza   \n",
       "3      A3DD03C9              Dragons in the Sunset          Fire + Ice   \n",
       "5      842029A1                          Преданная           IMPERVTOR   \n",
       "9      E772D5C0                          Pessimist             unknown   \n",
       "...         ...                                ...                 ...   \n",
       "61239  D94F810B        Theme from the Walking Dead  Proyecto Halloween   \n",
       "61240  BC8EC5CF       Red Lips: Gta (Rover Rework)               Rover   \n",
       "61241  29E04611                       Bre Petrunko       Perunika Trio   \n",
       "61242  1B91C621             (Hello) Cloud Mountain     sleepmakeswaves   \n",
       "61249  D08D4A55  Maybe One Day (feat. Black Spade)         Blu & Exile   \n",
       "\n",
       "            genre              city      time        day  \n",
       "0            rock  Saint-Petersburg  20:28:33  Wednesday  \n",
       "2             pop  Saint-Petersburg  20:58:07  Wednesday  \n",
       "3            folk  Saint-Petersburg  08:37:09     Monday  \n",
       "5          rusrap  Saint-Petersburg  13:09:41     Friday  \n",
       "9           dance  Saint-Petersburg  21:20:49  Wednesday  \n",
       "...           ...               ...       ...        ...  \n",
       "61239        film  Saint-Petersburg  21:14:40     Monday  \n",
       "61240  electronic  Saint-Petersburg  21:06:50     Monday  \n",
       "61241       world  Saint-Petersburg  13:56:00     Monday  \n",
       "61242    postrock  Saint-Petersburg  09:22:13     Monday  \n",
       "61249      hiphop  Saint-Petersburg  10:00:00     Monday  \n",
       "\n",
       "[18512 rows x 7 columns]"
      ]
     },
     "metadata": {},
     "output_type": "display_data"
    }
   ],
   "source": [
    "spb_general = df[df['city'] == 'Saint-Petersburg']\n",
    "display(spb_general)\n",
    "# получение таблицы spb_general из тех строк таблицы df,\n",
    "# для которых значение в столбце 'city' равно 'Saint-Petersburg'\n"
   ]
  },
  {
   "cell_type": "markdown",
   "metadata": {
    "id": "MEJV-CX2_Zcu"
   },
   "source": [
    "Создайте функцию `genre_weekday()` с четырьмя параметрами:\n",
    "* таблица (датафрейм) с данными,\n",
    "* день недели,\n",
    "* начальная временная метка в формате 'hh:mm', \n",
    "* последняя временная метка в формате 'hh:mm'.\n",
    "\n",
    "Функция должна вернуть информацию о топ-10 жанров тех треков, которые прослушивали в указанный день, в промежутке между двумя отметками времени."
   ]
  },
  {
   "cell_type": "code",
   "execution_count": 75,
   "metadata": {
    "id": "laJT9BYl_Zcu"
   },
   "outputs": [],
   "source": [
    "# Объявление функции genre_weekday() с параметрами table, day, time1, time2,\n",
    "# которая возвращает информацию о самых популярных жанрах в указанный день в\n",
    "# заданное время:\n",
    "# 1) в переменную genre_df сохраняются те строки переданного датафрейма table, для\n",
    "#    которых одновременно:\n",
    "#    - значение в столбце day равно значению аргумента day\n",
    "#    - значение в столбце time больше значения аргумента time1\n",
    "#    - значение в столбце time меньше значения аргумента time2\n",
    "#   \n",
    "# 2) сгруппировать датафрейм genre_df по столбцу genre, взять один из его\n",
    "#    столбцов и посчитать методом count() количество записей для каждого из\n",
    "#    присутствующих жанров, получившийся Series записать в переменную\n",
    "#    genre_df_count\n",
    "# 3) отсортировать genre_df_count по убыванию встречаемости и сохранить\n",
    "#    в переменную genre_df_sorted\n",
    "# 4) вернуть Series из 10 первых значений genre_df_sorted, это будут топ-10\n",
    "#    популярных жанров (в указанный день, в заданное время)\n",
    "def genre_weekday(table, day, time1, time2):\n",
    "    \n",
    "    genre_df = table[(table['day'] == day) & (table['time'] > time1) & (table['time'] < time2)]\n",
    "    \n",
    "    genre_df_count = genre_df.groupby('genre')['time'].count() \n",
    "    \n",
    "    genre_df_sorted = genre_df_count.sort_values(ascending=False)\n",
    "    \n",
    "    return genre_df_sorted.head(10)\n",
    "    \n",
    "    \n",
    "    "
   ]
  },
  {
   "cell_type": "markdown",
   "metadata": {
    "id": "la2s2_PF_Zcu"
   },
   "source": [
    "Cравним результаты функции `genre_weekday()` для Москвы и Санкт-Петербурга в понедельник утром (с 7:00 до 11:00) и в пятницу вечером (с 17:00 до 23:00):"
   ]
  },
  {
   "cell_type": "code",
   "execution_count": 66,
   "metadata": {
    "id": "yz7itPUQ_Zcu"
   },
   "outputs": [
    {
     "data": {
      "text/plain": [
       "genre\n",
       "pop            781\n",
       "dance          549\n",
       "electronic     480\n",
       "rock           474\n",
       "hiphop         286\n",
       "ruspop         186\n",
       "world          181\n",
       "rusrap         175\n",
       "alternative    164\n",
       "unknown        161\n",
       "Name: time, dtype: int64"
      ]
     },
     "execution_count": 66,
     "metadata": {},
     "output_type": "execute_result"
    }
   ],
   "source": [
    "# вызов функции для утра понедельника в Москве (вместо df — таблица moscow_general)\n",
    "# объекты, хранящие время, являются строками и сравниваются как строки\n",
    "# пример вызова: genre_weekday(moscow_general, 'Monday', '07:00', '11:00')\n",
    "\n",
    "genre_weekday(moscow_general, 'Monday', '07:00', '11:00')\n"
   ]
  },
  {
   "cell_type": "code",
   "execution_count": 67,
   "metadata": {
    "id": "kwUcHPdy_Zcu"
   },
   "outputs": [
    {
     "data": {
      "text/plain": [
       "genre\n",
       "pop            218\n",
       "dance          182\n",
       "rock           162\n",
       "electronic     147\n",
       "hiphop          80\n",
       "ruspop          64\n",
       "alternative     58\n",
       "rusrap          55\n",
       "jazz            44\n",
       "classical       40\n",
       "Name: time, dtype: int64"
      ]
     },
     "execution_count": 67,
     "metadata": {},
     "output_type": "execute_result"
    }
   ],
   "source": [
    "genre_weekday(spb_general, 'Monday', '07:00', '11:00')# вызов функции для утра понедельника в Петербурге (вместо df — таблица spb_general)"
   ]
  },
  {
   "cell_type": "code",
   "execution_count": 68,
   "metadata": {
    "id": "EzXVRE1o_Zcu"
   },
   "outputs": [
    {
     "data": {
      "text/plain": [
       "genre\n",
       "pop            789\n",
       "dance          585\n",
       "rock           509\n",
       "electronic     506\n",
       "hiphop         277\n",
       "ruspop         207\n",
       "classical      201\n",
       "world          174\n",
       "alternative    172\n",
       "rusrap         148\n",
       "Name: time, dtype: int64"
      ]
     },
     "execution_count": 68,
     "metadata": {},
     "output_type": "execute_result"
    }
   ],
   "source": [
    "genre_weekday(moscow_general, 'Friday', '07:00', '11:00')# вызов функции для вечера пятницы в Москве"
   ]
  },
  {
   "cell_type": "code",
   "execution_count": 69,
   "metadata": {
    "id": "JZaEKu5v_Zcu"
   },
   "outputs": [
    {
     "data": {
      "text/plain": [
       "genre\n",
       "pop            211\n",
       "dance          192\n",
       "electronic     167\n",
       "rock           156\n",
       "hiphop         109\n",
       "classical       56\n",
       "rusrap          55\n",
       "alternative     55\n",
       "world           46\n",
       "ruspop          45\n",
       "Name: time, dtype: int64"
      ]
     },
     "execution_count": 69,
     "metadata": {},
     "output_type": "execute_result"
    }
   ],
   "source": [
    "genre_weekday(spb_general, 'Friday', '07:00', '11:00')# вызов функции для вечера пятницы в Петербурге"
   ]
  },
  {
   "cell_type": "markdown",
   "metadata": {
    "id": "wrCe4MNX_Zcu"
   },
   "source": [
    "**Выводы**\n",
    "\n",
    "Если сравнить топ-10 жанров в понедельник утром, можно сделать такие выводы:\n",
    "\n",
    "1. В Москве и Петербурге слушают похожую музыку. Единственное отличие — в московский рейтинг вошёл жанр “world”, а в петербургский — джаз и классика.\n",
    "\n",
    "2. В Москве пропущенных значений оказалось так много, что значение `'unknown'` заняло десятое место среди самых популярных жанров. Значит, пропущенные значения занимают существенную долю в данных и угрожают достоверности исследования.\n",
    "\n",
    "Вечер пятницы не меняет эту картину. Некоторые жанры поднимаются немного выше, другие спускаются, но в целом топ-10 остаётся тем же самым.\n",
    "\n",
    "Таким образом, вторая гипотеза подтвердилась лишь частично:\n",
    "* Пользователи слушают похожую музыку в начале недели и в конце.\n",
    "* Разница между Москвой и Петербургом не слишком выражена. В Москве чаще слушают русскую популярную музыку, в Петербурге — джаз.\n",
    "\n",
    "Однако пропуски в данных ставят под сомнение этот результат. В Москве их так много, что рейтинг топ-10 мог бы выглядеть иначе, если бы не утерянные  данные о жанрах."
   ]
  },
  {
   "cell_type": "markdown",
   "metadata": {
    "id": "JolODAqr_Zcu"
   },
   "source": [
    "### Жанровые предпочтения в Москве и Петербурге\n",
    "\n",
    "Гипотеза: Петербург — столица рэпа, музыку этого жанра там слушают чаще, чем в Москве.  А Москва — город контрастов, в котором, тем не менее, преобладает поп-музыка."
   ]
  },
  {
   "cell_type": "markdown",
   "metadata": {
    "id": "DlegSvaT_Zcu"
   },
   "source": [
    "Сгруппируем таблицу `moscow_general` по жанру и посчитаем прослушивания треков каждого жанра методом `count()`. Затем отсортируем результат в порядке убывания и сохраним его в таблице `moscow_genres`."
   ]
  },
  {
   "cell_type": "code",
   "execution_count": 70,
   "metadata": {
    "id": "r19lIPke_Zcu"
   },
   "outputs": [],
   "source": [
    "\n",
    "moscow_genres = moscow_general.groupby('genre')['genre'].count().sort_values(ascending=False)\n"
   ]
  },
  {
   "cell_type": "markdown",
   "metadata": {
    "id": "6kMuomxTiIr8"
   },
   "source": [
    "Выведите на экран первые десять строк `moscow_genres`:"
   ]
  },
  {
   "cell_type": "code",
   "execution_count": 71,
   "metadata": {
    "id": "WhCSooF8_Zcv"
   },
   "outputs": [
    {
     "data": {
      "text/plain": [
       "genre\n",
       "pop            5892\n",
       "dance          4435\n",
       "rock           3965\n",
       "electronic     3786\n",
       "hiphop         2096\n",
       "classical      1616\n",
       "world          1432\n",
       "alternative    1379\n",
       "ruspop         1372\n",
       "rusrap         1161\n",
       "Name: genre, dtype: int64"
      ]
     },
     "metadata": {},
     "output_type": "display_data"
    }
   ],
   "source": [
    "display(moscow_genres.head(10))# просмотр первых 10 строк moscow_genres"
   ]
  },
  {
   "cell_type": "markdown",
   "metadata": {
    "id": "cnPG2vnN_Zcv"
   },
   "source": [
    "Теперь повторим то же и для Петербурга.\n",
    "\n",
    "Сгруппируем таблицу `spb_general` по жанру. Посчитаем прослушивания треков каждого жанра. Результат отсортируем в порядке убывания и сохраним в таблице `spb_genres`:\n"
   ]
  },
  {
   "cell_type": "code",
   "execution_count": 72,
   "metadata": {
    "id": "gluLIpE7_Zcv"
   },
   "outputs": [],
   "source": [
    "\n",
    "\n",
    "spb_genres = spb_general.groupby('genre')['genre'].count().sort_values(ascending=False) \n"
   ]
  },
  {
   "cell_type": "markdown",
   "metadata": {
    "id": "5Doha_ODgyQ8"
   },
   "source": [
    "Выведите на экран первые десять строк `spb_genres`:"
   ]
  },
  {
   "cell_type": "code",
   "execution_count": 73,
   "metadata": {
    "id": "uaGJHjVU_Zcv"
   },
   "outputs": [
    {
     "data": {
      "text/plain": [
       "genre\n",
       "pop            2431\n",
       "dance          1932\n",
       "rock           1879\n",
       "electronic     1737\n",
       "hiphop          960\n",
       "alternative     649\n",
       "classical       646\n",
       "rusrap          564\n",
       "ruspop          538\n",
       "world           515\n",
       "Name: genre, dtype: int64"
      ]
     },
     "metadata": {},
     "output_type": "display_data"
    }
   ],
   "source": [
    "display(spb_genres.head(10))# просмотр первых 10 строк spb_genres"
   ]
  },
  {
   "cell_type": "markdown",
   "metadata": {
    "id": "RY51YJYu_Zcv"
   },
   "source": [
    "**Выводы**"
   ]
  },
  {
   "cell_type": "markdown",
   "metadata": {
    "id": "nVhnJEm__Zcv"
   },
   "source": [
    "Гипотеза частично подтвердилась:\n",
    "* Поп-музыка — самый популярный жанр в Москве, как и предполагала гипотеза. Более того, в топ-10 жанров встречается близкий жанр — русская популярная музыка.\n",
    "* Вопреки ожиданиям, рэп одинаково популярен в Москве и Петербурге. \n"
   ]
  },
  {
   "cell_type": "markdown",
   "metadata": {
    "id": "ykKQ0N65_Zcv"
   },
   "source": [
    "## Итоги исследования"
   ]
  },
  {
   "cell_type": "markdown",
   "metadata": {
    "id": "tjUwbHb3_Zcv"
   },
   "source": [
    "\n",
    "\n",
    "Мы проверили три гипотезы и установили:\n",
    "\n",
    "1. День недели по-разному влияет на активность пользователей в Москве и Петербурге. \n",
    "\n",
    "Первая гипотеза полностью подтвердилась.\n",
    "\n",
    "2. Музыкальные предпочтения не сильно меняются в течение недели — будь то Москва или Петербург. Небольшие различия заметны в начале недели, по понедельникам:\n",
    "* в Москве слушают музыку жанра “world”,\n",
    "* в Петербурге — джаз и классику.\n",
    "\n",
    "Таким образом, вторая гипотеза подтвердилась лишь отчасти. Этот результат мог оказаться иным, если бы не пропуски в данных.\n",
    "\n",
    "3. Во вкусах пользователей Москвы и Петербурга больше общего чем различий. Вопреки ожиданиям, предпочтения жанров в Петербурге напоминают московские.\n",
    "\n",
    "Третья гипотеза не подтвердилась. Если различия в предпочтениях и существуют, на основной массе пользователей они незаметны.\n"
   ]
  },
  {
   "cell_type": "code",
   "execution_count": null,
   "metadata": {},
   "outputs": [],
   "source": []
  }
 ],
 "metadata": {
  "ExecuteTimeLog": [
   {
    "duration": 296,
    "start_time": "2021-11-24T08:17:49.209Z"
   },
   {
    "duration": 256,
    "start_time": "2021-11-24T08:18:11.095Z"
   },
   {
    "duration": 553,
    "start_time": "2021-11-24T08:18:43.576Z"
   },
   {
    "duration": 163,
    "start_time": "2021-11-24T08:19:08.145Z"
   },
   {
    "duration": 22,
    "start_time": "2021-11-24T08:19:15.003Z"
   },
   {
    "duration": 24,
    "start_time": "2021-11-24T08:21:49.301Z"
   },
   {
    "duration": 4,
    "start_time": "2021-11-24T08:34:04.270Z"
   },
   {
    "duration": 4,
    "start_time": "2021-11-24T08:38:44.320Z"
   },
   {
    "duration": 22,
    "start_time": "2021-11-24T08:38:49.653Z"
   },
   {
    "duration": 12,
    "start_time": "2021-11-24T08:39:18.483Z"
   },
   {
    "duration": 4,
    "start_time": "2021-11-24T08:40:08.386Z"
   },
   {
    "duration": 47,
    "start_time": "2021-11-24T08:42:51.907Z"
   },
   {
    "duration": 25,
    "start_time": "2021-11-24T08:44:31.498Z"
   },
   {
    "duration": -45,
    "start_time": "2021-11-24T09:07:04.816Z"
   },
   {
    "duration": 108,
    "start_time": "2021-11-24T09:07:23.913Z"
   },
   {
    "duration": 123,
    "start_time": "2021-11-24T09:07:38.713Z"
   },
   {
    "duration": 9,
    "start_time": "2021-11-24T09:08:00.055Z"
   },
   {
    "duration": 10,
    "start_time": "2021-11-24T09:08:14.699Z"
   },
   {
    "duration": 109,
    "start_time": "2021-11-24T09:08:54.602Z"
   },
   {
    "duration": 5,
    "start_time": "2021-11-24T09:09:22.038Z"
   },
   {
    "duration": 4,
    "start_time": "2021-11-24T09:09:36.613Z"
   },
   {
    "duration": 5,
    "start_time": "2021-11-24T09:09:47.188Z"
   },
   {
    "duration": 9,
    "start_time": "2021-11-24T09:10:46.128Z"
   },
   {
    "duration": 12,
    "start_time": "2021-11-24T09:11:39.121Z"
   },
   {
    "duration": 4260,
    "start_time": "2021-11-24T09:12:23.502Z"
   },
   {
    "duration": 89,
    "start_time": "2021-11-24T09:13:40.365Z"
   },
   {
    "duration": 5,
    "start_time": "2021-11-24T09:14:05.478Z"
   },
   {
    "duration": 5,
    "start_time": "2021-11-24T09:15:06.703Z"
   },
   {
    "duration": 5,
    "start_time": "2021-11-24T09:15:25.033Z"
   },
   {
    "duration": 5,
    "start_time": "2021-11-24T09:15:32.845Z"
   },
   {
    "duration": 8,
    "start_time": "2021-11-24T09:17:26.267Z"
   },
   {
    "duration": 136,
    "start_time": "2021-11-24T09:20:37.155Z"
   },
   {
    "duration": 17,
    "start_time": "2021-11-24T09:20:47.728Z"
   },
   {
    "duration": 23,
    "start_time": "2021-11-24T09:22:10.075Z"
   },
   {
    "duration": 53,
    "start_time": "2021-11-24T09:23:06.175Z"
   },
   {
    "duration": 82,
    "start_time": "2021-11-24T09:29:17.173Z"
   },
   {
    "duration": 53,
    "start_time": "2021-11-24T09:29:38.257Z"
   },
   {
    "duration": 67,
    "start_time": "2021-11-24T09:35:14.873Z"
   },
   {
    "duration": 75,
    "start_time": "2021-11-24T09:35:24.088Z"
   },
   {
    "duration": 55,
    "start_time": "2021-11-24T09:35:39.694Z"
   },
   {
    "duration": 60,
    "start_time": "2021-11-24T09:38:59.648Z"
   },
   {
    "duration": 59,
    "start_time": "2021-11-24T09:39:02.039Z"
   },
   {
    "duration": 7,
    "start_time": "2021-11-24T09:41:04.804Z"
   },
   {
    "duration": 9,
    "start_time": "2021-11-24T09:43:24.378Z"
   },
   {
    "duration": 94,
    "start_time": "2021-11-24T10:12:42.773Z"
   },
   {
    "duration": 95,
    "start_time": "2021-11-24T10:13:33.834Z"
   },
   {
    "duration": 265,
    "start_time": "2021-11-24T10:14:04.055Z"
   },
   {
    "duration": 266,
    "start_time": "2021-11-24T10:14:12.895Z"
   },
   {
    "duration": 14,
    "start_time": "2021-11-24T10:14:27.937Z"
   },
   {
    "duration": 24,
    "start_time": "2021-11-24T10:14:35.432Z"
   },
   {
    "duration": 10,
    "start_time": "2021-11-24T10:15:13.492Z"
   },
   {
    "duration": 10,
    "start_time": "2021-11-24T10:17:15.577Z"
   },
   {
    "duration": 10,
    "start_time": "2021-11-24T10:23:58.176Z"
   },
   {
    "duration": 20,
    "start_time": "2021-11-24T10:24:05.342Z"
   },
   {
    "duration": 11,
    "start_time": "2021-11-24T10:24:12.311Z"
   },
   {
    "duration": 324,
    "start_time": "2021-11-24T10:26:13.674Z"
   },
   {
    "duration": 7,
    "start_time": "2021-11-24T10:26:45.273Z"
   },
   {
    "duration": 7,
    "start_time": "2021-11-24T10:26:48.528Z"
   },
   {
    "duration": 10,
    "start_time": "2021-11-24T10:27:03.810Z"
   },
   {
    "duration": 279,
    "start_time": "2021-11-24T10:27:41.170Z"
   },
   {
    "duration": 319,
    "start_time": "2021-11-24T10:27:57.523Z"
   },
   {
    "duration": 10,
    "start_time": "2021-11-24T10:28:45.093Z"
   },
   {
    "duration": 10,
    "start_time": "2021-11-24T10:28:47.838Z"
   },
   {
    "duration": 11,
    "start_time": "2021-11-24T10:29:00.110Z"
   },
   {
    "duration": 10,
    "start_time": "2021-11-24T10:29:04.776Z"
   },
   {
    "duration": 283,
    "start_time": "2021-11-24T10:29:11.965Z"
   },
   {
    "duration": 11,
    "start_time": "2021-11-24T10:29:19.641Z"
   },
   {
    "duration": 10,
    "start_time": "2021-11-24T10:29:36.484Z"
   },
   {
    "duration": 10,
    "start_time": "2021-11-24T10:29:43.576Z"
   },
   {
    "duration": 282,
    "start_time": "2021-11-24T10:30:11.647Z"
   },
   {
    "duration": 7,
    "start_time": "2021-11-24T10:30:28.534Z"
   },
   {
    "duration": 341,
    "start_time": "2021-11-24T10:31:00.873Z"
   },
   {
    "duration": 262,
    "start_time": "2021-11-24T10:31:27.628Z"
   },
   {
    "duration": 128,
    "start_time": "2021-11-24T10:32:01.301Z"
   },
   {
    "duration": 13,
    "start_time": "2021-11-24T10:33:41.788Z"
   },
   {
    "duration": 11,
    "start_time": "2021-11-24T10:34:17.548Z"
   },
   {
    "duration": -23,
    "start_time": "2021-11-24T10:35:54.821Z"
   },
   {
    "duration": 18,
    "start_time": "2021-11-24T10:36:01.940Z"
   },
   {
    "duration": 8051,
    "start_time": "2021-11-24T10:36:15.525Z"
   },
   {
    "duration": -315,
    "start_time": "2021-11-24T10:36:38.467Z"
   },
   {
    "duration": 7,
    "start_time": "2021-11-24T10:36:47.487Z"
   },
   {
    "duration": 7570,
    "start_time": "2021-11-24T10:37:12.858Z"
   },
   {
    "duration": 7,
    "start_time": "2021-11-24T10:37:40.699Z"
   },
   {
    "duration": 10,
    "start_time": "2021-11-24T10:38:05.001Z"
   },
   {
    "duration": 7,
    "start_time": "2021-11-24T10:38:40.899Z"
   },
   {
    "duration": 7,
    "start_time": "2021-11-24T10:38:48.319Z"
   },
   {
    "duration": 16,
    "start_time": "2021-11-24T10:40:23.892Z"
   },
   {
    "duration": 23,
    "start_time": "2021-11-24T10:41:25.829Z"
   },
   {
    "duration": 20,
    "start_time": "2021-11-24T10:42:15.284Z"
   },
   {
    "duration": 834,
    "start_time": "2021-11-24T10:48:24.308Z"
   },
   {
    "duration": 303,
    "start_time": "2021-11-24T10:48:47.803Z"
   },
   {
    "duration": 38,
    "start_time": "2021-11-24T10:48:56.300Z"
   },
   {
    "duration": 10,
    "start_time": "2021-11-24T10:59:10.884Z"
   },
   {
    "duration": 11,
    "start_time": "2021-11-24T11:03:31.375Z"
   },
   {
    "duration": 94,
    "start_time": "2021-11-24T11:46:47.708Z"
   },
   {
    "duration": 94,
    "start_time": "2021-11-24T11:47:13.980Z"
   },
   {
    "duration": 92,
    "start_time": "2021-11-24T11:47:28.687Z"
   },
   {
    "duration": 661,
    "start_time": "2021-11-24T11:48:59.026Z"
   },
   {
    "duration": 94,
    "start_time": "2021-11-24T11:49:36.670Z"
   },
   {
    "duration": 5753,
    "start_time": "2021-11-24T11:50:03.167Z"
   },
   {
    "duration": 699,
    "start_time": "2021-11-24T11:53:22.982Z"
   },
   {
    "duration": 4,
    "start_time": "2021-11-24T11:53:37.499Z"
   },
   {
    "duration": 4,
    "start_time": "2021-11-24T11:53:43.075Z"
   },
   {
    "duration": 4,
    "start_time": "2021-11-24T11:54:12.497Z"
   },
   {
    "duration": -10,
    "start_time": "2021-11-24T11:56:29.866Z"
   },
   {
    "duration": 5,
    "start_time": "2021-11-24T11:59:08.543Z"
   },
   {
    "duration": 6342,
    "start_time": "2021-11-24T11:59:25.058Z"
   },
   {
    "duration": 6367,
    "start_time": "2021-11-24T11:59:43.957Z"
   },
   {
    "duration": 0,
    "start_time": "2021-11-24T12:00:31.318Z"
   },
   {
    "duration": 5399,
    "start_time": "2021-11-24T12:04:32.444Z"
   },
   {
    "duration": 5503,
    "start_time": "2021-11-24T12:06:16.914Z"
   },
   {
    "duration": 6065,
    "start_time": "2021-11-24T12:09:56.963Z"
   },
   {
    "duration": -74,
    "start_time": "2021-11-24T12:10:03.104Z"
   },
   {
    "duration": 6728,
    "start_time": "2021-11-24T12:10:05.993Z"
   },
   {
    "duration": 3,
    "start_time": "2021-11-24T12:17:39.800Z"
   },
   {
    "duration": 19,
    "start_time": "2021-11-24T12:17:42.624Z"
   },
   {
    "duration": 15,
    "start_time": "2021-11-24T12:17:54.483Z"
   },
   {
    "duration": 16,
    "start_time": "2021-11-24T12:18:02.615Z"
   },
   {
    "duration": 16,
    "start_time": "2021-11-24T12:18:04.866Z"
   },
   {
    "duration": 16,
    "start_time": "2021-11-24T12:18:06.838Z"
   },
   {
    "duration": 15,
    "start_time": "2021-11-24T12:18:08.873Z"
   },
   {
    "duration": 307,
    "start_time": "2021-11-24T12:24:27.964Z"
   },
   {
    "duration": 274,
    "start_time": "2021-11-24T12:25:05.982Z"
   },
   {
    "duration": 781,
    "start_time": "2021-11-24T12:26:41.783Z"
   },
   {
    "duration": 102,
    "start_time": "2021-11-24T12:32:17.788Z"
   },
   {
    "duration": 132,
    "start_time": "2021-11-24T12:36:33.409Z"
   },
   {
    "duration": 89,
    "start_time": "2021-11-24T12:37:11.816Z"
   },
   {
    "duration": 89,
    "start_time": "2021-11-24T12:37:15.721Z"
   },
   {
    "duration": 112,
    "start_time": "2021-11-24T12:37:45.021Z"
   },
   {
    "duration": 833,
    "start_time": "2021-11-24T12:38:03.456Z"
   },
   {
    "duration": 4,
    "start_time": "2021-11-24T12:38:21.424Z"
   },
   {
    "duration": 5,
    "start_time": "2021-11-24T12:38:26.217Z"
   },
   {
    "duration": 86,
    "start_time": "2021-11-24T12:38:37.852Z"
   },
   {
    "duration": 96,
    "start_time": "2021-11-24T12:39:02.945Z"
   },
   {
    "duration": 98,
    "start_time": "2021-11-24T12:40:14.344Z"
   },
   {
    "duration": 115,
    "start_time": "2021-11-24T12:40:48.666Z"
   },
   {
    "duration": 4,
    "start_time": "2021-11-24T12:41:09.618Z"
   },
   {
    "duration": 5,
    "start_time": "2021-11-24T12:41:22.845Z"
   },
   {
    "duration": 6,
    "start_time": "2021-11-24T12:41:40.421Z"
   },
   {
    "duration": 8,
    "start_time": "2021-11-24T12:42:40.800Z"
   },
   {
    "duration": 9,
    "start_time": "2021-11-24T12:44:28.804Z"
   },
   {
    "duration": 20,
    "start_time": "2021-11-24T12:53:22.700Z"
   },
   {
    "duration": 18,
    "start_time": "2021-11-24T12:53:49.492Z"
   },
   {
    "duration": 277,
    "start_time": "2021-11-24T13:15:39.376Z"
   },
   {
    "duration": 4,
    "start_time": "2021-11-24T13:16:18.898Z"
   },
   {
    "duration": 4,
    "start_time": "2021-11-24T13:16:22.676Z"
   },
   {
    "duration": 65,
    "start_time": "2021-11-24T13:17:29.425Z"
   },
   {
    "duration": 61,
    "start_time": "2021-11-24T13:18:37.382Z"
   },
   {
    "duration": 54,
    "start_time": "2021-11-24T13:18:59.795Z"
   },
   {
    "duration": 4,
    "start_time": "2021-11-24T13:19:09.007Z"
   },
   {
    "duration": 18,
    "start_time": "2021-11-24T13:19:11.866Z"
   },
   {
    "duration": 13,
    "start_time": "2021-11-24T13:19:15.264Z"
   },
   {
    "duration": 20,
    "start_time": "2021-11-24T13:20:09.631Z"
   },
   {
    "duration": 13,
    "start_time": "2021-11-24T13:20:32.112Z"
   },
   {
    "duration": 260,
    "start_time": "2021-11-24T13:27:08.310Z"
   },
   {
    "duration": 302,
    "start_time": "2021-11-24T13:30:04.746Z"
   },
   {
    "duration": 279,
    "start_time": "2021-11-24T13:31:10.355Z"
   },
   {
    "duration": 359,
    "start_time": "2021-11-24T13:32:26.615Z"
   },
   {
    "duration": 280,
    "start_time": "2021-11-24T13:34:11.710Z"
   },
   {
    "duration": 34,
    "start_time": "2021-11-24T13:34:30.308Z"
   },
   {
    "duration": 567,
    "start_time": "2021-11-24T13:34:33.047Z"
   },
   {
    "duration": 317,
    "start_time": "2021-11-24T13:35:52.935Z"
   },
   {
    "duration": 5,
    "start_time": "2021-11-24T13:36:03.907Z"
   },
   {
    "duration": 5,
    "start_time": "2021-11-24T13:36:48.334Z"
   },
   {
    "duration": 5,
    "start_time": "2021-11-24T13:38:20.888Z"
   },
   {
    "duration": 342,
    "start_time": "2021-11-24T13:38:54.099Z"
   },
   {
    "duration": 306,
    "start_time": "2021-11-24T13:40:02.378Z"
   },
   {
    "duration": 24,
    "start_time": "2021-11-24T13:40:38.645Z"
   },
   {
    "duration": 5,
    "start_time": "2021-11-24T13:40:41.562Z"
   },
   {
    "duration": 302,
    "start_time": "2021-11-24T13:40:55.864Z"
   },
   {
    "duration": 5,
    "start_time": "2021-11-24T13:40:59.640Z"
   },
   {
    "duration": 314,
    "start_time": "2021-11-24T13:41:07.749Z"
   },
   {
    "duration": 5,
    "start_time": "2021-11-24T13:42:10.796Z"
   },
   {
    "duration": 51,
    "start_time": "2021-11-24T13:42:14.728Z"
   },
   {
    "duration": 4,
    "start_time": "2021-11-24T13:42:17.053Z"
   },
   {
    "duration": 25,
    "start_time": "2021-11-24T13:42:21.643Z"
   },
   {
    "duration": 5,
    "start_time": "2021-11-24T13:42:24.567Z"
   },
   {
    "duration": 15,
    "start_time": "2021-11-24T13:44:09.941Z"
   },
   {
    "duration": 6,
    "start_time": "2021-11-24T13:44:12.183Z"
   },
   {
    "duration": 5,
    "start_time": "2021-11-24T13:44:15.832Z"
   },
   {
    "duration": 32,
    "start_time": "2021-11-24T13:44:32.761Z"
   },
   {
    "duration": 5,
    "start_time": "2021-11-24T13:44:37.088Z"
   },
   {
    "duration": 5,
    "start_time": "2021-11-24T13:49:50.129Z"
   },
   {
    "duration": 8,
    "start_time": "2021-11-24T13:49:52.110Z"
   },
   {
    "duration": 5,
    "start_time": "2021-11-24T13:49:55.004Z"
   },
   {
    "duration": 16,
    "start_time": "2021-11-24T13:50:42.837Z"
   },
   {
    "duration": 6,
    "start_time": "2021-11-24T13:50:44.829Z"
   },
   {
    "duration": 9,
    "start_time": "2021-11-24T13:50:54.798Z"
   },
   {
    "duration": 5,
    "start_time": "2021-11-24T13:51:12.868Z"
   },
   {
    "duration": 8,
    "start_time": "2021-11-24T13:51:43.441Z"
   },
   {
    "duration": 8,
    "start_time": "2021-11-24T13:51:46.167Z"
   },
   {
    "duration": 27,
    "start_time": "2021-11-24T14:04:36.866Z"
   },
   {
    "duration": 14,
    "start_time": "2021-11-24T14:04:58.148Z"
   },
   {
    "duration": 6,
    "start_time": "2021-11-24T14:05:25.180Z"
   },
   {
    "duration": 14,
    "start_time": "2021-11-24T14:05:37.465Z"
   },
   {
    "duration": 6,
    "start_time": "2021-11-24T14:05:45.870Z"
   },
   {
    "duration": 660,
    "start_time": "2021-11-24T16:19:25.236Z"
   },
   {
    "duration": 139,
    "start_time": "2021-11-24T16:19:25.897Z"
   },
   {
    "duration": 30,
    "start_time": "2021-11-24T16:19:26.038Z"
   },
   {
    "duration": 25,
    "start_time": "2021-11-24T16:19:26.071Z"
   },
   {
    "duration": 5,
    "start_time": "2021-11-24T16:19:26.098Z"
   },
   {
    "duration": 24,
    "start_time": "2021-11-24T16:19:26.105Z"
   },
   {
    "duration": 33,
    "start_time": "2021-11-24T16:19:26.131Z"
   },
   {
    "duration": 23,
    "start_time": "2021-11-24T16:19:26.167Z"
   },
   {
    "duration": 17,
    "start_time": "2021-11-24T16:19:26.193Z"
   },
   {
    "duration": 25,
    "start_time": "2021-11-24T16:19:26.212Z"
   },
   {
    "duration": 82,
    "start_time": "2021-11-24T16:19:26.239Z"
   },
   {
    "duration": 88,
    "start_time": "2021-11-24T16:19:26.323Z"
   },
   {
    "duration": 57,
    "start_time": "2021-11-24T16:19:26.412Z"
   },
   {
    "duration": 2,
    "start_time": "2021-11-24T16:19:26.471Z"
   },
   {
    "duration": 14,
    "start_time": "2021-11-24T16:19:26.475Z"
   },
   {
    "duration": 295,
    "start_time": "2021-11-24T16:19:26.491Z"
   },
   {
    "duration": 2917,
    "start_time": "2021-11-24T16:19:23.871Z"
   },
   {
    "duration": 2913,
    "start_time": "2021-11-24T16:19:23.876Z"
   },
   {
    "duration": 2910,
    "start_time": "2021-11-24T16:19:23.880Z"
   },
   {
    "duration": 2906,
    "start_time": "2021-11-24T16:19:23.885Z"
   },
   {
    "duration": 2902,
    "start_time": "2021-11-24T16:19:23.890Z"
   },
   {
    "duration": 2899,
    "start_time": "2021-11-24T16:19:23.894Z"
   },
   {
    "duration": 2894,
    "start_time": "2021-11-24T16:19:23.899Z"
   },
   {
    "duration": 2891,
    "start_time": "2021-11-24T16:19:23.903Z"
   },
   {
    "duration": 2887,
    "start_time": "2021-11-24T16:19:23.908Z"
   },
   {
    "duration": 2884,
    "start_time": "2021-11-24T16:19:23.912Z"
   },
   {
    "duration": 2880,
    "start_time": "2021-11-24T16:19:23.917Z"
   },
   {
    "duration": 2878,
    "start_time": "2021-11-24T16:19:23.921Z"
   },
   {
    "duration": 2874,
    "start_time": "2021-11-24T16:19:23.926Z"
   },
   {
    "duration": 2870,
    "start_time": "2021-11-24T16:19:23.931Z"
   },
   {
    "duration": 2866,
    "start_time": "2021-11-24T16:19:23.936Z"
   },
   {
    "duration": 2863,
    "start_time": "2021-11-24T16:19:23.940Z"
   },
   {
    "duration": 2860,
    "start_time": "2021-11-24T16:19:23.944Z"
   },
   {
    "duration": 2856,
    "start_time": "2021-11-24T16:19:23.949Z"
   },
   {
    "duration": 2851,
    "start_time": "2021-11-24T16:19:23.955Z"
   },
   {
    "duration": 2848,
    "start_time": "2021-11-24T16:19:23.959Z"
   },
   {
    "duration": 2843,
    "start_time": "2021-11-24T16:19:23.965Z"
   },
   {
    "duration": 2833,
    "start_time": "2021-11-24T16:19:23.977Z"
   },
   {
    "duration": 21,
    "start_time": "2021-11-24T16:19:46.388Z"
   },
   {
    "duration": 7,
    "start_time": "2021-11-24T16:19:47.566Z"
   },
   {
    "duration": 11,
    "start_time": "2021-11-24T16:19:48.712Z"
   },
   {
    "duration": 11,
    "start_time": "2021-11-24T16:19:49.079Z"
   },
   {
    "duration": 4,
    "start_time": "2021-11-24T16:19:49.605Z"
   },
   {
    "duration": 18,
    "start_time": "2021-11-24T16:19:49.972Z"
   },
   {
    "duration": 17,
    "start_time": "2021-11-24T16:19:50.144Z"
   },
   {
    "duration": 17,
    "start_time": "2021-11-24T16:19:50.351Z"
   },
   {
    "duration": 15,
    "start_time": "2021-11-24T16:19:50.508Z"
   },
   {
    "duration": 19,
    "start_time": "2021-11-24T16:19:50.686Z"
   },
   {
    "duration": 16,
    "start_time": "2021-11-24T16:19:50.853Z"
   },
   {
    "duration": 8,
    "start_time": "2021-11-24T16:19:51.215Z"
   },
   {
    "duration": 21,
    "start_time": "2021-11-24T16:19:52.191Z"
   },
   {
    "duration": 18,
    "start_time": "2021-11-24T16:19:52.381Z"
   },
   {
    "duration": 4,
    "start_time": "2021-11-24T16:19:52.743Z"
   },
   {
    "duration": 18,
    "start_time": "2021-11-24T16:19:53.150Z"
   },
   {
    "duration": 14,
    "start_time": "2021-11-24T16:19:53.344Z"
   },
   {
    "duration": 18,
    "start_time": "2021-11-24T16:19:53.515Z"
   },
   {
    "duration": 14,
    "start_time": "2021-11-24T16:19:53.709Z"
   },
   {
    "duration": 9,
    "start_time": "2021-11-24T16:19:54.481Z"
   },
   {
    "duration": 6,
    "start_time": "2021-11-24T16:19:55.022Z"
   },
   {
    "duration": 8,
    "start_time": "2021-11-24T16:19:55.660Z"
   },
   {
    "duration": 5,
    "start_time": "2021-11-24T16:19:56.291Z"
   },
   {
    "duration": 103,
    "start_time": "2021-11-24T16:20:14.808Z"
   },
   {
    "duration": 2,
    "start_time": "2021-11-24T16:20:41.303Z"
   },
   {
    "duration": 21,
    "start_time": "2021-11-24T16:20:43.982Z"
   },
   {
    "duration": 6,
    "start_time": "2021-11-24T16:20:44.877Z"
   },
   {
    "duration": 14,
    "start_time": "2021-11-24T16:20:48.434Z"
   },
   {
    "duration": 10,
    "start_time": "2021-11-24T16:20:49.321Z"
   },
   {
    "duration": 18,
    "start_time": "2021-11-24T16:20:52.442Z"
   },
   {
    "duration": 18,
    "start_time": "2021-11-24T16:20:52.886Z"
   },
   {
    "duration": 23,
    "start_time": "2021-11-24T16:20:53.326Z"
   },
   {
    "duration": 17,
    "start_time": "2021-11-24T16:20:53.770Z"
   },
   {
    "duration": 19,
    "start_time": "2021-11-24T16:20:54.216Z"
   },
   {
    "duration": 23,
    "start_time": "2021-11-24T16:20:59.572Z"
   },
   {
    "duration": 20,
    "start_time": "2021-11-24T16:20:59.999Z"
   },
   {
    "duration": 20,
    "start_time": "2021-11-24T16:21:02.783Z"
   },
   {
    "duration": 14,
    "start_time": "2021-11-24T16:21:03.229Z"
   },
   {
    "duration": 18,
    "start_time": "2021-11-24T16:21:03.679Z"
   },
   {
    "duration": 12,
    "start_time": "2021-11-24T16:21:06.799Z"
   },
   {
    "duration": 7,
    "start_time": "2021-11-24T16:21:09.467Z"
   },
   {
    "duration": 10,
    "start_time": "2021-11-24T16:21:10.360Z"
   },
   {
    "duration": 78,
    "start_time": "2021-11-24T16:21:41.772Z"
   },
   {
    "duration": 2478,
    "start_time": "2021-11-24T16:21:39.375Z"
   },
   {
    "duration": 2470,
    "start_time": "2021-11-24T16:21:39.384Z"
   },
   {
    "duration": 2465,
    "start_time": "2021-11-24T16:21:39.391Z"
   },
   {
    "duration": 318,
    "start_time": "2021-11-24T16:21:41.876Z"
   },
   {
    "duration": 2790,
    "start_time": "2021-11-24T16:21:39.407Z"
   },
   {
    "duration": 2784,
    "start_time": "2021-11-24T16:21:39.414Z"
   },
   {
    "duration": 2776,
    "start_time": "2021-11-24T16:21:39.422Z"
   },
   {
    "duration": 2771,
    "start_time": "2021-11-24T16:21:39.429Z"
   },
   {
    "duration": 2761,
    "start_time": "2021-11-24T16:21:39.440Z"
   },
   {
    "duration": 2725,
    "start_time": "2021-11-24T16:21:39.477Z"
   },
   {
    "duration": 2715,
    "start_time": "2021-11-24T16:21:39.488Z"
   },
   {
    "duration": 2709,
    "start_time": "2021-11-24T16:21:39.495Z"
   },
   {
    "duration": 2701,
    "start_time": "2021-11-24T16:21:39.504Z"
   },
   {
    "duration": 2695,
    "start_time": "2021-11-24T16:21:39.511Z"
   },
   {
    "duration": 2687,
    "start_time": "2021-11-24T16:21:39.520Z"
   },
   {
    "duration": 2680,
    "start_time": "2021-11-24T16:21:39.529Z"
   },
   {
    "duration": 2671,
    "start_time": "2021-11-24T16:21:39.539Z"
   },
   {
    "duration": 2663,
    "start_time": "2021-11-24T16:21:39.548Z"
   },
   {
    "duration": 2654,
    "start_time": "2021-11-24T16:21:39.558Z"
   },
   {
    "duration": 2648,
    "start_time": "2021-11-24T16:21:39.565Z"
   },
   {
    "duration": 2641,
    "start_time": "2021-11-24T16:21:39.573Z"
   },
   {
    "duration": 2626,
    "start_time": "2021-11-24T16:21:39.590Z"
   },
   {
    "duration": 2617,
    "start_time": "2021-11-24T16:21:39.600Z"
   },
   {
    "duration": 2611,
    "start_time": "2021-11-24T16:21:39.607Z"
   },
   {
    "duration": 2607,
    "start_time": "2021-11-24T16:21:39.613Z"
   },
   {
    "duration": 2601,
    "start_time": "2021-11-24T16:21:39.620Z"
   },
   {
    "duration": 2595,
    "start_time": "2021-11-24T16:21:39.627Z"
   },
   {
    "duration": 2589,
    "start_time": "2021-11-24T16:21:39.634Z"
   },
   {
    "duration": 2581,
    "start_time": "2021-11-24T16:21:39.644Z"
   },
   {
    "duration": 2572,
    "start_time": "2021-11-24T16:21:39.653Z"
   },
   {
    "duration": 2564,
    "start_time": "2021-11-24T16:21:39.662Z"
   },
   {
    "duration": 2557,
    "start_time": "2021-11-24T16:21:39.670Z"
   },
   {
    "duration": 2550,
    "start_time": "2021-11-24T16:21:39.678Z"
   },
   {
    "duration": 2534,
    "start_time": "2021-11-24T16:21:39.695Z"
   },
   {
    "duration": 2526,
    "start_time": "2021-11-24T16:21:39.704Z"
   },
   {
    "duration": 2520,
    "start_time": "2021-11-24T16:21:39.711Z"
   },
   {
    "duration": 2513,
    "start_time": "2021-11-24T16:21:39.719Z"
   },
   {
    "duration": 592,
    "start_time": "2021-11-24T16:23:14.920Z"
   },
   {
    "duration": 141,
    "start_time": "2021-11-24T16:23:15.514Z"
   },
   {
    "duration": 17,
    "start_time": "2021-11-24T16:23:15.657Z"
   },
   {
    "duration": 27,
    "start_time": "2021-11-24T16:23:15.676Z"
   },
   {
    "duration": 13,
    "start_time": "2021-11-24T16:23:15.704Z"
   },
   {
    "duration": 27,
    "start_time": "2021-11-24T16:23:15.718Z"
   },
   {
    "duration": 16,
    "start_time": "2021-11-24T16:23:15.747Z"
   },
   {
    "duration": 40,
    "start_time": "2021-11-24T16:23:15.765Z"
   },
   {
    "duration": 58,
    "start_time": "2021-11-24T16:23:15.807Z"
   },
   {
    "duration": 31,
    "start_time": "2021-11-24T16:23:15.867Z"
   },
   {
    "duration": 87,
    "start_time": "2021-11-24T16:23:15.900Z"
   },
   {
    "duration": 66,
    "start_time": "2021-11-24T16:23:15.989Z"
   },
   {
    "duration": 56,
    "start_time": "2021-11-24T16:23:16.056Z"
   },
   {
    "duration": 2,
    "start_time": "2021-11-24T16:23:16.113Z"
   },
   {
    "duration": 14,
    "start_time": "2021-11-24T16:23:16.117Z"
   },
   {
    "duration": 44,
    "start_time": "2021-11-24T16:23:16.133Z"
   },
   {
    "duration": 7,
    "start_time": "2021-11-24T16:23:16.179Z"
   },
   {
    "duration": 12,
    "start_time": "2021-11-24T16:23:16.188Z"
   },
   {
    "duration": 11,
    "start_time": "2021-11-24T16:23:16.202Z"
   },
   {
    "duration": 4,
    "start_time": "2021-11-24T16:23:16.215Z"
   },
   {
    "duration": 55,
    "start_time": "2021-11-24T16:23:16.221Z"
   },
   {
    "duration": 18,
    "start_time": "2021-11-24T16:23:16.278Z"
   },
   {
    "duration": 21,
    "start_time": "2021-11-24T16:23:16.299Z"
   },
   {
    "duration": 14,
    "start_time": "2021-11-24T16:23:16.322Z"
   },
   {
    "duration": 35,
    "start_time": "2021-11-24T16:23:16.337Z"
   },
   {
    "duration": 16,
    "start_time": "2021-11-24T16:23:16.374Z"
   },
   {
    "duration": 8,
    "start_time": "2021-11-24T16:23:16.391Z"
   },
   {
    "duration": 22,
    "start_time": "2021-11-24T16:23:16.401Z"
   },
   {
    "duration": 45,
    "start_time": "2021-11-24T16:23:16.425Z"
   },
   {
    "duration": 3,
    "start_time": "2021-11-24T16:23:16.472Z"
   },
   {
    "duration": 26,
    "start_time": "2021-11-24T16:23:16.477Z"
   },
   {
    "duration": 21,
    "start_time": "2021-11-24T16:23:16.505Z"
   },
   {
    "duration": 21,
    "start_time": "2021-11-24T16:23:16.528Z"
   },
   {
    "duration": 13,
    "start_time": "2021-11-24T16:23:16.563Z"
   },
   {
    "duration": 9,
    "start_time": "2021-11-24T16:23:16.578Z"
   },
   {
    "duration": 4,
    "start_time": "2021-11-24T16:23:16.589Z"
   },
   {
    "duration": 11,
    "start_time": "2021-11-24T16:23:16.595Z"
   },
   {
    "duration": 12,
    "start_time": "2021-11-24T16:23:16.608Z"
   },
   {
    "duration": 2,
    "start_time": "2021-11-24T16:25:00.612Z"
   }
  ],
  "colab": {
   "collapsed_sections": [
    "E0vqbgi9ay0H",
    "VUC88oWjTJw2"
   ],
   "name": "yandex_music_project_2021.2.ipynb",
   "provenance": []
  },
  "kernelspec": {
   "display_name": "Python 3 (ipykernel)",
   "language": "python",
   "name": "python3"
  },
  "language_info": {
   "codemirror_mode": {
    "name": "ipython",
    "version": 3
   },
   "file_extension": ".py",
   "mimetype": "text/x-python",
   "name": "python",
   "nbconvert_exporter": "python",
   "pygments_lexer": "ipython3",
   "version": "3.9.7"
  },
  "toc": {
   "base_numbering": 1,
   "nav_menu": {},
   "number_sections": true,
   "sideBar": true,
   "skip_h1_title": true,
   "title_cell": "Table of Contents",
   "title_sidebar": "Contents",
   "toc_cell": false,
   "toc_position": {
    "height": "calc(100% - 180px)",
    "left": "10px",
    "top": "150px",
    "width": "366.391px"
   },
   "toc_section_display": true,
   "toc_window_display": false
  }
 },
 "nbformat": 4,
 "nbformat_minor": 1
}
