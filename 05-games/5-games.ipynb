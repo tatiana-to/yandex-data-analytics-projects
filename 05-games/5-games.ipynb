{
 "cells": [
  {
   "cell_type": "markdown",
   "metadata": {},
   "source": [
    "# Описание проекта  \n",
    "Вы работаете в интернет-магазине «Стримчик», который продаёт по всему миру компьютерные игры. Из открытых источников доступны исторические данные о продажах игр, оценки пользователей и экспертов, жанры и платформы (например, Xbox или PlayStation). Вам нужно выявить определяющие успешность игры закономерности. Это позволит сделать ставку на потенциально популярный продукт и спланировать рекламные кампании.  \n",
    "Перед вами данные до 2016 года. Представим, что сейчас декабрь 2016 г., и вы планируете кампанию на 2017-й. Нужно отработать принцип работы с данными. Неважно, прогнозируете ли вы продажи на 2017 год по данным 2016-го или же 2027-й — по данным 2026 года.  \n",
    "В наборе данных попадается аббревиатура ESRB (Entertainment Software Rating Board) — это ассоциация, определяющая возрастной рейтинг компьютерных игр. ESRB оценивает игровой контент и присваивает ему подходящую возрастную категорию, например, «Для взрослых», «Для детей младшего возраста» или «Для подростков».  \n"
   ]
  },
  {
   "cell_type": "markdown",
   "metadata": {},
   "source": [
    "# Шаг 1. Откройте файл с данными и изучите общую информацию"
   ]
  },
  {
   "cell_type": "markdown",
   "metadata": {},
   "source": [
    "Для начала прочитаем файл и сохраним  в переменную. выведем на экран первые 10 строк таблицы. Первый взгляд на сырые данные - это важная часть любого исследования."
   ]
  },
  {
   "cell_type": "code",
   "execution_count": 238,
   "metadata": {},
   "outputs": [
    {
     "data": {
      "text/html": [
       "<div>\n",
       "<style scoped>\n",
       "    .dataframe tbody tr th:only-of-type {\n",
       "        vertical-align: middle;\n",
       "    }\n",
       "\n",
       "    .dataframe tbody tr th {\n",
       "        vertical-align: top;\n",
       "    }\n",
       "\n",
       "    .dataframe thead th {\n",
       "        text-align: right;\n",
       "    }\n",
       "</style>\n",
       "<table border=\"1\" class=\"dataframe\">\n",
       "  <thead>\n",
       "    <tr style=\"text-align: right;\">\n",
       "      <th></th>\n",
       "      <th>Name</th>\n",
       "      <th>Platform</th>\n",
       "      <th>Year_of_Release</th>\n",
       "      <th>Genre</th>\n",
       "      <th>NA_sales</th>\n",
       "      <th>EU_sales</th>\n",
       "      <th>JP_sales</th>\n",
       "      <th>Other_sales</th>\n",
       "      <th>Critic_Score</th>\n",
       "      <th>User_Score</th>\n",
       "      <th>Rating</th>\n",
       "    </tr>\n",
       "  </thead>\n",
       "  <tbody>\n",
       "    <tr>\n",
       "      <td>0</td>\n",
       "      <td>Wii Sports</td>\n",
       "      <td>Wii</td>\n",
       "      <td>2006.0</td>\n",
       "      <td>Sports</td>\n",
       "      <td>41.36</td>\n",
       "      <td>28.96</td>\n",
       "      <td>3.77</td>\n",
       "      <td>8.45</td>\n",
       "      <td>76.0</td>\n",
       "      <td>8</td>\n",
       "      <td>E</td>\n",
       "    </tr>\n",
       "    <tr>\n",
       "      <td>1</td>\n",
       "      <td>Super Mario Bros.</td>\n",
       "      <td>NES</td>\n",
       "      <td>1985.0</td>\n",
       "      <td>Platform</td>\n",
       "      <td>29.08</td>\n",
       "      <td>3.58</td>\n",
       "      <td>6.81</td>\n",
       "      <td>0.77</td>\n",
       "      <td>NaN</td>\n",
       "      <td>NaN</td>\n",
       "      <td>NaN</td>\n",
       "    </tr>\n",
       "    <tr>\n",
       "      <td>2</td>\n",
       "      <td>Mario Kart Wii</td>\n",
       "      <td>Wii</td>\n",
       "      <td>2008.0</td>\n",
       "      <td>Racing</td>\n",
       "      <td>15.68</td>\n",
       "      <td>12.76</td>\n",
       "      <td>3.79</td>\n",
       "      <td>3.29</td>\n",
       "      <td>82.0</td>\n",
       "      <td>8.3</td>\n",
       "      <td>E</td>\n",
       "    </tr>\n",
       "    <tr>\n",
       "      <td>3</td>\n",
       "      <td>Wii Sports Resort</td>\n",
       "      <td>Wii</td>\n",
       "      <td>2009.0</td>\n",
       "      <td>Sports</td>\n",
       "      <td>15.61</td>\n",
       "      <td>10.93</td>\n",
       "      <td>3.28</td>\n",
       "      <td>2.95</td>\n",
       "      <td>80.0</td>\n",
       "      <td>8</td>\n",
       "      <td>E</td>\n",
       "    </tr>\n",
       "    <tr>\n",
       "      <td>4</td>\n",
       "      <td>Pokemon Red/Pokemon Blue</td>\n",
       "      <td>GB</td>\n",
       "      <td>1996.0</td>\n",
       "      <td>Role-Playing</td>\n",
       "      <td>11.27</td>\n",
       "      <td>8.89</td>\n",
       "      <td>10.22</td>\n",
       "      <td>1.00</td>\n",
       "      <td>NaN</td>\n",
       "      <td>NaN</td>\n",
       "      <td>NaN</td>\n",
       "    </tr>\n",
       "    <tr>\n",
       "      <td>5</td>\n",
       "      <td>Tetris</td>\n",
       "      <td>GB</td>\n",
       "      <td>1989.0</td>\n",
       "      <td>Puzzle</td>\n",
       "      <td>23.20</td>\n",
       "      <td>2.26</td>\n",
       "      <td>4.22</td>\n",
       "      <td>0.58</td>\n",
       "      <td>NaN</td>\n",
       "      <td>NaN</td>\n",
       "      <td>NaN</td>\n",
       "    </tr>\n",
       "    <tr>\n",
       "      <td>6</td>\n",
       "      <td>New Super Mario Bros.</td>\n",
       "      <td>DS</td>\n",
       "      <td>2006.0</td>\n",
       "      <td>Platform</td>\n",
       "      <td>11.28</td>\n",
       "      <td>9.14</td>\n",
       "      <td>6.50</td>\n",
       "      <td>2.88</td>\n",
       "      <td>89.0</td>\n",
       "      <td>8.5</td>\n",
       "      <td>E</td>\n",
       "    </tr>\n",
       "    <tr>\n",
       "      <td>7</td>\n",
       "      <td>Wii Play</td>\n",
       "      <td>Wii</td>\n",
       "      <td>2006.0</td>\n",
       "      <td>Misc</td>\n",
       "      <td>13.96</td>\n",
       "      <td>9.18</td>\n",
       "      <td>2.93</td>\n",
       "      <td>2.84</td>\n",
       "      <td>58.0</td>\n",
       "      <td>6.6</td>\n",
       "      <td>E</td>\n",
       "    </tr>\n",
       "    <tr>\n",
       "      <td>8</td>\n",
       "      <td>New Super Mario Bros. Wii</td>\n",
       "      <td>Wii</td>\n",
       "      <td>2009.0</td>\n",
       "      <td>Platform</td>\n",
       "      <td>14.44</td>\n",
       "      <td>6.94</td>\n",
       "      <td>4.70</td>\n",
       "      <td>2.24</td>\n",
       "      <td>87.0</td>\n",
       "      <td>8.4</td>\n",
       "      <td>E</td>\n",
       "    </tr>\n",
       "    <tr>\n",
       "      <td>9</td>\n",
       "      <td>Duck Hunt</td>\n",
       "      <td>NES</td>\n",
       "      <td>1984.0</td>\n",
       "      <td>Shooter</td>\n",
       "      <td>26.93</td>\n",
       "      <td>0.63</td>\n",
       "      <td>0.28</td>\n",
       "      <td>0.47</td>\n",
       "      <td>NaN</td>\n",
       "      <td>NaN</td>\n",
       "      <td>NaN</td>\n",
       "    </tr>\n",
       "  </tbody>\n",
       "</table>\n",
       "</div>"
      ],
      "text/plain": [
       "                        Name Platform  Year_of_Release         Genre  \\\n",
       "0                 Wii Sports      Wii           2006.0        Sports   \n",
       "1          Super Mario Bros.      NES           1985.0      Platform   \n",
       "2             Mario Kart Wii      Wii           2008.0        Racing   \n",
       "3          Wii Sports Resort      Wii           2009.0        Sports   \n",
       "4   Pokemon Red/Pokemon Blue       GB           1996.0  Role-Playing   \n",
       "5                     Tetris       GB           1989.0        Puzzle   \n",
       "6      New Super Mario Bros.       DS           2006.0      Platform   \n",
       "7                   Wii Play      Wii           2006.0          Misc   \n",
       "8  New Super Mario Bros. Wii      Wii           2009.0      Platform   \n",
       "9                  Duck Hunt      NES           1984.0       Shooter   \n",
       "\n",
       "   NA_sales  EU_sales  JP_sales  Other_sales  Critic_Score User_Score Rating  \n",
       "0     41.36     28.96      3.77         8.45          76.0          8      E  \n",
       "1     29.08      3.58      6.81         0.77           NaN        NaN    NaN  \n",
       "2     15.68     12.76      3.79         3.29          82.0        8.3      E  \n",
       "3     15.61     10.93      3.28         2.95          80.0          8      E  \n",
       "4     11.27      8.89     10.22         1.00           NaN        NaN    NaN  \n",
       "5     23.20      2.26      4.22         0.58           NaN        NaN    NaN  \n",
       "6     11.28      9.14      6.50         2.88          89.0        8.5      E  \n",
       "7     13.96      9.18      2.93         2.84          58.0        6.6      E  \n",
       "8     14.44      6.94      4.70         2.24          87.0        8.4      E  \n",
       "9     26.93      0.63      0.28         0.47           NaN        NaN    NaN  "
      ]
     },
     "metadata": {},
     "output_type": "display_data"
    },
    {
     "name": "stdout",
     "output_type": "stream",
     "text": [
      "<class 'pandas.core.frame.DataFrame'>\n",
      "RangeIndex: 16715 entries, 0 to 16714\n",
      "Data columns (total 11 columns):\n",
      "Name               16713 non-null object\n",
      "Platform           16715 non-null object\n",
      "Year_of_Release    16446 non-null float64\n",
      "Genre              16713 non-null object\n",
      "NA_sales           16715 non-null float64\n",
      "EU_sales           16715 non-null float64\n",
      "JP_sales           16715 non-null float64\n",
      "Other_sales        16715 non-null float64\n",
      "Critic_Score       8137 non-null float64\n",
      "User_Score         10014 non-null object\n",
      "Rating             9949 non-null object\n",
      "dtypes: float64(6), object(5)\n",
      "memory usage: 1.4+ MB\n"
     ]
    }
   ],
   "source": [
    "import pandas as pd\n",
    "import matplotlib.pyplot as plt \n",
    "from scipy import stats as st\n",
    "import numpy as np\n",
    "import seaborn as sns\n",
    "\n",
    "data = pd.read_csv('/datasets/games.csv') \n",
    "display(data.head(10))\n",
    "data.info()"
   ]
  },
  {
   "cell_type": "markdown",
   "metadata": {},
   "source": [
    "Как видно из сводной информации по таблице - в данных есть пропуски  и в некоторых колонках необходимо будет провести замену типа данных.\n",
    "Займемся подготовкой данных для последующего исследования."
   ]
  },
  {
   "cell_type": "markdown",
   "metadata": {},
   "source": [
    "# Шаг 2. Подготовьте данные"
   ]
  },
  {
   "cell_type": "markdown",
   "metadata": {},
   "source": [
    "- Замените названия столбцов (приведите к нижнему регистру);  \n",
    "- Преобразуйте данные в нужные типы. Опишите, в каких столбцах заменили тип данных и почему;  \n",
    "- Обработайте пропуски при необходимости:  \n",
    "   - Объясните, почему заполнили пропуски определённым образом или почему не стали это делать;  \n",
    "   - Опишите причины, которые могли привести к пропускам;  \n",
    "- Обратите внимание на аббревиатуру 'tbd' в столбце с оценкой пользователей. Отдельно разберите это значение и опишите, как его обработать;  \n",
    "- Посчитайте суммарные продажи во всех регионах и запишите их в отдельный столбец.  "
   ]
  },
  {
   "cell_type": "markdown",
   "metadata": {},
   "source": [
    "Для начала приведем названия столбцов к нижнему регистру. "
   ]
  },
  {
   "cell_type": "code",
   "execution_count": 239,
   "metadata": {},
   "outputs": [
    {
     "data": {
      "text/html": [
       "<div>\n",
       "<style scoped>\n",
       "    .dataframe tbody tr th:only-of-type {\n",
       "        vertical-align: middle;\n",
       "    }\n",
       "\n",
       "    .dataframe tbody tr th {\n",
       "        vertical-align: top;\n",
       "    }\n",
       "\n",
       "    .dataframe thead th {\n",
       "        text-align: right;\n",
       "    }\n",
       "</style>\n",
       "<table border=\"1\" class=\"dataframe\">\n",
       "  <thead>\n",
       "    <tr style=\"text-align: right;\">\n",
       "      <th></th>\n",
       "      <th>name</th>\n",
       "      <th>platform</th>\n",
       "      <th>year_of_release</th>\n",
       "      <th>genre</th>\n",
       "      <th>na_sales</th>\n",
       "      <th>eu_sales</th>\n",
       "      <th>jp_sales</th>\n",
       "      <th>other_sales</th>\n",
       "      <th>critic_score</th>\n",
       "      <th>user_score</th>\n",
       "      <th>rating</th>\n",
       "    </tr>\n",
       "  </thead>\n",
       "  <tbody>\n",
       "    <tr>\n",
       "      <td>0</td>\n",
       "      <td>Wii Sports</td>\n",
       "      <td>Wii</td>\n",
       "      <td>2006.0</td>\n",
       "      <td>Sports</td>\n",
       "      <td>41.36</td>\n",
       "      <td>28.96</td>\n",
       "      <td>3.77</td>\n",
       "      <td>8.45</td>\n",
       "      <td>76.0</td>\n",
       "      <td>8</td>\n",
       "      <td>E</td>\n",
       "    </tr>\n",
       "    <tr>\n",
       "      <td>1</td>\n",
       "      <td>Super Mario Bros.</td>\n",
       "      <td>NES</td>\n",
       "      <td>1985.0</td>\n",
       "      <td>Platform</td>\n",
       "      <td>29.08</td>\n",
       "      <td>3.58</td>\n",
       "      <td>6.81</td>\n",
       "      <td>0.77</td>\n",
       "      <td>NaN</td>\n",
       "      <td>NaN</td>\n",
       "      <td>NaN</td>\n",
       "    </tr>\n",
       "    <tr>\n",
       "      <td>2</td>\n",
       "      <td>Mario Kart Wii</td>\n",
       "      <td>Wii</td>\n",
       "      <td>2008.0</td>\n",
       "      <td>Racing</td>\n",
       "      <td>15.68</td>\n",
       "      <td>12.76</td>\n",
       "      <td>3.79</td>\n",
       "      <td>3.29</td>\n",
       "      <td>82.0</td>\n",
       "      <td>8.3</td>\n",
       "      <td>E</td>\n",
       "    </tr>\n",
       "    <tr>\n",
       "      <td>3</td>\n",
       "      <td>Wii Sports Resort</td>\n",
       "      <td>Wii</td>\n",
       "      <td>2009.0</td>\n",
       "      <td>Sports</td>\n",
       "      <td>15.61</td>\n",
       "      <td>10.93</td>\n",
       "      <td>3.28</td>\n",
       "      <td>2.95</td>\n",
       "      <td>80.0</td>\n",
       "      <td>8</td>\n",
       "      <td>E</td>\n",
       "    </tr>\n",
       "    <tr>\n",
       "      <td>4</td>\n",
       "      <td>Pokemon Red/Pokemon Blue</td>\n",
       "      <td>GB</td>\n",
       "      <td>1996.0</td>\n",
       "      <td>Role-Playing</td>\n",
       "      <td>11.27</td>\n",
       "      <td>8.89</td>\n",
       "      <td>10.22</td>\n",
       "      <td>1.00</td>\n",
       "      <td>NaN</td>\n",
       "      <td>NaN</td>\n",
       "      <td>NaN</td>\n",
       "    </tr>\n",
       "    <tr>\n",
       "      <td>...</td>\n",
       "      <td>...</td>\n",
       "      <td>...</td>\n",
       "      <td>...</td>\n",
       "      <td>...</td>\n",
       "      <td>...</td>\n",
       "      <td>...</td>\n",
       "      <td>...</td>\n",
       "      <td>...</td>\n",
       "      <td>...</td>\n",
       "      <td>...</td>\n",
       "      <td>...</td>\n",
       "    </tr>\n",
       "    <tr>\n",
       "      <td>16710</td>\n",
       "      <td>Samurai Warriors: Sanada Maru</td>\n",
       "      <td>PS3</td>\n",
       "      <td>2016.0</td>\n",
       "      <td>Action</td>\n",
       "      <td>0.00</td>\n",
       "      <td>0.00</td>\n",
       "      <td>0.01</td>\n",
       "      <td>0.00</td>\n",
       "      <td>NaN</td>\n",
       "      <td>NaN</td>\n",
       "      <td>NaN</td>\n",
       "    </tr>\n",
       "    <tr>\n",
       "      <td>16711</td>\n",
       "      <td>LMA Manager 2007</td>\n",
       "      <td>X360</td>\n",
       "      <td>2006.0</td>\n",
       "      <td>Sports</td>\n",
       "      <td>0.00</td>\n",
       "      <td>0.01</td>\n",
       "      <td>0.00</td>\n",
       "      <td>0.00</td>\n",
       "      <td>NaN</td>\n",
       "      <td>NaN</td>\n",
       "      <td>NaN</td>\n",
       "    </tr>\n",
       "    <tr>\n",
       "      <td>16712</td>\n",
       "      <td>Haitaka no Psychedelica</td>\n",
       "      <td>PSV</td>\n",
       "      <td>2016.0</td>\n",
       "      <td>Adventure</td>\n",
       "      <td>0.00</td>\n",
       "      <td>0.00</td>\n",
       "      <td>0.01</td>\n",
       "      <td>0.00</td>\n",
       "      <td>NaN</td>\n",
       "      <td>NaN</td>\n",
       "      <td>NaN</td>\n",
       "    </tr>\n",
       "    <tr>\n",
       "      <td>16713</td>\n",
       "      <td>Spirits &amp; Spells</td>\n",
       "      <td>GBA</td>\n",
       "      <td>2003.0</td>\n",
       "      <td>Platform</td>\n",
       "      <td>0.01</td>\n",
       "      <td>0.00</td>\n",
       "      <td>0.00</td>\n",
       "      <td>0.00</td>\n",
       "      <td>NaN</td>\n",
       "      <td>NaN</td>\n",
       "      <td>NaN</td>\n",
       "    </tr>\n",
       "    <tr>\n",
       "      <td>16714</td>\n",
       "      <td>Winning Post 8 2016</td>\n",
       "      <td>PSV</td>\n",
       "      <td>2016.0</td>\n",
       "      <td>Simulation</td>\n",
       "      <td>0.00</td>\n",
       "      <td>0.00</td>\n",
       "      <td>0.01</td>\n",
       "      <td>0.00</td>\n",
       "      <td>NaN</td>\n",
       "      <td>NaN</td>\n",
       "      <td>NaN</td>\n",
       "    </tr>\n",
       "  </tbody>\n",
       "</table>\n",
       "<p>16715 rows × 11 columns</p>\n",
       "</div>"
      ],
      "text/plain": [
       "                                name platform  year_of_release         genre  \\\n",
       "0                         Wii Sports      Wii           2006.0        Sports   \n",
       "1                  Super Mario Bros.      NES           1985.0      Platform   \n",
       "2                     Mario Kart Wii      Wii           2008.0        Racing   \n",
       "3                  Wii Sports Resort      Wii           2009.0        Sports   \n",
       "4           Pokemon Red/Pokemon Blue       GB           1996.0  Role-Playing   \n",
       "...                              ...      ...              ...           ...   \n",
       "16710  Samurai Warriors: Sanada Maru      PS3           2016.0        Action   \n",
       "16711               LMA Manager 2007     X360           2006.0        Sports   \n",
       "16712        Haitaka no Psychedelica      PSV           2016.0     Adventure   \n",
       "16713               Spirits & Spells      GBA           2003.0      Platform   \n",
       "16714            Winning Post 8 2016      PSV           2016.0    Simulation   \n",
       "\n",
       "       na_sales  eu_sales  jp_sales  other_sales  critic_score user_score  \\\n",
       "0         41.36     28.96      3.77         8.45          76.0          8   \n",
       "1         29.08      3.58      6.81         0.77           NaN        NaN   \n",
       "2         15.68     12.76      3.79         3.29          82.0        8.3   \n",
       "3         15.61     10.93      3.28         2.95          80.0          8   \n",
       "4         11.27      8.89     10.22         1.00           NaN        NaN   \n",
       "...         ...       ...       ...          ...           ...        ...   \n",
       "16710      0.00      0.00      0.01         0.00           NaN        NaN   \n",
       "16711      0.00      0.01      0.00         0.00           NaN        NaN   \n",
       "16712      0.00      0.00      0.01         0.00           NaN        NaN   \n",
       "16713      0.01      0.00      0.00         0.00           NaN        NaN   \n",
       "16714      0.00      0.00      0.01         0.00           NaN        NaN   \n",
       "\n",
       "      rating  \n",
       "0          E  \n",
       "1        NaN  \n",
       "2          E  \n",
       "3          E  \n",
       "4        NaN  \n",
       "...      ...  \n",
       "16710    NaN  \n",
       "16711    NaN  \n",
       "16712    NaN  \n",
       "16713    NaN  \n",
       "16714    NaN  \n",
       "\n",
       "[16715 rows x 11 columns]"
      ]
     },
     "execution_count": 239,
     "metadata": {},
     "output_type": "execute_result"
    }
   ],
   "source": [
    "data.columns = data.columns.str.lower()\n",
    "\n",
    "data"
   ]
  },
  {
   "cell_type": "markdown",
   "metadata": {},
   "source": [
    "Преобразуем данные в нужные типы и обработаем пропуски, так как данные были взяты из открытых источников, они могут содержать много пропусков , в предыдущем пункте можно было заметить, что достаточно много данных отсутствует в колонках с рейтингом и с оценками пользователей и критиков."
   ]
  },
  {
   "cell_type": "code",
   "execution_count": 240,
   "metadata": {},
   "outputs": [
    {
     "name": "stdout",
     "output_type": "stream",
     "text": [
      "Количество пропусков 269\n"
     ]
    }
   ],
   "source": [
    "print('Количество пропусков', data['year_of_release'].isna().sum()) #посчитаем количество пропусков\n",
    "\n",
    "data.dropna(subset = ['year_of_release'], inplace=True) # т.к пропусков не так много, удалим строки с пропущ.значениями\n",
    "\n",
    "data['year_of_release'] = data['year_of_release'].apply(int) # изменим тип даннных\n"
   ]
  },
  {
   "cell_type": "code",
   "execution_count": 241,
   "metadata": {},
   "outputs": [
    {
     "data": {
      "text/plain": [
       "0"
      ]
     },
     "execution_count": 241,
     "metadata": {},
     "output_type": "execute_result"
    }
   ],
   "source": [
    "data['year_of_release'].isna().sum()# сделаем проверку на пропуски"
   ]
  },
  {
   "cell_type": "code",
   "execution_count": 242,
   "metadata": {},
   "outputs": [
    {
     "data": {
      "text/plain": [
       "0"
      ]
     },
     "execution_count": 242,
     "metadata": {},
     "output_type": "execute_result"
    }
   ],
   "source": [
    "data.dropna(subset = ['name'], inplace=True)# в колонке было только 2 пропуска, поэтому можем от них избавиться\n",
    "data['name'].isna().sum()"
   ]
  },
  {
   "cell_type": "markdown",
   "metadata": {},
   "source": [
    "Далее будем работать с колонкой user_score, здесь достаточно часто встречается  аббревиатура 'tbd' или  \"to be defined \" поэтому и тип данных определяется как object. Заменим тип данных на числовой"
   ]
  },
  {
   "cell_type": "code",
   "execution_count": 243,
   "metadata": {},
   "outputs": [],
   "source": [
    "data.loc[data['user_score']== 'tbd', 'user_score'] = float('nan')# с помощью логической индексации найдем все строки, удовлетворяющие нашему условию и заменим 'tbd' на 'nan'\n",
    "data['user_score'] = data['user_score'].astype(float) #теперь можно изменить тип данных\n"
   ]
  },
  {
   "cell_type": "code",
   "execution_count": 244,
   "metadata": {},
   "outputs": [
    {
     "name": "stdout",
     "output_type": "stream",
     "text": [
      "<class 'pandas.core.frame.DataFrame'>\n",
      "Int64Index: 16444 entries, 0 to 16714\n",
      "Data columns (total 11 columns):\n",
      "name               16444 non-null object\n",
      "platform           16444 non-null object\n",
      "year_of_release    16444 non-null int64\n",
      "genre              16444 non-null object\n",
      "na_sales           16444 non-null float64\n",
      "eu_sales           16444 non-null float64\n",
      "jp_sales           16444 non-null float64\n",
      "other_sales        16444 non-null float64\n",
      "critic_score       7983 non-null float64\n",
      "user_score         7463 non-null float64\n",
      "rating             9768 non-null object\n",
      "dtypes: float64(6), int64(1), object(4)\n",
      "memory usage: 1.5+ MB\n"
     ]
    }
   ],
   "source": [
    "data.info() #выведем сводную информацию после изменений\n"
   ]
  },
  {
   "cell_type": "markdown",
   "metadata": {},
   "source": [
    "Теперь посчитаем суммарные продажи и запишем их в отдельный столбец."
   ]
  },
  {
   "cell_type": "code",
   "execution_count": 245,
   "metadata": {},
   "outputs": [
    {
     "data": {
      "text/html": [
       "<div>\n",
       "<style scoped>\n",
       "    .dataframe tbody tr th:only-of-type {\n",
       "        vertical-align: middle;\n",
       "    }\n",
       "\n",
       "    .dataframe tbody tr th {\n",
       "        vertical-align: top;\n",
       "    }\n",
       "\n",
       "    .dataframe thead th {\n",
       "        text-align: right;\n",
       "    }\n",
       "</style>\n",
       "<table border=\"1\" class=\"dataframe\">\n",
       "  <thead>\n",
       "    <tr style=\"text-align: right;\">\n",
       "      <th></th>\n",
       "      <th>name</th>\n",
       "      <th>platform</th>\n",
       "      <th>year_of_release</th>\n",
       "      <th>genre</th>\n",
       "      <th>na_sales</th>\n",
       "      <th>eu_sales</th>\n",
       "      <th>jp_sales</th>\n",
       "      <th>other_sales</th>\n",
       "      <th>critic_score</th>\n",
       "      <th>user_score</th>\n",
       "      <th>rating</th>\n",
       "      <th>total_sales</th>\n",
       "    </tr>\n",
       "  </thead>\n",
       "  <tbody>\n",
       "    <tr>\n",
       "      <td>0</td>\n",
       "      <td>Wii Sports</td>\n",
       "      <td>Wii</td>\n",
       "      <td>2006</td>\n",
       "      <td>Sports</td>\n",
       "      <td>41.36</td>\n",
       "      <td>28.96</td>\n",
       "      <td>3.77</td>\n",
       "      <td>8.45</td>\n",
       "      <td>76.0</td>\n",
       "      <td>8.0</td>\n",
       "      <td>E</td>\n",
       "      <td>82.54</td>\n",
       "    </tr>\n",
       "    <tr>\n",
       "      <td>1</td>\n",
       "      <td>Super Mario Bros.</td>\n",
       "      <td>NES</td>\n",
       "      <td>1985</td>\n",
       "      <td>Platform</td>\n",
       "      <td>29.08</td>\n",
       "      <td>3.58</td>\n",
       "      <td>6.81</td>\n",
       "      <td>0.77</td>\n",
       "      <td>NaN</td>\n",
       "      <td>NaN</td>\n",
       "      <td>NaN</td>\n",
       "      <td>40.24</td>\n",
       "    </tr>\n",
       "    <tr>\n",
       "      <td>2</td>\n",
       "      <td>Mario Kart Wii</td>\n",
       "      <td>Wii</td>\n",
       "      <td>2008</td>\n",
       "      <td>Racing</td>\n",
       "      <td>15.68</td>\n",
       "      <td>12.76</td>\n",
       "      <td>3.79</td>\n",
       "      <td>3.29</td>\n",
       "      <td>82.0</td>\n",
       "      <td>8.3</td>\n",
       "      <td>E</td>\n",
       "      <td>35.52</td>\n",
       "    </tr>\n",
       "    <tr>\n",
       "      <td>3</td>\n",
       "      <td>Wii Sports Resort</td>\n",
       "      <td>Wii</td>\n",
       "      <td>2009</td>\n",
       "      <td>Sports</td>\n",
       "      <td>15.61</td>\n",
       "      <td>10.93</td>\n",
       "      <td>3.28</td>\n",
       "      <td>2.95</td>\n",
       "      <td>80.0</td>\n",
       "      <td>8.0</td>\n",
       "      <td>E</td>\n",
       "      <td>32.77</td>\n",
       "    </tr>\n",
       "    <tr>\n",
       "      <td>4</td>\n",
       "      <td>Pokemon Red/Pokemon Blue</td>\n",
       "      <td>GB</td>\n",
       "      <td>1996</td>\n",
       "      <td>Role-Playing</td>\n",
       "      <td>11.27</td>\n",
       "      <td>8.89</td>\n",
       "      <td>10.22</td>\n",
       "      <td>1.00</td>\n",
       "      <td>NaN</td>\n",
       "      <td>NaN</td>\n",
       "      <td>NaN</td>\n",
       "      <td>31.38</td>\n",
       "    </tr>\n",
       "    <tr>\n",
       "      <td>...</td>\n",
       "      <td>...</td>\n",
       "      <td>...</td>\n",
       "      <td>...</td>\n",
       "      <td>...</td>\n",
       "      <td>...</td>\n",
       "      <td>...</td>\n",
       "      <td>...</td>\n",
       "      <td>...</td>\n",
       "      <td>...</td>\n",
       "      <td>...</td>\n",
       "      <td>...</td>\n",
       "      <td>...</td>\n",
       "    </tr>\n",
       "    <tr>\n",
       "      <td>16710</td>\n",
       "      <td>Samurai Warriors: Sanada Maru</td>\n",
       "      <td>PS3</td>\n",
       "      <td>2016</td>\n",
       "      <td>Action</td>\n",
       "      <td>0.00</td>\n",
       "      <td>0.00</td>\n",
       "      <td>0.01</td>\n",
       "      <td>0.00</td>\n",
       "      <td>NaN</td>\n",
       "      <td>NaN</td>\n",
       "      <td>NaN</td>\n",
       "      <td>0.01</td>\n",
       "    </tr>\n",
       "    <tr>\n",
       "      <td>16711</td>\n",
       "      <td>LMA Manager 2007</td>\n",
       "      <td>X360</td>\n",
       "      <td>2006</td>\n",
       "      <td>Sports</td>\n",
       "      <td>0.00</td>\n",
       "      <td>0.01</td>\n",
       "      <td>0.00</td>\n",
       "      <td>0.00</td>\n",
       "      <td>NaN</td>\n",
       "      <td>NaN</td>\n",
       "      <td>NaN</td>\n",
       "      <td>0.01</td>\n",
       "    </tr>\n",
       "    <tr>\n",
       "      <td>16712</td>\n",
       "      <td>Haitaka no Psychedelica</td>\n",
       "      <td>PSV</td>\n",
       "      <td>2016</td>\n",
       "      <td>Adventure</td>\n",
       "      <td>0.00</td>\n",
       "      <td>0.00</td>\n",
       "      <td>0.01</td>\n",
       "      <td>0.00</td>\n",
       "      <td>NaN</td>\n",
       "      <td>NaN</td>\n",
       "      <td>NaN</td>\n",
       "      <td>0.01</td>\n",
       "    </tr>\n",
       "    <tr>\n",
       "      <td>16713</td>\n",
       "      <td>Spirits &amp; Spells</td>\n",
       "      <td>GBA</td>\n",
       "      <td>2003</td>\n",
       "      <td>Platform</td>\n",
       "      <td>0.01</td>\n",
       "      <td>0.00</td>\n",
       "      <td>0.00</td>\n",
       "      <td>0.00</td>\n",
       "      <td>NaN</td>\n",
       "      <td>NaN</td>\n",
       "      <td>NaN</td>\n",
       "      <td>0.01</td>\n",
       "    </tr>\n",
       "    <tr>\n",
       "      <td>16714</td>\n",
       "      <td>Winning Post 8 2016</td>\n",
       "      <td>PSV</td>\n",
       "      <td>2016</td>\n",
       "      <td>Simulation</td>\n",
       "      <td>0.00</td>\n",
       "      <td>0.00</td>\n",
       "      <td>0.01</td>\n",
       "      <td>0.00</td>\n",
       "      <td>NaN</td>\n",
       "      <td>NaN</td>\n",
       "      <td>NaN</td>\n",
       "      <td>0.01</td>\n",
       "    </tr>\n",
       "  </tbody>\n",
       "</table>\n",
       "<p>16444 rows × 12 columns</p>\n",
       "</div>"
      ],
      "text/plain": [
       "                                name platform  year_of_release         genre  \\\n",
       "0                         Wii Sports      Wii             2006        Sports   \n",
       "1                  Super Mario Bros.      NES             1985      Platform   \n",
       "2                     Mario Kart Wii      Wii             2008        Racing   \n",
       "3                  Wii Sports Resort      Wii             2009        Sports   \n",
       "4           Pokemon Red/Pokemon Blue       GB             1996  Role-Playing   \n",
       "...                              ...      ...              ...           ...   \n",
       "16710  Samurai Warriors: Sanada Maru      PS3             2016        Action   \n",
       "16711               LMA Manager 2007     X360             2006        Sports   \n",
       "16712        Haitaka no Psychedelica      PSV             2016     Adventure   \n",
       "16713               Spirits & Spells      GBA             2003      Platform   \n",
       "16714            Winning Post 8 2016      PSV             2016    Simulation   \n",
       "\n",
       "       na_sales  eu_sales  jp_sales  other_sales  critic_score  user_score  \\\n",
       "0         41.36     28.96      3.77         8.45          76.0         8.0   \n",
       "1         29.08      3.58      6.81         0.77           NaN         NaN   \n",
       "2         15.68     12.76      3.79         3.29          82.0         8.3   \n",
       "3         15.61     10.93      3.28         2.95          80.0         8.0   \n",
       "4         11.27      8.89     10.22         1.00           NaN         NaN   \n",
       "...         ...       ...       ...          ...           ...         ...   \n",
       "16710      0.00      0.00      0.01         0.00           NaN         NaN   \n",
       "16711      0.00      0.01      0.00         0.00           NaN         NaN   \n",
       "16712      0.00      0.00      0.01         0.00           NaN         NaN   \n",
       "16713      0.01      0.00      0.00         0.00           NaN         NaN   \n",
       "16714      0.00      0.00      0.01         0.00           NaN         NaN   \n",
       "\n",
       "      rating  total_sales  \n",
       "0          E        82.54  \n",
       "1        NaN        40.24  \n",
       "2          E        35.52  \n",
       "3          E        32.77  \n",
       "4        NaN        31.38  \n",
       "...      ...          ...  \n",
       "16710    NaN         0.01  \n",
       "16711    NaN         0.01  \n",
       "16712    NaN         0.01  \n",
       "16713    NaN         0.01  \n",
       "16714    NaN         0.01  \n",
       "\n",
       "[16444 rows x 12 columns]"
      ]
     },
     "execution_count": 245,
     "metadata": {},
     "output_type": "execute_result"
    }
   ],
   "source": [
    "#создаем отдельный столбец с выручкой\n",
    "data['total_sales'] = data[['na_sales','eu_sales', 'jp_sales', 'other_sales' ]].sum(axis=1)\n",
    "\n",
    "data"
   ]
  },
  {
   "cell_type": "markdown",
   "metadata": {},
   "source": [
    "На этом этапе мы подготовили данные к дальнейшему исследованию, привели названия столбцов к нижнему регистру, заменили типы данных в колонках  year_of_release, user_score, добавили новый столбец в таблицу. "
   ]
  },
  {
   "cell_type": "markdown",
   "metadata": {},
   "source": [
    "# Шаг 3. Проведите исследовательский анализ данных"
   ]
  },
  {
   "cell_type": "markdown",
   "metadata": {},
   "source": [
    "**Посмотрите, сколько игр выпускалось в разные годы. Важны ли данные за все периоды?**"
   ]
  },
  {
   "cell_type": "code",
   "execution_count": 246,
   "metadata": {
    "scrolled": true
   },
   "outputs": [
    {
     "data": {
      "text/plain": [
       "2008    1427\n",
       "2009    1426\n",
       "2010    1255\n",
       "2007    1197\n",
       "2011    1136\n",
       "2006    1006\n",
       "2005     939\n",
       "2002     829\n",
       "2003     775\n",
       "2004     762\n",
       "2012     653\n",
       "2015     606\n",
       "2014     581\n",
       "2013     544\n",
       "2016     502\n",
       "2001     482\n",
       "1998     379\n",
       "2000     350\n",
       "1999     338\n",
       "1997     289\n",
       "1996     263\n",
       "1995     219\n",
       "1994     121\n",
       "1993      60\n",
       "1981      46\n",
       "1992      43\n",
       "1991      41\n",
       "1982      36\n",
       "1986      21\n",
       "1983      17\n",
       "1989      17\n",
       "1987      16\n",
       "1990      16\n",
       "1988      15\n",
       "1984      14\n",
       "1985      14\n",
       "1980       9\n",
       "Name: year_of_release, dtype: int64"
      ]
     },
     "execution_count": 246,
     "metadata": {},
     "output_type": "execute_result"
    }
   ],
   "source": [
    "#посмотрим на количество игр за каждый год применяя метод value_counts()\n",
    "data['year_of_release'].value_counts()"
   ]
  },
  {
   "cell_type": "markdown",
   "metadata": {},
   "source": [
    "Данные за все периоды нам не нужны, т.к мы делаем прогноз на 2017 год, то соответственно следующим шагом будем определять период для иследования."
   ]
  },
  {
   "cell_type": "markdown",
   "metadata": {},
   "source": [
    "**Посмотрите, как менялись продажи по платформам. Выберите платформы с наибольшими суммарными продажами и постройте распределение по годам. За какой характерный срок появляются новые и исчезают старые платформы?**"
   ]
  },
  {
   "cell_type": "code",
   "execution_count": 247,
   "metadata": {
    "scrolled": true
   },
   "outputs": [
    {
     "data": {
      "text/html": [
       "<div>\n",
       "<style scoped>\n",
       "    .dataframe tbody tr th:only-of-type {\n",
       "        vertical-align: middle;\n",
       "    }\n",
       "\n",
       "    .dataframe tbody tr th {\n",
       "        vertical-align: top;\n",
       "    }\n",
       "\n",
       "    .dataframe thead th {\n",
       "        text-align: right;\n",
       "    }\n",
       "</style>\n",
       "<table border=\"1\" class=\"dataframe\">\n",
       "  <thead>\n",
       "    <tr style=\"text-align: right;\">\n",
       "      <th></th>\n",
       "      <th>platform</th>\n",
       "      <th>sum</th>\n",
       "    </tr>\n",
       "  </thead>\n",
       "  <tbody>\n",
       "    <tr>\n",
       "      <td>16</td>\n",
       "      <td>PS2</td>\n",
       "      <td>1233.56</td>\n",
       "    </tr>\n",
       "    <tr>\n",
       "      <td>28</td>\n",
       "      <td>X360</td>\n",
       "      <td>961.24</td>\n",
       "    </tr>\n",
       "    <tr>\n",
       "      <td>17</td>\n",
       "      <td>PS3</td>\n",
       "      <td>931.34</td>\n",
       "    </tr>\n",
       "    <tr>\n",
       "      <td>26</td>\n",
       "      <td>Wii</td>\n",
       "      <td>891.18</td>\n",
       "    </tr>\n",
       "    <tr>\n",
       "      <td>4</td>\n",
       "      <td>DS</td>\n",
       "      <td>802.78</td>\n",
       "    </tr>\n",
       "    <tr>\n",
       "      <td>15</td>\n",
       "      <td>PS</td>\n",
       "      <td>727.58</td>\n",
       "    </tr>\n",
       "    <tr>\n",
       "      <td>18</td>\n",
       "      <td>PS4</td>\n",
       "      <td>314.14</td>\n",
       "    </tr>\n",
       "    <tr>\n",
       "      <td>6</td>\n",
       "      <td>GBA</td>\n",
       "      <td>312.88</td>\n",
       "    </tr>\n",
       "    <tr>\n",
       "      <td>19</td>\n",
       "      <td>PSP</td>\n",
       "      <td>289.53</td>\n",
       "    </tr>\n",
       "    <tr>\n",
       "      <td>2</td>\n",
       "      <td>3DS</td>\n",
       "      <td>257.81</td>\n",
       "    </tr>\n",
       "    <tr>\n",
       "      <td>13</td>\n",
       "      <td>PC</td>\n",
       "      <td>255.76</td>\n",
       "    </tr>\n",
       "    <tr>\n",
       "      <td>5</td>\n",
       "      <td>GB</td>\n",
       "      <td>254.43</td>\n",
       "    </tr>\n",
       "    <tr>\n",
       "      <td>29</td>\n",
       "      <td>XB</td>\n",
       "      <td>251.57</td>\n",
       "    </tr>\n",
       "    <tr>\n",
       "      <td>11</td>\n",
       "      <td>NES</td>\n",
       "      <td>251.05</td>\n",
       "    </tr>\n",
       "    <tr>\n",
       "      <td>10</td>\n",
       "      <td>N64</td>\n",
       "      <td>218.01</td>\n",
       "    </tr>\n",
       "    <tr>\n",
       "      <td>23</td>\n",
       "      <td>SNES</td>\n",
       "      <td>200.04</td>\n",
       "    </tr>\n",
       "    <tr>\n",
       "      <td>7</td>\n",
       "      <td>GC</td>\n",
       "      <td>196.73</td>\n",
       "    </tr>\n",
       "    <tr>\n",
       "      <td>30</td>\n",
       "      <td>XOne</td>\n",
       "      <td>159.32</td>\n",
       "    </tr>\n",
       "    <tr>\n",
       "      <td>0</td>\n",
       "      <td>2600</td>\n",
       "      <td>86.48</td>\n",
       "    </tr>\n",
       "    <tr>\n",
       "      <td>27</td>\n",
       "      <td>WiiU</td>\n",
       "      <td>82.19</td>\n",
       "    </tr>\n",
       "    <tr>\n",
       "      <td>20</td>\n",
       "      <td>PSV</td>\n",
       "      <td>53.81</td>\n",
       "    </tr>\n",
       "    <tr>\n",
       "      <td>21</td>\n",
       "      <td>SAT</td>\n",
       "      <td>33.59</td>\n",
       "    </tr>\n",
       "    <tr>\n",
       "      <td>8</td>\n",
       "      <td>GEN</td>\n",
       "      <td>28.35</td>\n",
       "    </tr>\n",
       "    <tr>\n",
       "      <td>3</td>\n",
       "      <td>DC</td>\n",
       "      <td>15.95</td>\n",
       "    </tr>\n",
       "    <tr>\n",
       "      <td>22</td>\n",
       "      <td>SCD</td>\n",
       "      <td>1.86</td>\n",
       "    </tr>\n",
       "    <tr>\n",
       "      <td>12</td>\n",
       "      <td>NG</td>\n",
       "      <td>1.44</td>\n",
       "    </tr>\n",
       "    <tr>\n",
       "      <td>25</td>\n",
       "      <td>WS</td>\n",
       "      <td>1.42</td>\n",
       "    </tr>\n",
       "    <tr>\n",
       "      <td>24</td>\n",
       "      <td>TG16</td>\n",
       "      <td>0.16</td>\n",
       "    </tr>\n",
       "    <tr>\n",
       "      <td>1</td>\n",
       "      <td>3DO</td>\n",
       "      <td>0.10</td>\n",
       "    </tr>\n",
       "    <tr>\n",
       "      <td>9</td>\n",
       "      <td>GG</td>\n",
       "      <td>0.04</td>\n",
       "    </tr>\n",
       "    <tr>\n",
       "      <td>14</td>\n",
       "      <td>PCFX</td>\n",
       "      <td>0.03</td>\n",
       "    </tr>\n",
       "  </tbody>\n",
       "</table>\n",
       "</div>"
      ],
      "text/plain": [
       "   platform      sum\n",
       "16      PS2  1233.56\n",
       "28     X360   961.24\n",
       "17      PS3   931.34\n",
       "26      Wii   891.18\n",
       "4        DS   802.78\n",
       "15       PS   727.58\n",
       "18      PS4   314.14\n",
       "6       GBA   312.88\n",
       "19      PSP   289.53\n",
       "2       3DS   257.81\n",
       "13       PC   255.76\n",
       "5        GB   254.43\n",
       "29       XB   251.57\n",
       "11      NES   251.05\n",
       "10      N64   218.01\n",
       "23     SNES   200.04\n",
       "7        GC   196.73\n",
       "30     XOne   159.32\n",
       "0      2600    86.48\n",
       "27     WiiU    82.19\n",
       "20      PSV    53.81\n",
       "21      SAT    33.59\n",
       "8       GEN    28.35\n",
       "3        DC    15.95\n",
       "22      SCD     1.86\n",
       "12       NG     1.44\n",
       "25       WS     1.42\n",
       "24     TG16     0.16\n",
       "1       3DO     0.10\n",
       "9        GG     0.04\n",
       "14     PCFX     0.03"
      ]
     },
     "metadata": {},
     "output_type": "display_data"
    },
    {
     "data": {
      "text/plain": [
       "16     PS2\n",
       "28    X360\n",
       "17     PS3\n",
       "26     Wii\n",
       "4       DS\n",
       "15      PS\n",
       "18     PS4\n",
       "6      GBA\n",
       "19     PSP\n",
       "2      3DS\n",
       "13      PC\n",
       "5       GB\n",
       "29      XB\n",
       "11     NES\n",
       "10     N64\n",
       "23    SNES\n",
       "7       GC\n",
       "30    XOne\n",
       "Name: platform, dtype: object"
      ]
     },
     "metadata": {},
     "output_type": "display_data"
    }
   ],
   "source": [
    " #сделаем группировку по платформам и суммарными продажам\n",
    "total_sales = data.groupby('platform')['total_sales'].agg(['sum']).reset_index().sort_values('sum', ascending=False)\n",
    "display(total_sales)\n",
    "\n",
    "top_sales = total_sales.query(\"sum > 100\") # сделаем срез с суммарными продажами больше 100 млн. \n",
    "#display(top_sales)\n",
    "top_sales_platforms = top_sales['platform'] # запишем series в переменную\n",
    "display(top_sales_platforms)\n"
   ]
  },
  {
   "cell_type": "code",
   "execution_count": 248,
   "metadata": {
    "scrolled": true
   },
   "outputs": [
    {
     "data": {
      "text/plain": [
       "Text(0.5, 1.0, 'Platform_sales')"
      ]
     },
     "execution_count": 248,
     "metadata": {},
     "output_type": "execute_result"
    },
    {
     "data": {
      "image/png": "[encoded data removed]",
      "text/plain": [
       "<Figure size 864x360 with 1 Axes>"
      ]
     },
     "metadata": {
      "needs_background": "light"
     },
     "output_type": "display_data"
    }
   ],
   "source": [
    "#выше мы определили платформы с суммарными продажами больше 100 млн. теперь построим распределение по годам \n",
    "platform_sales = data.query('platform in @top_sales_platforms'\n",
    ").pivot_table(index = 'year_of_release',  columns = 'platform', values = 'total_sales', aggfunc ='sum')\n",
    "#display(platform_sales) #сделаем сводную таблицу и построим график \n",
    "\n",
    "platform_sales.plot(grid =True,figsize = (12,5));\n",
    "\n",
    "\n",
    "plt.xlabel('year_of_release')\n",
    "plt.ylabel('total_sales')\n",
    "plt.title('Platform_sales')\n"
   ]
  },
  {
   "cell_type": "markdown",
   "metadata": {},
   "source": [
    "Теперь определим в течении какого срока появляются новые и исчезают старые платформы."
   ]
  },
  {
   "cell_type": "code",
   "execution_count": 249,
   "metadata": {},
   "outputs": [
    {
     "name": "stdout",
     "output_type": "stream",
     "text": [
      "Средний срок существования платформы: years    10.277778\n",
      "dtype: float64\n"
     ]
    }
   ],
   "source": [
    "platform_lifetime = data.query('platform in @top_sales_platforms'\n",
    ").pivot_table (index = ['platform', 'year_of_release'], values = 'total_sales', aggfunc = 'sum')\n",
    "#display(platform_lifetime)\n",
    "platform_lifetime = platform_lifetime.pivot_table (index = 'platform', values = 'total_sales', aggfunc = 'count')\n",
    "platform_lifetime.columns = ['years']\n",
    "print ('Средний срок существования платформы:', platform_lifetime.mean())"
   ]
  },
  {
   "cell_type": "markdown",
   "metadata": {},
   "source": [
    "**Возьмите данные за соответствующий актуальный период. Актуальный период определите самостоятельно в результате исследования предыдущих вопросов. Основной фактор — эти данные помогут построить прогноз на 2017 год.\n",
    "Не учитывайте в работе данные за предыдущие годы**\n",
    "\n",
    "**Какие платформы лидируют по продажам, растут или падают? Выберите несколько потенциально прибыльных платформ**\n",
    "\n",
    "Исходя из нашего анализа - актуальным периодом будет 2013-2016 г включительно, по нему будем проводить дальнейшие исследования и проверять гипотезы. "
   ]
  },
  {
   "cell_type": "code",
   "execution_count": 250,
   "metadata": {},
   "outputs": [
    {
     "data": {
      "text/html": [
       "<div>\n",
       "<style scoped>\n",
       "    .dataframe tbody tr th:only-of-type {\n",
       "        vertical-align: middle;\n",
       "    }\n",
       "\n",
       "    .dataframe tbody tr th {\n",
       "        vertical-align: top;\n",
       "    }\n",
       "\n",
       "    .dataframe thead th {\n",
       "        text-align: right;\n",
       "    }\n",
       "</style>\n",
       "<table border=\"1\" class=\"dataframe\">\n",
       "  <thead>\n",
       "    <tr style=\"text-align: right;\">\n",
       "      <th>platform</th>\n",
       "      <th>3DS</th>\n",
       "      <th>DS</th>\n",
       "      <th>PC</th>\n",
       "      <th>PS3</th>\n",
       "      <th>PS4</th>\n",
       "      <th>PSP</th>\n",
       "      <th>Wii</th>\n",
       "      <th>X360</th>\n",
       "      <th>XOne</th>\n",
       "    </tr>\n",
       "    <tr>\n",
       "      <th>year_of_release</th>\n",
       "      <th></th>\n",
       "      <th></th>\n",
       "      <th></th>\n",
       "      <th></th>\n",
       "      <th></th>\n",
       "      <th></th>\n",
       "      <th></th>\n",
       "      <th></th>\n",
       "      <th></th>\n",
       "    </tr>\n",
       "  </thead>\n",
       "  <tbody>\n",
       "    <tr>\n",
       "      <td>2013</td>\n",
       "      <td>56.57</td>\n",
       "      <td>1.54</td>\n",
       "      <td>12.38</td>\n",
       "      <td>113.25</td>\n",
       "      <td>25.99</td>\n",
       "      <td>3.14</td>\n",
       "      <td>8.59</td>\n",
       "      <td>88.58</td>\n",
       "      <td>18.96</td>\n",
       "    </tr>\n",
       "    <tr>\n",
       "      <td>2014</td>\n",
       "      <td>43.76</td>\n",
       "      <td>NaN</td>\n",
       "      <td>13.28</td>\n",
       "      <td>47.76</td>\n",
       "      <td>100.00</td>\n",
       "      <td>0.24</td>\n",
       "      <td>3.75</td>\n",
       "      <td>34.74</td>\n",
       "      <td>54.07</td>\n",
       "    </tr>\n",
       "    <tr>\n",
       "      <td>2015</td>\n",
       "      <td>27.78</td>\n",
       "      <td>NaN</td>\n",
       "      <td>8.52</td>\n",
       "      <td>16.82</td>\n",
       "      <td>118.90</td>\n",
       "      <td>0.12</td>\n",
       "      <td>1.14</td>\n",
       "      <td>11.96</td>\n",
       "      <td>60.14</td>\n",
       "    </tr>\n",
       "    <tr>\n",
       "      <td>2016</td>\n",
       "      <td>15.14</td>\n",
       "      <td>NaN</td>\n",
       "      <td>5.25</td>\n",
       "      <td>3.60</td>\n",
       "      <td>69.25</td>\n",
       "      <td>NaN</td>\n",
       "      <td>0.18</td>\n",
       "      <td>1.52</td>\n",
       "      <td>26.15</td>\n",
       "    </tr>\n",
       "  </tbody>\n",
       "</table>\n",
       "</div>"
      ],
      "text/plain": [
       "platform           3DS    DS     PC     PS3     PS4   PSP   Wii   X360   XOne\n",
       "year_of_release                                                              \n",
       "2013             56.57  1.54  12.38  113.25   25.99  3.14  8.59  88.58  18.96\n",
       "2014             43.76   NaN  13.28   47.76  100.00  0.24  3.75  34.74  54.07\n",
       "2015             27.78   NaN   8.52   16.82  118.90  0.12  1.14  11.96  60.14\n",
       "2016             15.14   NaN   5.25    3.60   69.25   NaN  0.18   1.52  26.15"
      ]
     },
     "metadata": {},
     "output_type": "display_data"
    },
    {
     "data": {
      "image/png": "[encoded data removed]",
      "text/plain": [
       "<Figure size 720x360 with 1 Axes>"
      ]
     },
     "metadata": {
      "needs_background": "light"
     },
     "output_type": "display_data"
    }
   ],
   "source": [
    " #выведем на экран таблицу с платформами начиная с 2013 по 2016 г.\n",
    "platform_sales = data.query('platform in @top_sales_platforms and year_of_release > 2012'\n",
    ").pivot_table(index = 'year_of_release',  columns = 'platform', values = 'total_sales', aggfunc ='sum')\n",
    "display(platform_sales)\n",
    "platform_sales.plot(grid =True,figsize = (10,5), linewidth = 3)\n",
    "\n",
    "plt.ylim(0,150)\n",
    "plt.xlim(2013,2016)\n",
    "plt.xlabel('year_of_release')\n",
    "plt.ylabel('total_sales')\n",
    "plt.title('Platform_sales')\n",
    "plt.show()"
   ]
  },
  {
   "cell_type": "markdown",
   "metadata": {},
   "source": [
    "На графике можно увидеть, что в основном срок жизни большинства платформ подошел к концу в 2016 году, из относительно новых можно выделить только XOne и PS4 и 3DS, но и по ним продажи идут на спад. Если рассматривать весь промежуток начиная с 2013 г, то лидером была PS4, далее следуют платформа PS3, XOne, X360 и 3DS. Компьютерные игры не приносили большой прибыли, однако за 2016 год прибыль по ним была больше чем, по  X360 и PS3.\n",
    "Если мы строим прогноз на 2017 год я бы выделила три платформы как потенциально прибыльные за 2016 год PS4, PS3, XOne. \n"
   ]
  },
  {
   "cell_type": "markdown",
   "metadata": {},
   "source": [
    "**Постройте график «ящик с усами» по глобальным продажам игр в разбивке по платформам. Опишите результат**"
   ]
  },
  {
   "cell_type": "code",
   "execution_count": 251,
   "metadata": {},
   "outputs": [
    {
     "data": {
      "text/html": [
       "<div>\n",
       "<style scoped>\n",
       "    .dataframe tbody tr th:only-of-type {\n",
       "        vertical-align: middle;\n",
       "    }\n",
       "\n",
       "    .dataframe tbody tr th {\n",
       "        vertical-align: top;\n",
       "    }\n",
       "\n",
       "    .dataframe thead th {\n",
       "        text-align: right;\n",
       "    }\n",
       "</style>\n",
       "<table border=\"1\" class=\"dataframe\">\n",
       "  <thead>\n",
       "    <tr style=\"text-align: right;\">\n",
       "      <th></th>\n",
       "      <th>name</th>\n",
       "      <th>platform</th>\n",
       "      <th>year_of_release</th>\n",
       "      <th>genre</th>\n",
       "      <th>na_sales</th>\n",
       "      <th>eu_sales</th>\n",
       "      <th>jp_sales</th>\n",
       "      <th>other_sales</th>\n",
       "      <th>critic_score</th>\n",
       "      <th>user_score</th>\n",
       "      <th>rating</th>\n",
       "      <th>total_sales</th>\n",
       "    </tr>\n",
       "  </thead>\n",
       "  <tbody>\n",
       "    <tr>\n",
       "      <td>16</td>\n",
       "      <td>Grand Theft Auto V</td>\n",
       "      <td>PS3</td>\n",
       "      <td>2013</td>\n",
       "      <td>Action</td>\n",
       "      <td>7.02</td>\n",
       "      <td>9.09</td>\n",
       "      <td>0.98</td>\n",
       "      <td>3.96</td>\n",
       "      <td>97.0</td>\n",
       "      <td>8.2</td>\n",
       "      <td>M</td>\n",
       "      <td>21.05</td>\n",
       "    </tr>\n",
       "    <tr>\n",
       "      <td>23</td>\n",
       "      <td>Grand Theft Auto V</td>\n",
       "      <td>X360</td>\n",
       "      <td>2013</td>\n",
       "      <td>Action</td>\n",
       "      <td>9.66</td>\n",
       "      <td>5.14</td>\n",
       "      <td>0.06</td>\n",
       "      <td>1.41</td>\n",
       "      <td>97.0</td>\n",
       "      <td>8.1</td>\n",
       "      <td>M</td>\n",
       "      <td>16.27</td>\n",
       "    </tr>\n",
       "    <tr>\n",
       "      <td>31</td>\n",
       "      <td>Call of Duty: Black Ops 3</td>\n",
       "      <td>PS4</td>\n",
       "      <td>2015</td>\n",
       "      <td>Shooter</td>\n",
       "      <td>6.03</td>\n",
       "      <td>5.86</td>\n",
       "      <td>0.36</td>\n",
       "      <td>2.38</td>\n",
       "      <td>NaN</td>\n",
       "      <td>NaN</td>\n",
       "      <td>NaN</td>\n",
       "      <td>14.63</td>\n",
       "    </tr>\n",
       "    <tr>\n",
       "      <td>33</td>\n",
       "      <td>Pokemon X/Pokemon Y</td>\n",
       "      <td>3DS</td>\n",
       "      <td>2013</td>\n",
       "      <td>Role-Playing</td>\n",
       "      <td>5.28</td>\n",
       "      <td>4.19</td>\n",
       "      <td>4.35</td>\n",
       "      <td>0.78</td>\n",
       "      <td>NaN</td>\n",
       "      <td>NaN</td>\n",
       "      <td>NaN</td>\n",
       "      <td>14.60</td>\n",
       "    </tr>\n",
       "    <tr>\n",
       "      <td>42</td>\n",
       "      <td>Grand Theft Auto V</td>\n",
       "      <td>PS4</td>\n",
       "      <td>2014</td>\n",
       "      <td>Action</td>\n",
       "      <td>3.96</td>\n",
       "      <td>6.31</td>\n",
       "      <td>0.38</td>\n",
       "      <td>1.97</td>\n",
       "      <td>97.0</td>\n",
       "      <td>8.3</td>\n",
       "      <td>M</td>\n",
       "      <td>12.62</td>\n",
       "    </tr>\n",
       "    <tr>\n",
       "      <td>...</td>\n",
       "      <td>...</td>\n",
       "      <td>...</td>\n",
       "      <td>...</td>\n",
       "      <td>...</td>\n",
       "      <td>...</td>\n",
       "      <td>...</td>\n",
       "      <td>...</td>\n",
       "      <td>...</td>\n",
       "      <td>...</td>\n",
       "      <td>...</td>\n",
       "      <td>...</td>\n",
       "      <td>...</td>\n",
       "    </tr>\n",
       "    <tr>\n",
       "      <td>16677</td>\n",
       "      <td>Aikatsu Stars! My Special Appeal</td>\n",
       "      <td>3DS</td>\n",
       "      <td>2016</td>\n",
       "      <td>Action</td>\n",
       "      <td>0.00</td>\n",
       "      <td>0.00</td>\n",
       "      <td>0.01</td>\n",
       "      <td>0.00</td>\n",
       "      <td>NaN</td>\n",
       "      <td>NaN</td>\n",
       "      <td>NaN</td>\n",
       "      <td>0.01</td>\n",
       "    </tr>\n",
       "    <tr>\n",
       "      <td>16682</td>\n",
       "      <td>Grisaia no Kajitsu: La Fruit de la Grisaia</td>\n",
       "      <td>PSP</td>\n",
       "      <td>2013</td>\n",
       "      <td>Adventure</td>\n",
       "      <td>0.00</td>\n",
       "      <td>0.00</td>\n",
       "      <td>0.01</td>\n",
       "      <td>0.00</td>\n",
       "      <td>NaN</td>\n",
       "      <td>NaN</td>\n",
       "      <td>NaN</td>\n",
       "      <td>0.01</td>\n",
       "    </tr>\n",
       "    <tr>\n",
       "      <td>16691</td>\n",
       "      <td>Dynasty Warriors: Eiketsuden</td>\n",
       "      <td>PS3</td>\n",
       "      <td>2016</td>\n",
       "      <td>Action</td>\n",
       "      <td>0.00</td>\n",
       "      <td>0.00</td>\n",
       "      <td>0.01</td>\n",
       "      <td>0.00</td>\n",
       "      <td>NaN</td>\n",
       "      <td>NaN</td>\n",
       "      <td>NaN</td>\n",
       "      <td>0.01</td>\n",
       "    </tr>\n",
       "    <tr>\n",
       "      <td>16692</td>\n",
       "      <td>Metal Gear Solid V: Ground Zeroes</td>\n",
       "      <td>PC</td>\n",
       "      <td>2014</td>\n",
       "      <td>Action</td>\n",
       "      <td>0.00</td>\n",
       "      <td>0.01</td>\n",
       "      <td>0.00</td>\n",
       "      <td>0.00</td>\n",
       "      <td>80.0</td>\n",
       "      <td>7.6</td>\n",
       "      <td>M</td>\n",
       "      <td>0.01</td>\n",
       "    </tr>\n",
       "    <tr>\n",
       "      <td>16710</td>\n",
       "      <td>Samurai Warriors: Sanada Maru</td>\n",
       "      <td>PS3</td>\n",
       "      <td>2016</td>\n",
       "      <td>Action</td>\n",
       "      <td>0.00</td>\n",
       "      <td>0.00</td>\n",
       "      <td>0.01</td>\n",
       "      <td>0.00</td>\n",
       "      <td>NaN</td>\n",
       "      <td>NaN</td>\n",
       "      <td>NaN</td>\n",
       "      <td>0.01</td>\n",
       "    </tr>\n",
       "  </tbody>\n",
       "</table>\n",
       "<p>1760 rows × 12 columns</p>\n",
       "</div>"
      ],
      "text/plain": [
       "                                             name platform  year_of_release  \\\n",
       "16                             Grand Theft Auto V      PS3             2013   \n",
       "23                             Grand Theft Auto V     X360             2013   \n",
       "31                      Call of Duty: Black Ops 3      PS4             2015   \n",
       "33                            Pokemon X/Pokemon Y      3DS             2013   \n",
       "42                             Grand Theft Auto V      PS4             2014   \n",
       "...                                           ...      ...              ...   \n",
       "16677            Aikatsu Stars! My Special Appeal      3DS             2016   \n",
       "16682  Grisaia no Kajitsu: La Fruit de la Grisaia      PSP             2013   \n",
       "16691                Dynasty Warriors: Eiketsuden      PS3             2016   \n",
       "16692           Metal Gear Solid V: Ground Zeroes       PC             2014   \n",
       "16710               Samurai Warriors: Sanada Maru      PS3             2016   \n",
       "\n",
       "              genre  na_sales  eu_sales  jp_sales  other_sales  critic_score  \\\n",
       "16           Action      7.02      9.09      0.98         3.96          97.0   \n",
       "23           Action      9.66      5.14      0.06         1.41          97.0   \n",
       "31          Shooter      6.03      5.86      0.36         2.38           NaN   \n",
       "33     Role-Playing      5.28      4.19      4.35         0.78           NaN   \n",
       "42           Action      3.96      6.31      0.38         1.97          97.0   \n",
       "...             ...       ...       ...       ...          ...           ...   \n",
       "16677        Action      0.00      0.00      0.01         0.00           NaN   \n",
       "16682     Adventure      0.00      0.00      0.01         0.00           NaN   \n",
       "16691        Action      0.00      0.00      0.01         0.00           NaN   \n",
       "16692        Action      0.00      0.01      0.00         0.00          80.0   \n",
       "16710        Action      0.00      0.00      0.01         0.00           NaN   \n",
       "\n",
       "       user_score rating  total_sales  \n",
       "16            8.2      M        21.05  \n",
       "23            8.1      M        16.27  \n",
       "31            NaN    NaN        14.63  \n",
       "33            NaN    NaN        14.60  \n",
       "42            8.3      M        12.62  \n",
       "...           ...    ...          ...  \n",
       "16677         NaN    NaN         0.01  \n",
       "16682         NaN    NaN         0.01  \n",
       "16691         NaN    NaN         0.01  \n",
       "16692         7.6      M         0.01  \n",
       "16710         NaN    NaN         0.01  \n",
       "\n",
       "[1760 rows x 12 columns]"
      ]
     },
     "metadata": {},
     "output_type": "display_data"
    }
   ],
   "source": [
    " # запишем в переменную срез данных, с которым мы дальше будем работать.\n",
    "global_platform = data.query('platform in @top_sales_platforms and year_of_release > 2012')\n",
    "display(global_platform)\n",
    "\n"
   ]
  },
  {
   "cell_type": "code",
   "execution_count": 252,
   "metadata": {},
   "outputs": [
    {
     "name": "stderr",
     "output_type": "stream",
     "text": [
      "/opt/conda/lib/python3.7/site-packages/numpy/core/_asarray.py:83: VisibleDeprecationWarning: Creating an ndarray from ragged nested sequences (which is a list-or-tuple of lists-or-tuples-or ndarrays with different lengths or shapes) is deprecated. If you meant to do this, you must specify 'dtype=object' when creating the ndarray\n",
      "  return array(a, dtype, copy=False, order=order)\n"
     ]
    },
    {
     "data": {
      "text/plain": [
       "Text(0, 0.5, 'copies_sold')"
      ]
     },
     "execution_count": 252,
     "metadata": {},
     "output_type": "execute_result"
    },
    {
     "data": {
      "image/png": "[encoded data removed]",
      "text/plain": [
       "<Figure size 864x360 with 1 Axes>"
      ]
     },
     "metadata": {
      "needs_background": "light"
     },
     "output_type": "display_data"
    }
   ],
   "source": [
    "global_platform.boxplot(column = 'total_sales', by = 'platform',figsize = (12,5))\n",
    "plt.ylim(0,2)\n",
    "plt.xlabel('platform')\n",
    "plt.ylabel('copies_sold')\n"
   ]
  },
  {
   "cell_type": "markdown",
   "metadata": {},
   "source": [
    "на графике мы можем увидеть распределение продаж, самое большое количество игр продано для платформ PS4, X360 и XOne. Но X360 я бы не стала включать в список потенциально прибыльных, так как продаж в 2016 году по ней очень мало."
   ]
  },
  {
   "cell_type": "markdown",
   "metadata": {},
   "source": [
    "**Посмотрите, как влияют на продажи внутри одной популярной платформы отзывы пользователей и критиков. Постройте диаграмму рассеяния и посчитайте корреляцию между отзывами и продажами. Сформулируйте выводы**"
   ]
  },
  {
   "cell_type": "code",
   "execution_count": 253,
   "metadata": {},
   "outputs": [
    {
     "name": "stdout",
     "output_type": "stream",
     "text": [
      "platform 3DS\n",
      "Корреляция между total_sales and critic_score\n",
      "0.35705661422881035\n"
     ]
    },
    {
     "data": {
      "image/png": "[encoded data removed]",
      "text/plain": [
       "<Figure size 576x432 with 1 Axes>"
      ]
     },
     "metadata": {
      "needs_background": "light"
     },
     "output_type": "display_data"
    },
    {
     "name": "stdout",
     "output_type": "stream",
     "text": [
      "Корреляция между total_sales and user_score\n",
      "0.24150411773563016\n"
     ]
    },
    {
     "data": {
      "image/png": "[encoded data removed]",
      "text/plain": [
       "<Figure size 576x432 with 1 Axes>"
      ]
     },
     "metadata": {
      "needs_background": "light"
     },
     "output_type": "display_data"
    },
    {
     "name": "stdout",
     "output_type": "stream",
     "text": [
      "platform PS4\n",
      "Корреляция между total_sales and critic_score\n",
      "0.406567902061781\n"
     ]
    },
    {
     "data": {
      "image/png": "[encoded data removed]",
      "text/plain": [
       "<Figure size 576x432 with 1 Axes>"
      ]
     },
     "metadata": {
      "needs_background": "light"
     },
     "output_type": "display_data"
    },
    {
     "name": "stdout",
     "output_type": "stream",
     "text": [
      "Корреляция между total_sales and user_score\n",
      "-0.031957110204556376\n"
     ]
    },
    {
     "data": {
      "image/png": "[encoded data removed]",
      "text/plain": [
       "<Figure size 576x432 with 1 Axes>"
      ]
     },
     "metadata": {
      "needs_background": "light"
     },
     "output_type": "display_data"
    },
    {
     "name": "stdout",
     "output_type": "stream",
     "text": [
      "platform XOne\n",
      "Корреляция между total_sales and critic_score\n",
      "0.41699832800840175\n"
     ]
    },
    {
     "data": {
      "image/png": "[encoded data removed]",
      "text/plain": [
       "<Figure size 576x432 with 1 Axes>"
      ]
     },
     "metadata": {
      "needs_background": "light"
     },
     "output_type": "display_data"
    },
    {
     "name": "stdout",
     "output_type": "stream",
     "text": [
      "Корреляция между total_sales and user_score\n",
      "-0.06892505328279412\n"
     ]
    },
    {
     "data": {
      "image/png": "[encoded data removed]",
      "text/plain": [
       "<Figure size 576x432 with 1 Axes>"
      ]
     },
     "metadata": {
      "needs_background": "light"
     },
     "output_type": "display_data"
    },
    {
     "name": "stdout",
     "output_type": "stream",
     "text": [
      "platform PC\n",
      "Корреляция между total_sales and critic_score\n",
      "0.19603028294369382\n"
     ]
    },
    {
     "data": {
      "image/png": "[encoded data removed]",
      "text/plain": [
       "<Figure size 576x432 with 1 Axes>"
      ]
     },
     "metadata": {
      "needs_background": "light"
     },
     "output_type": "display_data"
    },
    {
     "name": "stdout",
     "output_type": "stream",
     "text": [
      "Корреляция между total_sales and user_score\n",
      "-0.09384186952476739\n"
     ]
    },
    {
     "data": {
      "image/png": "[encoded data removed]",
      "text/plain": [
       "<Figure size 576x432 with 1 Axes>"
      ]
     },
     "metadata": {
      "needs_background": "light"
     },
     "output_type": "display_data"
    },
    {
     "name": "stdout",
     "output_type": "stream",
     "text": [
      "platform PS3\n",
      "Корреляция между total_sales and critic_score\n",
      "0.3342853393371919\n"
     ]
    },
    {
     "data": {
      "image/png": "[encoded data removed]",
      "text/plain": [
       "<Figure size 576x432 with 1 Axes>"
      ]
     },
     "metadata": {
      "needs_background": "light"
     },
     "output_type": "display_data"
    },
    {
     "name": "stdout",
     "output_type": "stream",
     "text": [
      "Корреляция между total_sales and user_score\n",
      "0.0023944027357566925\n"
     ]
    },
    {
     "data": {
      "image/png": "[encoded data removed]",
      "text/plain": [
       "<Figure size 576x432 with 1 Axes>"
      ]
     },
     "metadata": {
      "needs_background": "light"
     },
     "output_type": "display_data"
    }
   ],
   "source": [
    "list_corr = ['critic_score', 'user_score'] # выделим пять популярных платформ на 2016 год и с помощью цикла сделаем расчет и построим диаграмму\n",
    "\n",
    "for target_platform in [\"3DS\", \"PS4\", \"XOne\", \"PC\", \"PS3\"]:\n",
    "    print(\"platform \" + target_platform)\n",
    "    platform_sales = global_platform.query('platform == @target_platform')\n",
    "    for column in list_corr:\n",
    "        print(\"Корреляция между \" + \"total_sales\" + \" and \" + column)\n",
    "        print(platform_sales['total_sales'].corr(platform_sales[column]))\n",
    "        platform_sales.plot(x=column, y='total_sales', kind='scatter', figsize=(8, 6), sharex=False, grid=True) \n",
    "        plt.show()"
   ]
  },
  {
   "cell_type": "markdown",
   "metadata": {},
   "source": [
    "Исходя из полученных данных можно сказать, что прямая взаимосвязь отсутствует между отзывами пользователей и продажами по всем пяти платформам, так как коэффициент Пирсона близок к нулю.\n",
    "В случае с отзывами критиков и продажами можно говорить о некоторой связи, однако не слишком сильной, линейной эту взаимосвязь назвать точно нельзя."
   ]
  },
  {
   "cell_type": "markdown",
   "metadata": {},
   "source": [
    "**Соотнесите выводы с продажами игр на других платформах**"
   ]
  },
  {
   "cell_type": "markdown",
   "metadata": {},
   "source": [
    "Если в топовых платформах мы не наблюдаем зависимости между продажами и отзвывами, то соответственно и на других платформах картина не поменяется."
   ]
  },
  {
   "cell_type": "markdown",
   "metadata": {},
   "source": [
    "**Посмотрите на общее распределение игр по жанрам. Что можно сказать о самых прибыльных жанрах? Выделяются ли жанры с высокими и низкими продажами?**"
   ]
  },
  {
   "cell_type": "code",
   "execution_count": 254,
   "metadata": {
    "scrolled": true
   },
   "outputs": [
    {
     "data": {
      "text/html": [
       "<div>\n",
       "<style scoped>\n",
       "    .dataframe tbody tr th:only-of-type {\n",
       "        vertical-align: middle;\n",
       "    }\n",
       "\n",
       "    .dataframe tbody tr th {\n",
       "        vertical-align: top;\n",
       "    }\n",
       "\n",
       "    .dataframe thead th {\n",
       "        text-align: right;\n",
       "    }\n",
       "</style>\n",
       "<table border=\"1\" class=\"dataframe\">\n",
       "  <thead>\n",
       "    <tr style=\"text-align: right;\">\n",
       "      <th></th>\n",
       "      <th>name</th>\n",
       "      <th>platform</th>\n",
       "      <th>year_of_release</th>\n",
       "      <th>genre</th>\n",
       "      <th>na_sales</th>\n",
       "      <th>eu_sales</th>\n",
       "      <th>jp_sales</th>\n",
       "      <th>other_sales</th>\n",
       "      <th>critic_score</th>\n",
       "      <th>user_score</th>\n",
       "      <th>rating</th>\n",
       "      <th>total_sales</th>\n",
       "    </tr>\n",
       "  </thead>\n",
       "  <tbody>\n",
       "    <tr>\n",
       "      <td>16</td>\n",
       "      <td>Grand Theft Auto V</td>\n",
       "      <td>PS3</td>\n",
       "      <td>2013</td>\n",
       "      <td>Action</td>\n",
       "      <td>7.02</td>\n",
       "      <td>9.09</td>\n",
       "      <td>0.98</td>\n",
       "      <td>3.96</td>\n",
       "      <td>97.0</td>\n",
       "      <td>8.2</td>\n",
       "      <td>M</td>\n",
       "      <td>21.05</td>\n",
       "    </tr>\n",
       "    <tr>\n",
       "      <td>23</td>\n",
       "      <td>Grand Theft Auto V</td>\n",
       "      <td>X360</td>\n",
       "      <td>2013</td>\n",
       "      <td>Action</td>\n",
       "      <td>9.66</td>\n",
       "      <td>5.14</td>\n",
       "      <td>0.06</td>\n",
       "      <td>1.41</td>\n",
       "      <td>97.0</td>\n",
       "      <td>8.1</td>\n",
       "      <td>M</td>\n",
       "      <td>16.27</td>\n",
       "    </tr>\n",
       "    <tr>\n",
       "      <td>31</td>\n",
       "      <td>Call of Duty: Black Ops 3</td>\n",
       "      <td>PS4</td>\n",
       "      <td>2015</td>\n",
       "      <td>Shooter</td>\n",
       "      <td>6.03</td>\n",
       "      <td>5.86</td>\n",
       "      <td>0.36</td>\n",
       "      <td>2.38</td>\n",
       "      <td>NaN</td>\n",
       "      <td>NaN</td>\n",
       "      <td>NaN</td>\n",
       "      <td>14.63</td>\n",
       "    </tr>\n",
       "    <tr>\n",
       "      <td>33</td>\n",
       "      <td>Pokemon X/Pokemon Y</td>\n",
       "      <td>3DS</td>\n",
       "      <td>2013</td>\n",
       "      <td>Role-Playing</td>\n",
       "      <td>5.28</td>\n",
       "      <td>4.19</td>\n",
       "      <td>4.35</td>\n",
       "      <td>0.78</td>\n",
       "      <td>NaN</td>\n",
       "      <td>NaN</td>\n",
       "      <td>NaN</td>\n",
       "      <td>14.60</td>\n",
       "    </tr>\n",
       "    <tr>\n",
       "      <td>42</td>\n",
       "      <td>Grand Theft Auto V</td>\n",
       "      <td>PS4</td>\n",
       "      <td>2014</td>\n",
       "      <td>Action</td>\n",
       "      <td>3.96</td>\n",
       "      <td>6.31</td>\n",
       "      <td>0.38</td>\n",
       "      <td>1.97</td>\n",
       "      <td>97.0</td>\n",
       "      <td>8.3</td>\n",
       "      <td>M</td>\n",
       "      <td>12.62</td>\n",
       "    </tr>\n",
       "    <tr>\n",
       "      <td>...</td>\n",
       "      <td>...</td>\n",
       "      <td>...</td>\n",
       "      <td>...</td>\n",
       "      <td>...</td>\n",
       "      <td>...</td>\n",
       "      <td>...</td>\n",
       "      <td>...</td>\n",
       "      <td>...</td>\n",
       "      <td>...</td>\n",
       "      <td>...</td>\n",
       "      <td>...</td>\n",
       "      <td>...</td>\n",
       "    </tr>\n",
       "    <tr>\n",
       "      <td>16677</td>\n",
       "      <td>Aikatsu Stars! My Special Appeal</td>\n",
       "      <td>3DS</td>\n",
       "      <td>2016</td>\n",
       "      <td>Action</td>\n",
       "      <td>0.00</td>\n",
       "      <td>0.00</td>\n",
       "      <td>0.01</td>\n",
       "      <td>0.00</td>\n",
       "      <td>NaN</td>\n",
       "      <td>NaN</td>\n",
       "      <td>NaN</td>\n",
       "      <td>0.01</td>\n",
       "    </tr>\n",
       "    <tr>\n",
       "      <td>16682</td>\n",
       "      <td>Grisaia no Kajitsu: La Fruit de la Grisaia</td>\n",
       "      <td>PSP</td>\n",
       "      <td>2013</td>\n",
       "      <td>Adventure</td>\n",
       "      <td>0.00</td>\n",
       "      <td>0.00</td>\n",
       "      <td>0.01</td>\n",
       "      <td>0.00</td>\n",
       "      <td>NaN</td>\n",
       "      <td>NaN</td>\n",
       "      <td>NaN</td>\n",
       "      <td>0.01</td>\n",
       "    </tr>\n",
       "    <tr>\n",
       "      <td>16691</td>\n",
       "      <td>Dynasty Warriors: Eiketsuden</td>\n",
       "      <td>PS3</td>\n",
       "      <td>2016</td>\n",
       "      <td>Action</td>\n",
       "      <td>0.00</td>\n",
       "      <td>0.00</td>\n",
       "      <td>0.01</td>\n",
       "      <td>0.00</td>\n",
       "      <td>NaN</td>\n",
       "      <td>NaN</td>\n",
       "      <td>NaN</td>\n",
       "      <td>0.01</td>\n",
       "    </tr>\n",
       "    <tr>\n",
       "      <td>16692</td>\n",
       "      <td>Metal Gear Solid V: Ground Zeroes</td>\n",
       "      <td>PC</td>\n",
       "      <td>2014</td>\n",
       "      <td>Action</td>\n",
       "      <td>0.00</td>\n",
       "      <td>0.01</td>\n",
       "      <td>0.00</td>\n",
       "      <td>0.00</td>\n",
       "      <td>80.0</td>\n",
       "      <td>7.6</td>\n",
       "      <td>M</td>\n",
       "      <td>0.01</td>\n",
       "    </tr>\n",
       "    <tr>\n",
       "      <td>16710</td>\n",
       "      <td>Samurai Warriors: Sanada Maru</td>\n",
       "      <td>PS3</td>\n",
       "      <td>2016</td>\n",
       "      <td>Action</td>\n",
       "      <td>0.00</td>\n",
       "      <td>0.00</td>\n",
       "      <td>0.01</td>\n",
       "      <td>0.00</td>\n",
       "      <td>NaN</td>\n",
       "      <td>NaN</td>\n",
       "      <td>NaN</td>\n",
       "      <td>0.01</td>\n",
       "    </tr>\n",
       "  </tbody>\n",
       "</table>\n",
       "<p>1760 rows × 12 columns</p>\n",
       "</div>"
      ],
      "text/plain": [
       "                                             name platform  year_of_release  \\\n",
       "16                             Grand Theft Auto V      PS3             2013   \n",
       "23                             Grand Theft Auto V     X360             2013   \n",
       "31                      Call of Duty: Black Ops 3      PS4             2015   \n",
       "33                            Pokemon X/Pokemon Y      3DS             2013   \n",
       "42                             Grand Theft Auto V      PS4             2014   \n",
       "...                                           ...      ...              ...   \n",
       "16677            Aikatsu Stars! My Special Appeal      3DS             2016   \n",
       "16682  Grisaia no Kajitsu: La Fruit de la Grisaia      PSP             2013   \n",
       "16691                Dynasty Warriors: Eiketsuden      PS3             2016   \n",
       "16692           Metal Gear Solid V: Ground Zeroes       PC             2014   \n",
       "16710               Samurai Warriors: Sanada Maru      PS3             2016   \n",
       "\n",
       "              genre  na_sales  eu_sales  jp_sales  other_sales  critic_score  \\\n",
       "16           Action      7.02      9.09      0.98         3.96          97.0   \n",
       "23           Action      9.66      5.14      0.06         1.41          97.0   \n",
       "31          Shooter      6.03      5.86      0.36         2.38           NaN   \n",
       "33     Role-Playing      5.28      4.19      4.35         0.78           NaN   \n",
       "42           Action      3.96      6.31      0.38         1.97          97.0   \n",
       "...             ...       ...       ...       ...          ...           ...   \n",
       "16677        Action      0.00      0.00      0.01         0.00           NaN   \n",
       "16682     Adventure      0.00      0.00      0.01         0.00           NaN   \n",
       "16691        Action      0.00      0.00      0.01         0.00           NaN   \n",
       "16692        Action      0.00      0.01      0.00         0.00          80.0   \n",
       "16710        Action      0.00      0.00      0.01         0.00           NaN   \n",
       "\n",
       "       user_score rating  total_sales  \n",
       "16            8.2      M        21.05  \n",
       "23            8.1      M        16.27  \n",
       "31            NaN    NaN        14.63  \n",
       "33            NaN    NaN        14.60  \n",
       "42            8.3      M        12.62  \n",
       "...           ...    ...          ...  \n",
       "16677         NaN    NaN         0.01  \n",
       "16682         NaN    NaN         0.01  \n",
       "16691         NaN    NaN         0.01  \n",
       "16692         7.6      M         0.01  \n",
       "16710         NaN    NaN         0.01  \n",
       "\n",
       "[1760 rows x 12 columns]"
      ]
     },
     "metadata": {},
     "output_type": "display_data"
    }
   ],
   "source": [
    "display(global_platform)"
   ]
  },
  {
   "cell_type": "markdown",
   "metadata": {},
   "source": [
    "Посмотрим на общее распределение игр по жанрам с помощью метода value_counts()"
   ]
  },
  {
   "cell_type": "code",
   "execution_count": 255,
   "metadata": {},
   "outputs": [
    {
     "data": {
      "text/plain": [
       "Action          593\n",
       "Role-Playing    209\n",
       "Sports          192\n",
       "Shooter         177\n",
       "Adventure       156\n",
       "Misc            118\n",
       "Racing           80\n",
       "Fighting         66\n",
       "Simulation       58\n",
       "Platform         53\n",
       "Strategy         47\n",
       "Puzzle           11\n",
       "Name: genre, dtype: int64"
      ]
     },
     "execution_count": 255,
     "metadata": {},
     "output_type": "execute_result"
    }
   ],
   "source": [
    "global_platform['genre'].value_counts()"
   ]
  },
  {
   "cell_type": "markdown",
   "metadata": {},
   "source": [
    "Итак, топ-3 жанра - это Action далее с большим отрывом идут Role-Playing и Sports. Теперь посмотрим какие жанры самые прибыльные.(хотя в данном случае нет как такового понятия денежная прибыль, мы говорим о млн.копий)"
   ]
  },
  {
   "cell_type": "code",
   "execution_count": 256,
   "metadata": {},
   "outputs": [
    {
     "name": "stdout",
     "output_type": "stream",
     "text": [
      "genre\n",
      "Action          297.40\n",
      "Shooter         226.06\n",
      "Sports          146.11\n",
      "Role-Playing    133.73\n",
      "Misc             51.59\n",
      "Racing           32.43\n",
      "Fighting         28.03\n",
      "Platform         25.89\n",
      "Simulation       21.51\n",
      "Adventure        20.02\n",
      "Strategy          8.51\n",
      "Puzzle            1.79\n",
      "Name: total_sales, dtype: float64\n"
     ]
    }
   ],
   "source": [
    "print(global_platform.groupby('genre')['total_sales'].sum().sort_values(ascending=False))"
   ]
  },
  {
   "cell_type": "markdown",
   "metadata": {},
   "source": [
    "Лидером остается Action, далее идут Shooter  и Sports, самые не востребованные это Strategy и Puzzle."
   ]
  },
  {
   "cell_type": "markdown",
   "metadata": {},
   "source": [
    "В шаге №3 мы провели достаточно большой исследовательский анализ, в результате чего определили актуальный период исходя из жизненного цикла платформ, посмотрели есть ли зависимость между отзывами пользователей и критиков и продажами внутри популярных платформ. А таже определили самые прибыльные жанры."
   ]
  },
  {
   "cell_type": "markdown",
   "metadata": {},
   "source": [
    "# Шаг 4. Составьте портрет пользователя каждого региона"
   ]
  },
  {
   "cell_type": "markdown",
   "metadata": {},
   "source": [
    "**Определите для пользователя каждого региона (NA, EU, JP):**  \n",
    "- Самые популярные платформы (топ-5). Опишите различия в долях продаж.  \n",
    "- Самые популярные жанры (топ-5). Поясните разницу.  \n",
    "- Влияет ли рейтинг ESRB на продажи в отдельном регионе?"
   ]
  },
  {
   "cell_type": "markdown",
   "metadata": {},
   "source": [
    "Определим популярные платформы для Северной Америки. Ранее мы уже определили топ-5 актуальных платформ, посмотрим на распределение по ним."
   ]
  },
  {
   "cell_type": "code",
   "execution_count": 257,
   "metadata": {
    "scrolled": true
   },
   "outputs": [
    {
     "data": {
      "text/plain": [
       "platform\n",
       "PS4     108.74\n",
       "XOne     93.12\n",
       "PS3      63.50\n",
       "3DS      38.20\n",
       "PC       11.11\n",
       "Name: na_sales, dtype: float64"
      ]
     },
     "metadata": {},
     "output_type": "display_data"
    },
    {
     "data": {
      "text/plain": [
       "<matplotlib.axes._subplots.AxesSubplot at 0x7f1caee939d0>"
      ]
     },
     "execution_count": 257,
     "metadata": {},
     "output_type": "execute_result"
    },
    {
     "data": {
      "image/png": "[encoded data removed]",
      "text/plain": [
       "<Figure size 720x720 with 1 Axes>"
      ]
     },
     "metadata": {},
     "output_type": "display_data"
    }
   ],
   "source": [
    "top_platforms = global_platform.query('platform in [\"3DS\", \"PS4\", \"XOne\", \"PC\", \"PS3\"]') #сделаем срез по самым топовым платформам и запишем в переменную\n",
    "display(top_platforms.groupby('platform')['na_sales'].sum().sort_values(ascending=False))\n",
    "\n",
    "top_platforms.groupby('platform')['na_sales'].sum().plot.pie(y = 'platform', figsize=(10, 10), autopct='%1.1f%%')\n"
   ]
  },
  {
   "cell_type": "markdown",
   "metadata": {},
   "source": [
    "Как мы видим из графика лидером является PS4, далее с небольшим отрывом идет XOne."
   ]
  },
  {
   "cell_type": "markdown",
   "metadata": {},
   "source": [
    "Посмотрим на популярные платформы в Европе"
   ]
  },
  {
   "cell_type": "code",
   "execution_count": 258,
   "metadata": {
    "scrolled": true
   },
   "outputs": [
    {
     "data": {
      "text/plain": [
       "platform\n",
       "PS4     141.09\n",
       "PS3      67.81\n",
       "XOne     51.59\n",
       "3DS      30.96\n",
       "PC       25.36\n",
       "Name: eu_sales, dtype: float64"
      ]
     },
     "metadata": {},
     "output_type": "display_data"
    },
    {
     "data": {
      "text/plain": [
       "<matplotlib.axes._subplots.AxesSubplot at 0x7f1cae65cd50>"
      ]
     },
     "execution_count": 258,
     "metadata": {},
     "output_type": "execute_result"
    },
    {
     "data": {
      "image/png": "[encoded data removed]",
      "text/plain": [
       "<Figure size 720x720 with 1 Axes>"
      ]
     },
     "metadata": {},
     "output_type": "display_data"
    }
   ],
   "source": [
    "display(top_platforms.groupby('platform')['eu_sales'].sum().sort_values(ascending=False))\n",
    "\n",
    "top_platforms.groupby('platform')['eu_sales'].sum().plot.pie(y = 'platform', figsize=(10, 10), autopct='%1.1f%%')"
   ]
  },
  {
   "cell_type": "markdown",
   "metadata": {},
   "source": [
    "В Европе уже другое распределение - лидером является PS4, с большим отрывом на втром месте PS3 и за ней уже XOne."
   ]
  },
  {
   "cell_type": "code",
   "execution_count": 259,
   "metadata": {
    "scrolled": true
   },
   "outputs": [
    {
     "data": {
      "text/plain": [
       "platform\n",
       "3DS     67.81\n",
       "PS3     23.35\n",
       "PS4     15.96\n",
       "XOne     0.34\n",
       "PC       0.00\n",
       "Name: jp_sales, dtype: float64"
      ]
     },
     "metadata": {},
     "output_type": "display_data"
    },
    {
     "data": {
      "text/plain": [
       "<matplotlib.axes._subplots.AxesSubplot at 0x7f1cae186b50>"
      ]
     },
     "execution_count": 259,
     "metadata": {},
     "output_type": "execute_result"
    },
    {
     "data": {
      "image/png": "[encoded data removed]",
      "text/plain": [
       "<Figure size 720x720 with 1 Axes>"
      ]
     },
     "metadata": {},
     "output_type": "display_data"
    }
   ],
   "source": [
    "display(top_platforms.groupby('platform')['jp_sales'].sum().sort_values(ascending=False))\n",
    "\n",
    "top_platforms.groupby('platform')['jp_sales'].sum().plot.pie(y = 'platform', figsize=(10, 10), autopct='%1.1f%%')"
   ]
  },
  {
   "cell_type": "markdown",
   "metadata": {},
   "source": [
    "На первом месте конечно же 3DS, затем следует PS3 и с небольшим отрывом PS4, компьютерные игры в Японии вообще не востребованы."
   ]
  },
  {
   "cell_type": "markdown",
   "metadata": {},
   "source": [
    "Определим самые популярные жанры топ-5. Группировать будем по жанру и по количеству проданных копий."
   ]
  },
  {
   "cell_type": "code",
   "execution_count": 260,
   "metadata": {},
   "outputs": [
    {
     "data": {
      "text/plain": [
       "genre\n",
       "Action          88.71\n",
       "Shooter         85.03\n",
       "Sports          48.12\n",
       "Role-Playing    41.38\n",
       "Misc            12.76\n",
       "Name: na_sales, dtype: float64"
      ]
     },
     "execution_count": 260,
     "metadata": {},
     "output_type": "execute_result"
    }
   ],
   "source": [
    "# для Америки\n",
    "top_platforms.groupby('genre')['na_sales'].sum().sort_values(ascending=False).head(5)\n"
   ]
  },
  {
   "cell_type": "code",
   "execution_count": 261,
   "metadata": {},
   "outputs": [
    {
     "data": {
      "text/plain": [
       "genre\n",
       "Action          93.57\n",
       "Shooter         75.79\n",
       "Sports          50.14\n",
       "Role-Playing    34.22\n",
       "Racing          16.37\n",
       "Name: eu_sales, dtype: float64"
      ]
     },
     "execution_count": 261,
     "metadata": {},
     "output_type": "execute_result"
    }
   ],
   "source": [
    "# для Европы\n",
    "top_platforms.groupby('genre')['eu_sales'].sum().sort_values(ascending=False).head(5)\n"
   ]
  },
  {
   "cell_type": "code",
   "execution_count": 262,
   "metadata": {},
   "outputs": [
    {
     "data": {
      "text/plain": [
       "genre\n",
       "Role-Playing    42.47\n",
       "Action          32.64\n",
       "Fighting         5.97\n",
       "Misc             4.93\n",
       "Shooter          4.79\n",
       "Name: jp_sales, dtype: float64"
      ]
     },
     "execution_count": 262,
     "metadata": {},
     "output_type": "execute_result"
    }
   ],
   "source": [
    "# для Японии\n",
    "top_platforms.groupby('genre')['jp_sales'].sum().sort_values(ascending=False).head(5)\n"
   ]
  },
  {
   "cell_type": "markdown",
   "metadata": {},
   "source": [
    "Вкусовые предпочтения в играх у американцев и европейцев отличаются от японских, наверное из-за разницы в менталите, другого объяснения нет. Японцы больше предпочитают ролевые игры, также в их топ-5 жанров входит Fighting, чего нет в топ -5 Американцев и Европейцев."
   ]
  },
  {
   "cell_type": "markdown",
   "metadata": {},
   "source": [
    "Посмотрим на влияние рейтинга ESRB на продажи.  Для этого построим boxplot у которого по х будут рейтинги, а по y - продажи, по такому графику можно будет оценить медианные продажи для каждого рейтинга."
   ]
  },
  {
   "cell_type": "code",
   "execution_count": 263,
   "metadata": {},
   "outputs": [
    {
     "name": "stderr",
     "output_type": "stream",
     "text": [
      "/opt/conda/lib/python3.7/site-packages/numpy/core/_asarray.py:83: VisibleDeprecationWarning: Creating an ndarray from ragged nested sequences (which is a list-or-tuple of lists-or-tuples-or ndarrays with different lengths or shapes) is deprecated. If you meant to do this, you must specify 'dtype=object' when creating the ndarray\n",
      "  return array(a, dtype, copy=False, order=order)\n"
     ]
    },
    {
     "data": {
      "text/plain": [
       "(0, 2)"
      ]
     },
     "execution_count": 263,
     "metadata": {},
     "output_type": "execute_result"
    },
    {
     "data": {
      "image/png": "[encoded data removed]",
      "text/plain": [
       "<Figure size 720x360 with 1 Axes>"
      ]
     },
     "metadata": {
      "needs_background": "light"
     },
     "output_type": "display_data"
    }
   ],
   "source": [
    "top_platforms.fillna(-1).boxplot(column = 'na_sales', by = 'rating',figsize = (10,5))\n",
    "plt.ylim(0,2)"
   ]
  },
  {
   "cell_type": "code",
   "execution_count": 264,
   "metadata": {},
   "outputs": [
    {
     "name": "stderr",
     "output_type": "stream",
     "text": [
      "/opt/conda/lib/python3.7/site-packages/numpy/core/_asarray.py:83: VisibleDeprecationWarning: Creating an ndarray from ragged nested sequences (which is a list-or-tuple of lists-or-tuples-or ndarrays with different lengths or shapes) is deprecated. If you meant to do this, you must specify 'dtype=object' when creating the ndarray\n",
      "  return array(a, dtype, copy=False, order=order)\n"
     ]
    },
    {
     "data": {
      "text/plain": [
       "(0, 1)"
      ]
     },
     "execution_count": 264,
     "metadata": {},
     "output_type": "execute_result"
    },
    {
     "data": {
      "image/png": "[encoded data removed]",
      "text/plain": [
       "<Figure size 720x360 with 1 Axes>"
      ]
     },
     "metadata": {
      "needs_background": "light"
     },
     "output_type": "display_data"
    }
   ],
   "source": [
    "top_platforms.fillna(-1).boxplot(column = 'eu_sales', by = 'rating',figsize = (10,5))\n",
    "plt.ylim(0,1)"
   ]
  },
  {
   "cell_type": "code",
   "execution_count": 265,
   "metadata": {},
   "outputs": [
    {
     "name": "stderr",
     "output_type": "stream",
     "text": [
      "/opt/conda/lib/python3.7/site-packages/numpy/core/_asarray.py:83: VisibleDeprecationWarning: Creating an ndarray from ragged nested sequences (which is a list-or-tuple of lists-or-tuples-or ndarrays with different lengths or shapes) is deprecated. If you meant to do this, you must specify 'dtype=object' when creating the ndarray\n",
      "  return array(a, dtype, copy=False, order=order)\n"
     ]
    },
    {
     "data": {
      "text/plain": [
       "(-0.5, 0.5)"
      ]
     },
     "execution_count": 265,
     "metadata": {},
     "output_type": "execute_result"
    },
    {
     "data": {
      "image/png": "[encoded data removed]",
      "text/plain": [
       "<Figure size 720x360 with 1 Axes>"
      ]
     },
     "metadata": {
      "needs_background": "light"
     },
     "output_type": "display_data"
    }
   ],
   "source": [
    "top_platforms.fillna(-1).boxplot(column = 'jp_sales', by = 'rating',figsize = (10,5))\n",
    "plt.ylim(-0.5,0.5)"
   ]
  },
  {
   "cell_type": "markdown",
   "metadata": {},
   "source": [
    "Сделаем выводы: Заполним пропуски в рейтинге на вымышленную категорию -1, чтобы можно было увидеть распределение на графике. В данной категории очень много выбросов во всех трех регионах, в Японии это лидирующая категория (игр без рейтингов), скорее всего это игры которые выпускаются только для Японского рынка. В Америке и Европе помимо востребованных игр без рейтинга  ESRB, также популярны игры в категории \"для взрослы\" и для \"подростков\"."
   ]
  },
  {
   "cell_type": "markdown",
   "metadata": {},
   "source": [
    "# Шаг 5. Проверьте гипотезы"
   ]
  },
  {
   "cell_type": "markdown",
   "metadata": {},
   "source": [
    "\n",
    "- Средние пользовательские рейтинги платформ Xbox One и PC одинаковые;   \n",
    "- Средние пользовательские рейтинги жанров Action (англ. «действие», экшен-игры) и Sports (англ. «спортивные соревнования») разные."
   ]
  },
  {
   "cell_type": "markdown",
   "metadata": {},
   "source": [
    "Перед тем как проверять гипотезы надо почистить данные от пропусков."
   ]
  },
  {
   "cell_type": "code",
   "execution_count": 267,
   "metadata": {},
   "outputs": [
    {
     "name": "stdout",
     "output_type": "stream",
     "text": [
      "<class 'pandas.core.frame.DataFrame'>\n",
      "Int64Index: 1476 entries, 16 to 16710\n",
      "Data columns (total 12 columns):\n",
      "name               1476 non-null object\n",
      "platform           1476 non-null object\n",
      "year_of_release    1476 non-null int64\n",
      "genre              1476 non-null object\n",
      "na_sales           1476 non-null float64\n",
      "eu_sales           1476 non-null float64\n",
      "jp_sales           1476 non-null float64\n",
      "other_sales        1476 non-null float64\n",
      "critic_score       762 non-null float64\n",
      "user_score         860 non-null float64\n",
      "rating             885 non-null object\n",
      "total_sales        1476 non-null float64\n",
      "dtypes: float64(7), int64(1), object(4)\n",
      "memory usage: 149.9+ KB\n"
     ]
    }
   ],
   "source": [
    "top_platforms.info()"
   ]
  },
  {
   "cell_type": "code",
   "execution_count": 268,
   "metadata": {},
   "outputs": [
    {
     "name": "stderr",
     "output_type": "stream",
     "text": [
      "/opt/conda/lib/python3.7/site-packages/ipykernel_launcher.py:1: SettingWithCopyWarning: \n",
      "A value is trying to be set on a copy of a slice from a DataFrame\n",
      "\n",
      "See the caveats in the documentation: http://pandas.pydata.org/pandas-docs/stable/user_guide/indexing.html#returning-a-view-versus-a-copy\n",
      "  \"\"\"Entry point for launching an IPython kernel.\n"
     ]
    },
    {
     "data": {
      "text/plain": [
       "0"
      ]
     },
     "execution_count": 268,
     "metadata": {},
     "output_type": "execute_result"
    }
   ],
   "source": [
    "\n",
    "top_platforms.dropna(subset = ['user_score'], inplace=True)\n",
    "top_platforms['user_score'].isna().sum()"
   ]
  },
  {
   "cell_type": "markdown",
   "metadata": {},
   "source": [
    "Проверяем первую исследовательскую гипотезу: Средние пользовательские рейтинги платформ Xbox One и PC одинаковые. Она трансформируется в две статистические гипотезы: \n",
    "- Н0: Средние пользовательские рейтинги платформ Xbox One и PC равны  \n",
    "- Н1: Средние пользовательские рейтинги платформ Xbox One и PC не равны  \n",
    "Проведем t-тест, используя метод scipy.stats.ttest_ind (array1, array2,equal_var)  "
   ]
  },
  {
   "cell_type": "code",
   "execution_count": 269,
   "metadata": {},
   "outputs": [],
   "source": [
    "Xbox_One = top_platforms[top_platforms['platform'] == \"XOne\"]['user_score'] \n",
    "PC = top_platforms[top_platforms['platform'] == \"PC\"]['user_score']\n"
   ]
  },
  {
   "cell_type": "code",
   "execution_count": 270,
   "metadata": {},
   "outputs": [
    {
     "name": "stdout",
     "output_type": "stream",
     "text": [
      "p-значение:  0.14759594013430463\n",
      "Не получилось отвергнуть нулевую гипотезу\n"
     ]
    }
   ],
   "source": [
    "alpha = .05 # критический уровень статистической значимости\n",
    "# если p-value окажется меньше него - отвергнем гипотезу\n",
    "\n",
    "results = st.ttest_ind(\n",
    "    Xbox_One, \n",
    "    PC, equal_var=False)\n",
    "print('p-значение: ', results.pvalue)\n",
    "\n",
    "if results.pvalue < alpha:\n",
    "    print(\"Отвергаем нулевую гипотезу\")\n",
    "else:\n",
    "    print(\"Не получилось отвергнуть нулевую гипотезу\") "
   ]
  },
  {
   "cell_type": "markdown",
   "metadata": {},
   "source": [
    "Нулевую гипотезу не отвергаем, рейтинги платформ Xbox One и PC равны ."
   ]
  },
  {
   "cell_type": "markdown",
   "metadata": {},
   "source": [
    "Проверяем вторую исследовательскую гипотезу: Средние пользовательские рейтинги жанров Action (англ. «действие», экшен-игры) и Sports (англ. «спортивные соревнования») разные. Она трансформируется в две статистические гипотезы:  \n",
    "- Н0: Средние пользовательские рейтинги жанров Action и Sports равны\n",
    "- Н1: Средние пользовательские рейтинги жанров Action и Sports не равны  \n",
    "Проведем t-тест, используя метод scipy.stats.ttest_ind (array1, array2,equal_var)\n"
   ]
  },
  {
   "cell_type": "code",
   "execution_count": 271,
   "metadata": {},
   "outputs": [],
   "source": [
    "Action = top_platforms[top_platforms['genre'] == \"Action\"]['user_score']\n",
    "Sports = top_platforms[top_platforms['genre'] == \"Sports\"]['user_score']"
   ]
  },
  {
   "cell_type": "code",
   "execution_count": 272,
   "metadata": {},
   "outputs": [
    {
     "name": "stdout",
     "output_type": "stream",
     "text": [
      "p-значение:  9.700694840646563e-14\n",
      "Отвергаем нулевую гипотезу\n"
     ]
    }
   ],
   "source": [
    "alpha = .05 # критический уровень статистической значимости\n",
    "# если p-value окажется меньше него - отвергнем гипотезу\n",
    "\n",
    "results = st.ttest_ind(\n",
    "    Action, \n",
    "    Sports, equal_var=False)\n",
    "print('p-значение: ', results.pvalue)\n",
    "\n",
    "if results.pvalue < alpha:\n",
    "    print(\"Отвергаем нулевую гипотезу\")\n",
    "else:\n",
    "    print(\"Не получилось отвергнуть нулевую гипотезу\") "
   ]
  },
  {
   "cell_type": "markdown",
   "metadata": {},
   "source": [
    "Средние пользовательские рейтинги жанров  разные."
   ]
  },
  {
   "cell_type": "markdown",
   "metadata": {},
   "source": [
    "# Шаг 6. Напишите общий вывод"
   ]
  },
  {
   "cell_type": "markdown",
   "metadata": {},
   "source": [
    "В заключении хотелось бы сказать, что была проведена большая работа в области анализа данных на основе информации из открытых источников  о продажах игр, оценки пользователей и экспертов, жанров и платформ (например, Xbox или PlayStation). Целью которой было -  выявить определяющие успешность игры закономерности.  \n",
    "На этапе проведения исследовательского анализа мы выделили актуальный период (2013-2016 год включительно), по которому в дальнейшем провели весь анализ и проверили гипотезы. В результате анализа мы определили популярные платформы, по которым можно строить прогноз на 2017 г. это \"3DS\", \"PS4\", \"XOne\", \"PC\", \"PS3\" они еще активны и по ним есть неплохие продажи, особенно среди них выделяется  \"PS4\".    \n",
    "Далее мы составили портрет пользователя для каждого из регионов NA, EU, JP, в результате чего определили, что пользователи из Японии сильно отличаются в предпочтениях в отличие от Американцев и Европейцев, как в выборе платформы , так и в выборе игрового жанра. Также на основе рейтинга ESRB мы определили наиболее востребованной категорией являются игры «Для взрослых».  \n",
    "В конце мы проверили две гипотезы и выявили, что средние пользовательские рейтинги платформ  Xbox One и PC равны, а вот средние пользовательские рейтинги жанров Action и Sports отличаются.  "
   ]
  },
  {
   "cell_type": "code",
   "execution_count": null,
   "metadata": {},
   "outputs": [],
   "source": []
  }
 ],
 "metadata": {
  "ExecuteTimeLog": [
   {
    "duration": 3883,
    "start_time": "2022-01-17T10:01:13.609Z"
   },
   {
    "duration": 85,
    "start_time": "2022-01-17T10:01:20.075Z"
   },
   {
    "duration": 8,
    "start_time": "2022-01-17T10:26:52.392Z"
   },
   {
    "duration": 31,
    "start_time": "2022-01-17T10:27:06.068Z"
   },
   {
    "duration": 320,
    "start_time": "2022-01-17T10:42:19.942Z"
   },
   {
    "duration": 31,
    "start_time": "2022-01-17T10:42:36.882Z"
   },
   {
    "duration": 71,
    "start_time": "2022-01-17T10:42:54.076Z"
   },
   {
    "duration": 119,
    "start_time": "2022-01-17T10:42:54.150Z"
   },
   {
    "duration": -4,
    "start_time": "2022-01-17T10:42:54.276Z"
   },
   {
    "duration": 29,
    "start_time": "2022-01-17T10:43:03.883Z"
   },
   {
    "duration": 6,
    "start_time": "2022-01-17T10:43:29.449Z"
   },
   {
    "duration": 273,
    "start_time": "2022-01-17T10:43:57.224Z"
   },
   {
    "duration": 273,
    "start_time": "2022-01-17T10:44:09.720Z"
   },
   {
    "duration": 268,
    "start_time": "2022-01-17T10:44:21.349Z"
   },
   {
    "duration": 301,
    "start_time": "2022-01-17T10:44:29.446Z"
   },
   {
    "duration": 74,
    "start_time": "2022-01-17T10:44:47.864Z"
   },
   {
    "duration": 6,
    "start_time": "2022-01-17T10:44:47.940Z"
   },
   {
    "duration": 95,
    "start_time": "2022-01-17T10:44:47.948Z"
   },
   {
    "duration": -4,
    "start_time": "2022-01-17T10:44:48.049Z"
   },
   {
    "duration": 8,
    "start_time": "2022-01-17T10:45:21.111Z"
   },
   {
    "duration": 266,
    "start_time": "2022-01-17T10:45:27.258Z"
   },
   {
    "duration": 261,
    "start_time": "2022-01-17T10:45:47.734Z"
   },
   {
    "duration": 387,
    "start_time": "2022-01-17T10:47:00.741Z"
   },
   {
    "duration": 75,
    "start_time": "2022-01-17T10:47:08.037Z"
   },
   {
    "duration": 6,
    "start_time": "2022-01-17T10:47:11.916Z"
   },
   {
    "duration": 6,
    "start_time": "2022-01-17T10:47:26.790Z"
   },
   {
    "duration": 262,
    "start_time": "2022-01-17T10:48:13.725Z"
   },
   {
    "duration": 73,
    "start_time": "2022-01-17T10:48:18.032Z"
   },
   {
    "duration": 18,
    "start_time": "2022-01-17T10:48:23.279Z"
   },
   {
    "duration": 7,
    "start_time": "2022-01-17T10:48:36.415Z"
   },
   {
    "duration": 29,
    "start_time": "2022-01-17T10:48:39.850Z"
   },
   {
    "duration": 7,
    "start_time": "2022-01-17T10:50:40.381Z"
   },
   {
    "duration": 11,
    "start_time": "2022-01-17T10:54:22.414Z"
   },
   {
    "duration": 26,
    "start_time": "2022-01-17T11:10:57.843Z"
   },
   {
    "duration": 7,
    "start_time": "2022-01-17T11:11:03.813Z"
   },
   {
    "duration": 290,
    "start_time": "2022-01-17T11:13:58.590Z"
   },
   {
    "duration": 279,
    "start_time": "2022-01-17T11:18:19.896Z"
   },
   {
    "duration": 290,
    "start_time": "2022-01-17T11:18:52.371Z"
   },
   {
    "duration": 342,
    "start_time": "2022-01-17T11:18:55.410Z"
   },
   {
    "duration": 74,
    "start_time": "2022-01-17T11:19:06.470Z"
   },
   {
    "duration": 6,
    "start_time": "2022-01-17T11:19:06.547Z"
   },
   {
    "duration": 276,
    "start_time": "2022-01-17T11:19:10.354Z"
   },
   {
    "duration": 8,
    "start_time": "2022-01-17T11:26:01.209Z"
   },
   {
    "duration": 6,
    "start_time": "2022-01-17T11:26:10.173Z"
   },
   {
    "duration": 376,
    "start_time": "2022-01-17T11:30:05.385Z"
   },
   {
    "duration": 36,
    "start_time": "2022-01-17T11:33:02.690Z"
   },
   {
    "duration": 6,
    "start_time": "2022-01-17T11:37:17.252Z"
   },
   {
    "duration": 106,
    "start_time": "2022-01-17T12:01:59.599Z"
   },
   {
    "duration": 78,
    "start_time": "2022-01-17T12:02:35.857Z"
   },
   {
    "duration": 85,
    "start_time": "2022-01-17T12:02:45.713Z"
   },
   {
    "duration": 6,
    "start_time": "2022-01-17T12:02:45.801Z"
   },
   {
    "duration": 7,
    "start_time": "2022-01-17T12:02:45.810Z"
   },
   {
    "duration": 15,
    "start_time": "2022-01-17T12:02:45.820Z"
   },
   {
    "duration": 97,
    "start_time": "2022-01-17T12:02:45.837Z"
   },
   {
    "duration": 97,
    "start_time": "2022-01-17T12:02:53.101Z"
   },
   {
    "duration": 89,
    "start_time": "2022-01-17T12:02:58.512Z"
   },
   {
    "duration": 7,
    "start_time": "2022-01-17T12:02:58.604Z"
   },
   {
    "duration": 10,
    "start_time": "2022-01-17T12:02:58.614Z"
   },
   {
    "duration": 18,
    "start_time": "2022-01-17T12:02:58.627Z"
   },
   {
    "duration": 106,
    "start_time": "2022-01-17T12:02:58.672Z"
   },
   {
    "duration": 110,
    "start_time": "2022-01-17T12:03:01.744Z"
   },
   {
    "duration": 164,
    "start_time": "2022-01-17T12:03:33.221Z"
   },
   {
    "duration": 109,
    "start_time": "2022-01-17T12:03:41.593Z"
   },
   {
    "duration": 92,
    "start_time": "2022-01-17T12:05:17.495Z"
   },
   {
    "duration": 77,
    "start_time": "2022-01-17T12:05:52.818Z"
   },
   {
    "duration": 100,
    "start_time": "2022-01-17T12:06:01.437Z"
   },
   {
    "duration": 140,
    "start_time": "2022-01-17T12:39:12.952Z"
   },
   {
    "duration": 100,
    "start_time": "2022-01-17T12:39:23.031Z"
   },
   {
    "duration": 94,
    "start_time": "2022-01-17T12:39:35.061Z"
   },
   {
    "duration": 107,
    "start_time": "2022-01-17T12:39:51.889Z"
   },
   {
    "duration": 9928,
    "start_time": "2022-01-17T12:39:58.246Z"
   },
   {
    "duration": 5,
    "start_time": "2022-01-17T12:41:36.296Z"
   },
   {
    "duration": 8662,
    "start_time": "2022-01-17T12:41:39.992Z"
   },
   {
    "duration": 293,
    "start_time": "2022-01-17T12:44:15.202Z"
   },
   {
    "duration": 38,
    "start_time": "2022-01-17T12:44:37.562Z"
   },
   {
    "duration": 82,
    "start_time": "2022-01-17T12:44:50.293Z"
   },
   {
    "duration": 30,
    "start_time": "2022-01-17T12:44:50.378Z"
   },
   {
    "duration": 13,
    "start_time": "2022-01-17T12:44:50.411Z"
   },
   {
    "duration": 17,
    "start_time": "2022-01-17T12:44:50.427Z"
   },
   {
    "duration": 12,
    "start_time": "2022-01-17T12:44:50.467Z"
   },
   {
    "duration": 8,
    "start_time": "2022-01-17T12:44:50.481Z"
   },
   {
    "duration": 949,
    "start_time": "2022-01-17T12:44:50.491Z"
   },
   {
    "duration": 12,
    "start_time": "2022-01-17T12:44:55.017Z"
   },
   {
    "duration": 18,
    "start_time": "2022-01-17T12:45:34.433Z"
   },
   {
    "duration": 4,
    "start_time": "2022-01-17T12:45:36.765Z"
   },
   {
    "duration": 893,
    "start_time": "2022-01-17T12:45:48.799Z"
   },
   {
    "duration": 17,
    "start_time": "2022-01-17T12:46:58.668Z"
   },
   {
    "duration": 18,
    "start_time": "2022-01-17T12:47:02.979Z"
   },
   {
    "duration": 4,
    "start_time": "2022-01-17T12:47:04.810Z"
   },
   {
    "duration": 904,
    "start_time": "2022-01-17T12:47:06.780Z"
   },
   {
    "duration": 76,
    "start_time": "2022-01-17T12:52:05.804Z"
   },
   {
    "duration": 29,
    "start_time": "2022-01-17T12:52:05.883Z"
   },
   {
    "duration": 17,
    "start_time": "2022-01-17T12:52:05.915Z"
   },
   {
    "duration": 37,
    "start_time": "2022-01-17T12:52:05.935Z"
   },
   {
    "duration": 28,
    "start_time": "2022-01-17T12:52:05.974Z"
   },
   {
    "duration": 4,
    "start_time": "2022-01-17T12:52:06.005Z"
   },
   {
    "duration": 870,
    "start_time": "2022-01-17T12:52:06.011Z"
   },
   {
    "duration": 26,
    "start_time": "2022-01-17T12:54:17.549Z"
   },
   {
    "duration": 9,
    "start_time": "2022-01-17T12:54:50.726Z"
   },
   {
    "duration": 308,
    "start_time": "2022-01-17T12:56:53.043Z"
   },
   {
    "duration": 288,
    "start_time": "2022-01-17T12:57:25.938Z"
   },
   {
    "duration": 317,
    "start_time": "2022-01-17T12:57:41.358Z"
   },
   {
    "duration": 10,
    "start_time": "2022-01-17T12:57:47.208Z"
   },
   {
    "duration": 8,
    "start_time": "2022-01-17T12:59:06.892Z"
   },
   {
    "duration": 305,
    "start_time": "2022-01-17T13:05:48.089Z"
   },
   {
    "duration": 9,
    "start_time": "2022-01-17T13:06:02.717Z"
   },
   {
    "duration": 9,
    "start_time": "2022-01-17T13:07:32.659Z"
   },
   {
    "duration": 12,
    "start_time": "2022-01-17T13:10:27.849Z"
   },
   {
    "duration": 36,
    "start_time": "2022-01-17T13:11:32.940Z"
   },
   {
    "duration": 4,
    "start_time": "2022-01-17T13:11:36.315Z"
   },
   {
    "duration": 1168,
    "start_time": "2022-01-17T13:11:38.053Z"
   },
   {
    "duration": 11,
    "start_time": "2022-01-17T13:12:07.233Z"
   },
   {
    "duration": 101,
    "start_time": "2022-01-17T21:32:42.266Z"
   },
   {
    "duration": 331,
    "start_time": "2022-01-17T21:34:11.834Z"
   },
   {
    "duration": 1439,
    "start_time": "2022-01-17T21:34:22.274Z"
   },
   {
    "duration": 48,
    "start_time": "2022-01-17T21:34:23.717Z"
   },
   {
    "duration": 18,
    "start_time": "2022-01-17T21:34:26.595Z"
   },
   {
    "duration": 25,
    "start_time": "2022-01-17T21:34:50.226Z"
   },
   {
    "duration": 7,
    "start_time": "2022-01-17T21:38:56.717Z"
   },
   {
    "duration": 77,
    "start_time": "2022-01-17T21:38:58.996Z"
   },
   {
    "duration": 29,
    "start_time": "2022-01-17T21:38:59.076Z"
   },
   {
    "duration": 7,
    "start_time": "2022-01-17T21:38:59.109Z"
   },
   {
    "duration": 49,
    "start_time": "2022-01-17T21:38:59.119Z"
   },
   {
    "duration": 38,
    "start_time": "2022-01-17T21:38:59.171Z"
   },
   {
    "duration": 15,
    "start_time": "2022-01-17T21:38:59.212Z"
   },
   {
    "duration": 37,
    "start_time": "2022-01-17T21:38:59.230Z"
   },
   {
    "duration": 976,
    "start_time": "2022-01-17T21:38:59.272Z"
   },
   {
    "duration": 23,
    "start_time": "2022-01-17T21:39:00.251Z"
   },
   {
    "duration": 31,
    "start_time": "2022-01-17T21:39:00.276Z"
   },
   {
    "duration": 282,
    "start_time": "2022-01-17T21:39:00.310Z"
   },
   {
    "duration": 17,
    "start_time": "2022-01-17T21:39:16.962Z"
   },
   {
    "duration": 85,
    "start_time": "2022-01-17T21:39:37.312Z"
   },
   {
    "duration": 30,
    "start_time": "2022-01-17T21:39:37.400Z"
   },
   {
    "duration": 46,
    "start_time": "2022-01-17T21:39:37.433Z"
   },
   {
    "duration": 18,
    "start_time": "2022-01-17T21:39:37.482Z"
   },
   {
    "duration": 19,
    "start_time": "2022-01-17T21:39:37.502Z"
   },
   {
    "duration": 3,
    "start_time": "2022-01-17T21:39:37.524Z"
   },
   {
    "duration": 775,
    "start_time": "2022-01-17T21:39:37.530Z"
   },
   {
    "duration": 8,
    "start_time": "2022-01-17T21:39:38.308Z"
   },
   {
    "duration": 15,
    "start_time": "2022-01-17T21:39:38.318Z"
   },
   {
    "duration": 95,
    "start_time": "2022-01-17T21:39:38.335Z"
   },
   {
    "duration": 14,
    "start_time": "2022-01-17T21:49:18.428Z"
   },
   {
    "duration": 12,
    "start_time": "2022-01-17T21:49:36.594Z"
   },
   {
    "duration": 17,
    "start_time": "2022-01-17T21:50:10.157Z"
   },
   {
    "duration": 27,
    "start_time": "2022-01-17T21:50:49.544Z"
   },
   {
    "duration": 21,
    "start_time": "2022-01-17T21:52:08.759Z"
   },
   {
    "duration": 6,
    "start_time": "2022-01-17T21:52:34.745Z"
   },
   {
    "duration": 466,
    "start_time": "2022-01-17T21:56:04.881Z"
   },
   {
    "duration": 290,
    "start_time": "2022-01-17T21:56:29.314Z"
   },
   {
    "duration": 11,
    "start_time": "2022-01-17T21:56:38.664Z"
   },
   {
    "duration": 96,
    "start_time": "2022-01-17T22:03:43.530Z"
   },
   {
    "duration": 23,
    "start_time": "2022-01-17T22:04:56.386Z"
   },
   {
    "duration": 346,
    "start_time": "2022-01-17T22:05:08.331Z"
   },
   {
    "duration": 26,
    "start_time": "2022-01-17T22:05:32.666Z"
   },
   {
    "duration": 32,
    "start_time": "2022-01-17T22:07:21.674Z"
   },
   {
    "duration": 683,
    "start_time": "2022-01-17T22:09:13.709Z"
   },
   {
    "duration": 620,
    "start_time": "2022-01-17T22:09:32.202Z"
   },
   {
    "duration": 666,
    "start_time": "2022-01-17T22:09:48.746Z"
   },
   {
    "duration": 8392,
    "start_time": "2022-01-17T22:10:48.220Z"
   },
   {
    "duration": 7890,
    "start_time": "2022-01-17T22:11:30.402Z"
   },
   {
    "duration": 16,
    "start_time": "2022-01-17T22:12:52.697Z"
   },
   {
    "duration": 9601,
    "start_time": "2022-01-17T22:13:16.316Z"
   },
   {
    "duration": 7915,
    "start_time": "2022-01-17T22:14:49.737Z"
   },
   {
    "duration": 7863,
    "start_time": "2022-01-17T22:17:01.836Z"
   },
   {
    "duration": 14,
    "start_time": "2022-01-17T22:18:25.835Z"
   },
   {
    "duration": 14,
    "start_time": "2022-01-17T22:18:54.567Z"
   },
   {
    "duration": 30,
    "start_time": "2022-01-17T22:19:07.492Z"
   },
   {
    "duration": 855,
    "start_time": "2022-01-17T22:19:20.034Z"
   },
   {
    "duration": 36,
    "start_time": "2022-01-17T22:19:36.304Z"
   },
   {
    "duration": 43,
    "start_time": "2022-01-17T22:19:51.390Z"
   },
   {
    "duration": 43,
    "start_time": "2022-01-17T22:21:06.358Z"
   },
   {
    "duration": 44,
    "start_time": "2022-01-17T22:21:25.488Z"
   },
   {
    "duration": 44,
    "start_time": "2022-01-17T22:21:42.347Z"
   },
   {
    "duration": 40,
    "start_time": "2022-01-17T22:21:55.525Z"
   },
   {
    "duration": 22,
    "start_time": "2022-01-17T22:26:27.143Z"
   },
   {
    "duration": 47,
    "start_time": "2022-01-17T22:26:49.891Z"
   },
   {
    "duration": 639,
    "start_time": "2022-01-17T22:27:51.714Z"
   },
   {
    "duration": 44,
    "start_time": "2022-01-17T22:28:05.921Z"
   },
   {
    "duration": 32,
    "start_time": "2022-01-17T22:29:52.906Z"
   },
   {
    "duration": 33,
    "start_time": "2022-01-17T22:30:20.277Z"
   },
   {
    "duration": 32,
    "start_time": "2022-01-17T22:31:11.035Z"
   },
   {
    "duration": 36,
    "start_time": "2022-01-17T22:35:53.862Z"
   },
   {
    "duration": 36,
    "start_time": "2022-01-17T22:49:03.585Z"
   },
   {
    "duration": 35,
    "start_time": "2022-01-17T22:50:50.834Z"
   },
   {
    "duration": 1153,
    "start_time": "2022-01-18T12:18:27.163Z"
   },
   {
    "duration": 21,
    "start_time": "2022-01-18T12:18:28.319Z"
   },
   {
    "duration": 7,
    "start_time": "2022-01-18T12:18:31.433Z"
   },
   {
    "duration": 1460,
    "start_time": "2022-01-18T12:19:06.633Z"
   },
   {
    "duration": 5,
    "start_time": "2022-01-18T12:19:34.156Z"
   },
   {
    "duration": 3481,
    "start_time": "2022-01-18T12:19:45.710Z"
   },
   {
    "duration": 3737,
    "start_time": "2022-01-18T12:19:57.494Z"
   },
   {
    "duration": 61,
    "start_time": "2022-01-18T12:20:03.175Z"
   },
   {
    "duration": 22,
    "start_time": "2022-01-18T12:20:03.239Z"
   },
   {
    "duration": 18,
    "start_time": "2022-01-18T12:20:03.264Z"
   },
   {
    "duration": 21325,
    "start_time": "2022-01-18T12:20:03.284Z"
   },
   {
    "duration": -866,
    "start_time": "2022-01-18T12:20:25.477Z"
   },
   {
    "duration": -867,
    "start_time": "2022-01-18T12:20:25.479Z"
   },
   {
    "duration": -867,
    "start_time": "2022-01-18T12:20:25.480Z"
   },
   {
    "duration": -866,
    "start_time": "2022-01-18T12:20:25.481Z"
   },
   {
    "duration": -866,
    "start_time": "2022-01-18T12:20:25.482Z"
   },
   {
    "duration": 4027,
    "start_time": "2022-01-18T12:20:40.141Z"
   },
   {
    "duration": 58,
    "start_time": "2022-01-18T12:20:56.002Z"
   },
   {
    "duration": 41,
    "start_time": "2022-01-18T12:20:59.994Z"
   },
   {
    "duration": 21,
    "start_time": "2022-01-18T12:21:02.992Z"
   },
   {
    "duration": 5,
    "start_time": "2022-01-18T12:21:12.474Z"
   },
   {
    "duration": 914,
    "start_time": "2022-01-18T12:21:41.096Z"
   },
   {
    "duration": 16,
    "start_time": "2022-01-18T12:21:50.253Z"
   },
   {
    "duration": 5,
    "start_time": "2022-01-18T12:21:53.247Z"
   },
   {
    "duration": 15,
    "start_time": "2022-01-18T12:21:58.898Z"
   },
   {
    "duration": 14,
    "start_time": "2022-01-18T12:22:17.449Z"
   },
   {
    "duration": 56,
    "start_time": "2022-01-18T12:22:23.706Z"
   },
   {
    "duration": 18,
    "start_time": "2022-01-18T12:22:23.764Z"
   },
   {
    "duration": 30,
    "start_time": "2022-01-18T12:22:27.446Z"
   },
   {
    "duration": 16,
    "start_time": "2022-01-18T12:22:29.855Z"
   },
   {
    "duration": 5,
    "start_time": "2022-01-18T12:22:32.223Z"
   },
   {
    "duration": 11,
    "start_time": "2022-01-18T12:22:49.581Z"
   },
   {
    "duration": 3,
    "start_time": "2022-01-18T12:22:52.075Z"
   },
   {
    "duration": 54,
    "start_time": "2022-01-18T12:22:57.519Z"
   },
   {
    "duration": 19,
    "start_time": "2022-01-18T12:22:57.575Z"
   },
   {
    "duration": 14,
    "start_time": "2022-01-18T12:22:57.597Z"
   },
   {
    "duration": 4,
    "start_time": "2022-01-18T12:22:57.614Z"
   },
   {
    "duration": 13,
    "start_time": "2022-01-18T12:22:57.620Z"
   },
   {
    "duration": 3,
    "start_time": "2022-01-18T12:22:57.634Z"
   },
   {
    "duration": 487,
    "start_time": "2022-01-18T12:22:57.639Z"
   },
   {
    "duration": 6,
    "start_time": "2022-01-18T12:22:58.128Z"
   },
   {
    "duration": 28,
    "start_time": "2022-01-18T12:22:58.135Z"
   },
   {
    "duration": 37,
    "start_time": "2022-01-18T12:24:37.127Z"
   },
   {
    "duration": 24,
    "start_time": "2022-01-18T12:25:07.450Z"
   },
   {
    "duration": 14,
    "start_time": "2022-01-18T12:25:58.629Z"
   },
   {
    "duration": 19,
    "start_time": "2022-01-18T12:26:12.636Z"
   },
   {
    "duration": 60,
    "start_time": "2022-01-18T12:46:24.359Z"
   },
   {
    "duration": 147,
    "start_time": "2022-01-18T12:47:07.128Z"
   },
   {
    "duration": 19,
    "start_time": "2022-01-18T12:47:29.978Z"
   },
   {
    "duration": 24,
    "start_time": "2022-01-18T12:47:45.361Z"
   },
   {
    "duration": 231,
    "start_time": "2022-01-18T12:54:07.519Z"
   },
   {
    "duration": 219,
    "start_time": "2022-01-18T12:55:06.774Z"
   },
   {
    "duration": 222,
    "start_time": "2022-01-18T12:55:19.188Z"
   },
   {
    "duration": 213,
    "start_time": "2022-01-18T12:55:27.281Z"
   },
   {
    "duration": 3,
    "start_time": "2022-01-18T12:56:18.190Z"
   },
   {
    "duration": 4,
    "start_time": "2022-01-18T12:56:28.557Z"
   },
   {
    "duration": 101,
    "start_time": "2022-01-18T12:57:11.238Z"
   },
   {
    "duration": 285,
    "start_time": "2022-01-18T12:57:18.322Z"
   },
   {
    "duration": 293,
    "start_time": "2022-01-18T12:57:45.481Z"
   },
   {
    "duration": 40,
    "start_time": "2022-01-18T13:01:03.380Z"
   },
   {
    "duration": 22,
    "start_time": "2022-01-18T13:01:46.214Z"
   },
   {
    "duration": 228,
    "start_time": "2022-01-18T13:01:59.834Z"
   },
   {
    "duration": 7321,
    "start_time": "2022-01-18T13:04:59.753Z"
   },
   {
    "duration": 414,
    "start_time": "2022-01-18T13:08:34.370Z"
   },
   {
    "duration": 236,
    "start_time": "2022-01-18T13:12:23.396Z"
   },
   {
    "duration": 541,
    "start_time": "2022-01-18T13:30:00.258Z"
   },
   {
    "duration": 302,
    "start_time": "2022-01-18T13:30:16.267Z"
   },
   {
    "duration": 279,
    "start_time": "2022-01-18T13:31:22.628Z"
   },
   {
    "duration": -827,
    "start_time": "2022-01-18T13:31:23.736Z"
   },
   {
    "duration": -841,
    "start_time": "2022-01-18T13:31:23.751Z"
   },
   {
    "duration": -840,
    "start_time": "2022-01-18T13:31:23.752Z"
   },
   {
    "duration": -840,
    "start_time": "2022-01-18T13:31:23.753Z"
   },
   {
    "duration": -840,
    "start_time": "2022-01-18T13:31:23.754Z"
   },
   {
    "duration": -841,
    "start_time": "2022-01-18T13:31:23.756Z"
   },
   {
    "duration": -841,
    "start_time": "2022-01-18T13:31:23.757Z"
   },
   {
    "duration": -840,
    "start_time": "2022-01-18T13:31:23.758Z"
   },
   {
    "duration": -841,
    "start_time": "2022-01-18T13:31:23.760Z"
   },
   {
    "duration": -841,
    "start_time": "2022-01-18T13:31:23.761Z"
   },
   {
    "duration": 289,
    "start_time": "2022-01-18T13:31:31.191Z"
   },
   {
    "duration": 262,
    "start_time": "2022-01-18T13:31:51.710Z"
   },
   {
    "duration": 373,
    "start_time": "2022-01-18T13:41:00.833Z"
   },
   {
    "duration": 7413,
    "start_time": "2022-01-18T13:41:12.802Z"
   },
   {
    "duration": 222,
    "start_time": "2022-01-18T13:41:38.080Z"
   },
   {
    "duration": 109,
    "start_time": "2022-01-18T13:50:24.610Z"
   },
   {
    "duration": 6615,
    "start_time": "2022-01-18T13:50:33.679Z"
   },
   {
    "duration": 20,
    "start_time": "2022-01-18T13:50:47.055Z"
   },
   {
    "duration": 58,
    "start_time": "2022-01-18T13:50:57.354Z"
   },
   {
    "duration": 21,
    "start_time": "2022-01-18T13:50:57.414Z"
   },
   {
    "duration": 16,
    "start_time": "2022-01-18T13:50:57.437Z"
   },
   {
    "duration": 5,
    "start_time": "2022-01-18T13:50:57.455Z"
   },
   {
    "duration": 43,
    "start_time": "2022-01-18T13:50:57.462Z"
   },
   {
    "duration": 4,
    "start_time": "2022-01-18T13:50:57.507Z"
   },
   {
    "duration": 476,
    "start_time": "2022-01-18T13:50:57.513Z"
   },
   {
    "duration": 11,
    "start_time": "2022-01-18T13:50:57.991Z"
   },
   {
    "duration": 21,
    "start_time": "2022-01-18T13:50:58.004Z"
   },
   {
    "duration": 6502,
    "start_time": "2022-01-18T13:50:58.027Z"
   },
   {
    "duration": -839,
    "start_time": "2022-01-18T13:51:05.371Z"
   },
   {
    "duration": 6444,
    "start_time": "2022-01-18T13:51:27.866Z"
   },
   {
    "duration": 6526,
    "start_time": "2022-01-18T13:51:45.214Z"
   },
   {
    "duration": 32,
    "start_time": "2022-01-18T13:52:18.473Z"
   },
   {
    "duration": 586,
    "start_time": "2022-01-18T13:53:31.922Z"
   },
   {
    "duration": 6517,
    "start_time": "2022-01-18T13:53:43.838Z"
   },
   {
    "duration": 194,
    "start_time": "2022-01-18T13:54:13.983Z"
   },
   {
    "duration": 687,
    "start_time": "2022-01-18T13:55:30.827Z"
   },
   {
    "duration": 243,
    "start_time": "2022-01-18T13:55:42.099Z"
   },
   {
    "duration": 375,
    "start_time": "2022-01-18T13:58:14.151Z"
   },
   {
    "duration": 558,
    "start_time": "2022-01-18T14:00:37.998Z"
   },
   {
    "duration": 282,
    "start_time": "2022-01-18T14:04:27.378Z"
   },
   {
    "duration": 277,
    "start_time": "2022-01-18T14:04:43.146Z"
   },
   {
    "duration": 86,
    "start_time": "2022-01-18T14:06:53.166Z"
   },
   {
    "duration": 281,
    "start_time": "2022-01-18T14:07:16.786Z"
   },
   {
    "duration": 307,
    "start_time": "2022-01-18T14:07:58.953Z"
   },
   {
    "duration": 389,
    "start_time": "2022-01-18T14:08:07.626Z"
   },
   {
    "duration": 302,
    "start_time": "2022-01-18T14:08:16.684Z"
   },
   {
    "duration": 334,
    "start_time": "2022-01-18T18:21:49.560Z"
   },
   {
    "duration": 1174,
    "start_time": "2022-01-18T18:21:58.737Z"
   },
   {
    "duration": 18,
    "start_time": "2022-01-18T18:21:59.913Z"
   },
   {
    "duration": 17,
    "start_time": "2022-01-18T18:21:59.933Z"
   },
   {
    "duration": 5,
    "start_time": "2022-01-18T18:21:59.951Z"
   },
   {
    "duration": 12,
    "start_time": "2022-01-18T18:21:59.957Z"
   },
   {
    "duration": 28,
    "start_time": "2022-01-18T18:21:59.971Z"
   },
   {
    "duration": 489,
    "start_time": "2022-01-18T18:22:00.001Z"
   },
   {
    "duration": 7,
    "start_time": "2022-01-18T18:22:00.493Z"
   },
   {
    "duration": 23,
    "start_time": "2022-01-18T18:22:00.502Z"
   },
   {
    "duration": 349,
    "start_time": "2022-01-18T18:22:00.527Z"
   },
   {
    "duration": 25,
    "start_time": "2022-01-18T18:22:00.878Z"
   },
   {
    "duration": 1547,
    "start_time": "2022-01-18T20:51:18.483Z"
   },
   {
    "duration": 43,
    "start_time": "2022-01-18T20:51:20.033Z"
   },
   {
    "duration": 20,
    "start_time": "2022-01-18T20:51:20.079Z"
   },
   {
    "duration": 6,
    "start_time": "2022-01-18T20:51:20.102Z"
   },
   {
    "duration": 18,
    "start_time": "2022-01-18T20:51:20.111Z"
   },
   {
    "duration": 42,
    "start_time": "2022-01-18T20:51:20.131Z"
   },
   {
    "duration": 902,
    "start_time": "2022-01-18T20:51:20.176Z"
   },
   {
    "duration": 9,
    "start_time": "2022-01-18T20:51:21.081Z"
   },
   {
    "duration": 34,
    "start_time": "2022-01-18T20:51:21.092Z"
   },
   {
    "duration": 495,
    "start_time": "2022-01-18T20:51:21.128Z"
   },
   {
    "duration": 358,
    "start_time": "2022-01-18T20:54:36.111Z"
   },
   {
    "duration": 455,
    "start_time": "2022-01-18T20:54:47.538Z"
   },
   {
    "duration": 1564,
    "start_time": "2022-01-19T09:45:46.717Z"
   },
   {
    "duration": 28,
    "start_time": "2022-01-19T09:45:48.284Z"
   },
   {
    "duration": 34,
    "start_time": "2022-01-19T09:45:48.315Z"
   },
   {
    "duration": 6,
    "start_time": "2022-01-19T09:45:48.352Z"
   },
   {
    "duration": 15,
    "start_time": "2022-01-19T09:45:48.361Z"
   },
   {
    "duration": 4,
    "start_time": "2022-01-19T09:45:48.379Z"
   },
   {
    "duration": 844,
    "start_time": "2022-01-19T09:45:48.385Z"
   },
   {
    "duration": 7,
    "start_time": "2022-01-19T09:45:49.234Z"
   },
   {
    "duration": 38,
    "start_time": "2022-01-19T09:45:49.244Z"
   },
   {
    "duration": 475,
    "start_time": "2022-01-19T09:45:49.285Z"
   },
   {
    "duration": 502,
    "start_time": "2022-01-19T10:23:45.114Z"
   },
   {
    "duration": 275,
    "start_time": "2022-01-19T10:24:03.755Z"
   },
   {
    "duration": 277,
    "start_time": "2022-01-19T10:24:45.282Z"
   },
   {
    "duration": 70,
    "start_time": "2022-01-19T10:24:49.680Z"
   },
   {
    "duration": 30,
    "start_time": "2022-01-19T10:24:52.275Z"
   },
   {
    "duration": 20,
    "start_time": "2022-01-19T10:24:55.557Z"
   },
   {
    "duration": 11,
    "start_time": "2022-01-19T10:24:58.241Z"
   },
   {
    "duration": 13,
    "start_time": "2022-01-19T10:25:23.346Z"
   },
   {
    "duration": 72,
    "start_time": "2022-01-19T10:26:59.274Z"
   },
   {
    "duration": 30,
    "start_time": "2022-01-19T10:26:59.348Z"
   },
   {
    "duration": 20,
    "start_time": "2022-01-19T10:26:59.381Z"
   },
   {
    "duration": 7,
    "start_time": "2022-01-19T10:26:59.432Z"
   },
   {
    "duration": 15,
    "start_time": "2022-01-19T10:26:59.441Z"
   },
   {
    "duration": 9,
    "start_time": "2022-01-19T10:26:59.459Z"
   },
   {
    "duration": 15,
    "start_time": "2022-01-19T10:26:59.470Z"
   },
   {
    "duration": 44,
    "start_time": "2022-01-19T10:26:59.488Z"
   },
   {
    "duration": 816,
    "start_time": "2022-01-19T10:26:59.535Z"
   },
   {
    "duration": 8,
    "start_time": "2022-01-19T10:27:00.353Z"
   },
   {
    "duration": 40,
    "start_time": "2022-01-19T10:27:00.363Z"
   },
   {
    "duration": 460,
    "start_time": "2022-01-19T10:27:00.406Z"
   },
   {
    "duration": 796,
    "start_time": "2022-01-19T10:29:20.452Z"
   },
   {
    "duration": 7,
    "start_time": "2022-01-19T10:29:55.208Z"
   },
   {
    "duration": 13,
    "start_time": "2022-01-19T10:29:57.975Z"
   },
   {
    "duration": 8,
    "start_time": "2022-01-19T10:30:01.553Z"
   },
   {
    "duration": 7,
    "start_time": "2022-01-19T10:30:04.274Z"
   },
   {
    "duration": 8,
    "start_time": "2022-01-19T10:30:23.102Z"
   },
   {
    "duration": 18,
    "start_time": "2022-01-19T10:33:20.456Z"
   },
   {
    "duration": 18,
    "start_time": "2022-01-19T10:33:23.128Z"
   },
   {
    "duration": 15,
    "start_time": "2022-01-19T10:34:20.632Z"
   },
   {
    "duration": 8,
    "start_time": "2022-01-19T10:35:14.503Z"
   },
   {
    "duration": 8,
    "start_time": "2022-01-19T10:35:17.209Z"
   },
   {
    "duration": 14,
    "start_time": "2022-01-19T10:35:18.789Z"
   },
   {
    "duration": 78,
    "start_time": "2022-01-19T10:35:21.581Z"
   },
   {
    "duration": 30,
    "start_time": "2022-01-19T10:35:21.661Z"
   },
   {
    "duration": 56,
    "start_time": "2022-01-19T10:35:21.694Z"
   },
   {
    "duration": 7,
    "start_time": "2022-01-19T10:35:21.753Z"
   },
   {
    "duration": 17,
    "start_time": "2022-01-19T10:35:21.763Z"
   },
   {
    "duration": 8,
    "start_time": "2022-01-19T10:35:21.783Z"
   },
   {
    "duration": 48,
    "start_time": "2022-01-19T10:35:21.793Z"
   },
   {
    "duration": 12,
    "start_time": "2022-01-19T10:35:21.846Z"
   },
   {
    "duration": 916,
    "start_time": "2022-01-19T10:35:21.861Z"
   },
   {
    "duration": 10,
    "start_time": "2022-01-19T10:35:22.779Z"
   },
   {
    "duration": 61,
    "start_time": "2022-01-19T10:35:22.792Z"
   },
   {
    "duration": 516,
    "start_time": "2022-01-19T10:35:22.857Z"
   },
   {
    "duration": 6,
    "start_time": "2022-01-19T10:36:04.008Z"
   },
   {
    "duration": 18,
    "start_time": "2022-01-19T10:36:04.830Z"
   },
   {
    "duration": 79,
    "start_time": "2022-01-19T10:36:09.609Z"
   },
   {
    "duration": 30,
    "start_time": "2022-01-19T10:36:15.701Z"
   },
   {
    "duration": 8,
    "start_time": "2022-01-19T10:36:23.291Z"
   },
   {
    "duration": 16,
    "start_time": "2022-01-19T10:36:25.420Z"
   },
   {
    "duration": 284,
    "start_time": "2022-01-19T10:36:46.284Z"
   },
   {
    "duration": 10,
    "start_time": "2022-01-19T10:37:36.186Z"
   },
   {
    "duration": 12,
    "start_time": "2022-01-19T10:37:38.418Z"
   },
   {
    "duration": 94,
    "start_time": "2022-01-19T10:41:32.916Z"
   },
   {
    "duration": 271,
    "start_time": "2022-01-19T10:41:39.608Z"
   },
   {
    "duration": 9,
    "start_time": "2022-01-19T10:43:18.834Z"
   },
   {
    "duration": 15,
    "start_time": "2022-01-19T10:43:23.159Z"
   },
   {
    "duration": 6,
    "start_time": "2022-01-19T10:44:10.153Z"
   },
   {
    "duration": 15,
    "start_time": "2022-01-19T10:44:11.474Z"
   },
   {
    "duration": 78,
    "start_time": "2022-01-19T10:44:14.708Z"
   },
   {
    "duration": 43,
    "start_time": "2022-01-19T10:44:14.789Z"
   },
   {
    "duration": 23,
    "start_time": "2022-01-19T10:44:14.839Z"
   },
   {
    "duration": 6,
    "start_time": "2022-01-19T10:44:14.864Z"
   },
   {
    "duration": 14,
    "start_time": "2022-01-19T10:44:14.873Z"
   },
   {
    "duration": 44,
    "start_time": "2022-01-19T10:44:14.889Z"
   },
   {
    "duration": 20,
    "start_time": "2022-01-19T10:44:14.936Z"
   },
   {
    "duration": 4,
    "start_time": "2022-01-19T10:44:14.960Z"
   },
   {
    "duration": 914,
    "start_time": "2022-01-19T10:44:14.967Z"
   },
   {
    "duration": 9,
    "start_time": "2022-01-19T10:44:15.884Z"
   },
   {
    "duration": 57,
    "start_time": "2022-01-19T10:44:15.896Z"
   },
   {
    "duration": 476,
    "start_time": "2022-01-19T10:44:15.956Z"
   },
   {
    "duration": 77,
    "start_time": "2022-01-19T10:44:27.476Z"
   },
   {
    "duration": 7253,
    "start_time": "2022-01-19T10:44:34.177Z"
   },
   {
    "duration": -16,
    "start_time": "2022-01-19T10:44:41.449Z"
   },
   {
    "duration": 78,
    "start_time": "2022-01-19T10:45:10.713Z"
   },
   {
    "duration": 6673,
    "start_time": "2022-01-19T10:45:14.583Z"
   },
   {
    "duration": -13,
    "start_time": "2022-01-19T10:45:21.271Z"
   },
   {
    "duration": 6840,
    "start_time": "2022-01-19T10:45:59.641Z"
   },
   {
    "duration": 76,
    "start_time": "2022-01-19T10:46:30.354Z"
   },
   {
    "duration": 35,
    "start_time": "2022-01-19T10:46:30.433Z"
   },
   {
    "duration": 28,
    "start_time": "2022-01-19T10:46:30.471Z"
   },
   {
    "duration": 32,
    "start_time": "2022-01-19T10:46:30.503Z"
   },
   {
    "duration": 16,
    "start_time": "2022-01-19T10:46:30.538Z"
   },
   {
    "duration": 20,
    "start_time": "2022-01-19T10:46:30.557Z"
   },
   {
    "duration": 28,
    "start_time": "2022-01-19T10:46:30.579Z"
   },
   {
    "duration": 24,
    "start_time": "2022-01-19T10:46:30.610Z"
   },
   {
    "duration": 890,
    "start_time": "2022-01-19T10:46:30.637Z"
   },
   {
    "duration": 12,
    "start_time": "2022-01-19T10:46:31.533Z"
   },
   {
    "duration": 36,
    "start_time": "2022-01-19T10:46:31.548Z"
   },
   {
    "duration": 482,
    "start_time": "2022-01-19T10:46:31.587Z"
   },
   {
    "duration": 867,
    "start_time": "2022-01-19T10:47:09.588Z"
   },
   {
    "duration": 1892,
    "start_time": "2022-01-19T10:49:33.326Z"
   },
   {
    "duration": 13,
    "start_time": "2022-01-19T10:49:58.000Z"
   },
   {
    "duration": 1787,
    "start_time": "2022-01-19T10:50:07.501Z"
   },
   {
    "duration": 9,
    "start_time": "2022-01-19T10:52:38.927Z"
   },
   {
    "duration": 14,
    "start_time": "2022-01-19T10:52:44.008Z"
   },
   {
    "duration": 78,
    "start_time": "2022-01-19T10:52:52.336Z"
   },
   {
    "duration": 41,
    "start_time": "2022-01-19T10:52:52.416Z"
   },
   {
    "duration": 27,
    "start_time": "2022-01-19T10:52:52.461Z"
   },
   {
    "duration": 7,
    "start_time": "2022-01-19T10:52:52.491Z"
   },
   {
    "duration": 43,
    "start_time": "2022-01-19T10:52:52.500Z"
   },
   {
    "duration": 11,
    "start_time": "2022-01-19T10:52:52.546Z"
   },
   {
    "duration": 16,
    "start_time": "2022-01-19T10:52:52.560Z"
   },
   {
    "duration": 4,
    "start_time": "2022-01-19T10:52:52.579Z"
   },
   {
    "duration": 950,
    "start_time": "2022-01-19T10:52:52.586Z"
   },
   {
    "duration": 10,
    "start_time": "2022-01-19T10:52:53.539Z"
   },
   {
    "duration": 32,
    "start_time": "2022-01-19T10:52:53.552Z"
   },
   {
    "duration": 479,
    "start_time": "2022-01-19T10:52:53.586Z"
   },
   {
    "duration": 73,
    "start_time": "2022-01-19T10:53:36.206Z"
   },
   {
    "duration": 29,
    "start_time": "2022-01-19T10:53:39.976Z"
   },
   {
    "duration": 11,
    "start_time": "2022-01-19T10:53:44.220Z"
   },
   {
    "duration": 15,
    "start_time": "2022-01-19T10:53:45.623Z"
   },
   {
    "duration": 9,
    "start_time": "2022-01-19T10:54:31.789Z"
   },
   {
    "duration": 13,
    "start_time": "2022-01-19T10:54:32.094Z"
   },
   {
    "duration": 101,
    "start_time": "2022-01-19T10:54:53.931Z"
   },
   {
    "duration": 44,
    "start_time": "2022-01-19T10:54:54.036Z"
   },
   {
    "duration": 50,
    "start_time": "2022-01-19T10:54:54.085Z"
   },
   {
    "duration": 6,
    "start_time": "2022-01-19T10:54:54.137Z"
   },
   {
    "duration": 20,
    "start_time": "2022-01-19T10:54:54.146Z"
   },
   {
    "duration": 87,
    "start_time": "2022-01-19T10:54:56.546Z"
   },
   {
    "duration": 29,
    "start_time": "2022-01-19T10:54:56.636Z"
   },
   {
    "duration": 25,
    "start_time": "2022-01-19T10:54:56.668Z"
   },
   {
    "duration": 35,
    "start_time": "2022-01-19T10:54:56.697Z"
   },
   {
    "duration": 16,
    "start_time": "2022-01-19T10:54:56.735Z"
   },
   {
    "duration": 10,
    "start_time": "2022-01-19T10:54:56.754Z"
   },
   {
    "duration": 16,
    "start_time": "2022-01-19T10:54:56.766Z"
   },
   {
    "duration": 4,
    "start_time": "2022-01-19T10:54:56.785Z"
   },
   {
    "duration": 870,
    "start_time": "2022-01-19T10:54:56.791Z"
   },
   {
    "duration": 10,
    "start_time": "2022-01-19T10:54:57.665Z"
   },
   {
    "duration": 58,
    "start_time": "2022-01-19T10:54:57.678Z"
   },
   {
    "duration": 470,
    "start_time": "2022-01-19T10:54:57.739Z"
   },
   {
    "duration": 73,
    "start_time": "2022-01-19T10:56:14.030Z"
   },
   {
    "duration": 37,
    "start_time": "2022-01-19T10:56:14.106Z"
   },
   {
    "duration": 26,
    "start_time": "2022-01-19T10:56:14.146Z"
   },
   {
    "duration": 6,
    "start_time": "2022-01-19T10:56:14.175Z"
   },
   {
    "duration": 50,
    "start_time": "2022-01-19T10:56:14.184Z"
   },
   {
    "duration": 11,
    "start_time": "2022-01-19T10:56:14.237Z"
   },
   {
    "duration": 19,
    "start_time": "2022-01-19T10:56:14.251Z"
   },
   {
    "duration": 4,
    "start_time": "2022-01-19T10:56:14.274Z"
   },
   {
    "duration": 832,
    "start_time": "2022-01-19T10:56:14.280Z"
   },
   {
    "duration": 20,
    "start_time": "2022-01-19T10:56:15.114Z"
   },
   {
    "duration": 107,
    "start_time": "2022-01-19T10:56:15.136Z"
   },
   {
    "duration": 459,
    "start_time": "2022-01-19T10:56:15.246Z"
   },
   {
    "duration": 266,
    "start_time": "2022-01-19T11:20:36.097Z"
   },
   {
    "duration": 294,
    "start_time": "2022-01-19T11:32:02.583Z"
   },
   {
    "duration": 243,
    "start_time": "2022-01-19T11:33:04.099Z"
   },
   {
    "duration": 73,
    "start_time": "2022-01-19T11:33:08.703Z"
   },
   {
    "duration": 30,
    "start_time": "2022-01-19T11:33:08.778Z"
   },
   {
    "duration": 33,
    "start_time": "2022-01-19T11:33:08.811Z"
   },
   {
    "duration": 7,
    "start_time": "2022-01-19T11:33:08.847Z"
   },
   {
    "duration": 23,
    "start_time": "2022-01-19T11:33:08.857Z"
   },
   {
    "duration": 11,
    "start_time": "2022-01-19T11:33:08.882Z"
   },
   {
    "duration": 51,
    "start_time": "2022-01-19T11:33:08.895Z"
   },
   {
    "duration": 4,
    "start_time": "2022-01-19T11:33:08.950Z"
   },
   {
    "duration": 881,
    "start_time": "2022-01-19T11:33:08.956Z"
   },
   {
    "duration": 10,
    "start_time": "2022-01-19T11:33:09.840Z"
   },
   {
    "duration": 32,
    "start_time": "2022-01-19T11:33:09.852Z"
   },
   {
    "duration": 571,
    "start_time": "2022-01-19T11:33:09.887Z"
   },
   {
    "duration": 88,
    "start_time": "2022-01-19T11:33:10.460Z"
   },
   {
    "duration": 12,
    "start_time": "2022-01-19T11:33:10.538Z"
   },
   {
    "duration": 272,
    "start_time": "2022-01-19T11:33:17.046Z"
   },
   {
    "duration": 297,
    "start_time": "2022-01-19T11:42:35.346Z"
   },
   {
    "duration": 289,
    "start_time": "2022-01-19T11:42:45.796Z"
   },
   {
    "duration": 459,
    "start_time": "2022-01-19T11:42:52.460Z"
   },
   {
    "duration": 272,
    "start_time": "2022-01-19T11:44:34.632Z"
   },
   {
    "duration": 24,
    "start_time": "2022-01-19T11:44:46.522Z"
   },
   {
    "duration": 32,
    "start_time": "2022-01-19T11:46:26.846Z"
   },
   {
    "duration": 435,
    "start_time": "2022-01-19T11:46:59.569Z"
   },
   {
    "duration": 36,
    "start_time": "2022-01-19T11:48:06.862Z"
   },
   {
    "duration": 291,
    "start_time": "2022-01-19T11:48:13.988Z"
   },
   {
    "duration": 319,
    "start_time": "2022-01-19T11:48:38.065Z"
   },
   {
    "duration": 371,
    "start_time": "2022-01-19T11:49:30.912Z"
   },
   {
    "duration": 253,
    "start_time": "2022-01-19T11:51:30.133Z"
   },
   {
    "duration": 32,
    "start_time": "2022-01-19T11:51:38.175Z"
   },
   {
    "duration": 7418,
    "start_time": "2022-01-19T11:55:26.214Z"
   },
   {
    "duration": 7702,
    "start_time": "2022-01-19T11:55:46.893Z"
   },
   {
    "duration": 39,
    "start_time": "2022-01-19T12:02:13.847Z"
   },
   {
    "duration": 271,
    "start_time": "2022-01-19T12:04:01.400Z"
   },
   {
    "duration": 461,
    "start_time": "2022-01-19T12:04:37.343Z"
   },
   {
    "duration": 292,
    "start_time": "2022-01-19T12:05:36.087Z"
   },
   {
    "duration": 316,
    "start_time": "2022-01-19T12:05:58.607Z"
   },
   {
    "duration": 37,
    "start_time": "2022-01-19T12:06:11.282Z"
   },
   {
    "duration": 32,
    "start_time": "2022-01-19T12:06:22.436Z"
   },
   {
    "duration": 260,
    "start_time": "2022-01-19T12:14:16.272Z"
   },
   {
    "duration": 1126,
    "start_time": "2022-01-19T12:14:39.612Z"
   },
   {
    "duration": 28,
    "start_time": "2022-01-19T12:15:16.420Z"
   },
   {
    "duration": 36,
    "start_time": "2022-01-19T12:40:47.361Z"
   },
   {
    "duration": 278,
    "start_time": "2022-01-19T12:43:37.576Z"
   },
   {
    "duration": 242,
    "start_time": "2022-01-19T12:43:44.574Z"
   },
   {
    "duration": 245,
    "start_time": "2022-01-19T12:43:51.266Z"
   },
   {
    "duration": 257,
    "start_time": "2022-01-19T12:43:59.042Z"
   },
   {
    "duration": 279,
    "start_time": "2022-01-19T12:44:05.754Z"
   },
   {
    "duration": 266,
    "start_time": "2022-01-19T12:44:14.599Z"
   },
   {
    "duration": 260,
    "start_time": "2022-01-19T12:44:22.097Z"
   },
   {
    "duration": 377,
    "start_time": "2022-01-19T12:44:37.612Z"
   },
   {
    "duration": 279,
    "start_time": "2022-01-19T12:44:45.019Z"
   },
   {
    "duration": 266,
    "start_time": "2022-01-19T12:44:53.157Z"
   },
   {
    "duration": 255,
    "start_time": "2022-01-19T12:44:57.431Z"
   },
   {
    "duration": 1157,
    "start_time": "2022-01-19T19:35:08.156Z"
   },
   {
    "duration": 19,
    "start_time": "2022-01-19T19:35:09.315Z"
   },
   {
    "duration": 16,
    "start_time": "2022-01-19T19:35:09.336Z"
   },
   {
    "duration": 5,
    "start_time": "2022-01-19T19:35:09.354Z"
   },
   {
    "duration": 38,
    "start_time": "2022-01-19T19:35:09.360Z"
   },
   {
    "duration": 9,
    "start_time": "2022-01-19T19:35:09.400Z"
   },
   {
    "duration": 13,
    "start_time": "2022-01-19T19:35:09.410Z"
   },
   {
    "duration": 13,
    "start_time": "2022-01-19T19:35:09.426Z"
   },
   {
    "duration": 473,
    "start_time": "2022-01-19T19:35:09.441Z"
   },
   {
    "duration": 6,
    "start_time": "2022-01-19T19:35:09.916Z"
   },
   {
    "duration": 39,
    "start_time": "2022-01-19T19:35:09.924Z"
   },
   {
    "duration": 360,
    "start_time": "2022-01-19T19:35:09.964Z"
   },
   {
    "duration": 21,
    "start_time": "2022-01-19T19:35:10.326Z"
   },
   {
    "duration": 54,
    "start_time": "2022-01-19T19:35:10.349Z"
   },
   {
    "duration": 194,
    "start_time": "2022-01-19T19:35:10.405Z"
   },
   {
    "duration": 20,
    "start_time": "2022-01-19T19:36:08.954Z"
   },
   {
    "duration": 61,
    "start_time": "2022-01-19T19:36:17.838Z"
   },
   {
    "duration": 20,
    "start_time": "2022-01-19T19:36:17.902Z"
   },
   {
    "duration": 16,
    "start_time": "2022-01-19T19:36:17.925Z"
   },
   {
    "duration": 4,
    "start_time": "2022-01-19T19:36:17.943Z"
   },
   {
    "duration": 15,
    "start_time": "2022-01-19T19:36:17.949Z"
   },
   {
    "duration": 37,
    "start_time": "2022-01-19T19:36:17.966Z"
   },
   {
    "duration": 11,
    "start_time": "2022-01-19T19:36:18.004Z"
   },
   {
    "duration": 2,
    "start_time": "2022-01-19T19:36:18.018Z"
   },
   {
    "duration": 485,
    "start_time": "2022-01-19T19:36:18.022Z"
   },
   {
    "duration": 7,
    "start_time": "2022-01-19T19:36:18.509Z"
   },
   {
    "duration": 26,
    "start_time": "2022-01-19T19:36:18.518Z"
   },
   {
    "duration": 443,
    "start_time": "2022-01-19T19:36:18.546Z"
   },
   {
    "duration": 23,
    "start_time": "2022-01-19T19:36:18.991Z"
   },
   {
    "duration": 37,
    "start_time": "2022-01-19T19:36:19.017Z"
   },
   {
    "duration": 201,
    "start_time": "2022-01-19T19:36:19.056Z"
   },
   {
    "duration": 427,
    "start_time": "2022-01-19T19:36:59.350Z"
   },
   {
    "duration": 401,
    "start_time": "2022-01-19T19:37:10.513Z"
   },
   {
    "duration": 468,
    "start_time": "2022-01-19T19:37:18.267Z"
   },
   {
    "duration": 20,
    "start_time": "2022-01-19T19:41:03.510Z"
   },
   {
    "duration": 58,
    "start_time": "2022-01-19T19:41:11.704Z"
   },
   {
    "duration": 22,
    "start_time": "2022-01-19T19:41:11.764Z"
   },
   {
    "duration": 38,
    "start_time": "2022-01-19T19:41:11.788Z"
   },
   {
    "duration": 8,
    "start_time": "2022-01-19T19:41:11.829Z"
   },
   {
    "duration": 42,
    "start_time": "2022-01-19T19:41:11.839Z"
   },
   {
    "duration": 27,
    "start_time": "2022-01-19T19:41:11.882Z"
   },
   {
    "duration": 26,
    "start_time": "2022-01-19T19:41:11.911Z"
   },
   {
    "duration": 20,
    "start_time": "2022-01-19T19:41:11.941Z"
   },
   {
    "duration": 495,
    "start_time": "2022-01-19T19:41:11.963Z"
   },
   {
    "duration": 7,
    "start_time": "2022-01-19T19:41:12.460Z"
   },
   {
    "duration": 36,
    "start_time": "2022-01-19T19:41:12.468Z"
   },
   {
    "duration": 406,
    "start_time": "2022-01-19T19:41:12.506Z"
   },
   {
    "duration": 21,
    "start_time": "2022-01-19T19:41:12.914Z"
   },
   {
    "duration": 32,
    "start_time": "2022-01-19T19:41:12.937Z"
   },
   {
    "duration": 202,
    "start_time": "2022-01-19T19:41:12.971Z"
   },
   {
    "duration": 21,
    "start_time": "2022-01-19T19:41:50.607Z"
   },
   {
    "duration": 56,
    "start_time": "2022-01-19T19:41:54.010Z"
   },
   {
    "duration": 28,
    "start_time": "2022-01-19T19:41:54.069Z"
   },
   {
    "duration": 17,
    "start_time": "2022-01-19T19:41:54.100Z"
   },
   {
    "duration": 10,
    "start_time": "2022-01-19T19:41:54.119Z"
   },
   {
    "duration": 31,
    "start_time": "2022-01-19T19:41:54.131Z"
   },
   {
    "duration": 28,
    "start_time": "2022-01-19T19:41:54.164Z"
   },
   {
    "duration": 18,
    "start_time": "2022-01-19T19:41:54.194Z"
   },
   {
    "duration": 11,
    "start_time": "2022-01-19T19:41:54.215Z"
   },
   {
    "duration": 484,
    "start_time": "2022-01-19T19:41:54.228Z"
   },
   {
    "duration": 5,
    "start_time": "2022-01-19T19:41:54.714Z"
   },
   {
    "duration": 41,
    "start_time": "2022-01-19T19:41:54.721Z"
   },
   {
    "duration": 320,
    "start_time": "2022-01-19T19:41:54.764Z"
   },
   {
    "duration": 28,
    "start_time": "2022-01-19T19:41:55.086Z"
   },
   {
    "duration": 37,
    "start_time": "2022-01-19T19:41:55.116Z"
   },
   {
    "duration": 193,
    "start_time": "2022-01-19T19:41:55.155Z"
   },
   {
    "duration": 24,
    "start_time": "2022-01-19T20:02:38.563Z"
   },
   {
    "duration": 186,
    "start_time": "2022-01-19T20:02:42.131Z"
   },
   {
    "duration": 211,
    "start_time": "2022-01-19T20:02:58.355Z"
   },
   {
    "duration": 209,
    "start_time": "2022-01-19T20:03:07.163Z"
   },
   {
    "duration": 196,
    "start_time": "2022-01-19T20:03:12.720Z"
   },
   {
    "duration": 190,
    "start_time": "2022-01-19T20:03:35.009Z"
   },
   {
    "duration": 311,
    "start_time": "2022-01-19T20:03:44.288Z"
   },
   {
    "duration": 272,
    "start_time": "2022-01-19T20:36:00.879Z"
   },
   {
    "duration": 56,
    "start_time": "2022-01-19T20:36:06.317Z"
   },
   {
    "duration": 19,
    "start_time": "2022-01-19T20:36:06.375Z"
   },
   {
    "duration": 19,
    "start_time": "2022-01-19T20:36:06.396Z"
   },
   {
    "duration": 6,
    "start_time": "2022-01-19T20:36:06.416Z"
   },
   {
    "duration": 16,
    "start_time": "2022-01-19T20:36:06.423Z"
   },
   {
    "duration": 8,
    "start_time": "2022-01-19T20:36:06.440Z"
   },
   {
    "duration": 17,
    "start_time": "2022-01-19T20:36:06.450Z"
   },
   {
    "duration": 18,
    "start_time": "2022-01-19T20:36:06.470Z"
   },
   {
    "duration": 462,
    "start_time": "2022-01-19T20:36:06.490Z"
   },
   {
    "duration": 6,
    "start_time": "2022-01-19T20:36:06.954Z"
   },
   {
    "duration": 38,
    "start_time": "2022-01-19T20:36:06.961Z"
   },
   {
    "duration": 345,
    "start_time": "2022-01-19T20:36:07.001Z"
   },
   {
    "duration": 23,
    "start_time": "2022-01-19T20:36:07.348Z"
   },
   {
    "duration": 39,
    "start_time": "2022-01-19T20:36:07.372Z"
   },
   {
    "duration": 208,
    "start_time": "2022-01-19T20:36:07.412Z"
   },
   {
    "duration": 176,
    "start_time": "2022-01-19T20:36:07.622Z"
   },
   {
    "duration": 6,
    "start_time": "2022-01-19T20:36:40.958Z"
   },
   {
    "duration": 11,
    "start_time": "2022-01-19T20:44:49.151Z"
   },
   {
    "duration": 609,
    "start_time": "2022-01-19T20:45:15.752Z"
   },
   {
    "duration": 1914,
    "start_time": "2022-01-19T20:48:00.666Z"
   },
   {
    "duration": 1938,
    "start_time": "2022-01-19T20:48:44.426Z"
   },
   {
    "duration": 184,
    "start_time": "2022-01-19T20:56:08.569Z"
   },
   {
    "duration": 184,
    "start_time": "2022-01-19T20:57:12.929Z"
   },
   {
    "duration": 1810,
    "start_time": "2022-01-19T20:57:34.695Z"
   },
   {
    "duration": 485,
    "start_time": "2022-01-19T20:57:54.846Z"
   },
   {
    "duration": 2025,
    "start_time": "2022-01-19T20:58:09.409Z"
   },
   {
    "duration": 6,
    "start_time": "2022-01-19T21:02:32.715Z"
   },
   {
    "duration": 19,
    "start_time": "2022-01-19T21:05:29.164Z"
   },
   {
    "duration": 55,
    "start_time": "2022-01-19T21:06:28.999Z"
   },
   {
    "duration": 18,
    "start_time": "2022-01-19T21:06:29.056Z"
   },
   {
    "duration": 45,
    "start_time": "2022-01-19T21:06:29.077Z"
   },
   {
    "duration": 25,
    "start_time": "2022-01-19T21:06:29.123Z"
   },
   {
    "duration": 36,
    "start_time": "2022-01-19T21:06:29.150Z"
   },
   {
    "duration": 25,
    "start_time": "2022-01-19T21:06:29.188Z"
   },
   {
    "duration": 28,
    "start_time": "2022-01-19T21:06:29.215Z"
   },
   {
    "duration": 25,
    "start_time": "2022-01-19T21:06:29.245Z"
   },
   {
    "duration": 477,
    "start_time": "2022-01-19T21:06:29.272Z"
   },
   {
    "duration": 6,
    "start_time": "2022-01-19T21:06:29.750Z"
   },
   {
    "duration": 38,
    "start_time": "2022-01-19T21:06:29.757Z"
   },
   {
    "duration": 333,
    "start_time": "2022-01-19T21:06:29.797Z"
   },
   {
    "duration": 21,
    "start_time": "2022-01-19T21:06:30.131Z"
   },
   {
    "duration": 31,
    "start_time": "2022-01-19T21:06:30.154Z"
   },
   {
    "duration": 213,
    "start_time": "2022-01-19T21:06:30.197Z"
   },
   {
    "duration": 6,
    "start_time": "2022-01-19T21:06:30.413Z"
   },
   {
    "duration": 2018,
    "start_time": "2022-01-19T21:06:30.420Z"
   },
   {
    "duration": 27,
    "start_time": "2022-01-19T21:17:41.938Z"
   },
   {
    "duration": 31,
    "start_time": "2022-01-19T21:18:09.102Z"
   },
   {
    "duration": 2205,
    "start_time": "2022-01-19T21:18:22.564Z"
   },
   {
    "duration": 63,
    "start_time": "2022-01-19T21:18:35.581Z"
   },
   {
    "duration": 20,
    "start_time": "2022-01-19T21:18:35.646Z"
   },
   {
    "duration": 43,
    "start_time": "2022-01-19T21:18:35.669Z"
   },
   {
    "duration": 6,
    "start_time": "2022-01-19T21:18:35.715Z"
   },
   {
    "duration": 13,
    "start_time": "2022-01-19T21:18:35.723Z"
   },
   {
    "duration": 10,
    "start_time": "2022-01-19T21:18:35.738Z"
   },
   {
    "duration": 47,
    "start_time": "2022-01-19T21:18:35.750Z"
   },
   {
    "duration": 3,
    "start_time": "2022-01-19T21:18:35.801Z"
   },
   {
    "duration": 479,
    "start_time": "2022-01-19T21:18:35.807Z"
   },
   {
    "duration": 10,
    "start_time": "2022-01-19T21:18:36.288Z"
   },
   {
    "duration": 34,
    "start_time": "2022-01-19T21:18:36.300Z"
   },
   {
    "duration": 338,
    "start_time": "2022-01-19T21:18:36.336Z"
   },
   {
    "duration": 33,
    "start_time": "2022-01-19T21:18:36.676Z"
   },
   {
    "duration": 27,
    "start_time": "2022-01-19T21:18:36.711Z"
   },
   {
    "duration": 237,
    "start_time": "2022-01-19T21:18:36.740Z"
   },
   {
    "duration": 2070,
    "start_time": "2022-01-19T21:18:36.979Z"
   },
   {
    "duration": 60,
    "start_time": "2022-01-19T21:19:21.421Z"
   },
   {
    "duration": 20,
    "start_time": "2022-01-19T21:19:21.483Z"
   },
   {
    "duration": 19,
    "start_time": "2022-01-19T21:19:21.505Z"
   },
   {
    "duration": 5,
    "start_time": "2022-01-19T21:19:21.527Z"
   },
   {
    "duration": 15,
    "start_time": "2022-01-19T21:19:21.533Z"
   },
   {
    "duration": 17,
    "start_time": "2022-01-19T21:19:21.550Z"
   },
   {
    "duration": 29,
    "start_time": "2022-01-19T21:19:21.569Z"
   },
   {
    "duration": 3,
    "start_time": "2022-01-19T21:19:21.601Z"
   },
   {
    "duration": 492,
    "start_time": "2022-01-19T21:19:21.606Z"
   },
   {
    "duration": 9,
    "start_time": "2022-01-19T21:19:22.100Z"
   },
   {
    "duration": 31,
    "start_time": "2022-01-19T21:19:22.111Z"
   },
   {
    "duration": 360,
    "start_time": "2022-01-19T21:19:22.144Z"
   },
   {
    "duration": 22,
    "start_time": "2022-01-19T21:19:22.506Z"
   },
   {
    "duration": 25,
    "start_time": "2022-01-19T21:19:22.530Z"
   },
   {
    "duration": 368,
    "start_time": "2022-01-19T21:19:22.557Z"
   },
   {
    "duration": 2113,
    "start_time": "2022-01-19T21:19:22.927Z"
   },
   {
    "duration": 1139,
    "start_time": "2022-01-20T09:51:52.579Z"
   },
   {
    "duration": 17,
    "start_time": "2022-01-20T09:51:53.720Z"
   },
   {
    "duration": 15,
    "start_time": "2022-01-20T09:51:53.739Z"
   },
   {
    "duration": 4,
    "start_time": "2022-01-20T09:51:53.756Z"
   },
   {
    "duration": 16,
    "start_time": "2022-01-20T09:51:53.762Z"
   },
   {
    "duration": 9,
    "start_time": "2022-01-20T09:51:53.779Z"
   },
   {
    "duration": 11,
    "start_time": "2022-01-20T09:51:53.789Z"
   },
   {
    "duration": 2,
    "start_time": "2022-01-20T09:51:53.802Z"
   },
   {
    "duration": 433,
    "start_time": "2022-01-20T09:51:53.806Z"
   },
   {
    "duration": 5,
    "start_time": "2022-01-20T09:51:54.241Z"
   },
   {
    "duration": 27,
    "start_time": "2022-01-20T09:51:54.247Z"
   },
   {
    "duration": 288,
    "start_time": "2022-01-20T09:51:54.276Z"
   },
   {
    "duration": 17,
    "start_time": "2022-01-20T09:51:54.566Z"
   },
   {
    "duration": 19,
    "start_time": "2022-01-20T09:51:54.585Z"
   },
   {
    "duration": 187,
    "start_time": "2022-01-20T09:51:54.606Z"
   },
   {
    "duration": 1895,
    "start_time": "2022-01-20T09:51:54.795Z"
   },
   {
    "duration": 12,
    "start_time": "2022-01-20T10:28:52.476Z"
   },
   {
    "duration": 419,
    "start_time": "2022-01-20T10:28:57.913Z"
   },
   {
    "duration": 340,
    "start_time": "2022-01-20T10:30:22.364Z"
   },
   {
    "duration": 49,
    "start_time": "2022-01-20T10:30:41.836Z"
   },
   {
    "duration": 16,
    "start_time": "2022-01-20T10:30:41.887Z"
   },
   {
    "duration": 14,
    "start_time": "2022-01-20T10:30:41.905Z"
   },
   {
    "duration": 3,
    "start_time": "2022-01-20T10:30:41.927Z"
   },
   {
    "duration": 11,
    "start_time": "2022-01-20T10:30:41.931Z"
   },
   {
    "duration": 7,
    "start_time": "2022-01-20T10:30:41.943Z"
   },
   {
    "duration": 9,
    "start_time": "2022-01-20T10:30:41.951Z"
   },
   {
    "duration": 2,
    "start_time": "2022-01-20T10:30:41.962Z"
   },
   {
    "duration": 450,
    "start_time": "2022-01-20T10:30:41.966Z"
   },
   {
    "duration": 10,
    "start_time": "2022-01-20T10:30:42.418Z"
   },
   {
    "duration": 33,
    "start_time": "2022-01-20T10:30:42.429Z"
   },
   {
    "duration": 274,
    "start_time": "2022-01-20T10:30:42.463Z"
   },
   {
    "duration": 20,
    "start_time": "2022-01-20T10:30:42.739Z"
   },
   {
    "duration": 11,
    "start_time": "2022-01-20T10:30:42.760Z"
   },
   {
    "duration": 342,
    "start_time": "2022-01-20T10:30:42.772Z"
   },
   {
    "duration": -450,
    "start_time": "2022-01-20T10:30:43.566Z"
   },
   {
    "duration": 20,
    "start_time": "2022-01-20T10:34:01.293Z"
   },
   {
    "duration": 244,
    "start_time": "2022-01-20T10:34:13.937Z"
   },
   {
    "duration": 591,
    "start_time": "2022-01-20T10:34:41.148Z"
   },
   {
    "duration": 1206,
    "start_time": "2022-01-20T10:34:56.496Z"
   },
   {
    "duration": 269,
    "start_time": "2022-01-20T10:35:19.293Z"
   },
   {
    "duration": 22,
    "start_time": "2022-01-20T11:34:05.712Z"
   },
   {
    "duration": 234,
    "start_time": "2022-01-20T11:34:08.434Z"
   },
   {
    "duration": 222,
    "start_time": "2022-01-20T11:34:17.193Z"
   },
   {
    "duration": 16,
    "start_time": "2022-01-20T11:35:13.048Z"
   },
   {
    "duration": 6,
    "start_time": "2022-01-20T11:37:19.074Z"
   },
   {
    "duration": 4,
    "start_time": "2022-01-20T11:50:37.095Z"
   },
   {
    "duration": 3,
    "start_time": "2022-01-20T11:50:50.474Z"
   },
   {
    "duration": 50,
    "start_time": "2022-01-20T11:51:03.278Z"
   },
   {
    "duration": 16,
    "start_time": "2022-01-20T11:51:03.329Z"
   },
   {
    "duration": 15,
    "start_time": "2022-01-20T11:51:03.346Z"
   },
   {
    "duration": 4,
    "start_time": "2022-01-20T11:51:03.362Z"
   },
   {
    "duration": 9,
    "start_time": "2022-01-20T11:51:03.367Z"
   },
   {
    "duration": 6,
    "start_time": "2022-01-20T11:51:03.377Z"
   },
   {
    "duration": 9,
    "start_time": "2022-01-20T11:51:03.385Z"
   },
   {
    "duration": 31,
    "start_time": "2022-01-20T11:51:03.396Z"
   },
   {
    "duration": 435,
    "start_time": "2022-01-20T11:51:03.429Z"
   },
   {
    "duration": 5,
    "start_time": "2022-01-20T11:51:03.865Z"
   },
   {
    "duration": 19,
    "start_time": "2022-01-20T11:51:03.871Z"
   },
   {
    "duration": 286,
    "start_time": "2022-01-20T11:51:03.891Z"
   },
   {
    "duration": 19,
    "start_time": "2022-01-20T11:51:04.179Z"
   },
   {
    "duration": 36,
    "start_time": "2022-01-20T11:51:04.199Z"
   },
   {
    "duration": 234,
    "start_time": "2022-01-20T11:51:04.237Z"
   },
   {
    "duration": 1877,
    "start_time": "2022-01-20T11:51:04.473Z"
   },
   {
    "duration": 19,
    "start_time": "2022-01-20T11:51:06.351Z"
   },
   {
    "duration": 15,
    "start_time": "2022-01-20T11:51:06.372Z"
   },
   {
    "duration": 12,
    "start_time": "2022-01-20T11:51:06.389Z"
   },
   {
    "duration": 5,
    "start_time": "2022-01-20T11:51:25.672Z"
   },
   {
    "duration": 337,
    "start_time": "2022-01-20T11:52:30.545Z"
   },
   {
    "duration": 6,
    "start_time": "2022-01-20T11:52:58.116Z"
   },
   {
    "duration": 2140,
    "start_time": "2022-01-20T12:16:49.913Z"
   },
   {
    "duration": 1931,
    "start_time": "2022-01-20T12:17:00.281Z"
   },
   {
    "duration": 472,
    "start_time": "2022-01-20T12:37:13.793Z"
   },
   {
    "duration": 567,
    "start_time": "2022-01-20T12:39:17.634Z"
   },
   {
    "duration": 70,
    "start_time": "2022-01-20T12:39:20.610Z"
   },
   {
    "duration": 25,
    "start_time": "2022-01-20T12:39:20.682Z"
   },
   {
    "duration": 19,
    "start_time": "2022-01-20T12:39:20.728Z"
   },
   {
    "duration": 5,
    "start_time": "2022-01-20T12:39:20.749Z"
   },
   {
    "duration": 15,
    "start_time": "2022-01-20T12:39:20.756Z"
   },
   {
    "duration": 11,
    "start_time": "2022-01-20T12:39:20.773Z"
   },
   {
    "duration": 13,
    "start_time": "2022-01-20T12:39:20.786Z"
   },
   {
    "duration": 25,
    "start_time": "2022-01-20T12:39:20.802Z"
   },
   {
    "duration": 436,
    "start_time": "2022-01-20T12:39:20.829Z"
   },
   {
    "duration": 5,
    "start_time": "2022-01-20T12:39:21.267Z"
   },
   {
    "duration": 18,
    "start_time": "2022-01-20T12:39:21.274Z"
   },
   {
    "duration": 284,
    "start_time": "2022-01-20T12:39:21.294Z"
   },
   {
    "duration": 19,
    "start_time": "2022-01-20T12:39:21.580Z"
   },
   {
    "duration": 37,
    "start_time": "2022-01-20T12:39:21.601Z"
   },
   {
    "duration": 225,
    "start_time": "2022-01-20T12:39:21.640Z"
   },
   {
    "duration": 1884,
    "start_time": "2022-01-20T12:39:21.867Z"
   },
   {
    "duration": 17,
    "start_time": "2022-01-20T12:39:23.752Z"
   },
   {
    "duration": 8,
    "start_time": "2022-01-20T12:39:23.770Z"
   },
   {
    "duration": 6,
    "start_time": "2022-01-20T12:39:23.779Z"
   },
   {
    "duration": 493,
    "start_time": "2022-01-20T12:39:23.787Z"
   },
   {
    "duration": 21,
    "start_time": "2022-01-20T12:55:16.061Z"
   },
   {
    "duration": 218,
    "start_time": "2022-01-20T12:55:33.086Z"
   },
   {
    "duration": 225,
    "start_time": "2022-01-20T12:55:39.681Z"
   },
   {
    "duration": 50,
    "start_time": "2022-01-20T12:55:46.212Z"
   },
   {
    "duration": 17,
    "start_time": "2022-01-20T12:55:46.263Z"
   },
   {
    "duration": 12,
    "start_time": "2022-01-20T12:55:46.282Z"
   },
   {
    "duration": 3,
    "start_time": "2022-01-20T12:55:46.296Z"
   },
   {
    "duration": 28,
    "start_time": "2022-01-20T12:55:46.300Z"
   },
   {
    "duration": 6,
    "start_time": "2022-01-20T12:55:46.329Z"
   },
   {
    "duration": 11,
    "start_time": "2022-01-20T12:55:46.337Z"
   },
   {
    "duration": 2,
    "start_time": "2022-01-20T12:55:46.351Z"
   },
   {
    "duration": 437,
    "start_time": "2022-01-20T12:55:46.356Z"
   },
   {
    "duration": 6,
    "start_time": "2022-01-20T12:55:46.795Z"
   },
   {
    "duration": 37,
    "start_time": "2022-01-20T12:55:46.803Z"
   },
   {
    "duration": 278,
    "start_time": "2022-01-20T12:55:46.842Z"
   },
   {
    "duration": 22,
    "start_time": "2022-01-20T12:55:47.122Z"
   },
   {
    "duration": 19,
    "start_time": "2022-01-20T12:55:47.146Z"
   },
   {
    "duration": 237,
    "start_time": "2022-01-20T12:55:47.167Z"
   },
   {
    "duration": 1947,
    "start_time": "2022-01-20T12:55:47.405Z"
   },
   {
    "duration": 16,
    "start_time": "2022-01-20T12:55:49.354Z"
   },
   {
    "duration": 5,
    "start_time": "2022-01-20T12:55:49.372Z"
   },
   {
    "duration": 7,
    "start_time": "2022-01-20T12:55:49.378Z"
   },
   {
    "duration": 1109,
    "start_time": "2022-01-20T12:55:49.386Z"
   },
   {
    "duration": 1842,
    "start_time": "2022-01-20T12:56:27.616Z"
   },
   {
    "duration": 219,
    "start_time": "2022-01-20T12:56:43.973Z"
   },
   {
    "duration": 6,
    "start_time": "2022-01-20T12:57:00.917Z"
   },
   {
    "duration": 8,
    "start_time": "2022-01-20T12:57:02.816Z"
   },
   {
    "duration": 9179,
    "start_time": "2022-01-20T13:03:41.550Z"
   },
   {
    "duration": 8614,
    "start_time": "2022-01-20T13:04:27.721Z"
   },
   {
    "duration": 28,
    "start_time": "2022-01-20T13:06:20.243Z"
   },
   {
    "duration": 469,
    "start_time": "2022-01-20T13:09:03.637Z"
   },
   {
    "duration": 697,
    "start_time": "2022-01-20T13:10:47.975Z"
   },
   {
    "duration": 51,
    "start_time": "2022-01-20T13:10:55.619Z"
   },
   {
    "duration": 15,
    "start_time": "2022-01-20T13:10:55.671Z"
   },
   {
    "duration": 30,
    "start_time": "2022-01-20T13:10:55.688Z"
   },
   {
    "duration": 31,
    "start_time": "2022-01-20T13:10:55.720Z"
   },
   {
    "duration": 35,
    "start_time": "2022-01-20T13:10:55.753Z"
   },
   {
    "duration": 34,
    "start_time": "2022-01-20T13:10:55.790Z"
   },
   {
    "duration": 29,
    "start_time": "2022-01-20T13:10:55.825Z"
   },
   {
    "duration": 25,
    "start_time": "2022-01-20T13:10:55.857Z"
   },
   {
    "duration": 457,
    "start_time": "2022-01-20T13:10:55.884Z"
   },
   {
    "duration": 5,
    "start_time": "2022-01-20T13:10:56.343Z"
   },
   {
    "duration": 36,
    "start_time": "2022-01-20T13:10:56.349Z"
   },
   {
    "duration": 261,
    "start_time": "2022-01-20T13:10:56.386Z"
   },
   {
    "duration": 17,
    "start_time": "2022-01-20T13:10:56.648Z"
   },
   {
    "duration": 18,
    "start_time": "2022-01-20T13:10:56.666Z"
   },
   {
    "duration": 239,
    "start_time": "2022-01-20T13:10:56.686Z"
   },
   {
    "duration": 1928,
    "start_time": "2022-01-20T13:10:56.927Z"
   },
   {
    "duration": 16,
    "start_time": "2022-01-20T13:10:58.857Z"
   },
   {
    "duration": 12,
    "start_time": "2022-01-20T13:10:58.874Z"
   },
   {
    "duration": 16,
    "start_time": "2022-01-20T13:10:58.888Z"
   },
   {
    "duration": 613,
    "start_time": "2022-01-20T13:10:58.905Z"
   },
   {
    "duration": 1634,
    "start_time": "2022-01-20T13:11:07.163Z"
   },
   {
    "duration": 1744,
    "start_time": "2022-01-20T13:11:21.891Z"
   },
   {
    "duration": 2251,
    "start_time": "2022-01-20T13:11:31.245Z"
   },
   {
    "duration": 1919,
    "start_time": "2022-01-20T13:15:10.767Z"
   },
   {
    "duration": 576,
    "start_time": "2022-01-20T13:15:56.393Z"
   },
   {
    "duration": 7226,
    "start_time": "2022-01-20T13:17:06.069Z"
   },
   {
    "duration": 7401,
    "start_time": "2022-01-20T13:19:22.993Z"
   },
   {
    "duration": 6,
    "start_time": "2022-01-20T13:23:05.514Z"
   },
   {
    "duration": 6753,
    "start_time": "2022-01-20T13:24:26.718Z"
   },
   {
    "duration": 9,
    "start_time": "2022-01-20T13:27:56.552Z"
   },
   {
    "duration": 7,
    "start_time": "2022-01-20T13:28:24.213Z"
   },
   {
    "duration": 6,
    "start_time": "2022-01-20T13:30:08.841Z"
   },
   {
    "duration": 6,
    "start_time": "2022-01-20T13:30:18.568Z"
   },
   {
    "duration": 6,
    "start_time": "2022-01-20T13:30:55.544Z"
   },
   {
    "duration": 6,
    "start_time": "2022-01-20T13:43:10.438Z"
   },
   {
    "duration": 6,
    "start_time": "2022-01-20T13:43:12.579Z"
   },
   {
    "duration": 139,
    "start_time": "2022-01-20T13:46:49.800Z"
   },
   {
    "duration": 137,
    "start_time": "2022-01-20T13:47:45.943Z"
   },
   {
    "duration": 1111,
    "start_time": "2022-01-21T08:49:52.394Z"
   },
   {
    "duration": 19,
    "start_time": "2022-01-21T08:49:53.506Z"
   },
   {
    "duration": 14,
    "start_time": "2022-01-21T08:49:53.527Z"
   },
   {
    "duration": 4,
    "start_time": "2022-01-21T08:49:53.543Z"
   },
   {
    "duration": 19,
    "start_time": "2022-01-21T08:49:53.548Z"
   },
   {
    "duration": 8,
    "start_time": "2022-01-21T08:49:53.568Z"
   },
   {
    "duration": 10,
    "start_time": "2022-01-21T08:49:53.577Z"
   },
   {
    "duration": 2,
    "start_time": "2022-01-21T08:49:53.589Z"
   },
   {
    "duration": 463,
    "start_time": "2022-01-21T08:49:53.612Z"
   },
   {
    "duration": 6,
    "start_time": "2022-01-21T08:49:54.076Z"
   },
   {
    "duration": 35,
    "start_time": "2022-01-21T08:49:54.084Z"
   },
   {
    "duration": 316,
    "start_time": "2022-01-21T08:49:54.121Z"
   },
   {
    "duration": 19,
    "start_time": "2022-01-21T08:49:54.438Z"
   },
   {
    "duration": 21,
    "start_time": "2022-01-21T08:49:54.458Z"
   },
   {
    "duration": 298,
    "start_time": "2022-01-21T08:49:54.481Z"
   },
   {
    "duration": 2065,
    "start_time": "2022-01-21T08:49:54.780Z"
   },
   {
    "duration": 20,
    "start_time": "2022-01-21T08:49:56.846Z"
   },
   {
    "duration": 6,
    "start_time": "2022-01-21T08:49:56.867Z"
   },
   {
    "duration": 7,
    "start_time": "2022-01-21T08:49:56.874Z"
   },
   {
    "duration": 200,
    "start_time": "2022-01-21T08:49:56.882Z"
   },
   {
    "duration": 6,
    "start_time": "2022-01-21T08:49:57.083Z"
   },
   {
    "duration": 23,
    "start_time": "2022-01-21T08:49:57.090Z"
   },
   {
    "duration": 62,
    "start_time": "2022-01-21T08:49:57.115Z"
   },
   {
    "duration": 141,
    "start_time": "2022-01-21T08:50:46.312Z"
   },
   {
    "duration": 151,
    "start_time": "2022-01-21T08:51:43.428Z"
   },
   {
    "duration": 55,
    "start_time": "2022-01-21T08:52:23.318Z"
   },
   {
    "duration": 19,
    "start_time": "2022-01-21T08:52:23.375Z"
   },
   {
    "duration": 28,
    "start_time": "2022-01-21T08:52:23.396Z"
   },
   {
    "duration": 5,
    "start_time": "2022-01-21T08:52:23.426Z"
   },
   {
    "duration": 10,
    "start_time": "2022-01-21T08:52:23.432Z"
   },
   {
    "duration": 7,
    "start_time": "2022-01-21T08:52:23.444Z"
   },
   {
    "duration": 11,
    "start_time": "2022-01-21T08:52:23.453Z"
   },
   {
    "duration": 3,
    "start_time": "2022-01-21T08:52:23.466Z"
   },
   {
    "duration": 485,
    "start_time": "2022-01-21T08:52:23.471Z"
   },
   {
    "duration": 6,
    "start_time": "2022-01-21T08:52:23.958Z"
   },
   {
    "duration": 20,
    "start_time": "2022-01-21T08:52:23.965Z"
   },
   {
    "duration": 321,
    "start_time": "2022-01-21T08:52:23.987Z"
   },
   {
    "duration": 20,
    "start_time": "2022-01-21T08:52:24.312Z"
   },
   {
    "duration": 23,
    "start_time": "2022-01-21T08:52:24.333Z"
   },
   {
    "duration": 277,
    "start_time": "2022-01-21T08:52:24.357Z"
   },
   {
    "duration": 1779,
    "start_time": "2022-01-21T08:52:24.636Z"
   },
   {
    "duration": 20,
    "start_time": "2022-01-21T08:52:26.416Z"
   },
   {
    "duration": 7,
    "start_time": "2022-01-21T08:52:26.437Z"
   },
   {
    "duration": 7,
    "start_time": "2022-01-21T08:52:26.446Z"
   },
   {
    "duration": 247,
    "start_time": "2022-01-21T08:52:26.454Z"
   },
   {
    "duration": 166,
    "start_time": "2022-01-21T08:52:26.703Z"
   },
   {
    "duration": 171,
    "start_time": "2022-01-21T08:52:26.871Z"
   },
   {
    "duration": 6,
    "start_time": "2022-01-21T09:09:18.209Z"
   },
   {
    "duration": 6,
    "start_time": "2022-01-21T09:09:46.799Z"
   },
   {
    "duration": 6,
    "start_time": "2022-01-21T09:10:03.329Z"
   },
   {
    "duration": 4,
    "start_time": "2022-01-21T09:19:49.462Z"
   },
   {
    "duration": 293,
    "start_time": "2022-01-21T09:20:02.296Z"
   },
   {
    "duration": 7,
    "start_time": "2022-01-21T09:20:26.382Z"
   },
   {
    "duration": 147,
    "start_time": "2022-01-21T09:21:51.946Z"
   },
   {
    "duration": 61,
    "start_time": "2022-01-21T09:24:42.861Z"
   },
   {
    "duration": 7,
    "start_time": "2022-01-21T09:24:54.923Z"
   },
   {
    "duration": 7,
    "start_time": "2022-01-21T09:26:30.047Z"
   },
   {
    "duration": 6,
    "start_time": "2022-01-21T09:27:01.334Z"
   },
   {
    "duration": 56,
    "start_time": "2022-01-21T09:27:04.676Z"
   },
   {
    "duration": 19,
    "start_time": "2022-01-21T09:27:04.734Z"
   },
   {
    "duration": 13,
    "start_time": "2022-01-21T09:27:04.755Z"
   },
   {
    "duration": 4,
    "start_time": "2022-01-21T09:27:04.770Z"
   },
   {
    "duration": 41,
    "start_time": "2022-01-21T09:27:04.775Z"
   },
   {
    "duration": 9,
    "start_time": "2022-01-21T09:27:04.818Z"
   },
   {
    "duration": 13,
    "start_time": "2022-01-21T09:27:04.828Z"
   },
   {
    "duration": 3,
    "start_time": "2022-01-21T09:27:04.844Z"
   },
   {
    "duration": 509,
    "start_time": "2022-01-21T09:27:04.849Z"
   },
   {
    "duration": 6,
    "start_time": "2022-01-21T09:27:05.360Z"
   },
   {
    "duration": 23,
    "start_time": "2022-01-21T09:27:05.368Z"
   },
   {
    "duration": 316,
    "start_time": "2022-01-21T09:27:05.412Z"
   },
   {
    "duration": 19,
    "start_time": "2022-01-21T09:27:05.730Z"
   },
   {
    "duration": 24,
    "start_time": "2022-01-21T09:27:05.750Z"
   },
   {
    "duration": 297,
    "start_time": "2022-01-21T09:27:05.776Z"
   },
   {
    "duration": 1981,
    "start_time": "2022-01-21T09:27:06.074Z"
   },
   {
    "duration": 19,
    "start_time": "2022-01-21T09:27:08.057Z"
   },
   {
    "duration": 7,
    "start_time": "2022-01-21T09:27:08.078Z"
   },
   {
    "duration": 27,
    "start_time": "2022-01-21T09:27:08.086Z"
   },
   {
    "duration": 181,
    "start_time": "2022-01-21T09:27:08.114Z"
   },
   {
    "duration": 231,
    "start_time": "2022-01-21T09:27:08.297Z"
   },
   {
    "duration": 172,
    "start_time": "2022-01-21T09:27:08.529Z"
   },
   {
    "duration": 72,
    "start_time": "2022-01-21T09:27:08.704Z"
   },
   {
    "duration": 13,
    "start_time": "2022-01-21T09:27:08.765Z"
   },
   {
    "duration": 10,
    "start_time": "2022-01-21T09:27:08.769Z"
   },
   {
    "duration": 9,
    "start_time": "2022-01-21T09:27:08.771Z"
   },
   {
    "duration": 8,
    "start_time": "2022-01-21T09:27:08.773Z"
   },
   {
    "duration": 59,
    "start_time": "2022-01-21T09:27:16.524Z"
   },
   {
    "duration": 28,
    "start_time": "2022-01-21T09:27:16.585Z"
   },
   {
    "duration": 14,
    "start_time": "2022-01-21T09:27:16.616Z"
   },
   {
    "duration": 4,
    "start_time": "2022-01-21T09:27:16.632Z"
   },
   {
    "duration": 11,
    "start_time": "2022-01-21T09:27:16.638Z"
   },
   {
    "duration": 7,
    "start_time": "2022-01-21T09:27:16.650Z"
   },
   {
    "duration": 9,
    "start_time": "2022-01-21T09:27:16.659Z"
   },
   {
    "duration": 3,
    "start_time": "2022-01-21T09:27:16.671Z"
   },
   {
    "duration": 478,
    "start_time": "2022-01-21T09:27:16.676Z"
   },
   {
    "duration": 5,
    "start_time": "2022-01-21T09:27:17.155Z"
   },
   {
    "duration": 19,
    "start_time": "2022-01-21T09:27:17.161Z"
   },
   {
    "duration": 300,
    "start_time": "2022-01-21T09:27:17.181Z"
   },
   {
    "duration": 17,
    "start_time": "2022-01-21T09:27:17.482Z"
   },
   {
    "duration": 32,
    "start_time": "2022-01-21T09:27:17.500Z"
   },
   {
    "duration": 249,
    "start_time": "2022-01-21T09:27:17.533Z"
   },
   {
    "duration": 1911,
    "start_time": "2022-01-21T09:27:17.784Z"
   },
   {
    "duration": 28,
    "start_time": "2022-01-21T09:27:19.697Z"
   },
   {
    "duration": 6,
    "start_time": "2022-01-21T09:27:19.727Z"
   },
   {
    "duration": 6,
    "start_time": "2022-01-21T09:27:19.735Z"
   },
   {
    "duration": 178,
    "start_time": "2022-01-21T09:27:19.743Z"
   },
   {
    "duration": 173,
    "start_time": "2022-01-21T09:27:19.923Z"
   },
   {
    "duration": 182,
    "start_time": "2022-01-21T09:27:20.098Z"
   },
   {
    "duration": 8,
    "start_time": "2022-01-21T09:27:20.283Z"
   },
   {
    "duration": 22,
    "start_time": "2022-01-21T09:27:20.293Z"
   },
   {
    "duration": 6,
    "start_time": "2022-01-21T09:27:20.317Z"
   },
   {
    "duration": 191,
    "start_time": "2022-01-21T09:27:20.325Z"
   },
   {
    "duration": 278,
    "start_time": "2022-01-21T09:44:37.601Z"
   },
   {
    "duration": 317,
    "start_time": "2022-01-21T09:46:42.631Z"
   },
   {
    "duration": 411,
    "start_time": "2022-01-21T09:47:32.774Z"
   },
   {
    "duration": 179,
    "start_time": "2022-01-21T09:48:54.318Z"
   },
   {
    "duration": 191,
    "start_time": "2022-01-21T09:49:02.002Z"
   },
   {
    "duration": 175,
    "start_time": "2022-01-21T09:49:07.807Z"
   },
   {
    "duration": 210,
    "start_time": "2022-01-21T09:49:13.665Z"
   },
   {
    "duration": 496,
    "start_time": "2022-01-21T09:49:23.631Z"
   },
   {
    "duration": 200,
    "start_time": "2022-01-21T09:49:33.340Z"
   },
   {
    "duration": 197,
    "start_time": "2022-01-21T09:50:44.942Z"
   },
   {
    "duration": 384,
    "start_time": "2022-01-21T09:52:45.113Z"
   },
   {
    "duration": 685,
    "start_time": "2022-01-21T09:52:59.024Z"
   },
   {
    "duration": 62,
    "start_time": "2022-01-21T09:53:17.522Z"
   },
   {
    "duration": 35,
    "start_time": "2022-01-21T09:53:17.586Z"
   },
   {
    "duration": 20,
    "start_time": "2022-01-21T09:53:17.623Z"
   },
   {
    "duration": 5,
    "start_time": "2022-01-21T09:53:17.645Z"
   },
   {
    "duration": 12,
    "start_time": "2022-01-21T09:53:17.652Z"
   },
   {
    "duration": 10,
    "start_time": "2022-01-21T09:53:17.666Z"
   },
   {
    "duration": 45,
    "start_time": "2022-01-21T09:53:17.677Z"
   },
   {
    "duration": 4,
    "start_time": "2022-01-21T09:53:17.725Z"
   },
   {
    "duration": 509,
    "start_time": "2022-01-21T09:53:17.731Z"
   },
   {
    "duration": 6,
    "start_time": "2022-01-21T09:53:18.242Z"
   },
   {
    "duration": 22,
    "start_time": "2022-01-21T09:53:18.249Z"
   },
   {
    "duration": 332,
    "start_time": "2022-01-21T09:53:18.273Z"
   },
   {
    "duration": 22,
    "start_time": "2022-01-21T09:53:18.607Z"
   },
   {
    "duration": 22,
    "start_time": "2022-01-21T09:53:18.630Z"
   },
   {
    "duration": 370,
    "start_time": "2022-01-21T09:53:18.654Z"
   },
   {
    "duration": 1829,
    "start_time": "2022-01-21T09:53:19.026Z"
   },
   {
    "duration": 17,
    "start_time": "2022-01-21T09:53:20.857Z"
   },
   {
    "duration": 8,
    "start_time": "2022-01-21T09:53:20.876Z"
   },
   {
    "duration": 7,
    "start_time": "2022-01-21T09:53:20.885Z"
   },
   {
    "duration": 166,
    "start_time": "2022-01-21T09:53:20.893Z"
   },
   {
    "duration": 157,
    "start_time": "2022-01-21T09:53:21.061Z"
   },
   {
    "duration": 157,
    "start_time": "2022-01-21T09:53:21.220Z"
   },
   {
    "duration": 7,
    "start_time": "2022-01-21T09:53:21.381Z"
   },
   {
    "duration": 7,
    "start_time": "2022-01-21T09:53:21.390Z"
   },
   {
    "duration": 8,
    "start_time": "2022-01-21T09:53:21.412Z"
   },
   {
    "duration": 292,
    "start_time": "2022-01-21T09:53:21.422Z"
   },
   {
    "duration": 251,
    "start_time": "2022-01-21T09:53:21.716Z"
   },
   {
    "duration": 364,
    "start_time": "2022-01-21T09:53:21.968Z"
   },
   {
    "duration": 49,
    "start_time": "2022-01-21T09:53:49.494Z"
   },
   {
    "duration": 418,
    "start_time": "2022-01-21T09:53:54.390Z"
   },
   {
    "duration": 501,
    "start_time": "2022-01-21T09:54:42.567Z"
   },
   {
    "duration": 397,
    "start_time": "2022-01-21T09:55:15.118Z"
   },
   {
    "duration": 487,
    "start_time": "2022-01-21T09:55:29.554Z"
   },
   {
    "duration": 392,
    "start_time": "2022-01-21T09:56:51.340Z"
   },
   {
    "duration": 401,
    "start_time": "2022-01-21T09:57:33.180Z"
   },
   {
    "duration": 388,
    "start_time": "2022-01-21T09:57:46.543Z"
   },
   {
    "duration": 189,
    "start_time": "2022-01-21T09:58:28.966Z"
   },
   {
    "duration": 183,
    "start_time": "2022-01-21T09:58:49.071Z"
   },
   {
    "duration": 188,
    "start_time": "2022-01-21T09:58:56.315Z"
   },
   {
    "duration": 181,
    "start_time": "2022-01-21T09:59:17.573Z"
   },
   {
    "duration": 180,
    "start_time": "2022-01-21T09:59:39.420Z"
   },
   {
    "duration": 228,
    "start_time": "2022-01-21T09:59:46.294Z"
   },
   {
    "duration": 208,
    "start_time": "2022-01-21T09:59:51.557Z"
   },
   {
    "duration": 208,
    "start_time": "2022-01-21T09:59:59.564Z"
   },
   {
    "duration": 331,
    "start_time": "2022-01-21T10:00:07.158Z"
   },
   {
    "duration": 208,
    "start_time": "2022-01-21T10:00:13.914Z"
   },
   {
    "duration": 179,
    "start_time": "2022-01-21T10:00:35.057Z"
   },
   {
    "duration": 195,
    "start_time": "2022-01-21T10:00:40.902Z"
   },
   {
    "duration": 181,
    "start_time": "2022-01-21T10:00:47.274Z"
   },
   {
    "duration": 181,
    "start_time": "2022-01-21T10:00:55.708Z"
   },
   {
    "duration": 216,
    "start_time": "2022-01-21T10:01:00.113Z"
   },
   {
    "duration": 211,
    "start_time": "2022-01-21T10:01:49.177Z"
   },
   {
    "duration": 205,
    "start_time": "2022-01-21T10:01:58.616Z"
   },
   {
    "duration": 217,
    "start_time": "2022-01-21T10:02:06.274Z"
   },
   {
    "duration": 179,
    "start_time": "2022-01-21T10:02:13.467Z"
   },
   {
    "duration": 198,
    "start_time": "2022-01-21T10:02:19.694Z"
   },
   {
    "duration": 293,
    "start_time": "2022-01-21T10:02:26.820Z"
   },
   {
    "duration": 225,
    "start_time": "2022-01-21T10:02:48.835Z"
   },
   {
    "duration": 221,
    "start_time": "2022-01-21T10:03:44.888Z"
   },
   {
    "duration": 248,
    "start_time": "2022-01-21T10:03:58.202Z"
   },
   {
    "duration": 257,
    "start_time": "2022-01-21T10:04:10.243Z"
   },
   {
    "duration": 231,
    "start_time": "2022-01-21T10:04:24.228Z"
   },
   {
    "duration": 220,
    "start_time": "2022-01-21T10:05:07.765Z"
   },
   {
    "duration": 214,
    "start_time": "2022-01-21T10:05:28.615Z"
   },
   {
    "duration": 243,
    "start_time": "2022-01-21T10:05:35.617Z"
   },
   {
    "duration": 256,
    "start_time": "2022-01-21T10:05:48.725Z"
   },
   {
    "duration": 242,
    "start_time": "2022-01-21T10:05:59.693Z"
   },
   {
    "duration": 562,
    "start_time": "2022-01-21T10:07:39.280Z"
   },
   {
    "duration": 228,
    "start_time": "2022-01-21T10:08:47.202Z"
   },
   {
    "duration": 273,
    "start_time": "2022-01-21T10:11:04.906Z"
   },
   {
    "duration": 366,
    "start_time": "2022-01-21T10:45:09.685Z"
   },
   {
    "duration": 53,
    "start_time": "2022-01-21T10:45:32.608Z"
   },
   {
    "duration": 19,
    "start_time": "2022-01-21T10:45:32.663Z"
   },
   {
    "duration": 40,
    "start_time": "2022-01-21T10:45:32.684Z"
   },
   {
    "duration": 3,
    "start_time": "2022-01-21T10:45:32.726Z"
   },
   {
    "duration": 12,
    "start_time": "2022-01-21T10:45:32.731Z"
   },
   {
    "duration": 7,
    "start_time": "2022-01-21T10:45:32.745Z"
   },
   {
    "duration": 9,
    "start_time": "2022-01-21T10:45:32.754Z"
   },
   {
    "duration": 2,
    "start_time": "2022-01-21T10:45:32.766Z"
   },
   {
    "duration": 470,
    "start_time": "2022-01-21T10:45:32.770Z"
   },
   {
    "duration": 5,
    "start_time": "2022-01-21T10:45:33.241Z"
   },
   {
    "duration": 19,
    "start_time": "2022-01-21T10:45:33.248Z"
   },
   {
    "duration": 332,
    "start_time": "2022-01-21T10:45:33.268Z"
   },
   {
    "duration": 25,
    "start_time": "2022-01-21T10:45:33.602Z"
   },
   {
    "duration": 26,
    "start_time": "2022-01-21T10:45:33.629Z"
   },
   {
    "duration": 301,
    "start_time": "2022-01-21T10:45:33.657Z"
   },
   {
    "duration": 1929,
    "start_time": "2022-01-21T10:45:33.960Z"
   },
   {
    "duration": 28,
    "start_time": "2022-01-21T10:45:35.891Z"
   },
   {
    "duration": 8,
    "start_time": "2022-01-21T10:45:35.921Z"
   },
   {
    "duration": 16,
    "start_time": "2022-01-21T10:45:35.930Z"
   },
   {
    "duration": 168,
    "start_time": "2022-01-21T10:45:35.948Z"
   },
   {
    "duration": 164,
    "start_time": "2022-01-21T10:45:36.117Z"
   },
   {
    "duration": 272,
    "start_time": "2022-01-21T10:45:36.282Z"
   },
   {
    "duration": 6,
    "start_time": "2022-01-21T10:45:36.557Z"
   },
   {
    "duration": 8,
    "start_time": "2022-01-21T10:45:36.565Z"
   },
   {
    "duration": 6,
    "start_time": "2022-01-21T10:45:36.574Z"
   },
   {
    "duration": 290,
    "start_time": "2022-01-21T10:45:36.581Z"
   },
   {
    "duration": 266,
    "start_time": "2022-01-21T10:45:36.873Z"
   },
   {
    "duration": 257,
    "start_time": "2022-01-21T10:45:37.141Z"
   },
   {
    "duration": 57,
    "start_time": "2022-01-21T10:45:37.399Z"
   },
   {
    "duration": 22,
    "start_time": "2022-01-21T10:47:53.537Z"
   },
   {
    "duration": 30,
    "start_time": "2022-01-21T10:48:03.561Z"
   },
   {
    "duration": 246,
    "start_time": "2022-01-21T10:50:44.353Z"
   },
   {
    "duration": 6,
    "start_time": "2022-01-21T10:56:24.462Z"
   },
   {
    "duration": 226,
    "start_time": "2022-01-21T10:57:16.357Z"
   },
   {
    "duration": 185,
    "start_time": "2022-01-21T10:58:16.181Z"
   },
   {
    "duration": 61,
    "start_time": "2022-01-21T10:58:22.505Z"
   },
   {
    "duration": 4,
    "start_time": "2022-01-21T10:58:31.237Z"
   },
   {
    "duration": 8,
    "start_time": "2022-01-21T11:06:03.722Z"
   },
   {
    "duration": 8,
    "start_time": "2022-01-21T11:07:34.755Z"
   },
   {
    "duration": 212,
    "start_time": "2022-01-21T11:08:33.769Z"
   },
   {
    "duration": 239,
    "start_time": "2022-01-21T11:08:44.366Z"
   },
   {
    "duration": 219,
    "start_time": "2022-01-21T11:09:05.538Z"
   },
   {
    "duration": 250,
    "start_time": "2022-01-21T11:09:17.389Z"
   },
   {
    "duration": 9,
    "start_time": "2022-01-21T11:23:14.937Z"
   },
   {
    "duration": 8,
    "start_time": "2022-01-21T11:28:21.715Z"
   },
   {
    "duration": 17,
    "start_time": "2022-01-21T11:31:36.307Z"
   },
   {
    "duration": 21,
    "start_time": "2022-01-21T11:36:17.065Z"
   },
   {
    "duration": 362,
    "start_time": "2022-01-21T11:37:53.050Z"
   },
   {
    "duration": 19,
    "start_time": "2022-01-21T11:38:27.934Z"
   },
   {
    "duration": 17,
    "start_time": "2022-01-21T11:47:07.121Z"
   },
   {
    "duration": 21,
    "start_time": "2022-01-21T11:47:45.477Z"
   },
   {
    "duration": 407,
    "start_time": "2022-01-21T11:48:07.431Z"
   },
   {
    "duration": 522,
    "start_time": "2022-01-21T11:48:16.866Z"
   },
   {
    "duration": 1857,
    "start_time": "2022-01-21T11:50:28.668Z"
   },
   {
    "duration": 18,
    "start_time": "2022-01-21T11:50:42.970Z"
   },
   {
    "duration": 7,
    "start_time": "2022-01-21T11:50:46.383Z"
   },
   {
    "duration": 7,
    "start_time": "2022-01-21T11:50:53.269Z"
   },
   {
    "duration": 165,
    "start_time": "2022-01-21T11:51:01.749Z"
   },
   {
    "duration": 192,
    "start_time": "2022-01-21T11:51:20.341Z"
   },
   {
    "duration": 158,
    "start_time": "2022-01-21T11:51:51.625Z"
   },
   {
    "duration": 7,
    "start_time": "2022-01-21T11:54:42.134Z"
   },
   {
    "duration": 7,
    "start_time": "2022-01-21T11:54:44.992Z"
   },
   {
    "duration": 7,
    "start_time": "2022-01-21T11:54:48.800Z"
   },
   {
    "duration": 276,
    "start_time": "2022-01-21T11:54:55.708Z"
   },
   {
    "duration": 228,
    "start_time": "2022-01-21T11:55:30.178Z"
   },
   {
    "duration": 276,
    "start_time": "2022-01-21T11:55:40.270Z"
   },
   {
    "duration": 8,
    "start_time": "2022-01-21T11:55:48.364Z"
   },
   {
    "duration": 10,
    "start_time": "2022-01-21T11:55:51.912Z"
   },
   {
    "duration": 10,
    "start_time": "2022-01-21T12:23:58.022Z"
   },
   {
    "duration": 6,
    "start_time": "2022-01-21T12:26:19.850Z"
   },
   {
    "duration": 4,
    "start_time": "2022-01-21T12:28:07.813Z"
   },
   {
    "duration": 4,
    "start_time": "2022-01-21T12:28:21.126Z"
   },
   {
    "duration": 6,
    "start_time": "2022-01-21T12:34:54.606Z"
   },
   {
    "duration": 5,
    "start_time": "2022-01-21T12:35:12.199Z"
   },
   {
    "duration": 49,
    "start_time": "2022-01-21T12:37:24.168Z"
   },
   {
    "duration": 17,
    "start_time": "2022-01-21T12:37:24.219Z"
   },
   {
    "duration": 14,
    "start_time": "2022-01-21T12:37:24.238Z"
   },
   {
    "duration": 4,
    "start_time": "2022-01-21T12:37:24.253Z"
   },
   {
    "duration": 9,
    "start_time": "2022-01-21T12:37:24.259Z"
   },
   {
    "duration": 7,
    "start_time": "2022-01-21T12:37:24.269Z"
   },
   {
    "duration": 38,
    "start_time": "2022-01-21T12:37:24.278Z"
   },
   {
    "duration": 3,
    "start_time": "2022-01-21T12:37:24.318Z"
   },
   {
    "duration": 443,
    "start_time": "2022-01-21T12:37:24.323Z"
   },
   {
    "duration": 5,
    "start_time": "2022-01-21T12:37:24.768Z"
   },
   {
    "duration": 20,
    "start_time": "2022-01-21T12:37:24.774Z"
   },
   {
    "duration": 381,
    "start_time": "2022-01-21T12:37:24.796Z"
   },
   {
    "duration": 18,
    "start_time": "2022-01-21T12:37:25.179Z"
   },
   {
    "duration": 32,
    "start_time": "2022-01-21T12:37:25.198Z"
   },
   {
    "duration": 529,
    "start_time": "2022-01-21T12:37:25.232Z"
   },
   {
    "duration": 1883,
    "start_time": "2022-01-21T12:37:25.763Z"
   },
   {
    "duration": 17,
    "start_time": "2022-01-21T12:37:27.648Z"
   },
   {
    "duration": 8,
    "start_time": "2022-01-21T12:37:27.667Z"
   },
   {
    "duration": 5,
    "start_time": "2022-01-21T12:37:27.682Z"
   },
   {
    "duration": 202,
    "start_time": "2022-01-21T12:37:27.688Z"
   },
   {
    "duration": 176,
    "start_time": "2022-01-21T12:37:27.891Z"
   },
   {
    "duration": 192,
    "start_time": "2022-01-21T12:37:28.069Z"
   },
   {
    "duration": 7,
    "start_time": "2022-01-21T12:37:28.264Z"
   },
   {
    "duration": 5,
    "start_time": "2022-01-21T12:37:28.273Z"
   },
   {
    "duration": 7,
    "start_time": "2022-01-21T12:37:28.280Z"
   },
   {
    "duration": 335,
    "start_time": "2022-01-21T12:37:28.288Z"
   },
   {
    "duration": 406,
    "start_time": "2022-01-21T12:37:28.624Z"
   },
   {
    "duration": 273,
    "start_time": "2022-01-21T12:37:29.033Z"
   },
   {
    "duration": 62,
    "start_time": "2022-01-21T12:37:29.307Z"
   },
   {
    "duration": 65,
    "start_time": "2022-01-21T12:37:29.306Z"
   },
   {
    "duration": 63,
    "start_time": "2022-01-21T12:37:29.309Z"
   },
   {
    "duration": 63,
    "start_time": "2022-01-21T12:37:29.311Z"
   },
   {
    "duration": 62,
    "start_time": "2022-01-21T12:37:29.313Z"
   },
   {
    "duration": 60,
    "start_time": "2022-01-21T12:37:29.316Z"
   },
   {
    "duration": 60,
    "start_time": "2022-01-21T12:37:29.318Z"
   },
   {
    "duration": 55,
    "start_time": "2022-01-21T12:37:44.531Z"
   },
   {
    "duration": 19,
    "start_time": "2022-01-21T12:37:44.588Z"
   },
   {
    "duration": 23,
    "start_time": "2022-01-21T12:37:44.612Z"
   },
   {
    "duration": 4,
    "start_time": "2022-01-21T12:37:44.637Z"
   },
   {
    "duration": 24,
    "start_time": "2022-01-21T12:37:44.643Z"
   },
   {
    "duration": 12,
    "start_time": "2022-01-21T12:37:44.668Z"
   },
   {
    "duration": 17,
    "start_time": "2022-01-21T12:37:44.682Z"
   },
   {
    "duration": 10,
    "start_time": "2022-01-21T12:37:44.702Z"
   },
   {
    "duration": 465,
    "start_time": "2022-01-21T12:37:44.714Z"
   },
   {
    "duration": 5,
    "start_time": "2022-01-21T12:37:45.180Z"
   },
   {
    "duration": 33,
    "start_time": "2022-01-21T12:37:45.186Z"
   },
   {
    "duration": 389,
    "start_time": "2022-01-21T12:37:45.221Z"
   },
   {
    "duration": 18,
    "start_time": "2022-01-21T12:37:45.612Z"
   },
   {
    "duration": 25,
    "start_time": "2022-01-21T12:37:45.632Z"
   },
   {
    "duration": 459,
    "start_time": "2022-01-21T12:37:45.660Z"
   },
   {
    "duration": 2132,
    "start_time": "2022-01-21T12:37:46.121Z"
   },
   {
    "duration": 20,
    "start_time": "2022-01-21T12:37:48.254Z"
   },
   {
    "duration": 10,
    "start_time": "2022-01-21T12:37:48.276Z"
   },
   {
    "duration": 28,
    "start_time": "2022-01-21T12:37:48.288Z"
   },
   {
    "duration": 196,
    "start_time": "2022-01-21T12:37:48.319Z"
   },
   {
    "duration": 205,
    "start_time": "2022-01-21T12:37:48.517Z"
   },
   {
    "duration": 193,
    "start_time": "2022-01-21T12:37:48.724Z"
   },
   {
    "duration": 7,
    "start_time": "2022-01-21T12:37:48.920Z"
   },
   {
    "duration": 15,
    "start_time": "2022-01-21T12:37:48.928Z"
   },
   {
    "duration": 23,
    "start_time": "2022-01-21T12:37:48.944Z"
   },
   {
    "duration": 311,
    "start_time": "2022-01-21T12:37:48.969Z"
   },
   {
    "duration": 306,
    "start_time": "2022-01-21T12:37:49.281Z"
   },
   {
    "duration": 288,
    "start_time": "2022-01-21T12:37:49.589Z"
   },
   {
    "duration": 8,
    "start_time": "2022-01-21T12:37:49.878Z"
   },
   {
    "duration": 18,
    "start_time": "2022-01-21T12:37:49.887Z"
   },
   {
    "duration": 25,
    "start_time": "2022-01-21T12:37:49.907Z"
   },
   {
    "duration": 12,
    "start_time": "2022-01-21T12:37:49.934Z"
   },
   {
    "duration": 25,
    "start_time": "2022-01-21T12:37:49.948Z"
   },
   {
    "duration": 15,
    "start_time": "2022-01-21T12:37:49.975Z"
   },
   {
    "duration": 1140,
    "start_time": "2022-01-21T19:46:22.711Z"
   },
   {
    "duration": 16,
    "start_time": "2022-01-21T19:46:23.853Z"
   },
   {
    "duration": 12,
    "start_time": "2022-01-21T19:46:23.871Z"
   },
   {
    "duration": 4,
    "start_time": "2022-01-21T19:46:23.884Z"
   },
   {
    "duration": 11,
    "start_time": "2022-01-21T19:46:23.890Z"
   },
   {
    "duration": 6,
    "start_time": "2022-01-21T19:46:23.902Z"
   },
   {
    "duration": 31,
    "start_time": "2022-01-21T19:46:23.910Z"
   },
   {
    "duration": 3,
    "start_time": "2022-01-21T19:46:23.944Z"
   },
   {
    "duration": 453,
    "start_time": "2022-01-21T19:46:23.949Z"
   },
   {
    "duration": 6,
    "start_time": "2022-01-21T19:46:24.404Z"
   },
   {
    "duration": 38,
    "start_time": "2022-01-21T19:46:24.412Z"
   },
   {
    "duration": 355,
    "start_time": "2022-01-21T19:46:24.452Z"
   },
   {
    "duration": 32,
    "start_time": "2022-01-21T19:46:24.809Z"
   },
   {
    "duration": 21,
    "start_time": "2022-01-21T19:46:24.842Z"
   },
   {
    "duration": 371,
    "start_time": "2022-01-21T19:46:24.864Z"
   },
   {
    "duration": 1904,
    "start_time": "2022-01-21T19:46:25.241Z"
   },
   {
    "duration": 18,
    "start_time": "2022-01-21T19:46:27.147Z"
   },
   {
    "duration": 6,
    "start_time": "2022-01-21T19:46:27.167Z"
   },
   {
    "duration": 8,
    "start_time": "2022-01-21T19:46:27.175Z"
   },
   {
    "duration": 200,
    "start_time": "2022-01-21T19:46:27.185Z"
   },
   {
    "duration": 178,
    "start_time": "2022-01-21T19:46:27.387Z"
   },
   {
    "duration": 169,
    "start_time": "2022-01-21T19:46:27.567Z"
   },
   {
    "duration": 6,
    "start_time": "2022-01-21T19:46:27.739Z"
   },
   {
    "duration": 5,
    "start_time": "2022-01-21T19:46:27.747Z"
   },
   {
    "duration": 5,
    "start_time": "2022-01-21T19:46:27.754Z"
   },
   {
    "duration": 292,
    "start_time": "2022-01-21T19:46:27.761Z"
   },
   {
    "duration": 260,
    "start_time": "2022-01-21T19:46:28.055Z"
   },
   {
    "duration": 282,
    "start_time": "2022-01-21T19:46:28.317Z"
   },
   {
    "duration": 8,
    "start_time": "2022-01-21T19:46:28.601Z"
   },
   {
    "duration": 10,
    "start_time": "2022-01-21T19:46:28.610Z"
   },
   {
    "duration": 6,
    "start_time": "2022-01-21T19:46:28.642Z"
   },
   {
    "duration": 7,
    "start_time": "2022-01-21T19:46:28.650Z"
   },
   {
    "duration": 5,
    "start_time": "2022-01-21T19:46:28.659Z"
   },
   {
    "duration": 5,
    "start_time": "2022-01-21T19:46:28.666Z"
   },
   {
    "duration": 57,
    "start_time": "2022-01-21T20:06:11.043Z"
   },
   {
    "duration": 18,
    "start_time": "2022-01-21T20:06:11.102Z"
   },
   {
    "duration": 27,
    "start_time": "2022-01-21T20:06:11.122Z"
   },
   {
    "duration": 13,
    "start_time": "2022-01-21T20:06:11.151Z"
   },
   {
    "duration": 29,
    "start_time": "2022-01-21T20:06:11.165Z"
   },
   {
    "duration": 11,
    "start_time": "2022-01-21T20:06:37.851Z"
   },
   {
    "duration": 19,
    "start_time": "2022-01-21T20:52:39.286Z"
   },
   {
    "duration": 492,
    "start_time": "2022-01-21T20:52:47.449Z"
   },
   {
    "duration": 53,
    "start_time": "2022-01-21T20:52:58.727Z"
   },
   {
    "duration": 16,
    "start_time": "2022-01-21T20:52:58.782Z"
   },
   {
    "duration": 14,
    "start_time": "2022-01-21T20:52:58.800Z"
   },
   {
    "duration": 5,
    "start_time": "2022-01-21T20:52:58.841Z"
   },
   {
    "duration": 11,
    "start_time": "2022-01-21T20:52:58.848Z"
   },
   {
    "duration": 8,
    "start_time": "2022-01-21T20:52:58.861Z"
   },
   {
    "duration": 9,
    "start_time": "2022-01-21T20:52:58.870Z"
   },
   {
    "duration": 3,
    "start_time": "2022-01-21T20:52:58.882Z"
   },
   {
    "duration": 472,
    "start_time": "2022-01-21T20:52:58.887Z"
   },
   {
    "duration": 7,
    "start_time": "2022-01-21T20:52:59.361Z"
   },
   {
    "duration": 20,
    "start_time": "2022-01-21T20:52:59.369Z"
   },
   {
    "duration": 437,
    "start_time": "2022-01-21T20:52:59.391Z"
   },
   {
    "duration": 26,
    "start_time": "2022-01-21T20:52:59.830Z"
   },
   {
    "duration": 20,
    "start_time": "2022-01-21T20:52:59.858Z"
   },
   {
    "duration": 382,
    "start_time": "2022-01-21T20:52:59.879Z"
   },
   {
    "duration": 1911,
    "start_time": "2022-01-21T20:53:00.262Z"
   },
   {
    "duration": 19,
    "start_time": "2022-01-21T20:53:02.174Z"
   },
   {
    "duration": 21,
    "start_time": "2022-01-21T20:53:02.195Z"
   },
   {
    "duration": 16,
    "start_time": "2022-01-21T20:53:02.217Z"
   },
   {
    "duration": 196,
    "start_time": "2022-01-21T20:53:02.235Z"
   },
   {
    "duration": 178,
    "start_time": "2022-01-21T20:53:02.441Z"
   },
   {
    "duration": 182,
    "start_time": "2022-01-21T20:53:02.621Z"
   },
   {
    "duration": 8,
    "start_time": "2022-01-21T20:53:02.807Z"
   },
   {
    "duration": 24,
    "start_time": "2022-01-21T20:53:02.818Z"
   },
   {
    "duration": 7,
    "start_time": "2022-01-21T20:53:02.844Z"
   },
   {
    "duration": 273,
    "start_time": "2022-01-21T20:53:02.852Z"
   },
   {
    "duration": 344,
    "start_time": "2022-01-21T20:53:03.126Z"
   },
   {
    "duration": 261,
    "start_time": "2022-01-21T20:53:03.472Z"
   },
   {
    "duration": 14,
    "start_time": "2022-01-21T20:53:03.734Z"
   },
   {
    "duration": 9,
    "start_time": "2022-01-21T20:53:03.750Z"
   },
   {
    "duration": 8,
    "start_time": "2022-01-21T20:53:03.761Z"
   },
   {
    "duration": 6,
    "start_time": "2022-01-21T20:53:03.770Z"
   },
   {
    "duration": 9,
    "start_time": "2022-01-21T20:53:03.778Z"
   },
   {
    "duration": 5,
    "start_time": "2022-01-21T20:53:03.789Z"
   },
   {
    "duration": 16,
    "start_time": "2022-01-21T21:09:56.846Z"
   },
   {
    "duration": 27,
    "start_time": "2022-01-21T21:14:23.092Z"
   },
   {
    "duration": 26,
    "start_time": "2022-01-21T21:15:30.126Z"
   },
   {
    "duration": 22,
    "start_time": "2022-01-21T21:19:17.154Z"
   },
   {
    "duration": 21,
    "start_time": "2022-01-21T21:19:54.502Z"
   },
   {
    "duration": 29,
    "start_time": "2022-01-21T21:21:27.811Z"
   },
   {
    "duration": 1556,
    "start_time": "2022-01-22T09:53:50.567Z"
   },
   {
    "duration": 51,
    "start_time": "2022-01-22T09:53:52.126Z"
   },
   {
    "duration": 22,
    "start_time": "2022-01-22T09:53:52.180Z"
   },
   {
    "duration": 7,
    "start_time": "2022-01-22T09:53:52.204Z"
   },
   {
    "duration": 56,
    "start_time": "2022-01-22T09:53:52.213Z"
   },
   {
    "duration": 11,
    "start_time": "2022-01-22T09:53:52.272Z"
   },
   {
    "duration": 14,
    "start_time": "2022-01-22T09:53:52.286Z"
   },
   {
    "duration": 3,
    "start_time": "2022-01-22T09:53:52.304Z"
   },
   {
    "duration": 844,
    "start_time": "2022-01-22T09:53:52.310Z"
   },
   {
    "duration": 18,
    "start_time": "2022-01-22T09:53:53.156Z"
   },
   {
    "duration": 49,
    "start_time": "2022-01-22T09:53:53.176Z"
   },
   {
    "duration": 670,
    "start_time": "2022-01-22T09:53:53.228Z"
   },
   {
    "duration": 31,
    "start_time": "2022-01-22T09:53:53.900Z"
   },
   {
    "duration": 72,
    "start_time": "2022-01-22T09:53:53.933Z"
   },
   {
    "duration": 62,
    "start_time": "2022-01-22T09:53:54.007Z"
   },
   {
    "duration": 670,
    "start_time": "2022-01-22T09:53:54.071Z"
   },
   {
    "duration": 2847,
    "start_time": "2022-01-22T09:53:54.743Z"
   },
   {
    "duration": 31,
    "start_time": "2022-01-22T09:53:57.593Z"
   },
   {
    "duration": 11,
    "start_time": "2022-01-22T09:53:57.626Z"
   },
   {
    "duration": 12,
    "start_time": "2022-01-22T09:53:57.670Z"
   },
   {
    "duration": 315,
    "start_time": "2022-01-22T09:53:57.684Z"
   },
   {
    "duration": 312,
    "start_time": "2022-01-22T09:53:58.001Z"
   },
   {
    "duration": 299,
    "start_time": "2022-01-22T09:53:58.317Z"
   },
   {
    "duration": 9,
    "start_time": "2022-01-22T09:53:58.619Z"
   },
   {
    "duration": 11,
    "start_time": "2022-01-22T09:53:58.630Z"
   },
   {
    "duration": 10,
    "start_time": "2022-01-22T09:53:58.670Z"
   },
   {
    "duration": 458,
    "start_time": "2022-01-22T09:53:58.682Z"
   },
   {
    "duration": 433,
    "start_time": "2022-01-22T09:53:59.143Z"
   },
   {
    "duration": 434,
    "start_time": "2022-01-22T09:53:59.579Z"
   },
   {
    "duration": 11,
    "start_time": "2022-01-22T09:54:00.015Z"
   },
   {
    "duration": 12,
    "start_time": "2022-01-22T09:54:00.028Z"
   },
   {
    "duration": 8,
    "start_time": "2022-01-22T09:54:00.069Z"
   },
   {
    "duration": 12,
    "start_time": "2022-01-22T09:54:00.080Z"
   },
   {
    "duration": 11,
    "start_time": "2022-01-22T09:54:00.095Z"
   },
   {
    "duration": 9,
    "start_time": "2022-01-22T09:54:00.108Z"
   },
   {
    "duration": 44,
    "start_time": "2022-01-22T09:57:38.816Z"
   },
   {
    "duration": 585,
    "start_time": "2022-01-22T09:59:26.089Z"
   },
   {
    "duration": 550,
    "start_time": "2022-01-22T09:59:38.565Z"
   },
   {
    "duration": 569,
    "start_time": "2022-01-22T10:17:10.870Z"
   },
   {
    "duration": 326,
    "start_time": "2022-01-22T10:18:06.471Z"
   },
   {
    "duration": 671,
    "start_time": "2022-01-22T10:19:44.463Z"
   },
   {
    "duration": 81,
    "start_time": "2022-01-22T10:30:45.594Z"
   },
   {
    "duration": 32,
    "start_time": "2022-01-22T10:30:45.678Z"
   },
   {
    "duration": 60,
    "start_time": "2022-01-22T10:30:45.713Z"
   },
   {
    "duration": 6,
    "start_time": "2022-01-22T10:30:45.775Z"
   },
   {
    "duration": 19,
    "start_time": "2022-01-22T10:30:45.783Z"
   },
   {
    "duration": 11,
    "start_time": "2022-01-22T10:30:45.804Z"
   },
   {
    "duration": 59,
    "start_time": "2022-01-22T10:30:45.818Z"
   },
   {
    "duration": 4,
    "start_time": "2022-01-22T10:30:45.880Z"
   },
   {
    "duration": 830,
    "start_time": "2022-01-22T10:30:45.887Z"
   },
   {
    "duration": 8,
    "start_time": "2022-01-22T10:30:46.719Z"
   },
   {
    "duration": 53,
    "start_time": "2022-01-22T10:30:46.730Z"
   },
   {
    "duration": 663,
    "start_time": "2022-01-22T10:30:46.785Z"
   },
   {
    "duration": 44,
    "start_time": "2022-01-22T10:30:47.450Z"
   },
   {
    "duration": 578,
    "start_time": "2022-01-22T10:30:47.496Z"
   },
   {
    "duration": 38,
    "start_time": "2022-01-22T10:30:48.076Z"
   },
   {
    "duration": 690,
    "start_time": "2022-01-22T10:30:48.117Z"
   },
   {
    "duration": 2923,
    "start_time": "2022-01-22T10:30:48.810Z"
   },
   {
    "duration": 44,
    "start_time": "2022-01-22T10:30:51.736Z"
   },
   {
    "duration": 13,
    "start_time": "2022-01-22T10:30:51.783Z"
   },
   {
    "duration": 15,
    "start_time": "2022-01-22T10:30:51.798Z"
   },
   {
    "duration": 332,
    "start_time": "2022-01-22T10:30:51.816Z"
   },
   {
    "duration": 330,
    "start_time": "2022-01-22T10:30:52.150Z"
   },
   {
    "duration": 312,
    "start_time": "2022-01-22T10:30:52.485Z"
   },
   {
    "duration": 10,
    "start_time": "2022-01-22T10:30:52.799Z"
   },
   {
    "duration": 14,
    "start_time": "2022-01-22T10:30:52.811Z"
   },
   {
    "duration": 48,
    "start_time": "2022-01-22T10:30:52.827Z"
   },
   {
    "duration": 483,
    "start_time": "2022-01-22T10:30:52.878Z"
   },
   {
    "duration": 443,
    "start_time": "2022-01-22T10:30:53.363Z"
   },
   {
    "duration": 437,
    "start_time": "2022-01-22T10:30:53.808Z"
   },
   {
    "duration": 24,
    "start_time": "2022-01-22T10:30:54.247Z"
   },
   {
    "duration": 13,
    "start_time": "2022-01-22T10:30:54.273Z"
   },
   {
    "duration": 7,
    "start_time": "2022-01-22T10:30:54.289Z"
   },
   {
    "duration": 8,
    "start_time": "2022-01-22T10:30:54.298Z"
   },
   {
    "duration": 64,
    "start_time": "2022-01-22T10:30:54.309Z"
   },
   {
    "duration": 7,
    "start_time": "2022-01-22T10:30:54.375Z"
   },
   {
    "duration": 40,
    "start_time": "2022-01-22T10:38:38.809Z"
   },
   {
    "duration": 665,
    "start_time": "2022-01-22T10:38:42.484Z"
   },
   {
    "duration": 3610,
    "start_time": "2022-01-22T10:45:05.963Z"
   },
   {
    "duration": 351,
    "start_time": "2022-01-22T15:20:43.286Z"
   },
   {
    "duration": 1150,
    "start_time": "2022-01-22T15:20:49.774Z"
   },
   {
    "duration": 17,
    "start_time": "2022-01-22T15:20:50.926Z"
   },
   {
    "duration": 13,
    "start_time": "2022-01-22T15:20:50.945Z"
   },
   {
    "duration": 11,
    "start_time": "2022-01-22T15:20:50.960Z"
   },
   {
    "duration": 9,
    "start_time": "2022-01-22T15:20:50.973Z"
   },
   {
    "duration": 7,
    "start_time": "2022-01-22T15:20:50.983Z"
   },
   {
    "duration": 10,
    "start_time": "2022-01-22T15:20:50.992Z"
   },
   {
    "duration": 2,
    "start_time": "2022-01-22T15:20:51.005Z"
   },
   {
    "duration": 477,
    "start_time": "2022-01-22T15:20:51.010Z"
   },
   {
    "duration": 6,
    "start_time": "2022-01-22T15:20:51.489Z"
   },
   {
    "duration": 18,
    "start_time": "2022-01-22T15:20:51.497Z"
   },
   {
    "duration": 380,
    "start_time": "2022-01-22T15:20:51.516Z"
   },
   {
    "duration": 20,
    "start_time": "2022-01-22T15:20:51.898Z"
   },
   {
    "duration": 324,
    "start_time": "2022-01-22T15:20:51.920Z"
   },
   {
    "duration": 32,
    "start_time": "2022-01-22T15:20:52.246Z"
   },
   {
    "duration": 374,
    "start_time": "2022-01-22T15:20:52.280Z"
   },
   {
    "duration": 1952,
    "start_time": "2022-01-22T15:20:52.656Z"
   },
   {
    "duration": 17,
    "start_time": "2022-01-22T15:20:54.610Z"
   },
   {
    "duration": 7,
    "start_time": "2022-01-22T15:20:54.634Z"
   },
   {
    "duration": 6,
    "start_time": "2022-01-22T15:20:54.642Z"
   },
   {
    "duration": 194,
    "start_time": "2022-01-22T15:20:54.649Z"
   },
   {
    "duration": 175,
    "start_time": "2022-01-22T15:20:54.845Z"
   },
   {
    "duration": 180,
    "start_time": "2022-01-22T15:20:55.023Z"
   },
   {
    "duration": 7,
    "start_time": "2022-01-22T15:20:55.204Z"
   },
   {
    "duration": 7,
    "start_time": "2022-01-22T15:20:55.212Z"
   },
   {
    "duration": 5,
    "start_time": "2022-01-22T15:20:55.220Z"
   },
   {
    "duration": 272,
    "start_time": "2022-01-22T15:20:55.227Z"
   },
   {
    "duration": 249,
    "start_time": "2022-01-22T15:20:55.500Z"
   },
   {
    "duration": 259,
    "start_time": "2022-01-22T15:20:55.751Z"
   },
   {
    "duration": 7,
    "start_time": "2022-01-22T15:20:56.011Z"
   },
   {
    "duration": 8,
    "start_time": "2022-01-22T15:20:56.020Z"
   },
   {
    "duration": 5,
    "start_time": "2022-01-22T15:20:56.029Z"
   },
   {
    "duration": 8,
    "start_time": "2022-01-22T15:20:56.036Z"
   },
   {
    "duration": 5,
    "start_time": "2022-01-22T15:20:56.072Z"
   },
   {
    "duration": 5,
    "start_time": "2022-01-22T15:20:56.079Z"
   },
   {
    "duration": 7,
    "start_time": "2022-01-22T15:36:40.001Z"
   },
   {
    "duration": 8,
    "start_time": "2022-01-22T15:40:19.179Z"
   },
   {
    "duration": 50,
    "start_time": "2022-01-22T15:41:07.173Z"
   },
   {
    "duration": 16,
    "start_time": "2022-01-22T15:41:07.225Z"
   },
   {
    "duration": 30,
    "start_time": "2022-01-22T15:41:07.243Z"
   },
   {
    "duration": 4,
    "start_time": "2022-01-22T15:41:07.275Z"
   },
   {
    "duration": 11,
    "start_time": "2022-01-22T15:41:07.280Z"
   },
   {
    "duration": 7,
    "start_time": "2022-01-22T15:41:07.292Z"
   },
   {
    "duration": 8,
    "start_time": "2022-01-22T15:41:07.301Z"
   },
   {
    "duration": 3,
    "start_time": "2022-01-22T15:41:07.311Z"
   },
   {
    "duration": 476,
    "start_time": "2022-01-22T15:41:07.315Z"
   },
   {
    "duration": 5,
    "start_time": "2022-01-22T15:41:07.793Z"
   },
   {
    "duration": 16,
    "start_time": "2022-01-22T15:41:07.799Z"
   },
   {
    "duration": 368,
    "start_time": "2022-01-22T15:41:07.817Z"
   },
   {
    "duration": 18,
    "start_time": "2022-01-22T15:41:08.187Z"
   },
   {
    "duration": 323,
    "start_time": "2022-01-22T15:41:08.207Z"
   },
   {
    "duration": 20,
    "start_time": "2022-01-22T15:41:08.531Z"
   },
   {
    "duration": 366,
    "start_time": "2022-01-22T15:41:08.552Z"
   },
   {
    "duration": 1768,
    "start_time": "2022-01-22T15:41:08.920Z"
   },
   {
    "duration": 17,
    "start_time": "2022-01-22T15:41:10.690Z"
   },
   {
    "duration": 14,
    "start_time": "2022-01-22T15:41:10.708Z"
   },
   {
    "duration": 10,
    "start_time": "2022-01-22T15:41:10.724Z"
   },
   {
    "duration": 185,
    "start_time": "2022-01-22T15:41:10.735Z"
   },
   {
    "duration": 7,
    "start_time": "2022-01-22T15:41:10.922Z"
   },
   {
    "duration": 329,
    "start_time": "2022-01-22T15:41:10.932Z"
   },
   {
    "duration": -274,
    "start_time": "2022-01-22T15:41:11.537Z"
   },
   {
    "duration": -276,
    "start_time": "2022-01-22T15:41:11.540Z"
   },
   {
    "duration": -277,
    "start_time": "2022-01-22T15:41:11.542Z"
   },
   {
    "duration": -278,
    "start_time": "2022-01-22T15:41:11.544Z"
   },
   {
    "duration": -280,
    "start_time": "2022-01-22T15:41:11.547Z"
   },
   {
    "duration": -286,
    "start_time": "2022-01-22T15:41:11.553Z"
   },
   {
    "duration": -289,
    "start_time": "2022-01-22T15:41:11.557Z"
   },
   {
    "duration": -290,
    "start_time": "2022-01-22T15:41:11.559Z"
   },
   {
    "duration": -292,
    "start_time": "2022-01-22T15:41:11.562Z"
   },
   {
    "duration": -293,
    "start_time": "2022-01-22T15:41:11.564Z"
   },
   {
    "duration": -294,
    "start_time": "2022-01-22T15:41:11.566Z"
   },
   {
    "duration": -296,
    "start_time": "2022-01-22T15:41:11.569Z"
   },
   {
    "duration": -297,
    "start_time": "2022-01-22T15:41:11.571Z"
   },
   {
    "duration": -299,
    "start_time": "2022-01-22T15:41:11.574Z"
   },
   {
    "duration": -300,
    "start_time": "2022-01-22T15:41:11.576Z"
   },
   {
    "duration": -302,
    "start_time": "2022-01-22T15:41:11.578Z"
   },
   {
    "duration": 169,
    "start_time": "2022-01-22T15:42:23.104Z"
   },
   {
    "duration": 7,
    "start_time": "2022-01-22T15:42:29.931Z"
   },
   {
    "duration": 169,
    "start_time": "2022-01-22T15:42:54.780Z"
   },
   {
    "duration": 6,
    "start_time": "2022-01-22T15:43:49.826Z"
   },
   {
    "duration": 7,
    "start_time": "2022-01-22T15:53:08.834Z"
   },
   {
    "duration": 7,
    "start_time": "2022-01-22T15:53:13.990Z"
   },
   {
    "duration": 7,
    "start_time": "2022-01-22T15:53:33.927Z"
   },
   {
    "duration": 7,
    "start_time": "2022-01-22T15:58:34.595Z"
   },
   {
    "duration": 6,
    "start_time": "2022-01-22T15:58:43.529Z"
   },
   {
    "duration": 7,
    "start_time": "2022-01-22T15:58:54.685Z"
   },
   {
    "duration": 399,
    "start_time": "2022-01-22T15:59:55.616Z"
   },
   {
    "duration": 318,
    "start_time": "2022-01-22T15:59:59.020Z"
   },
   {
    "duration": 239,
    "start_time": "2022-01-22T16:00:01.642Z"
   },
   {
    "duration": 3197,
    "start_time": "2022-01-22T17:03:45.304Z"
   },
   {
    "duration": 295,
    "start_time": "2022-01-22T19:11:08.510Z"
   },
   {
    "duration": 1159,
    "start_time": "2022-01-22T19:11:12.457Z"
   },
   {
    "duration": 20,
    "start_time": "2022-01-22T19:11:13.618Z"
   },
   {
    "duration": 14,
    "start_time": "2022-01-22T19:11:13.640Z"
   },
   {
    "duration": 4,
    "start_time": "2022-01-22T19:11:13.656Z"
   },
   {
    "duration": 10,
    "start_time": "2022-01-22T19:11:13.662Z"
   },
   {
    "duration": 30,
    "start_time": "2022-01-22T19:11:13.674Z"
   },
   {
    "duration": 12,
    "start_time": "2022-01-22T19:11:13.706Z"
   },
   {
    "duration": 2,
    "start_time": "2022-01-22T19:11:13.720Z"
   },
   {
    "duration": 484,
    "start_time": "2022-01-22T19:11:13.725Z"
   },
   {
    "duration": 5,
    "start_time": "2022-01-22T19:11:14.210Z"
   },
   {
    "duration": 24,
    "start_time": "2022-01-22T19:11:14.216Z"
   },
   {
    "duration": 429,
    "start_time": "2022-01-22T19:11:14.241Z"
   },
   {
    "duration": 31,
    "start_time": "2022-01-22T19:11:14.672Z"
   },
   {
    "duration": 361,
    "start_time": "2022-01-22T19:11:14.704Z"
   },
   {
    "duration": 34,
    "start_time": "2022-01-22T19:11:15.067Z"
   },
   {
    "duration": 468,
    "start_time": "2022-01-22T19:11:15.104Z"
   },
   {
    "duration": 3466,
    "start_time": "2022-01-22T19:11:15.574Z"
   },
   {
    "duration": 21,
    "start_time": "2022-01-22T19:11:19.042Z"
   },
   {
    "duration": 7,
    "start_time": "2022-01-22T19:11:19.065Z"
   },
   {
    "duration": 25,
    "start_time": "2022-01-22T19:11:19.074Z"
   },
   {
    "duration": 201,
    "start_time": "2022-01-22T19:11:19.101Z"
   },
   {
    "duration": 6,
    "start_time": "2022-01-22T19:11:19.304Z"
   },
   {
    "duration": 208,
    "start_time": "2022-01-22T19:11:19.313Z"
   },
   {
    "duration": 7,
    "start_time": "2022-01-22T19:11:19.523Z"
   },
   {
    "duration": 89,
    "start_time": "2022-01-22T19:11:19.532Z"
   },
   {
    "duration": -1065,
    "start_time": "2022-01-22T19:11:20.688Z"
   },
   {
    "duration": -1068,
    "start_time": "2022-01-22T19:11:20.692Z"
   },
   {
    "duration": -1071,
    "start_time": "2022-01-22T19:11:20.696Z"
   },
   {
    "duration": -1073,
    "start_time": "2022-01-22T19:11:20.699Z"
   },
   {
    "duration": -1076,
    "start_time": "2022-01-22T19:11:20.703Z"
   },
   {
    "duration": -1078,
    "start_time": "2022-01-22T19:11:20.706Z"
   },
   {
    "duration": -1080,
    "start_time": "2022-01-22T19:11:20.709Z"
   },
   {
    "duration": -1082,
    "start_time": "2022-01-22T19:11:20.712Z"
   },
   {
    "duration": -1083,
    "start_time": "2022-01-22T19:11:20.714Z"
   },
   {
    "duration": -1085,
    "start_time": "2022-01-22T19:11:20.717Z"
   },
   {
    "duration": -1086,
    "start_time": "2022-01-22T19:11:20.719Z"
   },
   {
    "duration": -1088,
    "start_time": "2022-01-22T19:11:20.722Z"
   },
   {
    "duration": -1089,
    "start_time": "2022-01-22T19:11:20.724Z"
   },
   {
    "duration": -1095,
    "start_time": "2022-01-22T19:11:20.731Z"
   },
   {
    "duration": 183,
    "start_time": "2022-01-22T19:11:38.582Z"
   },
   {
    "duration": 7,
    "start_time": "2022-01-22T19:11:38.766Z"
   },
   {
    "duration": 31,
    "start_time": "2022-01-22T19:11:38.775Z"
   },
   {
    "duration": 16,
    "start_time": "2022-01-22T19:11:38.808Z"
   },
   {
    "duration": 25,
    "start_time": "2022-01-22T19:11:38.825Z"
   },
   {
    "duration": 314,
    "start_time": "2022-01-22T19:11:38.852Z"
   },
   {
    "duration": 361,
    "start_time": "2022-01-22T19:11:39.168Z"
   },
   {
    "duration": 288,
    "start_time": "2022-01-22T19:11:39.531Z"
   },
   {
    "duration": 8,
    "start_time": "2022-01-22T19:11:39.821Z"
   },
   {
    "duration": 8,
    "start_time": "2022-01-22T19:11:39.831Z"
   },
   {
    "duration": 5,
    "start_time": "2022-01-22T19:11:39.841Z"
   },
   {
    "duration": 6,
    "start_time": "2022-01-22T19:11:39.848Z"
   },
   {
    "duration": 7,
    "start_time": "2022-01-22T19:11:39.855Z"
   },
   {
    "duration": 40,
    "start_time": "2022-01-22T19:11:39.863Z"
   },
   {
    "duration": 57,
    "start_time": "2022-01-22T19:11:53.423Z"
   },
   {
    "duration": 19,
    "start_time": "2022-01-22T19:11:53.482Z"
   },
   {
    "duration": 17,
    "start_time": "2022-01-22T19:11:53.503Z"
   },
   {
    "duration": 4,
    "start_time": "2022-01-22T19:11:53.522Z"
   },
   {
    "duration": 10,
    "start_time": "2022-01-22T19:11:53.528Z"
   },
   {
    "duration": 8,
    "start_time": "2022-01-22T19:11:53.540Z"
   },
   {
    "duration": 10,
    "start_time": "2022-01-22T19:11:53.550Z"
   },
   {
    "duration": 37,
    "start_time": "2022-01-22T19:11:53.563Z"
   },
   {
    "duration": 462,
    "start_time": "2022-01-22T19:11:53.602Z"
   },
   {
    "duration": 5,
    "start_time": "2022-01-22T19:11:54.065Z"
   },
   {
    "duration": 32,
    "start_time": "2022-01-22T19:11:54.072Z"
   },
   {
    "duration": 422,
    "start_time": "2022-01-22T19:11:54.105Z"
   },
   {
    "duration": 20,
    "start_time": "2022-01-22T19:11:54.529Z"
   },
   {
    "duration": 370,
    "start_time": "2022-01-22T19:11:54.551Z"
   },
   {
    "duration": 23,
    "start_time": "2022-01-22T19:11:54.923Z"
   },
   {
    "duration": 456,
    "start_time": "2022-01-22T19:11:54.947Z"
   },
   {
    "duration": 3482,
    "start_time": "2022-01-22T19:11:55.405Z"
   },
   {
    "duration": 27,
    "start_time": "2022-01-22T19:11:58.888Z"
   },
   {
    "duration": 7,
    "start_time": "2022-01-22T19:11:58.916Z"
   },
   {
    "duration": 7,
    "start_time": "2022-01-22T19:11:58.924Z"
   },
   {
    "duration": 207,
    "start_time": "2022-01-22T19:11:58.932Z"
   },
   {
    "duration": 7,
    "start_time": "2022-01-22T19:11:59.141Z"
   },
   {
    "duration": 206,
    "start_time": "2022-01-22T19:11:59.151Z"
   },
   {
    "duration": 7,
    "start_time": "2022-01-22T19:11:59.359Z"
   },
   {
    "duration": 190,
    "start_time": "2022-01-22T19:11:59.368Z"
   },
   {
    "duration": 7,
    "start_time": "2022-01-22T19:11:59.560Z"
   },
   {
    "duration": 6,
    "start_time": "2022-01-22T19:11:59.569Z"
   },
   {
    "duration": 25,
    "start_time": "2022-01-22T19:11:59.577Z"
   },
   {
    "duration": 7,
    "start_time": "2022-01-22T19:11:59.604Z"
   },
   {
    "duration": 321,
    "start_time": "2022-01-22T19:11:59.612Z"
   },
   {
    "duration": 288,
    "start_time": "2022-01-22T19:11:59.935Z"
   },
   {
    "duration": 288,
    "start_time": "2022-01-22T19:12:00.225Z"
   },
   {
    "duration": 9,
    "start_time": "2022-01-22T19:12:00.514Z"
   },
   {
    "duration": 9,
    "start_time": "2022-01-22T19:12:00.525Z"
   },
   {
    "duration": 8,
    "start_time": "2022-01-22T19:12:00.535Z"
   },
   {
    "duration": 7,
    "start_time": "2022-01-22T19:12:00.545Z"
   },
   {
    "duration": 7,
    "start_time": "2022-01-22T19:12:00.554Z"
   },
   {
    "duration": 36,
    "start_time": "2022-01-22T19:12:00.563Z"
   },
   {
    "duration": 298,
    "start_time": "2022-01-22T19:12:15.412Z"
   },
   {
    "duration": 223,
    "start_time": "2022-01-22T19:55:21.157Z"
   },
   {
    "duration": 240,
    "start_time": "2022-01-22T19:55:26.418Z"
   },
   {
    "duration": 1321,
    "start_time": "2022-01-22T20:36:10.541Z"
   },
   {
    "duration": 1069,
    "start_time": "2022-01-22T20:36:22.740Z"
   },
   {
    "duration": 87,
    "start_time": "2022-01-22T20:38:50.982Z"
   },
   {
    "duration": 271,
    "start_time": "2022-01-22T20:39:30.681Z"
   },
   {
    "duration": 249,
    "start_time": "2022-01-22T20:40:29.755Z"
   },
   {
    "duration": 177,
    "start_time": "2022-01-22T20:40:58.221Z"
   },
   {
    "duration": 181,
    "start_time": "2022-01-22T20:41:20.399Z"
   },
   {
    "duration": 85,
    "start_time": "2022-01-22T20:41:39.217Z"
   },
   {
    "duration": 171,
    "start_time": "2022-01-22T20:41:46.369Z"
   },
   {
    "duration": 91,
    "start_time": "2022-01-22T20:42:05.934Z"
   },
   {
    "duration": 180,
    "start_time": "2022-01-22T20:42:37.774Z"
   },
   {
    "duration": 182,
    "start_time": "2022-01-22T21:04:04.583Z"
   },
   {
    "duration": 180,
    "start_time": "2022-01-22T21:04:48.329Z"
   },
   {
    "duration": 171,
    "start_time": "2022-01-22T21:09:57.724Z"
   },
   {
    "duration": 208,
    "start_time": "2022-01-22T21:17:04.526Z"
   },
   {
    "duration": 174,
    "start_time": "2022-01-22T21:17:20.703Z"
   },
   {
    "duration": 56,
    "start_time": "2022-01-22T21:17:31.771Z"
   },
   {
    "duration": 19,
    "start_time": "2022-01-22T21:17:31.829Z"
   },
   {
    "duration": 18,
    "start_time": "2022-01-22T21:17:31.850Z"
   },
   {
    "duration": 31,
    "start_time": "2022-01-22T21:17:31.869Z"
   },
   {
    "duration": 9,
    "start_time": "2022-01-22T21:17:31.902Z"
   },
   {
    "duration": 7,
    "start_time": "2022-01-22T21:17:31.913Z"
   },
   {
    "duration": 9,
    "start_time": "2022-01-22T21:17:31.922Z"
   },
   {
    "duration": 2,
    "start_time": "2022-01-22T21:17:31.934Z"
   },
   {
    "duration": 500,
    "start_time": "2022-01-22T21:17:31.938Z"
   },
   {
    "duration": 6,
    "start_time": "2022-01-22T21:17:32.440Z"
   },
   {
    "duration": 23,
    "start_time": "2022-01-22T21:17:32.447Z"
   },
   {
    "duration": 521,
    "start_time": "2022-01-22T21:17:32.472Z"
   },
   {
    "duration": 21,
    "start_time": "2022-01-22T21:17:32.994Z"
   },
   {
    "duration": 375,
    "start_time": "2022-01-22T21:17:33.016Z"
   },
   {
    "duration": 27,
    "start_time": "2022-01-22T21:17:33.393Z"
   },
   {
    "duration": 445,
    "start_time": "2022-01-22T21:17:33.422Z"
   },
   {
    "duration": 3315,
    "start_time": "2022-01-22T21:17:33.869Z"
   },
   {
    "duration": 29,
    "start_time": "2022-01-22T21:17:37.186Z"
   },
   {
    "duration": 6,
    "start_time": "2022-01-22T21:17:37.216Z"
   },
   {
    "duration": 11,
    "start_time": "2022-01-22T21:17:37.224Z"
   },
   {
    "duration": 194,
    "start_time": "2022-01-22T21:17:37.236Z"
   },
   {
    "duration": 183,
    "start_time": "2022-01-22T21:17:37.432Z"
   },
   {
    "duration": 192,
    "start_time": "2022-01-22T21:17:37.618Z"
   },
   {
    "duration": 7,
    "start_time": "2022-01-22T21:17:37.812Z"
   },
   {
    "duration": 7,
    "start_time": "2022-01-22T21:17:37.820Z"
   },
   {
    "duration": 7,
    "start_time": "2022-01-22T21:17:37.828Z"
   },
   {
    "duration": 6,
    "start_time": "2022-01-22T21:17:37.836Z"
   },
   {
    "duration": 424,
    "start_time": "2022-01-22T21:17:37.844Z"
   },
   {
    "duration": 295,
    "start_time": "2022-01-22T21:17:38.269Z"
   },
   {
    "duration": 295,
    "start_time": "2022-01-22T21:17:38.565Z"
   },
   {
    "duration": 7,
    "start_time": "2022-01-22T21:17:38.862Z"
   },
   {
    "duration": 8,
    "start_time": "2022-01-22T21:17:38.871Z"
   },
   {
    "duration": 5,
    "start_time": "2022-01-22T21:17:38.899Z"
   },
   {
    "duration": 6,
    "start_time": "2022-01-22T21:17:38.906Z"
   },
   {
    "duration": 7,
    "start_time": "2022-01-22T21:17:38.914Z"
   },
   {
    "duration": 8,
    "start_time": "2022-01-22T21:17:38.923Z"
   },
   {
    "duration": 177,
    "start_time": "2022-01-22T21:19:08.618Z"
   },
   {
    "duration": 55,
    "start_time": "2022-01-22T21:19:28.433Z"
   },
   {
    "duration": 23,
    "start_time": "2022-01-22T21:19:28.490Z"
   },
   {
    "duration": 16,
    "start_time": "2022-01-22T21:19:28.515Z"
   },
   {
    "duration": 5,
    "start_time": "2022-01-22T21:19:28.533Z"
   },
   {
    "duration": 14,
    "start_time": "2022-01-22T21:19:28.539Z"
   },
   {
    "duration": 9,
    "start_time": "2022-01-22T21:19:28.555Z"
   },
   {
    "duration": 10,
    "start_time": "2022-01-22T21:19:28.598Z"
   },
   {
    "duration": 3,
    "start_time": "2022-01-22T21:19:28.612Z"
   },
   {
    "duration": 477,
    "start_time": "2022-01-22T21:19:28.617Z"
   },
   {
    "duration": 6,
    "start_time": "2022-01-22T21:19:29.097Z"
   },
   {
    "duration": 20,
    "start_time": "2022-01-22T21:19:29.105Z"
   },
   {
    "duration": 443,
    "start_time": "2022-01-22T21:19:29.127Z"
   },
   {
    "duration": 27,
    "start_time": "2022-01-22T21:19:29.572Z"
   },
   {
    "duration": 366,
    "start_time": "2022-01-22T21:19:29.601Z"
   },
   {
    "duration": 33,
    "start_time": "2022-01-22T21:19:29.969Z"
   },
   {
    "duration": 462,
    "start_time": "2022-01-22T21:19:30.003Z"
   },
   {
    "duration": 3569,
    "start_time": "2022-01-22T21:19:30.467Z"
   },
   {
    "duration": 20,
    "start_time": "2022-01-22T21:19:34.038Z"
   },
   {
    "duration": 6,
    "start_time": "2022-01-22T21:19:34.060Z"
   },
   {
    "duration": 31,
    "start_time": "2022-01-22T21:19:34.068Z"
   },
   {
    "duration": 183,
    "start_time": "2022-01-22T21:19:34.101Z"
   },
   {
    "duration": 192,
    "start_time": "2022-01-22T21:19:34.286Z"
   },
   {
    "duration": 181,
    "start_time": "2022-01-22T21:19:34.481Z"
   },
   {
    "duration": 7,
    "start_time": "2022-01-22T21:19:34.664Z"
   },
   {
    "duration": 7,
    "start_time": "2022-01-22T21:19:34.672Z"
   },
   {
    "duration": 19,
    "start_time": "2022-01-22T21:19:34.680Z"
   },
   {
    "duration": 12,
    "start_time": "2022-01-22T21:19:34.701Z"
   },
   {
    "duration": 302,
    "start_time": "2022-01-22T21:19:34.715Z"
   },
   {
    "duration": 279,
    "start_time": "2022-01-22T21:19:35.019Z"
   },
   {
    "duration": 279,
    "start_time": "2022-01-22T21:19:35.300Z"
   },
   {
    "duration": 8,
    "start_time": "2022-01-22T21:19:35.580Z"
   },
   {
    "duration": 8,
    "start_time": "2022-01-22T21:19:35.599Z"
   },
   {
    "duration": 5,
    "start_time": "2022-01-22T21:19:35.609Z"
   },
   {
    "duration": 9,
    "start_time": "2022-01-22T21:19:35.615Z"
   },
   {
    "duration": 11,
    "start_time": "2022-01-22T21:19:35.625Z"
   },
   {
    "duration": 7,
    "start_time": "2022-01-22T21:19:35.638Z"
   },
   {
    "duration": 95,
    "start_time": "2022-01-22T21:26:56.005Z"
   },
   {
    "duration": 10,
    "start_time": "2022-01-22T21:27:01.239Z"
   },
   {
    "duration": 9,
    "start_time": "2022-01-22T21:35:39.243Z"
   },
   {
    "duration": 56,
    "start_time": "2022-01-22T21:35:52.462Z"
   },
   {
    "duration": 20,
    "start_time": "2022-01-22T21:35:52.520Z"
   },
   {
    "duration": 15,
    "start_time": "2022-01-22T21:35:52.543Z"
   },
   {
    "duration": 5,
    "start_time": "2022-01-22T21:35:52.560Z"
   },
   {
    "duration": 11,
    "start_time": "2022-01-22T21:35:52.598Z"
   },
   {
    "duration": 9,
    "start_time": "2022-01-22T21:35:52.611Z"
   },
   {
    "duration": 10,
    "start_time": "2022-01-22T21:35:52.622Z"
   },
   {
    "duration": 4,
    "start_time": "2022-01-22T21:35:52.634Z"
   },
   {
    "duration": 515,
    "start_time": "2022-01-22T21:35:52.640Z"
   },
   {
    "duration": 8,
    "start_time": "2022-01-22T21:35:53.157Z"
   },
   {
    "duration": 37,
    "start_time": "2022-01-22T21:35:53.166Z"
   },
   {
    "duration": 420,
    "start_time": "2022-01-22T21:35:53.206Z"
   },
   {
    "duration": 21,
    "start_time": "2022-01-22T21:35:53.628Z"
   },
   {
    "duration": 386,
    "start_time": "2022-01-22T21:35:53.651Z"
   },
   {
    "duration": 23,
    "start_time": "2022-01-22T21:35:54.038Z"
   },
   {
    "duration": 577,
    "start_time": "2022-01-22T21:35:54.062Z"
   },
   {
    "duration": 3375,
    "start_time": "2022-01-22T21:35:54.641Z"
   },
   {
    "duration": 20,
    "start_time": "2022-01-22T21:35:58.018Z"
   },
   {
    "duration": 7,
    "start_time": "2022-01-22T21:35:58.040Z"
   },
   {
    "duration": 8,
    "start_time": "2022-01-22T21:35:58.048Z"
   },
   {
    "duration": 9,
    "start_time": "2022-01-22T21:35:58.058Z"
   },
   {
    "duration": 180,
    "start_time": "2022-01-22T21:35:58.097Z"
   },
   {
    "duration": 187,
    "start_time": "2022-01-22T21:35:58.280Z"
   },
   {
    "duration": 10,
    "start_time": "2022-01-22T21:35:58.469Z"
   },
   {
    "duration": 20,
    "start_time": "2022-01-22T21:35:58.480Z"
   },
   {
    "duration": 7,
    "start_time": "2022-01-22T21:35:58.502Z"
   },
   {
    "duration": 7,
    "start_time": "2022-01-22T21:35:58.510Z"
   },
   {
    "duration": 314,
    "start_time": "2022-01-22T21:35:58.518Z"
   },
   {
    "duration": 292,
    "start_time": "2022-01-22T21:35:58.834Z"
   },
   {
    "duration": 288,
    "start_time": "2022-01-22T21:35:59.127Z"
   },
   {
    "duration": 9,
    "start_time": "2022-01-22T21:35:59.416Z"
   },
   {
    "duration": 9,
    "start_time": "2022-01-22T21:35:59.427Z"
   },
   {
    "duration": 8,
    "start_time": "2022-01-22T21:35:59.438Z"
   },
   {
    "duration": 18,
    "start_time": "2022-01-22T21:35:59.447Z"
   },
   {
    "duration": 8,
    "start_time": "2022-01-22T21:35:59.467Z"
   },
   {
    "duration": 22,
    "start_time": "2022-01-22T21:35:59.477Z"
   },
   {
    "duration": 184,
    "start_time": "2022-01-22T21:37:00.257Z"
   },
   {
    "duration": 81,
    "start_time": "2022-01-22T21:38:55.542Z"
   },
   {
    "duration": 182,
    "start_time": "2022-01-22T21:39:02.088Z"
   },
   {
    "duration": 170,
    "start_time": "2022-01-22T21:39:34.572Z"
   },
   {
    "duration": 56,
    "start_time": "2022-01-22T21:39:39.796Z"
   },
   {
    "duration": 20,
    "start_time": "2022-01-22T21:39:39.853Z"
   },
   {
    "duration": 36,
    "start_time": "2022-01-22T21:39:39.875Z"
   },
   {
    "duration": 4,
    "start_time": "2022-01-22T21:39:39.913Z"
   },
   {
    "duration": 10,
    "start_time": "2022-01-22T21:39:39.919Z"
   },
   {
    "duration": 7,
    "start_time": "2022-01-22T21:39:39.930Z"
   },
   {
    "duration": 10,
    "start_time": "2022-01-22T21:39:39.939Z"
   },
   {
    "duration": 3,
    "start_time": "2022-01-22T21:39:39.951Z"
   },
   {
    "duration": 514,
    "start_time": "2022-01-22T21:39:39.956Z"
   },
   {
    "duration": 5,
    "start_time": "2022-01-22T21:39:40.472Z"
   },
   {
    "duration": 28,
    "start_time": "2022-01-22T21:39:40.479Z"
   },
   {
    "duration": 570,
    "start_time": "2022-01-22T21:39:40.508Z"
   },
   {
    "duration": 30,
    "start_time": "2022-01-22T21:39:41.080Z"
   },
   {
    "duration": 361,
    "start_time": "2022-01-22T21:39:41.112Z"
   },
   {
    "duration": 33,
    "start_time": "2022-01-22T21:39:41.475Z"
   },
   {
    "duration": 452,
    "start_time": "2022-01-22T21:39:41.511Z"
   },
   {
    "duration": 3380,
    "start_time": "2022-01-22T21:39:41.964Z"
   },
   {
    "duration": 19,
    "start_time": "2022-01-22T21:39:45.346Z"
   },
   {
    "duration": 7,
    "start_time": "2022-01-22T21:39:45.367Z"
   },
   {
    "duration": 25,
    "start_time": "2022-01-22T21:39:45.376Z"
   },
   {
    "duration": 185,
    "start_time": "2022-01-22T21:39:45.402Z"
   },
   {
    "duration": 183,
    "start_time": "2022-01-22T21:39:45.589Z"
   },
   {
    "duration": 175,
    "start_time": "2022-01-22T21:39:45.775Z"
   },
   {
    "duration": 10,
    "start_time": "2022-01-22T21:39:45.951Z"
   },
   {
    "duration": 9,
    "start_time": "2022-01-22T21:39:45.963Z"
   },
   {
    "duration": 28,
    "start_time": "2022-01-22T21:39:45.973Z"
   },
   {
    "duration": 7,
    "start_time": "2022-01-22T21:39:46.003Z"
   },
   {
    "duration": 319,
    "start_time": "2022-01-22T21:39:46.011Z"
   },
   {
    "duration": 287,
    "start_time": "2022-01-22T21:39:46.332Z"
   },
   {
    "duration": 290,
    "start_time": "2022-01-22T21:39:46.621Z"
   },
   {
    "duration": 9,
    "start_time": "2022-01-22T21:39:46.913Z"
   },
   {
    "duration": 10,
    "start_time": "2022-01-22T21:39:46.924Z"
   },
   {
    "duration": 7,
    "start_time": "2022-01-22T21:39:46.936Z"
   },
   {
    "duration": 8,
    "start_time": "2022-01-22T21:39:46.944Z"
   },
   {
    "duration": 8,
    "start_time": "2022-01-22T21:39:46.953Z"
   },
   {
    "duration": 38,
    "start_time": "2022-01-22T21:39:46.962Z"
   },
   {
    "duration": 7,
    "start_time": "2022-01-22T21:41:12.490Z"
   },
   {
    "duration": 8,
    "start_time": "2022-01-22T21:41:56.756Z"
   },
   {
    "duration": 8,
    "start_time": "2022-01-22T21:42:29.659Z"
   },
   {
    "duration": 60,
    "start_time": "2022-01-22T21:42:38.125Z"
   },
   {
    "duration": 22,
    "start_time": "2022-01-22T21:42:38.187Z"
   },
   {
    "duration": 15,
    "start_time": "2022-01-22T21:42:38.211Z"
   },
   {
    "duration": 5,
    "start_time": "2022-01-22T21:42:38.228Z"
   },
   {
    "duration": 12,
    "start_time": "2022-01-22T21:42:38.235Z"
   },
   {
    "duration": 53,
    "start_time": "2022-01-22T21:42:38.249Z"
   },
   {
    "duration": 15,
    "start_time": "2022-01-22T21:42:38.305Z"
   },
   {
    "duration": 3,
    "start_time": "2022-01-22T21:42:38.483Z"
   },
   {
    "duration": 471,
    "start_time": "2022-01-22T21:42:38.488Z"
   },
   {
    "duration": 7,
    "start_time": "2022-01-22T21:42:38.961Z"
   },
   {
    "duration": 33,
    "start_time": "2022-01-22T21:42:38.970Z"
   },
   {
    "duration": 433,
    "start_time": "2022-01-22T21:42:39.005Z"
   },
   {
    "duration": 21,
    "start_time": "2022-01-22T21:42:39.440Z"
   },
   {
    "duration": 373,
    "start_time": "2022-01-22T21:42:39.462Z"
   },
   {
    "duration": 24,
    "start_time": "2022-01-22T21:42:39.836Z"
   },
   {
    "duration": 489,
    "start_time": "2022-01-22T21:42:39.862Z"
   },
   {
    "duration": 3600,
    "start_time": "2022-01-22T21:42:40.352Z"
   },
   {
    "duration": 21,
    "start_time": "2022-01-22T21:42:43.954Z"
   },
   {
    "duration": 22,
    "start_time": "2022-01-22T21:42:43.977Z"
   },
   {
    "duration": 7,
    "start_time": "2022-01-22T21:42:44.001Z"
   },
   {
    "duration": 202,
    "start_time": "2022-01-22T21:42:44.010Z"
   },
   {
    "duration": 188,
    "start_time": "2022-01-22T21:42:44.214Z"
   },
   {
    "duration": 181,
    "start_time": "2022-01-22T21:42:44.405Z"
   },
   {
    "duration": 11,
    "start_time": "2022-01-22T21:42:44.588Z"
   },
   {
    "duration": 6,
    "start_time": "2022-01-22T21:42:44.601Z"
   },
   {
    "duration": 8,
    "start_time": "2022-01-22T21:42:44.608Z"
   },
   {
    "duration": 331,
    "start_time": "2022-01-22T21:42:44.618Z"
   },
   {
    "duration": 320,
    "start_time": "2022-01-22T21:42:44.950Z"
   },
   {
    "duration": 462,
    "start_time": "2022-01-22T21:42:45.272Z"
   },
   {
    "duration": 9,
    "start_time": "2022-01-22T21:42:45.735Z"
   },
   {
    "duration": 12,
    "start_time": "2022-01-22T21:42:45.745Z"
   },
   {
    "duration": 5,
    "start_time": "2022-01-22T21:42:45.759Z"
   },
   {
    "duration": 34,
    "start_time": "2022-01-22T21:42:45.766Z"
   },
   {
    "duration": 7,
    "start_time": "2022-01-22T21:42:45.802Z"
   },
   {
    "duration": 5,
    "start_time": "2022-01-22T21:42:45.811Z"
   },
   {
    "duration": 284,
    "start_time": "2022-01-22T21:47:16.559Z"
   },
   {
    "duration": 266,
    "start_time": "2022-01-22T21:47:38.064Z"
   },
   {
    "duration": 273,
    "start_time": "2022-01-22T21:47:51.314Z"
   },
   {
    "duration": 55,
    "start_time": "2022-01-22T21:47:58.440Z"
   },
   {
    "duration": 18,
    "start_time": "2022-01-22T21:47:58.497Z"
   },
   {
    "duration": 14,
    "start_time": "2022-01-22T21:47:58.517Z"
   },
   {
    "duration": 4,
    "start_time": "2022-01-22T21:47:58.533Z"
   },
   {
    "duration": 12,
    "start_time": "2022-01-22T21:47:58.539Z"
   },
   {
    "duration": 8,
    "start_time": "2022-01-22T21:47:58.553Z"
   },
   {
    "duration": 11,
    "start_time": "2022-01-22T21:47:58.597Z"
   },
   {
    "duration": 2,
    "start_time": "2022-01-22T21:47:58.610Z"
   },
   {
    "duration": 475,
    "start_time": "2022-01-22T21:47:58.614Z"
   },
   {
    "duration": 11,
    "start_time": "2022-01-22T21:47:59.090Z"
   },
   {
    "duration": 17,
    "start_time": "2022-01-22T21:47:59.102Z"
   },
   {
    "duration": 423,
    "start_time": "2022-01-22T21:47:59.121Z"
   },
   {
    "duration": 20,
    "start_time": "2022-01-22T21:47:59.546Z"
   },
   {
    "duration": 371,
    "start_time": "2022-01-22T21:47:59.568Z"
   },
   {
    "duration": 22,
    "start_time": "2022-01-22T21:47:59.941Z"
   },
   {
    "duration": 444,
    "start_time": "2022-01-22T21:47:59.965Z"
   },
   {
    "duration": 3524,
    "start_time": "2022-01-22T21:48:00.410Z"
   },
   {
    "duration": 20,
    "start_time": "2022-01-22T21:48:03.936Z"
   },
   {
    "duration": 8,
    "start_time": "2022-01-22T21:48:03.957Z"
   },
   {
    "duration": 7,
    "start_time": "2022-01-22T21:48:03.966Z"
   },
   {
    "duration": 187,
    "start_time": "2022-01-22T21:48:03.998Z"
   },
   {
    "duration": 341,
    "start_time": "2022-01-22T21:48:04.187Z"
   },
   {
    "duration": 184,
    "start_time": "2022-01-22T21:48:04.531Z"
   },
   {
    "duration": 9,
    "start_time": "2022-01-22T21:48:04.718Z"
   },
   {
    "duration": 9,
    "start_time": "2022-01-22T21:48:04.728Z"
   },
   {
    "duration": 7,
    "start_time": "2022-01-22T21:48:04.738Z"
   },
   {
    "duration": 335,
    "start_time": "2022-01-22T21:48:04.747Z"
   },
   {
    "duration": 293,
    "start_time": "2022-01-22T21:48:05.084Z"
   },
   {
    "duration": 293,
    "start_time": "2022-01-22T21:48:05.379Z"
   },
   {
    "duration": 9,
    "start_time": "2022-01-22T21:48:05.674Z"
   },
   {
    "duration": 19,
    "start_time": "2022-01-22T21:48:05.685Z"
   },
   {
    "duration": 5,
    "start_time": "2022-01-22T21:48:05.706Z"
   },
   {
    "duration": 10,
    "start_time": "2022-01-22T21:48:05.713Z"
   },
   {
    "duration": 11,
    "start_time": "2022-01-22T21:48:05.724Z"
   },
   {
    "duration": 5,
    "start_time": "2022-01-22T21:48:05.736Z"
   },
   {
    "duration": 8,
    "start_time": "2022-01-22T21:52:24.913Z"
   },
   {
    "duration": 8,
    "start_time": "2022-01-22T21:52:45.763Z"
   },
   {
    "duration": 57,
    "start_time": "2022-01-22T21:53:18.328Z"
   },
   {
    "duration": 20,
    "start_time": "2022-01-22T21:53:18.387Z"
   },
   {
    "duration": 18,
    "start_time": "2022-01-22T21:53:18.409Z"
   },
   {
    "duration": 4,
    "start_time": "2022-01-22T21:53:18.429Z"
   },
   {
    "duration": 16,
    "start_time": "2022-01-22T21:53:18.434Z"
   },
   {
    "duration": 7,
    "start_time": "2022-01-22T21:53:18.452Z"
   },
   {
    "duration": 37,
    "start_time": "2022-01-22T21:53:18.461Z"
   },
   {
    "duration": 3,
    "start_time": "2022-01-22T21:53:18.501Z"
   },
   {
    "duration": 460,
    "start_time": "2022-01-22T21:53:18.506Z"
   },
   {
    "duration": 5,
    "start_time": "2022-01-22T21:53:18.968Z"
   },
   {
    "duration": 32,
    "start_time": "2022-01-22T21:53:18.974Z"
   },
   {
    "duration": 413,
    "start_time": "2022-01-22T21:53:19.008Z"
   },
   {
    "duration": 20,
    "start_time": "2022-01-22T21:53:19.422Z"
   },
   {
    "duration": 361,
    "start_time": "2022-01-22T21:53:19.444Z"
   },
   {
    "duration": 23,
    "start_time": "2022-01-22T21:53:19.807Z"
   },
   {
    "duration": 447,
    "start_time": "2022-01-22T21:53:19.831Z"
   },
   {
    "duration": 3362,
    "start_time": "2022-01-22T21:53:20.280Z"
   },
   {
    "duration": 20,
    "start_time": "2022-01-22T21:53:23.643Z"
   },
   {
    "duration": 5,
    "start_time": "2022-01-22T21:53:23.665Z"
   },
   {
    "duration": 26,
    "start_time": "2022-01-22T21:53:23.672Z"
   },
   {
    "duration": 185,
    "start_time": "2022-01-22T21:53:23.700Z"
   },
   {
    "duration": 188,
    "start_time": "2022-01-22T21:53:23.886Z"
   },
   {
    "duration": 348,
    "start_time": "2022-01-22T21:53:24.077Z"
   },
   {
    "duration": 7,
    "start_time": "2022-01-22T21:53:24.427Z"
   },
   {
    "duration": 8,
    "start_time": "2022-01-22T21:53:24.436Z"
   },
   {
    "duration": 9,
    "start_time": "2022-01-22T21:53:24.445Z"
   },
   {
    "duration": 309,
    "start_time": "2022-01-22T21:53:24.456Z"
   },
   {
    "duration": 279,
    "start_time": "2022-01-22T21:53:24.767Z"
   },
   {
    "duration": 288,
    "start_time": "2022-01-22T21:53:25.047Z"
   },
   {
    "duration": 8,
    "start_time": "2022-01-22T21:53:25.336Z"
   },
   {
    "duration": 11,
    "start_time": "2022-01-22T21:53:25.345Z"
   },
   {
    "duration": 5,
    "start_time": "2022-01-22T21:53:25.357Z"
   },
   {
    "duration": 6,
    "start_time": "2022-01-22T21:53:25.364Z"
   },
   {
    "duration": 6,
    "start_time": "2022-01-22T21:53:25.398Z"
   },
   {
    "duration": 6,
    "start_time": "2022-01-22T21:53:25.406Z"
   },
   {
    "duration": 55,
    "start_time": "2022-01-22T22:01:46.553Z"
   },
   {
    "duration": 20,
    "start_time": "2022-01-22T22:01:46.610Z"
   },
   {
    "duration": 23,
    "start_time": "2022-01-22T22:01:46.632Z"
   },
   {
    "duration": 4,
    "start_time": "2022-01-22T22:01:46.657Z"
   },
   {
    "duration": 38,
    "start_time": "2022-01-22T22:01:46.663Z"
   },
   {
    "duration": 8,
    "start_time": "2022-01-22T22:01:46.702Z"
   },
   {
    "duration": 17,
    "start_time": "2022-01-22T22:01:46.712Z"
   },
   {
    "duration": 3,
    "start_time": "2022-01-22T22:01:46.731Z"
   },
   {
    "duration": 493,
    "start_time": "2022-01-22T22:01:46.736Z"
   },
   {
    "duration": 6,
    "start_time": "2022-01-22T22:01:47.231Z"
   },
   {
    "duration": 20,
    "start_time": "2022-01-22T22:01:47.239Z"
   },
   {
    "duration": 434,
    "start_time": "2022-01-22T22:01:47.260Z"
   },
   {
    "duration": 22,
    "start_time": "2022-01-22T22:01:47.698Z"
   },
   {
    "duration": 392,
    "start_time": "2022-01-22T22:01:47.722Z"
   },
   {
    "duration": 25,
    "start_time": "2022-01-22T22:01:48.115Z"
   },
   {
    "duration": 475,
    "start_time": "2022-01-22T22:01:48.142Z"
   },
   {
    "duration": 3430,
    "start_time": "2022-01-22T22:01:48.619Z"
   },
   {
    "duration": 19,
    "start_time": "2022-01-22T22:01:52.051Z"
   },
   {
    "duration": 21,
    "start_time": "2022-01-22T22:01:52.071Z"
   },
   {
    "duration": 33,
    "start_time": "2022-01-22T22:01:52.093Z"
   },
   {
    "duration": 184,
    "start_time": "2022-01-22T22:01:52.127Z"
   },
   {
    "duration": 187,
    "start_time": "2022-01-22T22:01:52.313Z"
   },
   {
    "duration": 186,
    "start_time": "2022-01-22T22:01:52.503Z"
   },
   {
    "duration": 9,
    "start_time": "2022-01-22T22:01:52.698Z"
   },
   {
    "duration": 33,
    "start_time": "2022-01-22T22:01:52.709Z"
   },
   {
    "duration": 18,
    "start_time": "2022-01-22T22:01:52.744Z"
   },
   {
    "duration": 309,
    "start_time": "2022-01-22T22:01:52.763Z"
   },
   {
    "duration": 484,
    "start_time": "2022-01-22T22:01:53.074Z"
   },
   {
    "duration": 291,
    "start_time": "2022-01-22T22:01:53.559Z"
   },
   {
    "duration": 8,
    "start_time": "2022-01-22T22:01:53.852Z"
   },
   {
    "duration": 14,
    "start_time": "2022-01-22T22:01:53.862Z"
   },
   {
    "duration": 21,
    "start_time": "2022-01-22T22:01:53.878Z"
   },
   {
    "duration": 26,
    "start_time": "2022-01-22T22:01:53.900Z"
   },
   {
    "duration": 26,
    "start_time": "2022-01-22T22:01:53.928Z"
   },
   {
    "duration": 26,
    "start_time": "2022-01-22T22:01:53.956Z"
   },
   {
    "duration": 1052,
    "start_time": "2022-01-29T08:26:28.549Z"
   },
   {
    "duration": 17,
    "start_time": "2022-01-29T08:26:29.603Z"
   },
   {
    "duration": 15,
    "start_time": "2022-01-29T08:26:29.623Z"
   },
   {
    "duration": 5,
    "start_time": "2022-01-29T08:26:29.640Z"
   },
   {
    "duration": 9,
    "start_time": "2022-01-29T08:26:29.647Z"
   },
   {
    "duration": 8,
    "start_time": "2022-01-29T08:26:29.658Z"
   },
   {
    "duration": 10,
    "start_time": "2022-01-29T08:26:29.667Z"
   },
   {
    "duration": 3,
    "start_time": "2022-01-29T08:26:29.679Z"
   },
   {
    "duration": 458,
    "start_time": "2022-01-29T08:26:29.685Z"
   },
   {
    "duration": 6,
    "start_time": "2022-01-29T08:26:30.145Z"
   },
   {
    "duration": 22,
    "start_time": "2022-01-29T08:26:30.153Z"
   },
   {
    "duration": 350,
    "start_time": "2022-01-29T08:26:30.176Z"
   },
   {
    "duration": 19,
    "start_time": "2022-01-29T08:26:30.527Z"
   },
   {
    "duration": 315,
    "start_time": "2022-01-29T08:26:30.548Z"
   },
   {
    "duration": 20,
    "start_time": "2022-01-29T08:26:30.864Z"
   },
   {
    "duration": 388,
    "start_time": "2022-01-29T08:26:30.885Z"
   },
   {
    "duration": 3040,
    "start_time": "2022-01-29T08:26:31.274Z"
   },
   {
    "duration": 26,
    "start_time": "2022-01-29T08:26:34.316Z"
   },
   {
    "duration": 9,
    "start_time": "2022-01-29T08:26:34.344Z"
   },
   {
    "duration": 28,
    "start_time": "2022-01-29T08:26:34.355Z"
   },
   {
    "duration": 166,
    "start_time": "2022-01-29T08:26:34.384Z"
   },
   {
    "duration": 161,
    "start_time": "2022-01-29T08:26:34.551Z"
   },
   {
    "duration": 183,
    "start_time": "2022-01-29T08:26:34.716Z"
   },
   {
    "duration": 7,
    "start_time": "2022-01-29T08:26:34.900Z"
   },
   {
    "duration": 19,
    "start_time": "2022-01-29T08:26:34.908Z"
   },
   {
    "duration": 5,
    "start_time": "2022-01-29T08:26:34.929Z"
   },
   {
    "duration": 263,
    "start_time": "2022-01-29T08:26:34.936Z"
   },
   {
    "duration": 303,
    "start_time": "2022-01-29T08:26:35.201Z"
   },
   {
    "duration": 249,
    "start_time": "2022-01-29T08:26:35.506Z"
   },
   {
    "duration": 8,
    "start_time": "2022-01-29T08:26:35.757Z"
   },
   {
    "duration": 9,
    "start_time": "2022-01-29T08:26:35.766Z"
   },
   {
    "duration": 4,
    "start_time": "2022-01-29T08:26:35.777Z"
   },
   {
    "duration": 9,
    "start_time": "2022-01-29T08:26:35.782Z"
   },
   {
    "duration": 8,
    "start_time": "2022-01-29T08:26:35.792Z"
   },
   {
    "duration": 27,
    "start_time": "2022-01-29T08:26:35.801Z"
   },
   {
    "duration": 661,
    "start_time": "2022-01-29T09:37:14.371Z"
   },
   {
    "duration": 121,
    "start_time": "2022-01-29T09:37:19.730Z"
   },
   {
    "duration": -22,
    "start_time": "2022-01-29T09:37:19.876Z"
   },
   {
    "duration": -28,
    "start_time": "2022-01-29T09:37:19.883Z"
   },
   {
    "duration": -29,
    "start_time": "2022-01-29T09:37:19.886Z"
   },
   {
    "duration": -32,
    "start_time": "2022-01-29T09:37:19.890Z"
   },
   {
    "duration": -33,
    "start_time": "2022-01-29T09:37:19.893Z"
   },
   {
    "duration": -34,
    "start_time": "2022-01-29T09:37:19.896Z"
   },
   {
    "duration": -36,
    "start_time": "2022-01-29T09:37:19.899Z"
   },
   {
    "duration": -37,
    "start_time": "2022-01-29T09:37:19.901Z"
   },
   {
    "duration": -38,
    "start_time": "2022-01-29T09:37:19.904Z"
   },
   {
    "duration": -45,
    "start_time": "2022-01-29T09:37:19.912Z"
   },
   {
    "duration": -47,
    "start_time": "2022-01-29T09:37:19.915Z"
   },
   {
    "duration": -49,
    "start_time": "2022-01-29T09:37:19.918Z"
   },
   {
    "duration": -49,
    "start_time": "2022-01-29T09:37:19.920Z"
   },
   {
    "duration": -52,
    "start_time": "2022-01-29T09:37:19.924Z"
   },
   {
    "duration": 360,
    "start_time": "2022-01-29T09:37:26.254Z"
   },
   {
    "duration": 117,
    "start_time": "2022-01-29T09:37:34.808Z"
   },
   {
    "duration": -22,
    "start_time": "2022-01-29T09:37:34.950Z"
   },
   {
    "duration": -23,
    "start_time": "2022-01-29T09:37:34.953Z"
   },
   {
    "duration": -25,
    "start_time": "2022-01-29T09:37:34.956Z"
   },
   {
    "duration": -34,
    "start_time": "2022-01-29T09:37:34.966Z"
   },
   {
    "duration": -35,
    "start_time": "2022-01-29T09:37:34.969Z"
   },
   {
    "duration": -36,
    "start_time": "2022-01-29T09:37:34.971Z"
   },
   {
    "duration": -39,
    "start_time": "2022-01-29T09:37:34.975Z"
   },
   {
    "duration": -39,
    "start_time": "2022-01-29T09:37:34.977Z"
   },
   {
    "duration": -40,
    "start_time": "2022-01-29T09:37:34.980Z"
   },
   {
    "duration": -42,
    "start_time": "2022-01-29T09:37:34.983Z"
   },
   {
    "duration": -44,
    "start_time": "2022-01-29T09:37:34.986Z"
   },
   {
    "duration": -45,
    "start_time": "2022-01-29T09:37:34.989Z"
   },
   {
    "duration": -48,
    "start_time": "2022-01-29T09:37:34.993Z"
   },
   {
    "duration": 351,
    "start_time": "2022-01-29T09:37:47.407Z"
   },
   {
    "duration": 1634,
    "start_time": "2022-01-29T09:38:14.332Z"
   },
   {
    "duration": 32,
    "start_time": "2022-01-29T09:38:15.968Z"
   },
   {
    "duration": 28,
    "start_time": "2022-01-29T09:38:16.003Z"
   },
   {
    "duration": 29,
    "start_time": "2022-01-29T09:38:16.034Z"
   },
   {
    "duration": 17,
    "start_time": "2022-01-29T09:38:16.066Z"
   },
   {
    "duration": 11,
    "start_time": "2022-01-29T09:38:16.085Z"
   },
   {
    "duration": 62,
    "start_time": "2022-01-29T09:38:16.099Z"
   },
   {
    "duration": 5,
    "start_time": "2022-01-29T09:38:16.165Z"
   },
   {
    "duration": 1013,
    "start_time": "2022-01-29T09:38:16.173Z"
   },
   {
    "duration": 8,
    "start_time": "2022-01-29T09:38:17.188Z"
   },
   {
    "duration": 35,
    "start_time": "2022-01-29T09:38:17.198Z"
   },
   {
    "duration": 700,
    "start_time": "2022-01-29T09:38:17.260Z"
   },
   {
    "duration": 31,
    "start_time": "2022-01-29T09:38:17.963Z"
   },
   {
    "duration": 474,
    "start_time": "2022-01-29T09:38:23.519Z"
   },
   {
    "duration": 37,
    "start_time": "2022-01-29T09:39:12.166Z"
   },
   {
    "duration": 494,
    "start_time": "2022-01-29T09:39:21.683Z"
   },
   {
    "duration": 4576,
    "start_time": "2022-01-29T09:40:06.791Z"
   },
   {
    "duration": 33,
    "start_time": "2022-01-29T09:40:39.249Z"
   },
   {
    "duration": 9,
    "start_time": "2022-01-29T09:40:50.490Z"
   },
   {
    "duration": 9,
    "start_time": "2022-01-29T09:41:00.454Z"
   },
   {
    "duration": 278,
    "start_time": "2022-01-29T09:41:25.148Z"
   },
   {
    "duration": 291,
    "start_time": "2022-01-29T09:42:06.052Z"
   },
   {
    "duration": 278,
    "start_time": "2022-01-29T09:42:16.440Z"
   },
   {
    "duration": 276,
    "start_time": "2022-01-29T09:42:25.959Z"
   },
   {
    "duration": 12,
    "start_time": "2022-01-29T09:42:41.118Z"
   },
   {
    "duration": 10,
    "start_time": "2022-01-29T09:42:45.248Z"
   },
   {
    "duration": 9,
    "start_time": "2022-01-29T09:42:46.804Z"
   },
   {
    "duration": 411,
    "start_time": "2022-01-29T09:43:03.086Z"
   },
   {
    "duration": 459,
    "start_time": "2022-01-29T09:43:07.553Z"
   },
   {
    "duration": 354,
    "start_time": "2022-01-29T09:43:11.787Z"
   },
   {
    "duration": 10,
    "start_time": "2022-01-29T09:43:17.657Z"
   },
   {
    "duration": 12,
    "start_time": "2022-01-29T09:43:25.732Z"
   },
   {
    "duration": 8,
    "start_time": "2022-01-29T09:43:32.265Z"
   },
   {
    "duration": 8,
    "start_time": "2022-01-29T09:43:36.229Z"
   },
   {
    "duration": 7,
    "start_time": "2022-01-29T09:44:42.457Z"
   },
   {
    "duration": 7,
    "start_time": "2022-01-29T09:44:45.895Z"
   },
   {
    "duration": 7,
    "start_time": "2022-01-29T09:49:27.123Z"
   },
   {
    "duration": 10,
    "start_time": "2022-01-29T09:49:29.524Z"
   },
   {
    "duration": 74,
    "start_time": "2022-01-29T09:49:34.709Z"
   },
   {
    "duration": 73,
    "start_time": "2022-01-29T09:49:34.786Z"
   },
   {
    "duration": 19,
    "start_time": "2022-01-29T09:49:34.862Z"
   },
   {
    "duration": 5,
    "start_time": "2022-01-29T09:49:34.884Z"
   },
   {
    "duration": 20,
    "start_time": "2022-01-29T09:49:34.891Z"
   },
   {
    "duration": 12,
    "start_time": "2022-01-29T09:49:34.913Z"
   },
   {
    "duration": 13,
    "start_time": "2022-01-29T09:49:34.960Z"
   },
   {
    "duration": 4,
    "start_time": "2022-01-29T09:49:34.977Z"
   },
   {
    "duration": 831,
    "start_time": "2022-01-29T09:49:34.984Z"
   },
   {
    "duration": 8,
    "start_time": "2022-01-29T09:49:35.817Z"
   },
   {
    "duration": 47,
    "start_time": "2022-01-29T09:49:35.827Z"
   },
   {
    "duration": 732,
    "start_time": "2022-01-29T09:49:35.877Z"
   },
   {
    "duration": 48,
    "start_time": "2022-01-29T09:49:36.611Z"
   },
   {
    "duration": 507,
    "start_time": "2022-01-29T09:49:36.662Z"
   },
   {
    "duration": 37,
    "start_time": "2022-01-29T09:49:37.172Z"
   },
   {
    "duration": 553,
    "start_time": "2022-01-29T09:49:37.211Z"
   },
   {
    "duration": 4832,
    "start_time": "2022-01-29T09:49:37.766Z"
   },
   {
    "duration": 34,
    "start_time": "2022-01-29T09:49:42.601Z"
   },
   {
    "duration": 26,
    "start_time": "2022-01-29T09:49:42.638Z"
   },
   {
    "duration": 9,
    "start_time": "2022-01-29T09:49:42.668Z"
   },
   {
    "duration": 336,
    "start_time": "2022-01-29T09:49:42.680Z"
   },
   {
    "duration": 302,
    "start_time": "2022-01-29T09:49:43.018Z"
   },
   {
    "duration": 284,
    "start_time": "2022-01-29T09:49:43.326Z"
   },
   {
    "duration": 11,
    "start_time": "2022-01-29T09:49:43.612Z"
   },
   {
    "duration": 12,
    "start_time": "2022-01-29T09:49:43.625Z"
   },
   {
    "duration": 26,
    "start_time": "2022-01-29T09:49:43.640Z"
   },
   {
    "duration": 429,
    "start_time": "2022-01-29T09:49:43.669Z"
   },
   {
    "duration": 388,
    "start_time": "2022-01-29T09:49:44.101Z"
   },
   {
    "duration": 388,
    "start_time": "2022-01-29T09:49:44.492Z"
   },
   {
    "duration": 11,
    "start_time": "2022-01-29T09:49:44.882Z"
   },
   {
    "duration": 8,
    "start_time": "2022-01-29T09:49:44.895Z"
   },
   {
    "duration": 7,
    "start_time": "2022-01-29T09:49:44.906Z"
   },
   {
    "duration": 7,
    "start_time": "2022-01-29T09:49:44.915Z"
   },
   {
    "duration": 7,
    "start_time": "2022-01-29T09:49:44.960Z"
   },
   {
    "duration": 8,
    "start_time": "2022-01-29T09:49:44.970Z"
   },
   {
    "duration": 524,
    "start_time": "2022-01-29T10:04:27.518Z"
   },
   {
    "duration": 593,
    "start_time": "2022-01-29T10:04:43.386Z"
   },
   {
    "duration": 560,
    "start_time": "2022-01-29T10:04:58.666Z"
   },
   {
    "duration": 503,
    "start_time": "2022-01-29T10:06:49.330Z"
   },
   {
    "duration": 509,
    "start_time": "2022-01-29T10:07:29.594Z"
   },
   {
    "duration": 38,
    "start_time": "2022-01-29T10:07:39.071Z"
   },
   {
    "duration": 91,
    "start_time": "2022-01-29T10:07:50.946Z"
   },
   {
    "duration": 33,
    "start_time": "2022-01-29T10:07:51.064Z"
   },
   {
    "duration": 21,
    "start_time": "2022-01-29T10:07:51.100Z"
   },
   {
    "duration": 6,
    "start_time": "2022-01-29T10:07:51.123Z"
   },
   {
    "duration": 29,
    "start_time": "2022-01-29T10:07:51.160Z"
   },
   {
    "duration": 12,
    "start_time": "2022-01-29T10:07:51.192Z"
   },
   {
    "duration": 15,
    "start_time": "2022-01-29T10:07:51.207Z"
   },
   {
    "duration": 7,
    "start_time": "2022-01-29T10:07:51.259Z"
   },
   {
    "duration": 900,
    "start_time": "2022-01-29T10:07:51.270Z"
   },
   {
    "duration": 10,
    "start_time": "2022-01-29T10:07:52.173Z"
   },
   {
    "duration": 27,
    "start_time": "2022-01-29T10:07:52.185Z"
   },
   {
    "duration": 703,
    "start_time": "2022-01-29T10:07:52.214Z"
   },
   {
    "duration": 42,
    "start_time": "2022-01-29T10:07:52.920Z"
   },
   {
    "duration": 531,
    "start_time": "2022-01-29T10:07:52.966Z"
   },
   {
    "duration": 35,
    "start_time": "2022-01-29T10:07:53.499Z"
   },
   {
    "duration": 602,
    "start_time": "2022-01-29T10:07:53.536Z"
   },
   {
    "duration": 4883,
    "start_time": "2022-01-29T10:07:54.141Z"
   },
   {
    "duration": 54,
    "start_time": "2022-01-29T10:07:59.027Z"
   },
   {
    "duration": 9,
    "start_time": "2022-01-29T10:07:59.084Z"
   },
   {
    "duration": 11,
    "start_time": "2022-01-29T10:07:59.096Z"
   },
   {
    "duration": 340,
    "start_time": "2022-01-29T10:07:59.110Z"
   },
   {
    "duration": 293,
    "start_time": "2022-01-29T10:07:59.459Z"
   },
   {
    "duration": 297,
    "start_time": "2022-01-29T10:07:59.762Z"
   },
   {
    "duration": 11,
    "start_time": "2022-01-29T10:08:00.061Z"
   },
   {
    "duration": 27,
    "start_time": "2022-01-29T10:08:00.074Z"
   },
   {
    "duration": 26,
    "start_time": "2022-01-29T10:08:00.104Z"
   },
   {
    "duration": 409,
    "start_time": "2022-01-29T10:08:00.132Z"
   },
   {
    "duration": 426,
    "start_time": "2022-01-29T10:08:00.544Z"
   },
   {
    "duration": 391,
    "start_time": "2022-01-29T10:08:00.973Z"
   },
   {
    "duration": 10,
    "start_time": "2022-01-29T10:08:01.367Z"
   },
   {
    "duration": 9,
    "start_time": "2022-01-29T10:08:01.379Z"
   },
   {
    "duration": 12,
    "start_time": "2022-01-29T10:08:01.390Z"
   },
   {
    "duration": 10,
    "start_time": "2022-01-29T10:08:01.404Z"
   },
   {
    "duration": 47,
    "start_time": "2022-01-29T10:08:01.417Z"
   },
   {
    "duration": 9,
    "start_time": "2022-01-29T10:08:01.467Z"
   },
   {
    "duration": 12,
    "start_time": "2022-01-29T10:08:26.284Z"
   },
   {
    "duration": 7,
    "start_time": "2022-01-29T10:08:30.871Z"
   },
   {
    "duration": 28,
    "start_time": "2022-01-29T10:08:30.881Z"
   },
   {
    "duration": 22,
    "start_time": "2022-01-29T10:08:30.911Z"
   },
   {
    "duration": 21,
    "start_time": "2022-01-29T10:08:30.936Z"
   },
   {
    "duration": 85,
    "start_time": "2022-01-29T10:08:45.511Z"
   },
   {
    "duration": 71,
    "start_time": "2022-01-29T10:08:45.600Z"
   },
   {
    "duration": 22,
    "start_time": "2022-01-29T10:08:45.675Z"
   },
   {
    "duration": 6,
    "start_time": "2022-01-29T10:08:45.700Z"
   },
   {
    "duration": 53,
    "start_time": "2022-01-29T10:08:45.708Z"
   },
   {
    "duration": 11,
    "start_time": "2022-01-29T10:08:45.763Z"
   },
   {
    "duration": 16,
    "start_time": "2022-01-29T10:08:45.776Z"
   },
   {
    "duration": 4,
    "start_time": "2022-01-29T10:08:45.796Z"
   },
   {
    "duration": 864,
    "start_time": "2022-01-29T10:08:45.803Z"
   },
   {
    "duration": 8,
    "start_time": "2022-01-29T10:08:46.669Z"
   },
   {
    "duration": 29,
    "start_time": "2022-01-29T10:08:46.680Z"
   },
   {
    "duration": 651,
    "start_time": "2022-01-29T10:08:46.711Z"
   },
   {
    "duration": 31,
    "start_time": "2022-01-29T10:08:47.365Z"
   },
   {
    "duration": 510,
    "start_time": "2022-01-29T10:08:47.399Z"
   },
   {
    "duration": 53,
    "start_time": "2022-01-29T10:08:47.913Z"
   },
   {
    "duration": 655,
    "start_time": "2022-01-29T10:08:47.969Z"
   },
   {
    "duration": 4448,
    "start_time": "2022-01-29T10:08:48.626Z"
   },
   {
    "duration": 32,
    "start_time": "2022-01-29T10:08:53.077Z"
   },
   {
    "duration": 9,
    "start_time": "2022-01-29T10:08:53.111Z"
   },
   {
    "duration": 40,
    "start_time": "2022-01-29T10:08:53.122Z"
   },
   {
    "duration": 294,
    "start_time": "2022-01-29T10:08:53.165Z"
   },
   {
    "duration": 275,
    "start_time": "2022-01-29T10:08:53.461Z"
   },
   {
    "duration": 286,
    "start_time": "2022-01-29T10:08:53.741Z"
   },
   {
    "duration": 28,
    "start_time": "2022-01-29T10:08:54.031Z"
   },
   {
    "duration": 9,
    "start_time": "2022-01-29T10:08:54.061Z"
   },
   {
    "duration": 9,
    "start_time": "2022-01-29T10:08:54.072Z"
   },
   {
    "duration": 405,
    "start_time": "2022-01-29T10:08:54.084Z"
   },
   {
    "duration": 391,
    "start_time": "2022-01-29T10:08:54.491Z"
   },
   {
    "duration": 372,
    "start_time": "2022-01-29T10:08:54.885Z"
   },
   {
    "duration": 10,
    "start_time": "2022-01-29T10:08:55.259Z"
   },
   {
    "duration": 11,
    "start_time": "2022-01-29T10:08:55.272Z"
   },
   {
    "duration": 6,
    "start_time": "2022-01-29T10:08:55.286Z"
   },
   {
    "duration": 7,
    "start_time": "2022-01-29T10:08:55.295Z"
   },
   {
    "duration": 7,
    "start_time": "2022-01-29T10:08:55.304Z"
   },
   {
    "duration": 50,
    "start_time": "2022-01-29T10:08:55.313Z"
   },
   {
    "duration": 1059,
    "start_time": "2022-01-29T10:11:09.700Z"
   },
   {
    "duration": 486,
    "start_time": "2022-01-29T10:13:22.863Z"
   },
   {
    "duration": 513,
    "start_time": "2022-01-29T10:13:57.464Z"
   },
   {
    "duration": 493,
    "start_time": "2022-01-29T10:20:09.351Z"
   },
   {
    "duration": 493,
    "start_time": "2022-01-29T10:20:42.717Z"
   },
   {
    "duration": 498,
    "start_time": "2022-01-29T10:21:24.096Z"
   },
   {
    "duration": 495,
    "start_time": "2022-01-29T10:22:19.970Z"
   },
   {
    "duration": 528,
    "start_time": "2022-01-29T10:22:42.707Z"
   },
   {
    "duration": 495,
    "start_time": "2022-01-29T10:23:06.390Z"
   },
   {
    "duration": 19,
    "start_time": "2022-01-29T11:07:25.139Z"
   },
   {
    "duration": 34,
    "start_time": "2022-01-29T11:07:28.865Z"
   },
   {
    "duration": 21,
    "start_time": "2022-01-29T11:07:31.398Z"
   },
   {
    "duration": 72,
    "start_time": "2022-01-29T11:07:35.080Z"
   },
   {
    "duration": 9504,
    "start_time": "2022-01-29T11:07:43.015Z"
   },
   {
    "duration": 82,
    "start_time": "2022-01-29T11:08:07.158Z"
   },
   {
    "duration": 36,
    "start_time": "2022-01-29T11:08:07.243Z"
   },
   {
    "duration": 23,
    "start_time": "2022-01-29T11:08:22.290Z"
   },
   {
    "duration": 419,
    "start_time": "2022-01-29T11:28:30.263Z"
   },
   {
    "duration": 76,
    "start_time": "2022-01-29T11:28:36.661Z"
   },
   {
    "duration": 48,
    "start_time": "2022-01-29T11:28:36.740Z"
   },
   {
    "duration": 21,
    "start_time": "2022-01-29T11:28:36.791Z"
   },
   {
    "duration": 6,
    "start_time": "2022-01-29T11:28:36.815Z"
   },
   {
    "duration": 49,
    "start_time": "2022-01-29T11:28:36.823Z"
   },
   {
    "duration": 11,
    "start_time": "2022-01-29T11:28:36.874Z"
   },
   {
    "duration": 17,
    "start_time": "2022-01-29T11:28:36.887Z"
   },
   {
    "duration": 4,
    "start_time": "2022-01-29T11:28:36.907Z"
   },
   {
    "duration": 884,
    "start_time": "2022-01-29T11:28:36.913Z"
   },
   {
    "duration": 8,
    "start_time": "2022-01-29T11:28:37.799Z"
   },
   {
    "duration": 58,
    "start_time": "2022-01-29T11:28:37.809Z"
   },
   {
    "duration": 638,
    "start_time": "2022-01-29T11:28:37.870Z"
   },
   {
    "duration": 1122,
    "start_time": "2022-01-29T16:05:26.731Z"
   },
   {
    "duration": 17,
    "start_time": "2022-01-29T16:05:27.854Z"
   },
   {
    "duration": 16,
    "start_time": "2022-01-29T16:05:27.873Z"
   },
   {
    "duration": 3,
    "start_time": "2022-01-29T16:05:27.891Z"
   },
   {
    "duration": 8,
    "start_time": "2022-01-29T16:05:27.896Z"
   },
   {
    "duration": 6,
    "start_time": "2022-01-29T16:05:27.905Z"
   },
   {
    "duration": 9,
    "start_time": "2022-01-29T16:05:27.913Z"
   },
   {
    "duration": 2,
    "start_time": "2022-01-29T16:05:27.924Z"
   },
   {
    "duration": 8051,
    "start_time": "2022-01-29T16:05:27.928Z"
   },
   {
    "duration": -401,
    "start_time": "2022-01-29T16:05:36.382Z"
   },
   {
    "duration": -405,
    "start_time": "2022-01-29T16:05:36.387Z"
   },
   {
    "duration": -406,
    "start_time": "2022-01-29T16:05:36.389Z"
   },
   {
    "duration": -408,
    "start_time": "2022-01-29T16:05:36.392Z"
   },
   {
    "duration": -410,
    "start_time": "2022-01-29T16:05:36.395Z"
   },
   {
    "duration": -414,
    "start_time": "2022-01-29T16:05:36.399Z"
   },
   {
    "duration": -416,
    "start_time": "2022-01-29T16:05:36.402Z"
   },
   {
    "duration": -417,
    "start_time": "2022-01-29T16:05:36.405Z"
   },
   {
    "duration": -419,
    "start_time": "2022-01-29T16:05:36.408Z"
   },
   {
    "duration": -422,
    "start_time": "2022-01-29T16:05:36.412Z"
   },
   {
    "duration": -423,
    "start_time": "2022-01-29T16:05:36.415Z"
   },
   {
    "duration": -425,
    "start_time": "2022-01-29T16:05:36.418Z"
   },
   {
    "duration": -425,
    "start_time": "2022-01-29T16:05:36.421Z"
   },
   {
    "duration": -427,
    "start_time": "2022-01-29T16:05:36.424Z"
   },
   {
    "duration": -429,
    "start_time": "2022-01-29T16:05:36.427Z"
   },
   {
    "duration": -430,
    "start_time": "2022-01-29T16:05:36.429Z"
   },
   {
    "duration": -433,
    "start_time": "2022-01-29T16:05:36.433Z"
   },
   {
    "duration": -440,
    "start_time": "2022-01-29T16:05:36.441Z"
   },
   {
    "duration": -442,
    "start_time": "2022-01-29T16:05:36.444Z"
   },
   {
    "duration": -444,
    "start_time": "2022-01-29T16:05:36.447Z"
   },
   {
    "duration": -446,
    "start_time": "2022-01-29T16:05:36.450Z"
   },
   {
    "duration": -448,
    "start_time": "2022-01-29T16:05:36.453Z"
   },
   {
    "duration": -450,
    "start_time": "2022-01-29T16:05:36.456Z"
   },
   {
    "duration": -451,
    "start_time": "2022-01-29T16:05:36.458Z"
   },
   {
    "duration": -453,
    "start_time": "2022-01-29T16:05:36.461Z"
   },
   {
    "duration": -455,
    "start_time": "2022-01-29T16:05:36.464Z"
   },
   {
    "duration": 8067,
    "start_time": "2022-01-29T16:06:21.809Z"
   },
   {
    "duration": 8,
    "start_time": "2022-01-29T16:08:41.887Z"
   },
   {
    "duration": 26,
    "start_time": "2022-01-29T16:08:48.756Z"
   },
   {
    "duration": 22,
    "start_time": "2022-01-29T16:11:51.600Z"
   },
   {
    "duration": 18,
    "start_time": "2022-01-29T16:13:33.395Z"
   },
   {
    "duration": 546,
    "start_time": "2022-01-29T16:42:25.857Z"
   },
   {
    "duration": 51,
    "start_time": "2022-01-29T16:42:30.203Z"
   },
   {
    "duration": 16,
    "start_time": "2022-01-29T16:42:30.256Z"
   },
   {
    "duration": 16,
    "start_time": "2022-01-29T16:42:30.274Z"
   },
   {
    "duration": 4,
    "start_time": "2022-01-29T16:42:30.291Z"
   },
   {
    "duration": 11,
    "start_time": "2022-01-29T16:42:30.296Z"
   },
   {
    "duration": 7,
    "start_time": "2022-01-29T16:42:30.309Z"
   },
   {
    "duration": 15,
    "start_time": "2022-01-29T16:42:30.317Z"
   },
   {
    "duration": 18,
    "start_time": "2022-01-29T16:42:30.334Z"
   },
   {
    "duration": 21,
    "start_time": "2022-01-29T16:42:30.354Z"
   },
   {
    "duration": 29,
    "start_time": "2022-01-29T16:42:30.377Z"
   },
   {
    "duration": 340,
    "start_time": "2022-01-29T16:42:30.408Z"
   },
   {
    "duration": 28,
    "start_time": "2022-01-29T16:42:30.749Z"
   },
   {
    "duration": 301,
    "start_time": "2022-01-29T16:42:30.779Z"
   },
   {
    "duration": 254,
    "start_time": "2022-01-29T16:43:01.930Z"
   },
   {
    "duration": 272,
    "start_time": "2022-01-29T16:43:10.879Z"
   },
   {
    "duration": 278,
    "start_time": "2022-01-29T16:43:20.919Z"
   },
   {
    "duration": 19,
    "start_time": "2022-01-29T16:51:15.091Z"
   },
   {
    "duration": 276,
    "start_time": "2022-01-29T17:05:54.918Z"
   },
   {
    "duration": 316,
    "start_time": "2022-01-29T17:06:10.410Z"
   },
   {
    "duration": 52,
    "start_time": "2022-01-29T17:09:26.469Z"
   },
   {
    "duration": 18,
    "start_time": "2022-01-29T17:09:26.523Z"
   },
   {
    "duration": 28,
    "start_time": "2022-01-29T17:09:26.544Z"
   },
   {
    "duration": 5,
    "start_time": "2022-01-29T17:09:26.574Z"
   },
   {
    "duration": 10,
    "start_time": "2022-01-29T17:09:26.580Z"
   },
   {
    "duration": 8,
    "start_time": "2022-01-29T17:09:26.592Z"
   },
   {
    "duration": 12,
    "start_time": "2022-01-29T17:09:26.601Z"
   },
   {
    "duration": 63,
    "start_time": "2022-01-29T17:09:26.616Z"
   },
   {
    "duration": 7,
    "start_time": "2022-01-29T17:09:26.681Z"
   },
   {
    "duration": 22,
    "start_time": "2022-01-29T17:09:26.689Z"
   },
   {
    "duration": 351,
    "start_time": "2022-01-29T17:09:26.713Z"
   },
   {
    "duration": 22,
    "start_time": "2022-01-29T17:09:27.065Z"
   },
   {
    "duration": 277,
    "start_time": "2022-01-29T17:09:27.088Z"
   },
   {
    "duration": 22,
    "start_time": "2022-01-29T17:09:27.366Z"
   },
   {
    "duration": 288,
    "start_time": "2022-01-29T17:09:27.389Z"
   },
   {
    "duration": 3094,
    "start_time": "2022-01-29T17:09:27.679Z"
   },
   {
    "duration": 17,
    "start_time": "2022-01-29T17:09:30.775Z"
   },
   {
    "duration": 11,
    "start_time": "2022-01-29T17:09:30.794Z"
   },
   {
    "duration": 8,
    "start_time": "2022-01-29T17:09:30.807Z"
   },
   {
    "duration": 188,
    "start_time": "2022-01-29T17:09:30.816Z"
   },
   {
    "duration": 177,
    "start_time": "2022-01-29T17:09:31.006Z"
   },
   {
    "duration": 187,
    "start_time": "2022-01-29T17:09:31.185Z"
   },
   {
    "duration": 8,
    "start_time": "2022-01-29T17:09:31.376Z"
   },
   {
    "duration": 6,
    "start_time": "2022-01-29T17:09:31.386Z"
   },
   {
    "duration": 6,
    "start_time": "2022-01-29T17:09:31.394Z"
   },
   {
    "duration": 230,
    "start_time": "2022-01-29T17:09:31.402Z"
   },
   {
    "duration": 208,
    "start_time": "2022-01-29T17:09:31.634Z"
   },
   {
    "duration": 215,
    "start_time": "2022-01-29T17:09:31.843Z"
   },
   {
    "duration": 13,
    "start_time": "2022-01-29T17:09:32.059Z"
   },
   {
    "duration": 9,
    "start_time": "2022-01-29T17:09:32.074Z"
   },
   {
    "duration": 5,
    "start_time": "2022-01-29T17:09:32.084Z"
   },
   {
    "duration": 6,
    "start_time": "2022-01-29T17:09:32.090Z"
   },
   {
    "duration": 6,
    "start_time": "2022-01-29T17:09:32.098Z"
   },
   {
    "duration": 11,
    "start_time": "2022-01-29T17:09:32.105Z"
   },
   {
    "duration": 19,
    "start_time": "2022-01-29T17:12:51.523Z"
   },
   {
    "duration": 304,
    "start_time": "2022-01-29T17:12:55.125Z"
   },
   {
    "duration": 52,
    "start_time": "2022-01-29T17:14:41.686Z"
   },
   {
    "duration": 16,
    "start_time": "2022-01-29T17:14:41.740Z"
   },
   {
    "duration": 17,
    "start_time": "2022-01-29T17:14:41.758Z"
   },
   {
    "duration": 4,
    "start_time": "2022-01-29T17:14:41.776Z"
   },
   {
    "duration": 11,
    "start_time": "2022-01-29T17:14:41.782Z"
   },
   {
    "duration": 8,
    "start_time": "2022-01-29T17:14:41.795Z"
   },
   {
    "duration": 9,
    "start_time": "2022-01-29T17:14:41.804Z"
   },
   {
    "duration": 19,
    "start_time": "2022-01-29T17:14:41.931Z"
   },
   {
    "duration": 20,
    "start_time": "2022-01-29T17:14:41.952Z"
   },
   {
    "duration": 16,
    "start_time": "2022-01-29T17:14:41.974Z"
   },
   {
    "duration": 332,
    "start_time": "2022-01-29T17:14:41.992Z"
   },
   {
    "duration": 17,
    "start_time": "2022-01-29T17:14:42.326Z"
   },
   {
    "duration": 287,
    "start_time": "2022-01-29T17:14:42.345Z"
   },
   {
    "duration": 18,
    "start_time": "2022-01-29T17:14:42.634Z"
   },
   {
    "duration": 299,
    "start_time": "2022-01-29T17:14:42.654Z"
   },
   {
    "duration": 3145,
    "start_time": "2022-01-29T17:14:42.954Z"
   },
   {
    "duration": 17,
    "start_time": "2022-01-29T17:14:46.101Z"
   },
   {
    "duration": 5,
    "start_time": "2022-01-29T17:14:46.120Z"
   },
   {
    "duration": 8,
    "start_time": "2022-01-29T17:14:46.126Z"
   },
   {
    "duration": 169,
    "start_time": "2022-01-29T17:14:46.135Z"
   },
   {
    "duration": 159,
    "start_time": "2022-01-29T17:14:46.305Z"
   },
   {
    "duration": 153,
    "start_time": "2022-01-29T17:14:46.465Z"
   },
   {
    "duration": 6,
    "start_time": "2022-01-29T17:14:46.621Z"
   },
   {
    "duration": 7,
    "start_time": "2022-01-29T17:14:46.628Z"
   },
   {
    "duration": 8,
    "start_time": "2022-01-29T17:14:46.636Z"
   },
   {
    "duration": 216,
    "start_time": "2022-01-29T17:14:46.645Z"
   },
   {
    "duration": 201,
    "start_time": "2022-01-29T17:14:46.863Z"
   },
   {
    "duration": 196,
    "start_time": "2022-01-29T17:14:47.065Z"
   },
   {
    "duration": 9,
    "start_time": "2022-01-29T17:14:47.262Z"
   },
   {
    "duration": 6,
    "start_time": "2022-01-29T17:14:47.273Z"
   },
   {
    "duration": 4,
    "start_time": "2022-01-29T17:14:47.281Z"
   },
   {
    "duration": 3,
    "start_time": "2022-01-29T17:14:47.287Z"
   },
   {
    "duration": 6,
    "start_time": "2022-01-29T17:14:47.292Z"
   },
   {
    "duration": 7,
    "start_time": "2022-01-29T17:14:47.299Z"
   },
   {
    "duration": 291,
    "start_time": "2022-01-29T17:17:01.692Z"
   },
   {
    "duration": 20,
    "start_time": "2022-01-29T17:17:07.464Z"
   },
   {
    "duration": 279,
    "start_time": "2022-01-29T17:17:10.423Z"
   },
   {
    "duration": 302,
    "start_time": "2022-01-29T17:29:34.654Z"
   },
   {
    "duration": 6,
    "start_time": "2022-01-29T17:30:02.950Z"
   },
   {
    "duration": 5,
    "start_time": "2022-01-29T17:30:48.388Z"
   },
   {
    "duration": 8,
    "start_time": "2022-01-29T17:31:21.605Z"
   },
   {
    "duration": 5,
    "start_time": "2022-01-29T17:32:29.274Z"
   },
   {
    "duration": 6,
    "start_time": "2022-01-29T17:33:14.992Z"
   },
   {
    "duration": 11,
    "start_time": "2022-01-29T17:33:34.872Z"
   },
   {
    "duration": 320,
    "start_time": "2022-01-29T17:35:00.174Z"
   },
   {
    "duration": 18,
    "start_time": "2022-01-29T17:35:09.915Z"
   },
   {
    "duration": 21,
    "start_time": "2022-01-29T17:35:51.096Z"
   },
   {
    "duration": 5,
    "start_time": "2022-01-29T17:37:56.864Z"
   },
   {
    "duration": 5,
    "start_time": "2022-01-29T17:38:14.342Z"
   },
   {
    "duration": 423,
    "start_time": "2022-01-29T17:38:41.574Z"
   },
   {
    "duration": 19,
    "start_time": "2022-01-29T17:48:47.287Z"
   },
   {
    "duration": 18,
    "start_time": "2022-01-29T17:49:13.137Z"
   },
   {
    "duration": 17,
    "start_time": "2022-01-29T17:50:33.393Z"
   },
   {
    "duration": 19,
    "start_time": "2022-01-29T17:52:37.012Z"
   },
   {
    "duration": 315,
    "start_time": "2022-01-29T17:59:21.512Z"
   },
   {
    "duration": 3045,
    "start_time": "2022-01-29T18:02:08.743Z"
   },
   {
    "duration": 18,
    "start_time": "2022-01-29T19:01:27.906Z"
   },
   {
    "duration": 5,
    "start_time": "2022-01-29T19:01:40.694Z"
   },
   {
    "duration": 6,
    "start_time": "2022-01-29T19:05:48.490Z"
   },
   {
    "duration": 156,
    "start_time": "2022-01-29T19:09:50.013Z"
   },
   {
    "duration": 164,
    "start_time": "2022-01-29T19:11:01.984Z"
   },
   {
    "duration": 158,
    "start_time": "2022-01-29T19:12:29.679Z"
   },
   {
    "duration": 54,
    "start_time": "2022-01-29T19:13:48.853Z"
   },
   {
    "duration": 17,
    "start_time": "2022-01-29T19:13:48.908Z"
   },
   {
    "duration": 12,
    "start_time": "2022-01-29T19:13:48.926Z"
   },
   {
    "duration": 31,
    "start_time": "2022-01-29T19:13:48.940Z"
   },
   {
    "duration": 7,
    "start_time": "2022-01-29T19:13:48.973Z"
   },
   {
    "duration": 6,
    "start_time": "2022-01-29T19:13:48.982Z"
   },
   {
    "duration": 9,
    "start_time": "2022-01-29T19:13:48.990Z"
   },
   {
    "duration": 18,
    "start_time": "2022-01-29T19:13:49.001Z"
   },
   {
    "duration": 4,
    "start_time": "2022-01-29T19:13:49.021Z"
   },
   {
    "duration": 49,
    "start_time": "2022-01-29T19:13:49.026Z"
   },
   {
    "duration": 427,
    "start_time": "2022-01-29T19:13:49.077Z"
   },
   {
    "duration": 18,
    "start_time": "2022-01-29T19:13:49.506Z"
   },
   {
    "duration": 286,
    "start_time": "2022-01-29T19:13:49.526Z"
   },
   {
    "duration": 21,
    "start_time": "2022-01-29T19:13:49.813Z"
   },
   {
    "duration": 303,
    "start_time": "2022-01-29T19:13:49.835Z"
   },
   {
    "duration": 3015,
    "start_time": "2022-01-29T19:13:50.139Z"
   },
   {
    "duration": 27,
    "start_time": "2022-01-29T19:13:53.156Z"
   },
   {
    "duration": 6,
    "start_time": "2022-01-29T19:13:53.185Z"
   },
   {
    "duration": 5,
    "start_time": "2022-01-29T19:13:53.193Z"
   },
   {
    "duration": 172,
    "start_time": "2022-01-29T19:13:53.199Z"
   },
   {
    "duration": 157,
    "start_time": "2022-01-29T19:13:53.373Z"
   },
   {
    "duration": 151,
    "start_time": "2022-01-29T19:13:53.532Z"
   },
   {
    "duration": 6,
    "start_time": "2022-01-29T19:13:53.686Z"
   },
   {
    "duration": 7,
    "start_time": "2022-01-29T19:13:53.693Z"
   },
   {
    "duration": 5,
    "start_time": "2022-01-29T19:13:53.701Z"
   },
   {
    "duration": 228,
    "start_time": "2022-01-29T19:13:53.707Z"
   },
   {
    "duration": 205,
    "start_time": "2022-01-29T19:13:53.937Z"
   },
   {
    "duration": 310,
    "start_time": "2022-01-29T19:13:54.144Z"
   },
   {
    "duration": 6,
    "start_time": "2022-01-29T19:13:54.456Z"
   },
   {
    "duration": 7,
    "start_time": "2022-01-29T19:13:54.472Z"
   },
   {
    "duration": 4,
    "start_time": "2022-01-29T19:13:54.480Z"
   },
   {
    "duration": 5,
    "start_time": "2022-01-29T19:13:54.485Z"
   },
   {
    "duration": 4,
    "start_time": "2022-01-29T19:13:54.492Z"
   },
   {
    "duration": 5,
    "start_time": "2022-01-29T19:13:54.498Z"
   },
   {
    "duration": 169,
    "start_time": "2022-01-29T19:21:42.314Z"
   },
   {
    "duration": 149,
    "start_time": "2022-01-29T19:25:17.449Z"
   },
   {
    "duration": 53,
    "start_time": "2022-01-29T19:25:32.688Z"
   },
   {
    "duration": 17,
    "start_time": "2022-01-29T19:25:32.742Z"
   },
   {
    "duration": 12,
    "start_time": "2022-01-29T19:25:32.761Z"
   },
   {
    "duration": 5,
    "start_time": "2022-01-29T19:25:32.775Z"
   },
   {
    "duration": 12,
    "start_time": "2022-01-29T19:25:32.781Z"
   },
   {
    "duration": 6,
    "start_time": "2022-01-29T19:25:32.795Z"
   },
   {
    "duration": 11,
    "start_time": "2022-01-29T19:25:32.803Z"
   },
   {
    "duration": 19,
    "start_time": "2022-01-29T19:25:32.816Z"
   },
   {
    "duration": 39,
    "start_time": "2022-01-29T19:25:32.837Z"
   },
   {
    "duration": 19,
    "start_time": "2022-01-29T19:25:32.879Z"
   },
   {
    "duration": 373,
    "start_time": "2022-01-29T19:25:32.899Z"
   },
   {
    "duration": 21,
    "start_time": "2022-01-29T19:25:33.274Z"
   },
   {
    "duration": 344,
    "start_time": "2022-01-29T19:25:33.297Z"
   },
   {
    "duration": 30,
    "start_time": "2022-01-29T19:25:33.642Z"
   },
   {
    "duration": 304,
    "start_time": "2022-01-29T19:25:33.674Z"
   },
   {
    "duration": 3117,
    "start_time": "2022-01-29T19:25:33.980Z"
   },
   {
    "duration": 16,
    "start_time": "2022-01-29T19:25:37.099Z"
   },
   {
    "duration": 7,
    "start_time": "2022-01-29T19:25:37.117Z"
   },
   {
    "duration": 6,
    "start_time": "2022-01-29T19:25:37.125Z"
   },
   {
    "duration": 186,
    "start_time": "2022-01-29T19:25:37.132Z"
   },
   {
    "duration": 273,
    "start_time": "2022-01-29T19:25:37.320Z"
   },
   {
    "duration": 156,
    "start_time": "2022-01-29T19:25:37.595Z"
   },
   {
    "duration": 6,
    "start_time": "2022-01-29T19:25:37.754Z"
   },
   {
    "duration": 16,
    "start_time": "2022-01-29T19:25:37.761Z"
   },
   {
    "duration": 9,
    "start_time": "2022-01-29T19:25:37.779Z"
   },
   {
    "duration": 230,
    "start_time": "2022-01-29T19:25:37.790Z"
   },
   {
    "duration": 213,
    "start_time": "2022-01-29T19:25:38.021Z"
   },
   {
    "duration": 208,
    "start_time": "2022-01-29T19:25:38.236Z"
   },
   {
    "duration": 6,
    "start_time": "2022-01-29T19:25:38.445Z"
   },
   {
    "duration": 21,
    "start_time": "2022-01-29T19:25:38.452Z"
   },
   {
    "duration": 5,
    "start_time": "2022-01-29T19:25:38.475Z"
   },
   {
    "duration": 5,
    "start_time": "2022-01-29T19:25:38.482Z"
   },
   {
    "duration": 7,
    "start_time": "2022-01-29T19:25:38.489Z"
   },
   {
    "duration": 5,
    "start_time": "2022-01-29T19:25:38.498Z"
   },
   {
    "duration": 194,
    "start_time": "2022-01-29T19:30:38.439Z"
   },
   {
    "duration": 56,
    "start_time": "2022-01-29T19:30:44.736Z"
   },
   {
    "duration": 18,
    "start_time": "2022-01-29T19:30:44.793Z"
   },
   {
    "duration": 15,
    "start_time": "2022-01-29T19:30:44.813Z"
   },
   {
    "duration": 4,
    "start_time": "2022-01-29T19:30:44.829Z"
   },
   {
    "duration": 39,
    "start_time": "2022-01-29T19:30:44.834Z"
   },
   {
    "duration": 9,
    "start_time": "2022-01-29T19:30:44.875Z"
   },
   {
    "duration": 10,
    "start_time": "2022-01-29T19:30:44.885Z"
   },
   {
    "duration": 19,
    "start_time": "2022-01-29T19:30:44.898Z"
   },
   {
    "duration": 6,
    "start_time": "2022-01-29T19:30:44.919Z"
   },
   {
    "duration": 51,
    "start_time": "2022-01-29T19:30:44.927Z"
   },
   {
    "duration": 337,
    "start_time": "2022-01-29T19:30:44.980Z"
   },
   {
    "duration": 18,
    "start_time": "2022-01-29T19:30:45.318Z"
   },
   {
    "duration": 294,
    "start_time": "2022-01-29T19:30:45.338Z"
   },
   {
    "duration": 20,
    "start_time": "2022-01-29T19:30:45.633Z"
   },
   {
    "duration": 307,
    "start_time": "2022-01-29T19:30:45.654Z"
   },
   {
    "duration": 3194,
    "start_time": "2022-01-29T19:30:45.963Z"
   },
   {
    "duration": 21,
    "start_time": "2022-01-29T19:30:49.158Z"
   },
   {
    "duration": 6,
    "start_time": "2022-01-29T19:30:49.181Z"
   },
   {
    "duration": 5,
    "start_time": "2022-01-29T19:30:49.188Z"
   },
   {
    "duration": 166,
    "start_time": "2022-01-29T19:30:49.194Z"
   },
   {
    "duration": 157,
    "start_time": "2022-01-29T19:30:49.362Z"
   },
   {
    "duration": 154,
    "start_time": "2022-01-29T19:30:49.521Z"
   },
   {
    "duration": 6,
    "start_time": "2022-01-29T19:30:49.678Z"
   },
   {
    "duration": 7,
    "start_time": "2022-01-29T19:30:49.685Z"
   },
   {
    "duration": 6,
    "start_time": "2022-01-29T19:30:49.694Z"
   },
   {
    "duration": 225,
    "start_time": "2022-01-29T19:30:49.701Z"
   },
   {
    "duration": 201,
    "start_time": "2022-01-29T19:30:49.927Z"
   },
   {
    "duration": 202,
    "start_time": "2022-01-29T19:30:50.129Z"
   },
   {
    "duration": 7,
    "start_time": "2022-01-29T19:30:50.332Z"
   },
   {
    "duration": 8,
    "start_time": "2022-01-29T19:30:50.340Z"
   },
   {
    "duration": 4,
    "start_time": "2022-01-29T19:30:50.350Z"
   },
   {
    "duration": 3,
    "start_time": "2022-01-29T19:30:50.372Z"
   },
   {
    "duration": 5,
    "start_time": "2022-01-29T19:30:50.377Z"
   },
   {
    "duration": 5,
    "start_time": "2022-01-29T19:30:50.384Z"
   },
   {
    "duration": 371,
    "start_time": "2022-01-29T19:41:58.722Z"
   },
   {
    "duration": 282,
    "start_time": "2022-01-29T19:42:19.044Z"
   },
   {
    "duration": 398,
    "start_time": "2022-01-29T19:43:00.741Z"
   },
   {
    "duration": 293,
    "start_time": "2022-01-29T19:43:11.230Z"
   },
   {
    "duration": 258,
    "start_time": "2022-01-29T19:43:38.144Z"
   },
   {
    "duration": 327,
    "start_time": "2022-01-29T19:43:46.781Z"
   },
   {
    "duration": 287,
    "start_time": "2022-01-29T19:43:53.237Z"
   },
   {
    "duration": 282,
    "start_time": "2022-01-29T19:52:29.679Z"
   },
   {
    "duration": 294,
    "start_time": "2022-01-29T19:54:31.307Z"
   },
   {
    "duration": 291,
    "start_time": "2022-01-29T19:55:01.628Z"
   },
   {
    "duration": 401,
    "start_time": "2022-01-29T19:59:09.131Z"
   },
   {
    "duration": 404,
    "start_time": "2022-01-29T19:59:19.138Z"
   },
   {
    "duration": 275,
    "start_time": "2022-01-29T20:02:56.236Z"
   },
   {
    "duration": 400,
    "start_time": "2022-01-29T20:03:09.576Z"
   },
   {
    "duration": 278,
    "start_time": "2022-01-29T20:03:20.986Z"
   },
   {
    "duration": 61,
    "start_time": "2022-01-30T12:20:36.266Z"
   },
   {
    "duration": 17,
    "start_time": "2022-01-30T12:20:36.328Z"
   },
   {
    "duration": 16,
    "start_time": "2022-01-30T12:20:36.346Z"
   },
   {
    "duration": 4,
    "start_time": "2022-01-30T12:20:36.364Z"
   },
   {
    "duration": 11,
    "start_time": "2022-01-30T12:20:36.369Z"
   },
   {
    "duration": 6,
    "start_time": "2022-01-30T12:20:36.382Z"
   },
   {
    "duration": 10,
    "start_time": "2022-01-30T12:20:36.390Z"
   },
   {
    "duration": 18,
    "start_time": "2022-01-30T12:20:36.427Z"
   },
   {
    "duration": 5,
    "start_time": "2022-01-30T12:20:36.447Z"
   },
   {
    "duration": 16,
    "start_time": "2022-01-30T12:20:36.453Z"
   },
   {
    "duration": 338,
    "start_time": "2022-01-30T12:20:36.470Z"
   },
   {
    "duration": 27,
    "start_time": "2022-01-30T12:20:36.810Z"
   },
   {
    "duration": 267,
    "start_time": "2022-01-30T12:20:36.838Z"
   },
   {
    "duration": 28,
    "start_time": "2022-01-30T12:20:37.107Z"
   },
   {
    "duration": 306,
    "start_time": "2022-01-30T12:20:37.137Z"
   },
   {
    "duration": 3096,
    "start_time": "2022-01-30T12:20:37.445Z"
   },
   {
    "duration": 16,
    "start_time": "2022-01-30T12:20:40.543Z"
   },
   {
    "duration": 8,
    "start_time": "2022-01-30T12:20:40.561Z"
   },
   {
    "duration": 6,
    "start_time": "2022-01-30T12:20:40.570Z"
   },
   {
    "duration": 171,
    "start_time": "2022-01-30T12:20:40.577Z"
   },
   {
    "duration": 156,
    "start_time": "2022-01-30T12:20:40.750Z"
   },
   {
    "duration": 153,
    "start_time": "2022-01-30T12:20:40.907Z"
   },
   {
    "duration": 6,
    "start_time": "2022-01-30T12:20:41.061Z"
   },
   {
    "duration": 6,
    "start_time": "2022-01-30T12:20:41.069Z"
   },
   {
    "duration": 8,
    "start_time": "2022-01-30T12:20:41.076Z"
   },
   {
    "duration": 214,
    "start_time": "2022-01-30T12:20:41.085Z"
   },
   {
    "duration": 204,
    "start_time": "2022-01-30T12:20:41.300Z"
   },
   {
    "duration": 197,
    "start_time": "2022-01-30T12:20:41.506Z"
   },
   {
    "duration": 6,
    "start_time": "2022-01-30T12:20:41.705Z"
   },
   {
    "duration": 16,
    "start_time": "2022-01-30T12:20:41.713Z"
   },
   {
    "duration": 11,
    "start_time": "2022-01-30T12:20:41.731Z"
   },
   {
    "duration": 6,
    "start_time": "2022-01-30T12:20:41.743Z"
   },
   {
    "duration": 5,
    "start_time": "2022-01-30T12:20:41.751Z"
   },
   {
    "duration": 16,
    "start_time": "2022-01-30T12:20:41.761Z"
   },
   {
    "duration": 18,
    "start_time": "2022-01-30T12:46:17.223Z"
   },
   {
    "duration": 6,
    "start_time": "2022-01-30T12:46:32.207Z"
   },
   {
    "duration": 362,
    "start_time": "2022-01-30T12:46:40.999Z"
   },
   {
    "duration": 19,
    "start_time": "2022-01-30T12:46:46.336Z"
   },
   {
    "duration": 8,
    "start_time": "2022-01-30T12:47:10.665Z"
   },
   {
    "duration": 255,
    "start_time": "2022-01-30T12:47:40.775Z"
   },
   {
    "duration": 285,
    "start_time": "2022-01-30T12:47:45.911Z"
   },
   {
    "duration": 20,
    "start_time": "2022-01-30T12:47:50.975Z"
   },
   {
    "duration": 6,
    "start_time": "2022-01-30T12:49:17.225Z"
   },
   {
    "duration": 1122,
    "start_time": "2022-01-30T12:51:41.572Z"
   },
   {
    "duration": 16,
    "start_time": "2022-01-30T12:51:42.695Z"
   },
   {
    "duration": 14,
    "start_time": "2022-01-30T12:51:42.713Z"
   },
   {
    "duration": 4,
    "start_time": "2022-01-30T12:51:42.728Z"
   },
   {
    "duration": 11,
    "start_time": "2022-01-30T12:51:42.734Z"
   },
   {
    "duration": 7,
    "start_time": "2022-01-30T12:51:42.747Z"
   },
   {
    "duration": 13,
    "start_time": "2022-01-30T12:51:42.755Z"
   },
   {
    "duration": 18,
    "start_time": "2022-01-30T12:51:42.770Z"
   },
   {
    "duration": 5,
    "start_time": "2022-01-30T12:51:42.789Z"
   },
   {
    "duration": 44,
    "start_time": "2022-01-30T12:51:42.795Z"
   },
   {
    "duration": 327,
    "start_time": "2022-01-30T12:51:42.840Z"
   },
   {
    "duration": 19,
    "start_time": "2022-01-30T12:51:43.168Z"
   },
   {
    "duration": 276,
    "start_time": "2022-01-30T12:51:43.188Z"
   },
   {
    "duration": 19,
    "start_time": "2022-01-30T12:51:43.465Z"
   },
   {
    "duration": 302,
    "start_time": "2022-01-30T12:51:43.486Z"
   },
   {
    "duration": 3045,
    "start_time": "2022-01-30T12:51:43.789Z"
   },
   {
    "duration": 17,
    "start_time": "2022-01-30T12:51:46.835Z"
   },
   {
    "duration": 6,
    "start_time": "2022-01-30T12:51:46.854Z"
   },
   {
    "duration": 6,
    "start_time": "2022-01-30T12:51:46.861Z"
   },
   {
    "duration": 171,
    "start_time": "2022-01-30T12:51:46.868Z"
   },
   {
    "duration": 152,
    "start_time": "2022-01-30T12:51:47.040Z"
   },
   {
    "duration": 156,
    "start_time": "2022-01-30T12:51:47.193Z"
   },
   {
    "duration": 6,
    "start_time": "2022-01-30T12:51:47.351Z"
   },
   {
    "duration": 7,
    "start_time": "2022-01-30T12:51:47.358Z"
   },
   {
    "duration": 7,
    "start_time": "2022-01-30T12:51:47.366Z"
   },
   {
    "duration": 213,
    "start_time": "2022-01-30T12:51:47.374Z"
   },
   {
    "duration": 191,
    "start_time": "2022-01-30T12:51:47.589Z"
   },
   {
    "duration": 265,
    "start_time": "2022-01-30T12:51:47.781Z"
   },
   {
    "duration": 18,
    "start_time": "2022-01-30T12:51:48.047Z"
   },
   {
    "duration": 10,
    "start_time": "2022-01-30T12:51:48.066Z"
   },
   {
    "duration": 6,
    "start_time": "2022-01-30T12:51:48.077Z"
   },
   {
    "duration": 5,
    "start_time": "2022-01-30T12:51:48.085Z"
   },
   {
    "duration": 5,
    "start_time": "2022-01-30T12:51:48.091Z"
   },
   {
    "duration": 29,
    "start_time": "2022-01-30T12:51:48.098Z"
   },
   {
    "duration": 4,
    "start_time": "2022-01-30T12:51:48.128Z"
   },
   {
    "duration": 1068,
    "start_time": "2022-01-30T12:52:13.738Z"
   },
   {
    "duration": 17,
    "start_time": "2022-01-30T12:52:14.808Z"
   },
   {
    "duration": 15,
    "start_time": "2022-01-30T12:52:14.826Z"
   },
   {
    "duration": 3,
    "start_time": "2022-01-30T12:52:14.843Z"
   },
   {
    "duration": 9,
    "start_time": "2022-01-30T12:52:14.848Z"
   },
   {
    "duration": 7,
    "start_time": "2022-01-30T12:52:14.858Z"
   },
   {
    "duration": 9,
    "start_time": "2022-01-30T12:52:14.866Z"
   },
   {
    "duration": 18,
    "start_time": "2022-01-30T12:52:14.877Z"
   },
   {
    "duration": 31,
    "start_time": "2022-01-30T12:52:14.897Z"
   },
   {
    "duration": 16,
    "start_time": "2022-01-30T12:52:14.929Z"
   },
   {
    "duration": 337,
    "start_time": "2022-01-30T12:52:14.946Z"
   },
   {
    "duration": 19,
    "start_time": "2022-01-30T12:52:15.285Z"
   },
   {
    "duration": 276,
    "start_time": "2022-01-30T12:52:15.306Z"
   },
   {
    "duration": 20,
    "start_time": "2022-01-30T12:52:15.584Z"
   },
   {
    "duration": 307,
    "start_time": "2022-01-30T12:52:15.605Z"
   },
   {
    "duration": 3024,
    "start_time": "2022-01-30T12:52:15.913Z"
   },
   {
    "duration": 17,
    "start_time": "2022-01-30T12:52:18.938Z"
   },
   {
    "duration": 6,
    "start_time": "2022-01-30T12:52:18.956Z"
   },
   {
    "duration": 7,
    "start_time": "2022-01-30T12:52:18.963Z"
   },
   {
    "duration": 203,
    "start_time": "2022-01-30T12:52:18.971Z"
   },
   {
    "duration": 200,
    "start_time": "2022-01-30T12:52:19.176Z"
   },
   {
    "duration": 152,
    "start_time": "2022-01-30T12:52:19.378Z"
   },
   {
    "duration": 6,
    "start_time": "2022-01-30T12:52:19.534Z"
   },
   {
    "duration": 8,
    "start_time": "2022-01-30T12:52:19.541Z"
   },
   {
    "duration": 8,
    "start_time": "2022-01-30T12:52:19.551Z"
   },
   {
    "duration": 236,
    "start_time": "2022-01-30T12:52:19.561Z"
   },
   {
    "duration": 208,
    "start_time": "2022-01-30T12:52:19.799Z"
   },
   {
    "duration": 269,
    "start_time": "2022-01-30T12:52:20.009Z"
   },
   {
    "duration": 15,
    "start_time": "2022-01-30T12:52:20.280Z"
   },
   {
    "duration": 9,
    "start_time": "2022-01-30T12:52:20.296Z"
   },
   {
    "duration": 23,
    "start_time": "2022-01-30T12:52:20.306Z"
   },
   {
    "duration": 4,
    "start_time": "2022-01-30T12:52:20.331Z"
   },
   {
    "duration": 10,
    "start_time": "2022-01-30T12:52:20.336Z"
   },
   {
    "duration": 8,
    "start_time": "2022-01-30T12:52:20.348Z"
   },
   {
    "duration": 7,
    "start_time": "2022-01-30T12:52:20.358Z"
   },
   {
    "duration": 456,
    "start_time": "2022-01-30T14:01:53.971Z"
   },
   {
    "duration": 1271,
    "start_time": "2022-01-30T14:02:02.997Z"
   },
   {
    "duration": 23,
    "start_time": "2022-01-30T14:02:04.270Z"
   },
   {
    "duration": 22,
    "start_time": "2022-01-30T14:02:04.295Z"
   },
   {
    "duration": 6,
    "start_time": "2022-01-30T14:02:04.318Z"
   },
   {
    "duration": 16,
    "start_time": "2022-01-30T14:02:04.326Z"
   },
   {
    "duration": 10,
    "start_time": "2022-01-30T14:02:04.344Z"
   },
   {
    "duration": 43,
    "start_time": "2022-01-30T14:02:04.356Z"
   },
   {
    "duration": 25,
    "start_time": "2022-01-30T14:02:04.402Z"
   },
   {
    "duration": 7,
    "start_time": "2022-01-30T14:02:04.430Z"
   },
   {
    "duration": 24,
    "start_time": "2022-01-30T14:02:04.439Z"
   },
   {
    "duration": 472,
    "start_time": "2022-01-30T14:02:04.465Z"
   },
   {
    "duration": 24,
    "start_time": "2022-01-30T14:02:04.939Z"
   },
   {
    "duration": 389,
    "start_time": "2022-01-30T14:02:04.965Z"
   },
   {
    "duration": 27,
    "start_time": "2022-01-30T14:02:05.355Z"
   },
   {
    "duration": 423,
    "start_time": "2022-01-30T14:02:05.384Z"
   },
   {
    "duration": 3635,
    "start_time": "2022-01-30T14:02:05.809Z"
   },
   {
    "duration": 21,
    "start_time": "2022-01-30T14:02:09.445Z"
   },
   {
    "duration": 7,
    "start_time": "2022-01-30T14:02:09.468Z"
   },
   {
    "duration": 26,
    "start_time": "2022-01-30T14:02:09.476Z"
   },
   {
    "duration": 203,
    "start_time": "2022-01-30T14:02:09.503Z"
   },
   {
    "duration": 195,
    "start_time": "2022-01-30T14:02:09.707Z"
   },
   {
    "duration": 197,
    "start_time": "2022-01-30T14:02:09.903Z"
   },
   {
    "duration": 8,
    "start_time": "2022-01-30T14:02:10.103Z"
   },
   {
    "duration": 9,
    "start_time": "2022-01-30T14:02:10.112Z"
   },
   {
    "duration": 11,
    "start_time": "2022-01-30T14:02:10.122Z"
   },
   {
    "duration": 302,
    "start_time": "2022-01-30T14:02:10.135Z"
   },
   {
    "duration": 265,
    "start_time": "2022-01-30T14:02:10.440Z"
   },
   {
    "duration": 347,
    "start_time": "2022-01-30T14:02:10.707Z"
   },
   {
    "duration": 8,
    "start_time": "2022-01-30T14:02:11.055Z"
   },
   {
    "duration": 14,
    "start_time": "2022-01-30T14:02:11.064Z"
   },
   {
    "duration": 20,
    "start_time": "2022-01-30T14:02:11.080Z"
   },
   {
    "duration": 5,
    "start_time": "2022-01-30T14:02:11.102Z"
   },
   {
    "duration": 11,
    "start_time": "2022-01-30T14:02:11.109Z"
   },
   {
    "duration": 9,
    "start_time": "2022-01-30T14:02:11.122Z"
   },
   {
    "duration": 6,
    "start_time": "2022-01-30T14:02:11.133Z"
   },
   {
    "duration": 517,
    "start_time": "2022-01-30T14:05:46.770Z"
   },
   {
    "duration": 274,
    "start_time": "2022-01-30T14:07:31.126Z"
   },
   {
    "duration": 285,
    "start_time": "2022-01-30T14:08:24.871Z"
   },
   {
    "duration": 286,
    "start_time": "2022-01-30T14:09:01.688Z"
   },
   {
    "duration": 290,
    "start_time": "2022-01-30T14:09:12.581Z"
   },
   {
    "duration": 259,
    "start_time": "2022-01-30T14:13:36.227Z"
   },
   {
    "duration": 14,
    "start_time": "2022-01-30T14:15:06.297Z"
   },
   {
    "duration": 18,
    "start_time": "2022-01-30T14:15:55.200Z"
   },
   {
    "duration": 20,
    "start_time": "2022-01-30T14:16:12.226Z"
   },
   {
    "duration": 19,
    "start_time": "2022-01-30T14:16:52.818Z"
   },
   {
    "duration": 21,
    "start_time": "2022-01-30T14:17:19.513Z"
   },
   {
    "duration": 60,
    "start_time": "2022-01-30T14:18:16.505Z"
   },
   {
    "duration": 20,
    "start_time": "2022-01-30T14:18:16.566Z"
   },
   {
    "duration": 15,
    "start_time": "2022-01-30T14:18:16.598Z"
   },
   {
    "duration": 4,
    "start_time": "2022-01-30T14:18:16.615Z"
   },
   {
    "duration": 14,
    "start_time": "2022-01-30T14:18:16.621Z"
   },
   {
    "duration": 11,
    "start_time": "2022-01-30T14:18:16.636Z"
   },
   {
    "duration": 16,
    "start_time": "2022-01-30T14:18:16.648Z"
   },
   {
    "duration": 52,
    "start_time": "2022-01-30T14:18:16.668Z"
   },
   {
    "duration": 7,
    "start_time": "2022-01-30T14:18:16.723Z"
   },
   {
    "duration": 21,
    "start_time": "2022-01-30T14:18:16.732Z"
   },
   {
    "duration": 462,
    "start_time": "2022-01-30T14:18:16.755Z"
   },
   {
    "duration": 23,
    "start_time": "2022-01-30T14:18:17.219Z"
   },
   {
    "duration": 369,
    "start_time": "2022-01-30T14:18:17.245Z"
   },
   {
    "duration": 25,
    "start_time": "2022-01-30T14:18:17.615Z"
   },
   {
    "duration": 403,
    "start_time": "2022-01-30T14:18:17.642Z"
   },
   {
    "duration": 3590,
    "start_time": "2022-01-30T14:18:18.047Z"
   },
   {
    "duration": 22,
    "start_time": "2022-01-30T14:18:21.639Z"
   },
   {
    "duration": 12,
    "start_time": "2022-01-30T14:18:21.662Z"
   },
   {
    "duration": 24,
    "start_time": "2022-01-30T14:18:21.676Z"
   },
   {
    "duration": 201,
    "start_time": "2022-01-30T14:18:21.701Z"
   },
   {
    "duration": 197,
    "start_time": "2022-01-30T14:18:21.904Z"
   },
   {
    "duration": 197,
    "start_time": "2022-01-30T14:18:22.103Z"
   },
   {
    "duration": 8,
    "start_time": "2022-01-30T14:18:22.303Z"
   },
   {
    "duration": 10,
    "start_time": "2022-01-30T14:18:22.312Z"
   },
   {
    "duration": 9,
    "start_time": "2022-01-30T14:18:22.324Z"
   },
   {
    "duration": 313,
    "start_time": "2022-01-30T14:18:22.334Z"
   },
   {
    "duration": 282,
    "start_time": "2022-01-30T14:18:22.648Z"
   },
   {
    "duration": 390,
    "start_time": "2022-01-30T14:18:22.931Z"
   },
   {
    "duration": 23,
    "start_time": "2022-01-30T14:18:23.323Z"
   },
   {
    "duration": 7,
    "start_time": "2022-01-30T14:18:23.348Z"
   },
   {
    "duration": 10,
    "start_time": "2022-01-30T14:18:23.357Z"
   },
   {
    "duration": 33,
    "start_time": "2022-01-30T14:18:23.369Z"
   },
   {
    "duration": 8,
    "start_time": "2022-01-30T14:18:23.404Z"
   },
   {
    "duration": 8,
    "start_time": "2022-01-30T14:18:23.414Z"
   },
   {
    "duration": 11,
    "start_time": "2022-01-30T14:18:23.424Z"
   },
   {
    "duration": 61,
    "start_time": "2022-01-30T14:20:07.232Z"
   },
   {
    "duration": 23,
    "start_time": "2022-01-30T14:20:07.295Z"
   },
   {
    "duration": 22,
    "start_time": "2022-01-30T14:20:07.320Z"
   },
   {
    "duration": 4,
    "start_time": "2022-01-30T14:20:07.344Z"
   },
   {
    "duration": 13,
    "start_time": "2022-01-30T14:20:07.350Z"
   },
   {
    "duration": 38,
    "start_time": "2022-01-30T14:20:07.365Z"
   },
   {
    "duration": 12,
    "start_time": "2022-01-30T14:20:07.405Z"
   },
   {
    "duration": 31,
    "start_time": "2022-01-30T14:20:07.420Z"
   },
   {
    "duration": 7,
    "start_time": "2022-01-30T14:20:07.453Z"
   },
   {
    "duration": 42,
    "start_time": "2022-01-30T14:20:07.462Z"
   },
   {
    "duration": 436,
    "start_time": "2022-01-30T14:20:07.506Z"
   },
   {
    "duration": 23,
    "start_time": "2022-01-30T14:20:07.944Z"
   },
   {
    "duration": 371,
    "start_time": "2022-01-30T14:20:07.969Z"
   },
   {
    "duration": 25,
    "start_time": "2022-01-30T14:20:08.342Z"
   },
   {
    "duration": 401,
    "start_time": "2022-01-30T14:20:08.369Z"
   },
   {
    "duration": 3684,
    "start_time": "2022-01-30T14:20:08.772Z"
   },
   {
    "duration": 23,
    "start_time": "2022-01-30T14:20:12.457Z"
   },
   {
    "duration": 21,
    "start_time": "2022-01-30T14:20:12.481Z"
   },
   {
    "duration": 9,
    "start_time": "2022-01-30T14:20:12.503Z"
   },
   {
    "duration": 209,
    "start_time": "2022-01-30T14:20:12.514Z"
   },
   {
    "duration": 205,
    "start_time": "2022-01-30T14:20:12.725Z"
   },
   {
    "duration": 202,
    "start_time": "2022-01-30T14:20:12.933Z"
   },
   {
    "duration": 8,
    "start_time": "2022-01-30T14:20:13.138Z"
   },
   {
    "duration": 9,
    "start_time": "2022-01-30T14:20:13.148Z"
   },
   {
    "duration": 7,
    "start_time": "2022-01-30T14:20:13.159Z"
   },
   {
    "duration": 343,
    "start_time": "2022-01-30T14:20:13.168Z"
   },
   {
    "duration": 289,
    "start_time": "2022-01-30T14:20:13.513Z"
   },
   {
    "duration": 290,
    "start_time": "2022-01-30T14:20:13.803Z"
   },
   {
    "duration": 22,
    "start_time": "2022-01-30T14:20:14.098Z"
   },
   {
    "duration": 7,
    "start_time": "2022-01-30T14:20:14.122Z"
   },
   {
    "duration": 17,
    "start_time": "2022-01-30T14:20:14.131Z"
   },
   {
    "duration": 6,
    "start_time": "2022-01-30T14:20:14.150Z"
   },
   {
    "duration": 41,
    "start_time": "2022-01-30T14:20:14.157Z"
   },
   {
    "duration": 19,
    "start_time": "2022-01-30T14:20:14.200Z"
   },
   {
    "duration": 15,
    "start_time": "2022-01-30T14:20:14.221Z"
   },
   {
    "duration": 9,
    "start_time": "2022-01-30T14:46:02.889Z"
   },
   {
    "duration": 275,
    "start_time": "2022-01-30T14:47:02.516Z"
   },
   {
    "duration": 13,
    "start_time": "2022-01-30T14:48:09.633Z"
   },
   {
    "duration": 14,
    "start_time": "2022-01-30T14:48:23.978Z"
   },
   {
    "duration": 30,
    "start_time": "2022-01-30T14:48:43.277Z"
   },
   {
    "duration": 21,
    "start_time": "2022-01-30T14:49:21.535Z"
   },
   {
    "duration": 32,
    "start_time": "2022-01-30T14:50:29.679Z"
   },
   {
    "duration": 286,
    "start_time": "2022-01-30T14:50:42.537Z"
   },
   {
    "duration": 26,
    "start_time": "2022-01-30T14:50:52.877Z"
   },
   {
    "duration": 15,
    "start_time": "2022-01-30T15:11:19.726Z"
   },
   {
    "duration": 61,
    "start_time": "2022-01-30T15:11:23.453Z"
   },
   {
    "duration": 22,
    "start_time": "2022-01-30T15:11:23.516Z"
   },
   {
    "duration": 22,
    "start_time": "2022-01-30T15:11:23.540Z"
   },
   {
    "duration": 9,
    "start_time": "2022-01-30T15:11:23.565Z"
   },
   {
    "duration": 33,
    "start_time": "2022-01-30T15:11:23.575Z"
   },
   {
    "duration": 13,
    "start_time": "2022-01-30T15:11:23.609Z"
   },
   {
    "duration": 17,
    "start_time": "2022-01-30T15:11:23.624Z"
   },
   {
    "duration": 35,
    "start_time": "2022-01-30T15:11:23.644Z"
   },
   {
    "duration": 19,
    "start_time": "2022-01-30T15:11:23.681Z"
   },
   {
    "duration": 28,
    "start_time": "2022-01-30T15:11:23.703Z"
   },
   {
    "duration": 454,
    "start_time": "2022-01-30T15:11:23.733Z"
   },
   {
    "duration": 30,
    "start_time": "2022-01-30T15:11:24.189Z"
   },
   {
    "duration": 385,
    "start_time": "2022-01-30T15:11:24.221Z"
   },
   {
    "duration": 27,
    "start_time": "2022-01-30T15:11:24.608Z"
   },
   {
    "duration": 518,
    "start_time": "2022-01-30T15:11:24.637Z"
   },
   {
    "duration": 3626,
    "start_time": "2022-01-30T15:11:25.157Z"
   },
   {
    "duration": 28,
    "start_time": "2022-01-30T15:11:28.785Z"
   },
   {
    "duration": 6,
    "start_time": "2022-01-30T15:11:28.814Z"
   },
   {
    "duration": 10,
    "start_time": "2022-01-30T15:11:28.822Z"
   },
   {
    "duration": 218,
    "start_time": "2022-01-30T15:11:28.834Z"
   },
   {
    "duration": 202,
    "start_time": "2022-01-30T15:11:29.054Z"
   },
   {
    "duration": 198,
    "start_time": "2022-01-30T15:11:29.258Z"
   },
   {
    "duration": 8,
    "start_time": "2022-01-30T15:11:29.459Z"
   },
   {
    "duration": 8,
    "start_time": "2022-01-30T15:11:29.469Z"
   },
   {
    "duration": 26,
    "start_time": "2022-01-30T15:11:29.479Z"
   },
   {
    "duration": 315,
    "start_time": "2022-01-30T15:11:29.506Z"
   },
   {
    "duration": 297,
    "start_time": "2022-01-30T15:11:29.823Z"
   },
   {
    "duration": 320,
    "start_time": "2022-01-30T15:11:30.121Z"
   },
   {
    "duration": 23,
    "start_time": "2022-01-30T15:11:30.443Z"
   },
   {
    "duration": 37,
    "start_time": "2022-01-30T15:11:30.468Z"
   },
   {
    "duration": 18,
    "start_time": "2022-01-30T15:11:30.506Z"
   },
   {
    "duration": 27,
    "start_time": "2022-01-30T15:11:30.526Z"
   },
   {
    "duration": 35,
    "start_time": "2022-01-30T15:11:30.555Z"
   },
   {
    "duration": 37,
    "start_time": "2022-01-30T15:11:30.592Z"
   },
   {
    "duration": 20,
    "start_time": "2022-01-30T15:11:30.631Z"
   },
   {
    "duration": 124,
    "start_time": "2022-01-30T15:11:30.653Z"
   },
   {
    "duration": 14,
    "start_time": "2022-01-30T15:11:50.515Z"
   },
   {
    "duration": 60,
    "start_time": "2022-01-30T15:11:53.294Z"
   },
   {
    "duration": 21,
    "start_time": "2022-01-30T15:11:53.356Z"
   },
   {
    "duration": 24,
    "start_time": "2022-01-30T15:11:53.401Z"
   },
   {
    "duration": 6,
    "start_time": "2022-01-30T15:11:53.428Z"
   },
   {
    "duration": 15,
    "start_time": "2022-01-30T15:11:53.436Z"
   },
   {
    "duration": 52,
    "start_time": "2022-01-30T15:11:53.453Z"
   },
   {
    "duration": 14,
    "start_time": "2022-01-30T15:11:53.507Z"
   },
   {
    "duration": 24,
    "start_time": "2022-01-30T15:11:53.526Z"
   },
   {
    "duration": 7,
    "start_time": "2022-01-30T15:11:53.553Z"
   },
   {
    "duration": 48,
    "start_time": "2022-01-30T15:11:53.561Z"
   },
   {
    "duration": 442,
    "start_time": "2022-01-30T15:11:53.611Z"
   },
   {
    "duration": 24,
    "start_time": "2022-01-30T15:11:54.055Z"
   },
   {
    "duration": 407,
    "start_time": "2022-01-30T15:11:54.081Z"
   },
   {
    "duration": 31,
    "start_time": "2022-01-30T15:11:54.490Z"
   },
   {
    "duration": 465,
    "start_time": "2022-01-30T15:11:54.523Z"
   },
   {
    "duration": 3948,
    "start_time": "2022-01-30T15:11:54.990Z"
   },
   {
    "duration": 22,
    "start_time": "2022-01-30T15:11:58.940Z"
   },
   {
    "duration": 9,
    "start_time": "2022-01-30T15:11:58.964Z"
   },
   {
    "duration": 24,
    "start_time": "2022-01-30T15:11:58.975Z"
   },
   {
    "duration": 223,
    "start_time": "2022-01-30T15:11:59.001Z"
   },
   {
    "duration": 204,
    "start_time": "2022-01-30T15:11:59.226Z"
   },
   {
    "duration": 315,
    "start_time": "2022-01-30T15:11:59.432Z"
   },
   {
    "duration": 11,
    "start_time": "2022-01-30T15:11:59.752Z"
   },
   {
    "duration": 34,
    "start_time": "2022-01-30T15:11:59.766Z"
   },
   {
    "duration": 10,
    "start_time": "2022-01-30T15:11:59.802Z"
   },
   {
    "duration": 344,
    "start_time": "2022-01-30T15:11:59.814Z"
   },
   {
    "duration": 295,
    "start_time": "2022-01-30T15:12:00.160Z"
   },
   {
    "duration": 309,
    "start_time": "2022-01-30T15:12:00.457Z"
   },
   {
    "duration": 43,
    "start_time": "2022-01-30T15:12:00.768Z"
   },
   {
    "duration": 22,
    "start_time": "2022-01-30T15:12:00.814Z"
   },
   {
    "duration": 7,
    "start_time": "2022-01-30T15:12:00.838Z"
   },
   {
    "duration": 14,
    "start_time": "2022-01-30T15:12:00.847Z"
   },
   {
    "duration": 36,
    "start_time": "2022-01-30T15:12:00.863Z"
   },
   {
    "duration": 6,
    "start_time": "2022-01-30T15:12:00.900Z"
   },
   {
    "duration": 10,
    "start_time": "2022-01-30T15:12:00.908Z"
   },
   {
    "duration": 8,
    "start_time": "2022-01-30T15:12:00.920Z"
   },
   {
    "duration": 25,
    "start_time": "2022-01-30T15:12:16.950Z"
   },
   {
    "duration": 59,
    "start_time": "2022-01-30T15:15:39.103Z"
   },
   {
    "duration": 36,
    "start_time": "2022-01-30T15:15:39.164Z"
   },
   {
    "duration": 16,
    "start_time": "2022-01-30T15:15:39.203Z"
   },
   {
    "duration": 5,
    "start_time": "2022-01-30T15:15:39.221Z"
   },
   {
    "duration": 14,
    "start_time": "2022-01-30T15:15:39.227Z"
   },
   {
    "duration": 55,
    "start_time": "2022-01-30T15:15:39.243Z"
   },
   {
    "duration": 15,
    "start_time": "2022-01-30T15:15:39.300Z"
   },
   {
    "duration": 27,
    "start_time": "2022-01-30T15:15:39.319Z"
   },
   {
    "duration": 6,
    "start_time": "2022-01-30T15:15:39.348Z"
   },
   {
    "duration": 50,
    "start_time": "2022-01-30T15:15:39.355Z"
   },
   {
    "duration": 429,
    "start_time": "2022-01-30T15:15:39.406Z"
   },
   {
    "duration": 21,
    "start_time": "2022-01-30T15:15:39.837Z"
   },
   {
    "duration": 377,
    "start_time": "2022-01-30T15:15:39.860Z"
   },
   {
    "duration": 26,
    "start_time": "2022-01-30T15:15:40.239Z"
   },
   {
    "duration": 413,
    "start_time": "2022-01-30T15:15:40.267Z"
   },
   {
    "duration": 3758,
    "start_time": "2022-01-30T15:15:40.682Z"
   },
   {
    "duration": 22,
    "start_time": "2022-01-30T15:15:44.441Z"
   },
   {
    "duration": 8,
    "start_time": "2022-01-30T15:15:44.465Z"
   },
   {
    "duration": 28,
    "start_time": "2022-01-30T15:15:44.475Z"
   },
   {
    "duration": 212,
    "start_time": "2022-01-30T15:15:44.505Z"
   },
   {
    "duration": 195,
    "start_time": "2022-01-30T15:15:44.719Z"
   },
   {
    "duration": 199,
    "start_time": "2022-01-30T15:15:44.916Z"
   },
   {
    "duration": 7,
    "start_time": "2022-01-30T15:15:45.118Z"
   },
   {
    "duration": 15,
    "start_time": "2022-01-30T15:15:45.127Z"
   },
   {
    "duration": 6,
    "start_time": "2022-01-30T15:15:45.144Z"
   },
   {
    "duration": 323,
    "start_time": "2022-01-30T15:15:45.152Z"
   },
   {
    "duration": 291,
    "start_time": "2022-01-30T15:15:45.477Z"
   },
   {
    "duration": 294,
    "start_time": "2022-01-30T15:15:45.769Z"
   },
   {
    "duration": 40,
    "start_time": "2022-01-30T15:15:46.064Z"
   },
   {
    "duration": 26,
    "start_time": "2022-01-30T15:15:46.106Z"
   },
   {
    "duration": 7,
    "start_time": "2022-01-30T15:15:46.133Z"
   },
   {
    "duration": 9,
    "start_time": "2022-01-30T15:15:46.142Z"
   },
   {
    "duration": 48,
    "start_time": "2022-01-30T15:15:46.153Z"
   },
   {
    "duration": 6,
    "start_time": "2022-01-30T15:15:46.202Z"
   },
   {
    "duration": 9,
    "start_time": "2022-01-30T15:15:46.210Z"
   },
   {
    "duration": 10,
    "start_time": "2022-01-30T15:15:46.220Z"
   },
   {
    "duration": 58,
    "start_time": "2022-01-30T15:28:44.707Z"
   },
   {
    "duration": 34,
    "start_time": "2022-01-30T15:28:44.766Z"
   },
   {
    "duration": 21,
    "start_time": "2022-01-30T15:28:44.802Z"
   },
   {
    "duration": 5,
    "start_time": "2022-01-30T15:28:44.825Z"
   },
   {
    "duration": 12,
    "start_time": "2022-01-30T15:28:44.831Z"
   },
   {
    "duration": 8,
    "start_time": "2022-01-30T15:28:44.844Z"
   },
   {
    "duration": 50,
    "start_time": "2022-01-30T15:28:44.854Z"
   },
   {
    "duration": 24,
    "start_time": "2022-01-30T15:28:44.907Z"
   },
   {
    "duration": 6,
    "start_time": "2022-01-30T15:28:44.934Z"
   },
   {
    "duration": 58,
    "start_time": "2022-01-30T15:28:44.941Z"
   },
   {
    "duration": 440,
    "start_time": "2022-01-30T15:28:45.001Z"
   },
   {
    "duration": 22,
    "start_time": "2022-01-30T15:28:45.443Z"
   },
   {
    "duration": 380,
    "start_time": "2022-01-30T15:28:45.467Z"
   },
   {
    "duration": 37,
    "start_time": "2022-01-30T15:28:45.850Z"
   },
   {
    "duration": 410,
    "start_time": "2022-01-30T15:28:45.899Z"
   },
   {
    "duration": 3746,
    "start_time": "2022-01-30T15:28:46.311Z"
   },
   {
    "duration": 21,
    "start_time": "2022-01-30T15:28:50.059Z"
   },
   {
    "duration": 22,
    "start_time": "2022-01-30T15:28:50.082Z"
   },
   {
    "duration": 15,
    "start_time": "2022-01-30T15:28:50.106Z"
   },
   {
    "duration": 207,
    "start_time": "2022-01-30T15:28:50.123Z"
   },
   {
    "duration": 192,
    "start_time": "2022-01-30T15:28:50.332Z"
   },
   {
    "duration": 195,
    "start_time": "2022-01-30T15:28:50.526Z"
   },
   {
    "duration": 7,
    "start_time": "2022-01-30T15:28:50.725Z"
   },
   {
    "duration": 9,
    "start_time": "2022-01-30T15:28:50.734Z"
   },
   {
    "duration": 7,
    "start_time": "2022-01-30T15:28:50.745Z"
   },
   {
    "duration": 327,
    "start_time": "2022-01-30T15:28:50.754Z"
   },
   {
    "duration": 291,
    "start_time": "2022-01-30T15:28:51.084Z"
   },
   {
    "duration": 285,
    "start_time": "2022-01-30T15:28:51.377Z"
   },
   {
    "duration": 41,
    "start_time": "2022-01-30T15:28:51.663Z"
   },
   {
    "duration": 10,
    "start_time": "2022-01-30T15:28:51.706Z"
   },
   {
    "duration": 15,
    "start_time": "2022-01-30T15:28:51.719Z"
   },
   {
    "duration": 7,
    "start_time": "2022-01-30T15:28:51.737Z"
   },
   {
    "duration": 13,
    "start_time": "2022-01-30T15:28:51.747Z"
   },
   {
    "duration": 7,
    "start_time": "2022-01-30T15:28:51.761Z"
   },
   {
    "duration": 34,
    "start_time": "2022-01-30T15:28:51.770Z"
   }
  ],
  "kernelspec": {
   "display_name": "Python 3 (ipykernel)",
   "language": "python",
   "name": "python3"
  },
  "language_info": {
   "codemirror_mode": {
    "name": "ipython",
    "version": 3
   },
   "file_extension": ".py",
   "mimetype": "text/x-python",
   "name": "python",
   "nbconvert_exporter": "python",
   "pygments_lexer": "ipython3",
   "version": "3.9.7"
  },
  "toc": {
   "base_numbering": 1,
   "nav_menu": {},
   "number_sections": false,
   "sideBar": true,
   "skip_h1_title": true,
   "title_cell": "Table of Contents",
   "title_sidebar": "Contents",
   "toc_cell": false,
   "toc_position": {
    "height": "calc(100% - 180px)",
    "left": "10px",
    "top": "150px",
    "width": "282px"
   },
   "toc_section_display": true,
   "toc_window_display": true
  }
 },
 "nbformat": 4,
 "nbformat_minor": 2
}
