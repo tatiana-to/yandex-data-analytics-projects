{
 "cells": [
  {
   "cell_type": "markdown",
   "metadata": {},
   "source": [
    "# Описание проекта\n",
    "Вы аналитик компании «Мегалайн» — федерального оператора сотовой связи. Клиентам предлагают два тарифных плана: «Смарт» и «Ультра». Чтобы скорректировать рекламный бюджет, коммерческий департамент хочет понять, какой тариф приносит больше денег.\n",
    "Вам предстоит сделать предварительный анализ тарифов на небольшой выборке клиентов. В вашем распоряжении данные 500 пользователей «Мегалайна»: кто они, откуда, каким тарифом пользуются, сколько звонков и сообщений каждый отправил за 2018 год. Нужно проанализировать поведение клиентов и сделать вывод — какой тариф лучше.\n",
    "\n",
    "# Описание тарифов\n",
    "__Tариф «Смарт»__\n",
    "Ежемесячная плата: 550 рублей\n",
    "Включено 500 минут разговора, 50 сообщений и 15 Гб интернет-трафика\n",
    "Стоимость услуг сверх тарифного пакета: 1. минута разговора: 3 рубля («Мегалайн» всегда округляет вверх значения минут и мегабайтов. Если пользователь проговорил всего 1 секунду, в тарифе засчитывается целая минута); 2. сообщение: 3 рубля; 3. 1 Гб интернет-трафика: 200 рублей.   \n",
    "\n",
    "__Тариф «Ультра»__\n",
    "Ежемесячная плата: 1950 рублей\n",
    "Включено 3000 минут разговора, 1000 сообщений и 30 Гб интернет-трафика\n",
    "Стоимость услуг сверх тарифного пакета: 1. минута разговора: 1 рубль; 2. сообщение: 1 рубль; 3. 1 Гб интернет-трафика: 150 рублей."
   ]
  },
  {
   "cell_type": "markdown",
   "metadata": {},
   "source": [
    "# Шаг 1. Откройте файлы с данными и изучите общую информацию"
   ]
  },
  {
   "cell_type": "markdown",
   "metadata": {},
   "source": [
    "Для начала прочитаем файлы и сохраним  в переменных. выведем на экран первые 10 строк таблиц. Первый взгляд на сырые данные - это важная часть любого исследования."
   ]
  },
  {
   "cell_type": "code",
   "execution_count": 12,
   "metadata": {},
   "outputs": [
    {
     "data": {
      "text/html": [
       "<div>\n",
       "<style scoped>\n",
       "    .dataframe tbody tr th:only-of-type {\n",
       "        vertical-align: middle;\n",
       "    }\n",
       "\n",
       "    .dataframe tbody tr th {\n",
       "        vertical-align: top;\n",
       "    }\n",
       "\n",
       "    .dataframe thead th {\n",
       "        text-align: right;\n",
       "    }\n",
       "</style>\n",
       "<table border=\"1\" class=\"dataframe\">\n",
       "  <thead>\n",
       "    <tr style=\"text-align: right;\">\n",
       "      <th></th>\n",
       "      <th>id</th>\n",
       "      <th>call_date</th>\n",
       "      <th>duration</th>\n",
       "      <th>user_id</th>\n",
       "    </tr>\n",
       "  </thead>\n",
       "  <tbody>\n",
       "    <tr>\n",
       "      <td>0</td>\n",
       "      <td>1000_0</td>\n",
       "      <td>2018-07-25</td>\n",
       "      <td>0.00</td>\n",
       "      <td>1000</td>\n",
       "    </tr>\n",
       "    <tr>\n",
       "      <td>1</td>\n",
       "      <td>1000_1</td>\n",
       "      <td>2018-08-17</td>\n",
       "      <td>0.00</td>\n",
       "      <td>1000</td>\n",
       "    </tr>\n",
       "    <tr>\n",
       "      <td>2</td>\n",
       "      <td>1000_2</td>\n",
       "      <td>2018-06-11</td>\n",
       "      <td>2.85</td>\n",
       "      <td>1000</td>\n",
       "    </tr>\n",
       "    <tr>\n",
       "      <td>3</td>\n",
       "      <td>1000_3</td>\n",
       "      <td>2018-09-21</td>\n",
       "      <td>13.80</td>\n",
       "      <td>1000</td>\n",
       "    </tr>\n",
       "    <tr>\n",
       "      <td>4</td>\n",
       "      <td>1000_4</td>\n",
       "      <td>2018-12-15</td>\n",
       "      <td>5.18</td>\n",
       "      <td>1000</td>\n",
       "    </tr>\n",
       "    <tr>\n",
       "      <td>5</td>\n",
       "      <td>1000_5</td>\n",
       "      <td>2018-11-02</td>\n",
       "      <td>0.00</td>\n",
       "      <td>1000</td>\n",
       "    </tr>\n",
       "    <tr>\n",
       "      <td>6</td>\n",
       "      <td>1000_6</td>\n",
       "      <td>2018-10-18</td>\n",
       "      <td>0.00</td>\n",
       "      <td>1000</td>\n",
       "    </tr>\n",
       "    <tr>\n",
       "      <td>7</td>\n",
       "      <td>1000_7</td>\n",
       "      <td>2018-08-22</td>\n",
       "      <td>18.31</td>\n",
       "      <td>1000</td>\n",
       "    </tr>\n",
       "    <tr>\n",
       "      <td>8</td>\n",
       "      <td>1000_8</td>\n",
       "      <td>2018-09-15</td>\n",
       "      <td>18.44</td>\n",
       "      <td>1000</td>\n",
       "    </tr>\n",
       "    <tr>\n",
       "      <td>9</td>\n",
       "      <td>1000_9</td>\n",
       "      <td>2018-08-15</td>\n",
       "      <td>0.00</td>\n",
       "      <td>1000</td>\n",
       "    </tr>\n",
       "  </tbody>\n",
       "</table>\n",
       "</div>"
      ],
      "text/plain": [
       "       id   call_date  duration  user_id\n",
       "0  1000_0  2018-07-25      0.00     1000\n",
       "1  1000_1  2018-08-17      0.00     1000\n",
       "2  1000_2  2018-06-11      2.85     1000\n",
       "3  1000_3  2018-09-21     13.80     1000\n",
       "4  1000_4  2018-12-15      5.18     1000\n",
       "5  1000_5  2018-11-02      0.00     1000\n",
       "6  1000_6  2018-10-18      0.00     1000\n",
       "7  1000_7  2018-08-22     18.31     1000\n",
       "8  1000_8  2018-09-15     18.44     1000\n",
       "9  1000_9  2018-08-15      0.00     1000"
      ]
     },
     "metadata": {},
     "output_type": "display_data"
    },
    {
     "name": "stdout",
     "output_type": "stream",
     "text": [
      "<class 'pandas.core.frame.DataFrame'>\n",
      "RangeIndex: 202607 entries, 0 to 202606\n",
      "Data columns (total 4 columns):\n",
      "id           202607 non-null object\n",
      "call_date    202607 non-null object\n",
      "duration     202607 non-null float64\n",
      "user_id      202607 non-null int64\n",
      "dtypes: float64(1), int64(1), object(2)\n",
      "memory usage: 6.2+ MB\n"
     ]
    },
    {
     "data": {
      "text/html": [
       "<div>\n",
       "<style scoped>\n",
       "    .dataframe tbody tr th:only-of-type {\n",
       "        vertical-align: middle;\n",
       "    }\n",
       "\n",
       "    .dataframe tbody tr th {\n",
       "        vertical-align: top;\n",
       "    }\n",
       "\n",
       "    .dataframe thead th {\n",
       "        text-align: right;\n",
       "    }\n",
       "</style>\n",
       "<table border=\"1\" class=\"dataframe\">\n",
       "  <thead>\n",
       "    <tr style=\"text-align: right;\">\n",
       "      <th></th>\n",
       "      <th>Unnamed: 0</th>\n",
       "      <th>id</th>\n",
       "      <th>mb_used</th>\n",
       "      <th>session_date</th>\n",
       "      <th>user_id</th>\n",
       "    </tr>\n",
       "  </thead>\n",
       "  <tbody>\n",
       "    <tr>\n",
       "      <td>0</td>\n",
       "      <td>0</td>\n",
       "      <td>1000_0</td>\n",
       "      <td>112.95</td>\n",
       "      <td>2018-11-25</td>\n",
       "      <td>1000</td>\n",
       "    </tr>\n",
       "    <tr>\n",
       "      <td>1</td>\n",
       "      <td>1</td>\n",
       "      <td>1000_1</td>\n",
       "      <td>1052.81</td>\n",
       "      <td>2018-09-07</td>\n",
       "      <td>1000</td>\n",
       "    </tr>\n",
       "    <tr>\n",
       "      <td>2</td>\n",
       "      <td>2</td>\n",
       "      <td>1000_2</td>\n",
       "      <td>1197.26</td>\n",
       "      <td>2018-06-25</td>\n",
       "      <td>1000</td>\n",
       "    </tr>\n",
       "    <tr>\n",
       "      <td>3</td>\n",
       "      <td>3</td>\n",
       "      <td>1000_3</td>\n",
       "      <td>550.27</td>\n",
       "      <td>2018-08-22</td>\n",
       "      <td>1000</td>\n",
       "    </tr>\n",
       "    <tr>\n",
       "      <td>4</td>\n",
       "      <td>4</td>\n",
       "      <td>1000_4</td>\n",
       "      <td>302.56</td>\n",
       "      <td>2018-09-24</td>\n",
       "      <td>1000</td>\n",
       "    </tr>\n",
       "    <tr>\n",
       "      <td>5</td>\n",
       "      <td>5</td>\n",
       "      <td>1000_5</td>\n",
       "      <td>399.97</td>\n",
       "      <td>2018-10-02</td>\n",
       "      <td>1000</td>\n",
       "    </tr>\n",
       "    <tr>\n",
       "      <td>6</td>\n",
       "      <td>6</td>\n",
       "      <td>1000_6</td>\n",
       "      <td>540.08</td>\n",
       "      <td>2018-09-07</td>\n",
       "      <td>1000</td>\n",
       "    </tr>\n",
       "    <tr>\n",
       "      <td>7</td>\n",
       "      <td>7</td>\n",
       "      <td>1000_7</td>\n",
       "      <td>415.70</td>\n",
       "      <td>2018-07-11</td>\n",
       "      <td>1000</td>\n",
       "    </tr>\n",
       "    <tr>\n",
       "      <td>8</td>\n",
       "      <td>8</td>\n",
       "      <td>1000_8</td>\n",
       "      <td>505.40</td>\n",
       "      <td>2018-10-08</td>\n",
       "      <td>1000</td>\n",
       "    </tr>\n",
       "    <tr>\n",
       "      <td>9</td>\n",
       "      <td>9</td>\n",
       "      <td>1000_9</td>\n",
       "      <td>345.54</td>\n",
       "      <td>2018-09-03</td>\n",
       "      <td>1000</td>\n",
       "    </tr>\n",
       "  </tbody>\n",
       "</table>\n",
       "</div>"
      ],
      "text/plain": [
       "   Unnamed: 0      id  mb_used session_date  user_id\n",
       "0           0  1000_0   112.95   2018-11-25     1000\n",
       "1           1  1000_1  1052.81   2018-09-07     1000\n",
       "2           2  1000_2  1197.26   2018-06-25     1000\n",
       "3           3  1000_3   550.27   2018-08-22     1000\n",
       "4           4  1000_4   302.56   2018-09-24     1000\n",
       "5           5  1000_5   399.97   2018-10-02     1000\n",
       "6           6  1000_6   540.08   2018-09-07     1000\n",
       "7           7  1000_7   415.70   2018-07-11     1000\n",
       "8           8  1000_8   505.40   2018-10-08     1000\n",
       "9           9  1000_9   345.54   2018-09-03     1000"
      ]
     },
     "metadata": {},
     "output_type": "display_data"
    },
    {
     "name": "stdout",
     "output_type": "stream",
     "text": [
      "<class 'pandas.core.frame.DataFrame'>\n",
      "RangeIndex: 149396 entries, 0 to 149395\n",
      "Data columns (total 5 columns):\n",
      "Unnamed: 0      149396 non-null int64\n",
      "id              149396 non-null object\n",
      "mb_used         149396 non-null float64\n",
      "session_date    149396 non-null object\n",
      "user_id         149396 non-null int64\n",
      "dtypes: float64(1), int64(2), object(2)\n",
      "memory usage: 5.7+ MB\n"
     ]
    },
    {
     "data": {
      "text/html": [
       "<div>\n",
       "<style scoped>\n",
       "    .dataframe tbody tr th:only-of-type {\n",
       "        vertical-align: middle;\n",
       "    }\n",
       "\n",
       "    .dataframe tbody tr th {\n",
       "        vertical-align: top;\n",
       "    }\n",
       "\n",
       "    .dataframe thead th {\n",
       "        text-align: right;\n",
       "    }\n",
       "</style>\n",
       "<table border=\"1\" class=\"dataframe\">\n",
       "  <thead>\n",
       "    <tr style=\"text-align: right;\">\n",
       "      <th></th>\n",
       "      <th>id</th>\n",
       "      <th>message_date</th>\n",
       "      <th>user_id</th>\n",
       "    </tr>\n",
       "  </thead>\n",
       "  <tbody>\n",
       "    <tr>\n",
       "      <td>0</td>\n",
       "      <td>1000_0</td>\n",
       "      <td>2018-06-27</td>\n",
       "      <td>1000</td>\n",
       "    </tr>\n",
       "    <tr>\n",
       "      <td>1</td>\n",
       "      <td>1000_1</td>\n",
       "      <td>2018-10-08</td>\n",
       "      <td>1000</td>\n",
       "    </tr>\n",
       "    <tr>\n",
       "      <td>2</td>\n",
       "      <td>1000_2</td>\n",
       "      <td>2018-08-04</td>\n",
       "      <td>1000</td>\n",
       "    </tr>\n",
       "    <tr>\n",
       "      <td>3</td>\n",
       "      <td>1000_3</td>\n",
       "      <td>2018-06-16</td>\n",
       "      <td>1000</td>\n",
       "    </tr>\n",
       "    <tr>\n",
       "      <td>4</td>\n",
       "      <td>1000_4</td>\n",
       "      <td>2018-12-05</td>\n",
       "      <td>1000</td>\n",
       "    </tr>\n",
       "    <tr>\n",
       "      <td>5</td>\n",
       "      <td>1000_5</td>\n",
       "      <td>2018-06-20</td>\n",
       "      <td>1000</td>\n",
       "    </tr>\n",
       "    <tr>\n",
       "      <td>6</td>\n",
       "      <td>1000_6</td>\n",
       "      <td>2018-11-19</td>\n",
       "      <td>1000</td>\n",
       "    </tr>\n",
       "    <tr>\n",
       "      <td>7</td>\n",
       "      <td>1000_7</td>\n",
       "      <td>2018-10-29</td>\n",
       "      <td>1000</td>\n",
       "    </tr>\n",
       "    <tr>\n",
       "      <td>8</td>\n",
       "      <td>1000_8</td>\n",
       "      <td>2018-06-25</td>\n",
       "      <td>1000</td>\n",
       "    </tr>\n",
       "    <tr>\n",
       "      <td>9</td>\n",
       "      <td>1000_9</td>\n",
       "      <td>2018-12-18</td>\n",
       "      <td>1000</td>\n",
       "    </tr>\n",
       "  </tbody>\n",
       "</table>\n",
       "</div>"
      ],
      "text/plain": [
       "       id message_date  user_id\n",
       "0  1000_0   2018-06-27     1000\n",
       "1  1000_1   2018-10-08     1000\n",
       "2  1000_2   2018-08-04     1000\n",
       "3  1000_3   2018-06-16     1000\n",
       "4  1000_4   2018-12-05     1000\n",
       "5  1000_5   2018-06-20     1000\n",
       "6  1000_6   2018-11-19     1000\n",
       "7  1000_7   2018-10-29     1000\n",
       "8  1000_8   2018-06-25     1000\n",
       "9  1000_9   2018-12-18     1000"
      ]
     },
     "metadata": {},
     "output_type": "display_data"
    },
    {
     "name": "stdout",
     "output_type": "stream",
     "text": [
      "<class 'pandas.core.frame.DataFrame'>\n",
      "RangeIndex: 123036 entries, 0 to 123035\n",
      "Data columns (total 3 columns):\n",
      "id              123036 non-null object\n",
      "message_date    123036 non-null object\n",
      "user_id         123036 non-null int64\n",
      "dtypes: int64(1), object(2)\n",
      "memory usage: 2.8+ MB\n"
     ]
    },
    {
     "data": {
      "text/html": [
       "<div>\n",
       "<style scoped>\n",
       "    .dataframe tbody tr th:only-of-type {\n",
       "        vertical-align: middle;\n",
       "    }\n",
       "\n",
       "    .dataframe tbody tr th {\n",
       "        vertical-align: top;\n",
       "    }\n",
       "\n",
       "    .dataframe thead th {\n",
       "        text-align: right;\n",
       "    }\n",
       "</style>\n",
       "<table border=\"1\" class=\"dataframe\">\n",
       "  <thead>\n",
       "    <tr style=\"text-align: right;\">\n",
       "      <th></th>\n",
       "      <th>messages_included</th>\n",
       "      <th>mb_per_month_included</th>\n",
       "      <th>minutes_included</th>\n",
       "      <th>rub_monthly_fee</th>\n",
       "      <th>rub_per_gb</th>\n",
       "      <th>rub_per_message</th>\n",
       "      <th>rub_per_minute</th>\n",
       "      <th>tariff_name</th>\n",
       "    </tr>\n",
       "  </thead>\n",
       "  <tbody>\n",
       "    <tr>\n",
       "      <td>0</td>\n",
       "      <td>50</td>\n",
       "      <td>15360</td>\n",
       "      <td>500</td>\n",
       "      <td>550</td>\n",
       "      <td>200</td>\n",
       "      <td>3</td>\n",
       "      <td>3</td>\n",
       "      <td>smart</td>\n",
       "    </tr>\n",
       "    <tr>\n",
       "      <td>1</td>\n",
       "      <td>1000</td>\n",
       "      <td>30720</td>\n",
       "      <td>3000</td>\n",
       "      <td>1950</td>\n",
       "      <td>150</td>\n",
       "      <td>1</td>\n",
       "      <td>1</td>\n",
       "      <td>ultra</td>\n",
       "    </tr>\n",
       "  </tbody>\n",
       "</table>\n",
       "</div>"
      ],
      "text/plain": [
       "   messages_included  mb_per_month_included  minutes_included  \\\n",
       "0                 50                  15360               500   \n",
       "1               1000                  30720              3000   \n",
       "\n",
       "   rub_monthly_fee  rub_per_gb  rub_per_message  rub_per_minute tariff_name  \n",
       "0              550         200                3               3       smart  \n",
       "1             1950         150                1               1       ultra  "
      ]
     },
     "metadata": {},
     "output_type": "display_data"
    },
    {
     "name": "stdout",
     "output_type": "stream",
     "text": [
      "<class 'pandas.core.frame.DataFrame'>\n",
      "RangeIndex: 2 entries, 0 to 1\n",
      "Data columns (total 8 columns):\n",
      "messages_included        2 non-null int64\n",
      "mb_per_month_included    2 non-null int64\n",
      "minutes_included         2 non-null int64\n",
      "rub_monthly_fee          2 non-null int64\n",
      "rub_per_gb               2 non-null int64\n",
      "rub_per_message          2 non-null int64\n",
      "rub_per_minute           2 non-null int64\n",
      "tariff_name              2 non-null object\n",
      "dtypes: int64(7), object(1)\n",
      "memory usage: 256.0+ bytes\n"
     ]
    },
    {
     "data": {
      "text/html": [
       "<div>\n",
       "<style scoped>\n",
       "    .dataframe tbody tr th:only-of-type {\n",
       "        vertical-align: middle;\n",
       "    }\n",
       "\n",
       "    .dataframe tbody tr th {\n",
       "        vertical-align: top;\n",
       "    }\n",
       "\n",
       "    .dataframe thead th {\n",
       "        text-align: right;\n",
       "    }\n",
       "</style>\n",
       "<table border=\"1\" class=\"dataframe\">\n",
       "  <thead>\n",
       "    <tr style=\"text-align: right;\">\n",
       "      <th></th>\n",
       "      <th>user_id</th>\n",
       "      <th>age</th>\n",
       "      <th>churn_date</th>\n",
       "      <th>city</th>\n",
       "      <th>first_name</th>\n",
       "      <th>last_name</th>\n",
       "      <th>reg_date</th>\n",
       "      <th>tariff</th>\n",
       "    </tr>\n",
       "  </thead>\n",
       "  <tbody>\n",
       "    <tr>\n",
       "      <td>0</td>\n",
       "      <td>1000</td>\n",
       "      <td>52</td>\n",
       "      <td>NaN</td>\n",
       "      <td>Краснодар</td>\n",
       "      <td>Рафаил</td>\n",
       "      <td>Верещагин</td>\n",
       "      <td>2018-05-25</td>\n",
       "      <td>ultra</td>\n",
       "    </tr>\n",
       "    <tr>\n",
       "      <td>1</td>\n",
       "      <td>1001</td>\n",
       "      <td>41</td>\n",
       "      <td>NaN</td>\n",
       "      <td>Москва</td>\n",
       "      <td>Иван</td>\n",
       "      <td>Ежов</td>\n",
       "      <td>2018-11-01</td>\n",
       "      <td>smart</td>\n",
       "    </tr>\n",
       "    <tr>\n",
       "      <td>2</td>\n",
       "      <td>1002</td>\n",
       "      <td>59</td>\n",
       "      <td>NaN</td>\n",
       "      <td>Стерлитамак</td>\n",
       "      <td>Евгений</td>\n",
       "      <td>Абрамович</td>\n",
       "      <td>2018-06-17</td>\n",
       "      <td>smart</td>\n",
       "    </tr>\n",
       "    <tr>\n",
       "      <td>3</td>\n",
       "      <td>1003</td>\n",
       "      <td>23</td>\n",
       "      <td>NaN</td>\n",
       "      <td>Москва</td>\n",
       "      <td>Белла</td>\n",
       "      <td>Белякова</td>\n",
       "      <td>2018-08-17</td>\n",
       "      <td>ultra</td>\n",
       "    </tr>\n",
       "    <tr>\n",
       "      <td>4</td>\n",
       "      <td>1004</td>\n",
       "      <td>68</td>\n",
       "      <td>NaN</td>\n",
       "      <td>Новокузнецк</td>\n",
       "      <td>Татьяна</td>\n",
       "      <td>Авдеенко</td>\n",
       "      <td>2018-05-14</td>\n",
       "      <td>ultra</td>\n",
       "    </tr>\n",
       "    <tr>\n",
       "      <td>5</td>\n",
       "      <td>1005</td>\n",
       "      <td>67</td>\n",
       "      <td>NaN</td>\n",
       "      <td>Набережные Челны</td>\n",
       "      <td>Афанасий</td>\n",
       "      <td>Горлов</td>\n",
       "      <td>2018-01-25</td>\n",
       "      <td>smart</td>\n",
       "    </tr>\n",
       "    <tr>\n",
       "      <td>6</td>\n",
       "      <td>1006</td>\n",
       "      <td>21</td>\n",
       "      <td>NaN</td>\n",
       "      <td>Ульяновск</td>\n",
       "      <td>Леонид</td>\n",
       "      <td>Ермолаев</td>\n",
       "      <td>2018-02-26</td>\n",
       "      <td>smart</td>\n",
       "    </tr>\n",
       "    <tr>\n",
       "      <td>7</td>\n",
       "      <td>1007</td>\n",
       "      <td>65</td>\n",
       "      <td>NaN</td>\n",
       "      <td>Москва</td>\n",
       "      <td>Юна</td>\n",
       "      <td>Березина</td>\n",
       "      <td>2018-04-19</td>\n",
       "      <td>smart</td>\n",
       "    </tr>\n",
       "    <tr>\n",
       "      <td>8</td>\n",
       "      <td>1008</td>\n",
       "      <td>63</td>\n",
       "      <td>NaN</td>\n",
       "      <td>Челябинск</td>\n",
       "      <td>Рустэм</td>\n",
       "      <td>Пономарёв</td>\n",
       "      <td>2018-12-19</td>\n",
       "      <td>smart</td>\n",
       "    </tr>\n",
       "    <tr>\n",
       "      <td>9</td>\n",
       "      <td>1009</td>\n",
       "      <td>24</td>\n",
       "      <td>NaN</td>\n",
       "      <td>Пермь</td>\n",
       "      <td>Василиса</td>\n",
       "      <td>Блинова</td>\n",
       "      <td>2018-03-22</td>\n",
       "      <td>smart</td>\n",
       "    </tr>\n",
       "  </tbody>\n",
       "</table>\n",
       "</div>"
      ],
      "text/plain": [
       "   user_id  age churn_date              city first_name  last_name  \\\n",
       "0     1000   52        NaN         Краснодар     Рафаил  Верещагин   \n",
       "1     1001   41        NaN            Москва       Иван       Ежов   \n",
       "2     1002   59        NaN       Стерлитамак    Евгений  Абрамович   \n",
       "3     1003   23        NaN            Москва      Белла   Белякова   \n",
       "4     1004   68        NaN       Новокузнецк    Татьяна   Авдеенко   \n",
       "5     1005   67        NaN  Набережные Челны   Афанасий     Горлов   \n",
       "6     1006   21        NaN         Ульяновск     Леонид   Ермолаев   \n",
       "7     1007   65        NaN            Москва        Юна   Березина   \n",
       "8     1008   63        NaN         Челябинск     Рустэм  Пономарёв   \n",
       "9     1009   24        NaN             Пермь   Василиса    Блинова   \n",
       "\n",
       "     reg_date tariff  \n",
       "0  2018-05-25  ultra  \n",
       "1  2018-11-01  smart  \n",
       "2  2018-06-17  smart  \n",
       "3  2018-08-17  ultra  \n",
       "4  2018-05-14  ultra  \n",
       "5  2018-01-25  smart  \n",
       "6  2018-02-26  smart  \n",
       "7  2018-04-19  smart  \n",
       "8  2018-12-19  smart  \n",
       "9  2018-03-22  smart  "
      ]
     },
     "metadata": {},
     "output_type": "display_data"
    },
    {
     "name": "stdout",
     "output_type": "stream",
     "text": [
      "<class 'pandas.core.frame.DataFrame'>\n",
      "RangeIndex: 500 entries, 0 to 499\n",
      "Data columns (total 8 columns):\n",
      "user_id       500 non-null int64\n",
      "age           500 non-null int64\n",
      "churn_date    38 non-null object\n",
      "city          500 non-null object\n",
      "first_name    500 non-null object\n",
      "last_name     500 non-null object\n",
      "reg_date      500 non-null object\n",
      "tariff        500 non-null object\n",
      "dtypes: int64(2), object(6)\n",
      "memory usage: 31.4+ KB\n"
     ]
    }
   ],
   "source": [
    "import pandas as pd\n",
    "import matplotlib.pyplot as plt \n",
    "from scipy import stats as st\n",
    "import numpy as np\n",
    "import seaborn as sns\n",
    "calls = pd.read_csv('/datasets/calls.csv') \n",
    "display(calls.head(10))\n",
    "calls.info()\n",
    "\n",
    "internet = pd.read_csv('/datasets/internet.csv') \n",
    "display(internet.head(10))\n",
    "internet.info()\n",
    "\n",
    "messages = pd.read_csv('/datasets/messages.csv') \n",
    "display(messages.head(10))\n",
    "messages.info()\n",
    "\n",
    "tariffs = pd.read_csv('/datasets/tariffs.csv') \n",
    "display(tariffs.head(10))\n",
    "tariffs.info()\n",
    "\n",
    "users = pd.read_csv('/datasets/users.csv') \n",
    "display(users.head(10))\n",
    "users.info()"
   ]
  },
  {
   "cell_type": "markdown",
   "metadata": {},
   "source": [
    "**Вывод**"
   ]
  },
  {
   "cell_type": "markdown",
   "metadata": {},
   "source": [
    "Всего у нас 5 таблиц, пропуски есть только в таблице users в колонке churn_date — дата прекращения пользования тарифом (если значение пропущено, то тариф ещё действовал на момент выгрузки данных).\n",
    "На следующем этапе приведем данные к нужным типам в тех колонках, которые нам будут нужны для дальнейшей работы."
   ]
  },
  {
   "cell_type": "markdown",
   "metadata": {},
   "source": [
    "# Шаг 2. Предобработка данных"
   ]
  },
  {
   "cell_type": "markdown",
   "metadata": {},
   "source": [
    "Приведем данные к нужным типам и исправим ошибки, если они есть."
   ]
  },
  {
   "cell_type": "code",
   "execution_count": 13,
   "metadata": {},
   "outputs": [
    {
     "name": "stdout",
     "output_type": "stream",
     "text": [
      "<class 'pandas.core.frame.DataFrame'>\n",
      "RangeIndex: 202607 entries, 0 to 202606\n",
      "Data columns (total 5 columns):\n",
      "id           202607 non-null int64\n",
      "call_date    202607 non-null datetime64[ns]\n",
      "duration     202607 non-null float64\n",
      "user_id      202607 non-null int64\n",
      "month        202607 non-null datetime64[ns]\n",
      "dtypes: datetime64[ns](2), float64(1), int64(2)\n",
      "memory usage: 7.7 MB\n"
     ]
    },
    {
     "data": {
      "text/html": [
       "<div>\n",
       "<style scoped>\n",
       "    .dataframe tbody tr th:only-of-type {\n",
       "        vertical-align: middle;\n",
       "    }\n",
       "\n",
       "    .dataframe tbody tr th {\n",
       "        vertical-align: top;\n",
       "    }\n",
       "\n",
       "    .dataframe thead th {\n",
       "        text-align: right;\n",
       "    }\n",
       "</style>\n",
       "<table border=\"1\" class=\"dataframe\">\n",
       "  <thead>\n",
       "    <tr style=\"text-align: right;\">\n",
       "      <th></th>\n",
       "      <th>id</th>\n",
       "      <th>call_date</th>\n",
       "      <th>duration</th>\n",
       "      <th>user_id</th>\n",
       "      <th>month</th>\n",
       "    </tr>\n",
       "  </thead>\n",
       "  <tbody>\n",
       "    <tr>\n",
       "      <td>0</td>\n",
       "      <td>10000</td>\n",
       "      <td>2018-07-25</td>\n",
       "      <td>0.0</td>\n",
       "      <td>1000</td>\n",
       "      <td>2018-07-01</td>\n",
       "    </tr>\n",
       "    <tr>\n",
       "      <td>1</td>\n",
       "      <td>10001</td>\n",
       "      <td>2018-08-17</td>\n",
       "      <td>0.0</td>\n",
       "      <td>1000</td>\n",
       "      <td>2018-08-01</td>\n",
       "    </tr>\n",
       "    <tr>\n",
       "      <td>2</td>\n",
       "      <td>10002</td>\n",
       "      <td>2018-06-11</td>\n",
       "      <td>3.0</td>\n",
       "      <td>1000</td>\n",
       "      <td>2018-06-01</td>\n",
       "    </tr>\n",
       "    <tr>\n",
       "      <td>3</td>\n",
       "      <td>10003</td>\n",
       "      <td>2018-09-21</td>\n",
       "      <td>14.0</td>\n",
       "      <td>1000</td>\n",
       "      <td>2018-09-01</td>\n",
       "    </tr>\n",
       "    <tr>\n",
       "      <td>4</td>\n",
       "      <td>10004</td>\n",
       "      <td>2018-12-15</td>\n",
       "      <td>6.0</td>\n",
       "      <td>1000</td>\n",
       "      <td>2018-12-01</td>\n",
       "    </tr>\n",
       "  </tbody>\n",
       "</table>\n",
       "</div>"
      ],
      "text/plain": [
       "      id  call_date  duration  user_id      month\n",
       "0  10000 2018-07-25       0.0     1000 2018-07-01\n",
       "1  10001 2018-08-17       0.0     1000 2018-08-01\n",
       "2  10002 2018-06-11       3.0     1000 2018-06-01\n",
       "3  10003 2018-09-21      14.0     1000 2018-09-01\n",
       "4  10004 2018-12-15       6.0     1000 2018-12-01"
      ]
     },
     "metadata": {},
     "output_type": "display_data"
    },
    {
     "data": {
      "text/plain": [
       "0"
      ]
     },
     "execution_count": 13,
     "metadata": {},
     "output_type": "execute_result"
    }
   ],
   "source": [
    "#в первой таблице изменим только типы данных в двух колонках.\n",
    "calls['call_date']= pd.to_datetime(calls['call_date'])\n",
    "calls['id'] = calls['id'].apply(int)\n",
    "calls['month'] = calls['call_date'].astype('datetime64[M]') #добавим столбец с месяцем, он будет нужен в дальнейшем для рассчетов\n",
    "calls['duration'] = calls['duration'].apply(np.ceil)\n",
    "calls.info()\n",
    "display(calls.head())\n",
    "calls.duplicated().sum()"
   ]
  },
  {
   "cell_type": "code",
   "execution_count": 14,
   "metadata": {},
   "outputs": [
    {
     "name": "stdout",
     "output_type": "stream",
     "text": [
      "<class 'pandas.core.frame.DataFrame'>\n",
      "RangeIndex: 149396 entries, 0 to 149395\n",
      "Data columns (total 6 columns):\n",
      "Unnamed: 0      149396 non-null int64\n",
      "id              149396 non-null int64\n",
      "mb_used         149396 non-null float64\n",
      "session_date    149396 non-null datetime64[ns]\n",
      "user_id         149396 non-null int64\n",
      "month           149396 non-null datetime64[ns]\n",
      "dtypes: datetime64[ns](2), float64(1), int64(3)\n",
      "memory usage: 6.8 MB\n"
     ]
    },
    {
     "data": {
      "text/html": [
       "<div>\n",
       "<style scoped>\n",
       "    .dataframe tbody tr th:only-of-type {\n",
       "        vertical-align: middle;\n",
       "    }\n",
       "\n",
       "    .dataframe tbody tr th {\n",
       "        vertical-align: top;\n",
       "    }\n",
       "\n",
       "    .dataframe thead th {\n",
       "        text-align: right;\n",
       "    }\n",
       "</style>\n",
       "<table border=\"1\" class=\"dataframe\">\n",
       "  <thead>\n",
       "    <tr style=\"text-align: right;\">\n",
       "      <th></th>\n",
       "      <th>Unnamed: 0</th>\n",
       "      <th>id</th>\n",
       "      <th>mb_used</th>\n",
       "      <th>session_date</th>\n",
       "      <th>user_id</th>\n",
       "      <th>month</th>\n",
       "    </tr>\n",
       "  </thead>\n",
       "  <tbody>\n",
       "    <tr>\n",
       "      <td>0</td>\n",
       "      <td>0</td>\n",
       "      <td>10000</td>\n",
       "      <td>112.95</td>\n",
       "      <td>2018-11-25</td>\n",
       "      <td>1000</td>\n",
       "      <td>2018-11-01</td>\n",
       "    </tr>\n",
       "    <tr>\n",
       "      <td>1</td>\n",
       "      <td>1</td>\n",
       "      <td>10001</td>\n",
       "      <td>1052.81</td>\n",
       "      <td>2018-09-07</td>\n",
       "      <td>1000</td>\n",
       "      <td>2018-09-01</td>\n",
       "    </tr>\n",
       "    <tr>\n",
       "      <td>2</td>\n",
       "      <td>2</td>\n",
       "      <td>10002</td>\n",
       "      <td>1197.26</td>\n",
       "      <td>2018-06-25</td>\n",
       "      <td>1000</td>\n",
       "      <td>2018-06-01</td>\n",
       "    </tr>\n",
       "    <tr>\n",
       "      <td>3</td>\n",
       "      <td>3</td>\n",
       "      <td>10003</td>\n",
       "      <td>550.27</td>\n",
       "      <td>2018-08-22</td>\n",
       "      <td>1000</td>\n",
       "      <td>2018-08-01</td>\n",
       "    </tr>\n",
       "    <tr>\n",
       "      <td>4</td>\n",
       "      <td>4</td>\n",
       "      <td>10004</td>\n",
       "      <td>302.56</td>\n",
       "      <td>2018-09-24</td>\n",
       "      <td>1000</td>\n",
       "      <td>2018-09-01</td>\n",
       "    </tr>\n",
       "  </tbody>\n",
       "</table>\n",
       "</div>"
      ],
      "text/plain": [
       "   Unnamed: 0     id  mb_used session_date  user_id      month\n",
       "0           0  10000   112.95   2018-11-25     1000 2018-11-01\n",
       "1           1  10001  1052.81   2018-09-07     1000 2018-09-01\n",
       "2           2  10002  1197.26   2018-06-25     1000 2018-06-01\n",
       "3           3  10003   550.27   2018-08-22     1000 2018-08-01\n",
       "4           4  10004   302.56   2018-09-24     1000 2018-09-01"
      ]
     },
     "metadata": {},
     "output_type": "display_data"
    },
    {
     "data": {
      "text/plain": [
       "0"
      ]
     },
     "execution_count": 14,
     "metadata": {},
     "output_type": "execute_result"
    }
   ],
   "source": [
    "# во второй таблице также изменим  типы данных в двух колонках.\n",
    "internet['session_date']= pd.to_datetime(internet['session_date'])\n",
    "internet['id'] = internet['id'].apply(int)\n",
    "internet['month'] = internet['session_date'].astype('datetime64[M]')\n",
    "\n",
    "internet.info()\n",
    "display(internet.head())\n",
    "internet.duplicated().sum()\n"
   ]
  },
  {
   "cell_type": "code",
   "execution_count": 15,
   "metadata": {},
   "outputs": [
    {
     "name": "stdout",
     "output_type": "stream",
     "text": [
      "<class 'pandas.core.frame.DataFrame'>\n",
      "RangeIndex: 123036 entries, 0 to 123035\n",
      "Data columns (total 4 columns):\n",
      "id              123036 non-null int64\n",
      "message_date    123036 non-null datetime64[ns]\n",
      "user_id         123036 non-null int64\n",
      "month           123036 non-null datetime64[ns]\n",
      "dtypes: datetime64[ns](2), int64(2)\n",
      "memory usage: 3.8 MB\n"
     ]
    },
    {
     "data": {
      "text/html": [
       "<div>\n",
       "<style scoped>\n",
       "    .dataframe tbody tr th:only-of-type {\n",
       "        vertical-align: middle;\n",
       "    }\n",
       "\n",
       "    .dataframe tbody tr th {\n",
       "        vertical-align: top;\n",
       "    }\n",
       "\n",
       "    .dataframe thead th {\n",
       "        text-align: right;\n",
       "    }\n",
       "</style>\n",
       "<table border=\"1\" class=\"dataframe\">\n",
       "  <thead>\n",
       "    <tr style=\"text-align: right;\">\n",
       "      <th></th>\n",
       "      <th>id</th>\n",
       "      <th>message_date</th>\n",
       "      <th>user_id</th>\n",
       "      <th>month</th>\n",
       "    </tr>\n",
       "  </thead>\n",
       "  <tbody>\n",
       "    <tr>\n",
       "      <td>0</td>\n",
       "      <td>10000</td>\n",
       "      <td>2018-06-27</td>\n",
       "      <td>1000</td>\n",
       "      <td>2018-06-01</td>\n",
       "    </tr>\n",
       "    <tr>\n",
       "      <td>1</td>\n",
       "      <td>10001</td>\n",
       "      <td>2018-10-08</td>\n",
       "      <td>1000</td>\n",
       "      <td>2018-10-01</td>\n",
       "    </tr>\n",
       "    <tr>\n",
       "      <td>2</td>\n",
       "      <td>10002</td>\n",
       "      <td>2018-08-04</td>\n",
       "      <td>1000</td>\n",
       "      <td>2018-08-01</td>\n",
       "    </tr>\n",
       "    <tr>\n",
       "      <td>3</td>\n",
       "      <td>10003</td>\n",
       "      <td>2018-06-16</td>\n",
       "      <td>1000</td>\n",
       "      <td>2018-06-01</td>\n",
       "    </tr>\n",
       "    <tr>\n",
       "      <td>4</td>\n",
       "      <td>10004</td>\n",
       "      <td>2018-12-05</td>\n",
       "      <td>1000</td>\n",
       "      <td>2018-12-01</td>\n",
       "    </tr>\n",
       "  </tbody>\n",
       "</table>\n",
       "</div>"
      ],
      "text/plain": [
       "      id message_date  user_id      month\n",
       "0  10000   2018-06-27     1000 2018-06-01\n",
       "1  10001   2018-10-08     1000 2018-10-01\n",
       "2  10002   2018-08-04     1000 2018-08-01\n",
       "3  10003   2018-06-16     1000 2018-06-01\n",
       "4  10004   2018-12-05     1000 2018-12-01"
      ]
     },
     "metadata": {},
     "output_type": "display_data"
    },
    {
     "data": {
      "text/plain": [
       "0"
      ]
     },
     "execution_count": 15,
     "metadata": {},
     "output_type": "execute_result"
    }
   ],
   "source": [
    "# в третьей таблице изменим только типы данных в двух колонках.\n",
    "messages['message_date']= pd.to_datetime(messages['message_date'])\n",
    "messages['id'] = messages['id'].apply(int)\n",
    "messages['month'] = messages['message_date'].astype('datetime64[M]')\n",
    "messages.info()\n",
    "display(messages.head())\n",
    "messages.duplicated().sum()\n"
   ]
  },
  {
   "cell_type": "code",
   "execution_count": 16,
   "metadata": {},
   "outputs": [
    {
     "name": "stdout",
     "output_type": "stream",
     "text": [
      "<class 'pandas.core.frame.DataFrame'>\n",
      "RangeIndex: 500 entries, 0 to 499\n",
      "Data columns (total 8 columns):\n",
      "user_id       500 non-null int64\n",
      "age           500 non-null int64\n",
      "churn_date    38 non-null object\n",
      "city          500 non-null object\n",
      "first_name    500 non-null object\n",
      "last_name     500 non-null object\n",
      "reg_date      500 non-null datetime64[ns]\n",
      "tariff        500 non-null object\n",
      "dtypes: datetime64[ns](1), int64(2), object(5)\n",
      "memory usage: 31.4+ KB\n"
     ]
    },
    {
     "data": {
      "text/html": [
       "<div>\n",
       "<style scoped>\n",
       "    .dataframe tbody tr th:only-of-type {\n",
       "        vertical-align: middle;\n",
       "    }\n",
       "\n",
       "    .dataframe tbody tr th {\n",
       "        vertical-align: top;\n",
       "    }\n",
       "\n",
       "    .dataframe thead th {\n",
       "        text-align: right;\n",
       "    }\n",
       "</style>\n",
       "<table border=\"1\" class=\"dataframe\">\n",
       "  <thead>\n",
       "    <tr style=\"text-align: right;\">\n",
       "      <th></th>\n",
       "      <th>user_id</th>\n",
       "      <th>age</th>\n",
       "      <th>churn_date</th>\n",
       "      <th>city</th>\n",
       "      <th>first_name</th>\n",
       "      <th>last_name</th>\n",
       "      <th>reg_date</th>\n",
       "      <th>tariff</th>\n",
       "    </tr>\n",
       "  </thead>\n",
       "  <tbody>\n",
       "    <tr>\n",
       "      <td>0</td>\n",
       "      <td>1000</td>\n",
       "      <td>52</td>\n",
       "      <td>NaN</td>\n",
       "      <td>Краснодар</td>\n",
       "      <td>Рафаил</td>\n",
       "      <td>Верещагин</td>\n",
       "      <td>2018-05-25</td>\n",
       "      <td>ultra</td>\n",
       "    </tr>\n",
       "    <tr>\n",
       "      <td>1</td>\n",
       "      <td>1001</td>\n",
       "      <td>41</td>\n",
       "      <td>NaN</td>\n",
       "      <td>Москва</td>\n",
       "      <td>Иван</td>\n",
       "      <td>Ежов</td>\n",
       "      <td>2018-11-01</td>\n",
       "      <td>smart</td>\n",
       "    </tr>\n",
       "    <tr>\n",
       "      <td>2</td>\n",
       "      <td>1002</td>\n",
       "      <td>59</td>\n",
       "      <td>NaN</td>\n",
       "      <td>Стерлитамак</td>\n",
       "      <td>Евгений</td>\n",
       "      <td>Абрамович</td>\n",
       "      <td>2018-06-17</td>\n",
       "      <td>smart</td>\n",
       "    </tr>\n",
       "    <tr>\n",
       "      <td>3</td>\n",
       "      <td>1003</td>\n",
       "      <td>23</td>\n",
       "      <td>NaN</td>\n",
       "      <td>Москва</td>\n",
       "      <td>Белла</td>\n",
       "      <td>Белякова</td>\n",
       "      <td>2018-08-17</td>\n",
       "      <td>ultra</td>\n",
       "    </tr>\n",
       "    <tr>\n",
       "      <td>4</td>\n",
       "      <td>1004</td>\n",
       "      <td>68</td>\n",
       "      <td>NaN</td>\n",
       "      <td>Новокузнецк</td>\n",
       "      <td>Татьяна</td>\n",
       "      <td>Авдеенко</td>\n",
       "      <td>2018-05-14</td>\n",
       "      <td>ultra</td>\n",
       "    </tr>\n",
       "  </tbody>\n",
       "</table>\n",
       "</div>"
      ],
      "text/plain": [
       "   user_id  age churn_date         city first_name  last_name   reg_date  \\\n",
       "0     1000   52        NaN    Краснодар     Рафаил  Верещагин 2018-05-25   \n",
       "1     1001   41        NaN       Москва       Иван       Ежов 2018-11-01   \n",
       "2     1002   59        NaN  Стерлитамак    Евгений  Абрамович 2018-06-17   \n",
       "3     1003   23        NaN       Москва      Белла   Белякова 2018-08-17   \n",
       "4     1004   68        NaN  Новокузнецк    Татьяна   Авдеенко 2018-05-14   \n",
       "\n",
       "  tariff  \n",
       "0  ultra  \n",
       "1  smart  \n",
       "2  smart  \n",
       "3  ultra  \n",
       "4  ultra  "
      ]
     },
     "metadata": {},
     "output_type": "display_data"
    },
    {
     "data": {
      "text/plain": [
       "0"
      ]
     },
     "execution_count": 16,
     "metadata": {},
     "output_type": "execute_result"
    }
   ],
   "source": [
    "# в пятой таблице изменим тип данных в одной колонке.\n",
    "users['reg_date']= pd.to_datetime(users['reg_date'])\n",
    "users.info()\n",
    "display(users.head())\n",
    "users.duplicated().sum()\n"
   ]
  },
  {
   "cell_type": "code",
   "execution_count": 17,
   "metadata": {},
   "outputs": [
    {
     "data": {
      "text/html": [
       "<div>\n",
       "<style scoped>\n",
       "    .dataframe tbody tr th:only-of-type {\n",
       "        vertical-align: middle;\n",
       "    }\n",
       "\n",
       "    .dataframe tbody tr th {\n",
       "        vertical-align: top;\n",
       "    }\n",
       "\n",
       "    .dataframe thead th {\n",
       "        text-align: right;\n",
       "    }\n",
       "</style>\n",
       "<table border=\"1\" class=\"dataframe\">\n",
       "  <thead>\n",
       "    <tr style=\"text-align: right;\">\n",
       "      <th></th>\n",
       "      <th>Unnamed: 0</th>\n",
       "      <th>id</th>\n",
       "      <th>mb_used</th>\n",
       "      <th>session_date</th>\n",
       "      <th>user_id</th>\n",
       "      <th>month</th>\n",
       "    </tr>\n",
       "  </thead>\n",
       "  <tbody>\n",
       "    <tr>\n",
       "      <td>11</td>\n",
       "      <td>11</td>\n",
       "      <td>100011</td>\n",
       "      <td>0.0</td>\n",
       "      <td>2018-08-28</td>\n",
       "      <td>1000</td>\n",
       "      <td>2018-08-01</td>\n",
       "    </tr>\n",
       "    <tr>\n",
       "      <td>38</td>\n",
       "      <td>38</td>\n",
       "      <td>100038</td>\n",
       "      <td>0.0</td>\n",
       "      <td>2018-11-27</td>\n",
       "      <td>1000</td>\n",
       "      <td>2018-11-01</td>\n",
       "    </tr>\n",
       "    <tr>\n",
       "      <td>46</td>\n",
       "      <td>46</td>\n",
       "      <td>100046</td>\n",
       "      <td>0.0</td>\n",
       "      <td>2018-06-30</td>\n",
       "      <td>1000</td>\n",
       "      <td>2018-06-01</td>\n",
       "    </tr>\n",
       "    <tr>\n",
       "      <td>67</td>\n",
       "      <td>67</td>\n",
       "      <td>100067</td>\n",
       "      <td>0.0</td>\n",
       "      <td>2018-06-16</td>\n",
       "      <td>1000</td>\n",
       "      <td>2018-06-01</td>\n",
       "    </tr>\n",
       "    <tr>\n",
       "      <td>72</td>\n",
       "      <td>72</td>\n",
       "      <td>100072</td>\n",
       "      <td>0.0</td>\n",
       "      <td>2018-06-15</td>\n",
       "      <td>1000</td>\n",
       "      <td>2018-06-01</td>\n",
       "    </tr>\n",
       "    <tr>\n",
       "      <td>...</td>\n",
       "      <td>...</td>\n",
       "      <td>...</td>\n",
       "      <td>...</td>\n",
       "      <td>...</td>\n",
       "      <td>...</td>\n",
       "      <td>...</td>\n",
       "    </tr>\n",
       "    <tr>\n",
       "      <td>149380</td>\n",
       "      <td>149380</td>\n",
       "      <td>1499141</td>\n",
       "      <td>0.0</td>\n",
       "      <td>2018-12-11</td>\n",
       "      <td>1499</td>\n",
       "      <td>2018-12-01</td>\n",
       "    </tr>\n",
       "    <tr>\n",
       "      <td>149381</td>\n",
       "      <td>149381</td>\n",
       "      <td>1499142</td>\n",
       "      <td>0.0</td>\n",
       "      <td>2018-11-01</td>\n",
       "      <td>1499</td>\n",
       "      <td>2018-11-01</td>\n",
       "    </tr>\n",
       "    <tr>\n",
       "      <td>149383</td>\n",
       "      <td>149383</td>\n",
       "      <td>1499144</td>\n",
       "      <td>0.0</td>\n",
       "      <td>2018-11-27</td>\n",
       "      <td>1499</td>\n",
       "      <td>2018-11-01</td>\n",
       "    </tr>\n",
       "    <tr>\n",
       "      <td>149386</td>\n",
       "      <td>149386</td>\n",
       "      <td>1499147</td>\n",
       "      <td>0.0</td>\n",
       "      <td>2018-10-21</td>\n",
       "      <td>1499</td>\n",
       "      <td>2018-10-01</td>\n",
       "    </tr>\n",
       "    <tr>\n",
       "      <td>149393</td>\n",
       "      <td>149393</td>\n",
       "      <td>1499154</td>\n",
       "      <td>0.0</td>\n",
       "      <td>2018-10-27</td>\n",
       "      <td>1499</td>\n",
       "      <td>2018-10-01</td>\n",
       "    </tr>\n",
       "  </tbody>\n",
       "</table>\n",
       "<p>19598 rows × 6 columns</p>\n",
       "</div>"
      ],
      "text/plain": [
       "        Unnamed: 0       id  mb_used session_date  user_id      month\n",
       "11              11   100011      0.0   2018-08-28     1000 2018-08-01\n",
       "38              38   100038      0.0   2018-11-27     1000 2018-11-01\n",
       "46              46   100046      0.0   2018-06-30     1000 2018-06-01\n",
       "67              67   100067      0.0   2018-06-16     1000 2018-06-01\n",
       "72              72   100072      0.0   2018-06-15     1000 2018-06-01\n",
       "...            ...      ...      ...          ...      ...        ...\n",
       "149380      149380  1499141      0.0   2018-12-11     1499 2018-12-01\n",
       "149381      149381  1499142      0.0   2018-11-01     1499 2018-11-01\n",
       "149383      149383  1499144      0.0   2018-11-27     1499 2018-11-01\n",
       "149386      149386  1499147      0.0   2018-10-21     1499 2018-10-01\n",
       "149393      149393  1499154      0.0   2018-10-27     1499 2018-10-01\n",
       "\n",
       "[19598 rows x 6 columns]"
      ]
     },
     "metadata": {},
     "output_type": "display_data"
    },
    {
     "data": {
      "text/html": [
       "<div>\n",
       "<style scoped>\n",
       "    .dataframe tbody tr th:only-of-type {\n",
       "        vertical-align: middle;\n",
       "    }\n",
       "\n",
       "    .dataframe tbody tr th {\n",
       "        vertical-align: top;\n",
       "    }\n",
       "\n",
       "    .dataframe thead th {\n",
       "        text-align: right;\n",
       "    }\n",
       "</style>\n",
       "<table border=\"1\" class=\"dataframe\">\n",
       "  <thead>\n",
       "    <tr style=\"text-align: right;\">\n",
       "      <th></th>\n",
       "      <th>id</th>\n",
       "      <th>call_date</th>\n",
       "      <th>duration</th>\n",
       "      <th>user_id</th>\n",
       "      <th>month</th>\n",
       "    </tr>\n",
       "  </thead>\n",
       "  <tbody>\n",
       "    <tr>\n",
       "      <td>0</td>\n",
       "      <td>10000</td>\n",
       "      <td>2018-07-25</td>\n",
       "      <td>0.0</td>\n",
       "      <td>1000</td>\n",
       "      <td>2018-07-01</td>\n",
       "    </tr>\n",
       "    <tr>\n",
       "      <td>1</td>\n",
       "      <td>10001</td>\n",
       "      <td>2018-08-17</td>\n",
       "      <td>0.0</td>\n",
       "      <td>1000</td>\n",
       "      <td>2018-08-01</td>\n",
       "    </tr>\n",
       "    <tr>\n",
       "      <td>5</td>\n",
       "      <td>10005</td>\n",
       "      <td>2018-11-02</td>\n",
       "      <td>0.0</td>\n",
       "      <td>1000</td>\n",
       "      <td>2018-11-01</td>\n",
       "    </tr>\n",
       "    <tr>\n",
       "      <td>6</td>\n",
       "      <td>10006</td>\n",
       "      <td>2018-10-18</td>\n",
       "      <td>0.0</td>\n",
       "      <td>1000</td>\n",
       "      <td>2018-10-01</td>\n",
       "    </tr>\n",
       "    <tr>\n",
       "      <td>9</td>\n",
       "      <td>10009</td>\n",
       "      <td>2018-08-15</td>\n",
       "      <td>0.0</td>\n",
       "      <td>1000</td>\n",
       "      <td>2018-08-01</td>\n",
       "    </tr>\n",
       "    <tr>\n",
       "      <td>...</td>\n",
       "      <td>...</td>\n",
       "      <td>...</td>\n",
       "      <td>...</td>\n",
       "      <td>...</td>\n",
       "      <td>...</td>\n",
       "    </tr>\n",
       "    <tr>\n",
       "      <td>202590</td>\n",
       "      <td>1499203</td>\n",
       "      <td>2018-12-03</td>\n",
       "      <td>0.0</td>\n",
       "      <td>1499</td>\n",
       "      <td>2018-12-01</td>\n",
       "    </tr>\n",
       "    <tr>\n",
       "      <td>202592</td>\n",
       "      <td>1499205</td>\n",
       "      <td>2018-10-13</td>\n",
       "      <td>0.0</td>\n",
       "      <td>1499</td>\n",
       "      <td>2018-10-01</td>\n",
       "    </tr>\n",
       "    <tr>\n",
       "      <td>202593</td>\n",
       "      <td>1499206</td>\n",
       "      <td>2018-12-26</td>\n",
       "      <td>0.0</td>\n",
       "      <td>1499</td>\n",
       "      <td>2018-12-01</td>\n",
       "    </tr>\n",
       "    <tr>\n",
       "      <td>202594</td>\n",
       "      <td>1499207</td>\n",
       "      <td>2018-10-28</td>\n",
       "      <td>0.0</td>\n",
       "      <td>1499</td>\n",
       "      <td>2018-10-01</td>\n",
       "    </tr>\n",
       "    <tr>\n",
       "      <td>202596</td>\n",
       "      <td>1499209</td>\n",
       "      <td>2018-12-16</td>\n",
       "      <td>0.0</td>\n",
       "      <td>1499</td>\n",
       "      <td>2018-12-01</td>\n",
       "    </tr>\n",
       "  </tbody>\n",
       "</table>\n",
       "<p>39613 rows × 5 columns</p>\n",
       "</div>"
      ],
      "text/plain": [
       "             id  call_date  duration  user_id      month\n",
       "0         10000 2018-07-25       0.0     1000 2018-07-01\n",
       "1         10001 2018-08-17       0.0     1000 2018-08-01\n",
       "5         10005 2018-11-02       0.0     1000 2018-11-01\n",
       "6         10006 2018-10-18       0.0     1000 2018-10-01\n",
       "9         10009 2018-08-15       0.0     1000 2018-08-01\n",
       "...         ...        ...       ...      ...        ...\n",
       "202590  1499203 2018-12-03       0.0     1499 2018-12-01\n",
       "202592  1499205 2018-10-13       0.0     1499 2018-10-01\n",
       "202593  1499206 2018-12-26       0.0     1499 2018-12-01\n",
       "202594  1499207 2018-10-28       0.0     1499 2018-10-01\n",
       "202596  1499209 2018-12-16       0.0     1499 2018-12-01\n",
       "\n",
       "[39613 rows x 5 columns]"
      ]
     },
     "metadata": {},
     "output_type": "display_data"
    }
   ],
   "source": [
    "display(internet.query('mb_used == 0'))\n",
    "display(calls.query('duration == 0'))\n",
    "\n",
    "#в данных могут встречаться нули (например в колонках с продолжительностью звонков и интернет-трафиком) их мы не будем удалять, так как нулями могут быть обозначены пропущенные вызовы , а интернет трафик пользователь может не использовать так как естиь доступ к wi-fi. "
   ]
  },
  {
   "cell_type": "markdown",
   "metadata": {},
   "source": [
    "Теперь посчитаем для каждого пользователя :  \n",
    "-количество сделанных звонков и израсходованных минут разговора по месяцам;  \n",
    "-количество отправленных сообщений по месяцам;  \n",
    "-объем израсходованного интернет-трафика по месяцам;  \n",
    "-помесячную выручку с каждого пользователя (вычтите бесплатный лимит из суммарного количества звонков, сообщений и интернет-трафика; остаток умножьте на значение из тарифного плана; прибавьте абонентскую плату, соответствующую тарифному плану)."
   ]
  },
  {
   "cell_type": "markdown",
   "metadata": {},
   "source": [
    "Будем делать сводные таблицы отдельно для звонков, для сообщений и трафика, затем методом merge() будем поэтапно объединять. "
   ]
  },
  {
   "cell_type": "code",
   "execution_count": 18,
   "metadata": {},
   "outputs": [
    {
     "data": {
      "text/html": [
       "<div>\n",
       "<style scoped>\n",
       "    .dataframe tbody tr th:only-of-type {\n",
       "        vertical-align: middle;\n",
       "    }\n",
       "\n",
       "    .dataframe tbody tr th {\n",
       "        vertical-align: top;\n",
       "    }\n",
       "\n",
       "    .dataframe thead th {\n",
       "        text-align: right;\n",
       "    }\n",
       "</style>\n",
       "<table border=\"1\" class=\"dataframe\">\n",
       "  <thead>\n",
       "    <tr style=\"text-align: right;\">\n",
       "      <th></th>\n",
       "      <th></th>\n",
       "      <th>duration</th>\n",
       "    </tr>\n",
       "    <tr>\n",
       "      <th>user_id</th>\n",
       "      <th>month</th>\n",
       "      <th></th>\n",
       "    </tr>\n",
       "  </thead>\n",
       "  <tbody>\n",
       "    <tr>\n",
       "      <td rowspan=\"5\" valign=\"top\">1000</td>\n",
       "      <td>2018-05-01</td>\n",
       "      <td>159.0</td>\n",
       "    </tr>\n",
       "    <tr>\n",
       "      <td>2018-06-01</td>\n",
       "      <td>172.0</td>\n",
       "    </tr>\n",
       "    <tr>\n",
       "      <td>2018-07-01</td>\n",
       "      <td>340.0</td>\n",
       "    </tr>\n",
       "    <tr>\n",
       "      <td>2018-08-01</td>\n",
       "      <td>408.0</td>\n",
       "    </tr>\n",
       "    <tr>\n",
       "      <td>2018-09-01</td>\n",
       "      <td>466.0</td>\n",
       "    </tr>\n",
       "    <tr>\n",
       "      <td>...</td>\n",
       "      <td>...</td>\n",
       "      <td>...</td>\n",
       "    </tr>\n",
       "    <tr>\n",
       "      <td>1498</td>\n",
       "      <td>2018-10-01</td>\n",
       "      <td>247.0</td>\n",
       "    </tr>\n",
       "    <tr>\n",
       "      <td rowspan=\"4\" valign=\"top\">1499</td>\n",
       "      <td>2018-09-01</td>\n",
       "      <td>70.0</td>\n",
       "    </tr>\n",
       "    <tr>\n",
       "      <td>2018-10-01</td>\n",
       "      <td>449.0</td>\n",
       "    </tr>\n",
       "    <tr>\n",
       "      <td>2018-11-01</td>\n",
       "      <td>612.0</td>\n",
       "    </tr>\n",
       "    <tr>\n",
       "      <td>2018-12-01</td>\n",
       "      <td>492.0</td>\n",
       "    </tr>\n",
       "  </tbody>\n",
       "</table>\n",
       "<p>3174 rows × 1 columns</p>\n",
       "</div>"
      ],
      "text/plain": [
       "                    duration\n",
       "user_id month               \n",
       "1000    2018-05-01     159.0\n",
       "        2018-06-01     172.0\n",
       "        2018-07-01     340.0\n",
       "        2018-08-01     408.0\n",
       "        2018-09-01     466.0\n",
       "...                      ...\n",
       "1498    2018-10-01     247.0\n",
       "1499    2018-09-01      70.0\n",
       "        2018-10-01     449.0\n",
       "        2018-11-01     612.0\n",
       "        2018-12-01     492.0\n",
       "\n",
       "[3174 rows x 1 columns]"
      ]
     },
     "metadata": {},
     "output_type": "display_data"
    }
   ],
   "source": [
    "calls_users = calls.pivot_table(index = ['user_id', 'month'] , values = 'duration', aggfunc = 'sum') #делаем группировку и считаем продолжительность звонков по пользователям в месяц.  \n",
    "display(calls_users)"
   ]
  },
  {
   "cell_type": "code",
   "execution_count": 19,
   "metadata": {},
   "outputs": [
    {
     "data": {
      "text/html": [
       "<div>\n",
       "<style scoped>\n",
       "    .dataframe tbody tr th:only-of-type {\n",
       "        vertical-align: middle;\n",
       "    }\n",
       "\n",
       "    .dataframe tbody tr th {\n",
       "        vertical-align: top;\n",
       "    }\n",
       "\n",
       "    .dataframe thead th {\n",
       "        text-align: right;\n",
       "    }\n",
       "</style>\n",
       "<table border=\"1\" class=\"dataframe\">\n",
       "  <thead>\n",
       "    <tr style=\"text-align: right;\">\n",
       "      <th></th>\n",
       "      <th></th>\n",
       "      <th>messages_count</th>\n",
       "    </tr>\n",
       "    <tr>\n",
       "      <th>user_id</th>\n",
       "      <th>month</th>\n",
       "      <th></th>\n",
       "    </tr>\n",
       "  </thead>\n",
       "  <tbody>\n",
       "    <tr>\n",
       "      <td rowspan=\"5\" valign=\"top\">1000</td>\n",
       "      <td>2018-05-01</td>\n",
       "      <td>22</td>\n",
       "    </tr>\n",
       "    <tr>\n",
       "      <td>2018-06-01</td>\n",
       "      <td>60</td>\n",
       "    </tr>\n",
       "    <tr>\n",
       "      <td>2018-07-01</td>\n",
       "      <td>75</td>\n",
       "    </tr>\n",
       "    <tr>\n",
       "      <td>2018-08-01</td>\n",
       "      <td>81</td>\n",
       "    </tr>\n",
       "    <tr>\n",
       "      <td>2018-09-01</td>\n",
       "      <td>57</td>\n",
       "    </tr>\n",
       "    <tr>\n",
       "      <td>...</td>\n",
       "      <td>...</td>\n",
       "      <td>...</td>\n",
       "    </tr>\n",
       "    <tr>\n",
       "      <td>1498</td>\n",
       "      <td>2018-10-01</td>\n",
       "      <td>42</td>\n",
       "    </tr>\n",
       "    <tr>\n",
       "      <td rowspan=\"4\" valign=\"top\">1499</td>\n",
       "      <td>2018-09-01</td>\n",
       "      <td>11</td>\n",
       "    </tr>\n",
       "    <tr>\n",
       "      <td>2018-10-01</td>\n",
       "      <td>48</td>\n",
       "    </tr>\n",
       "    <tr>\n",
       "      <td>2018-11-01</td>\n",
       "      <td>59</td>\n",
       "    </tr>\n",
       "    <tr>\n",
       "      <td>2018-12-01</td>\n",
       "      <td>66</td>\n",
       "    </tr>\n",
       "  </tbody>\n",
       "</table>\n",
       "<p>2717 rows × 1 columns</p>\n",
       "</div>"
      ],
      "text/plain": [
       "                    messages_count\n",
       "user_id month                     \n",
       "1000    2018-05-01              22\n",
       "        2018-06-01              60\n",
       "        2018-07-01              75\n",
       "        2018-08-01              81\n",
       "        2018-09-01              57\n",
       "...                            ...\n",
       "1498    2018-10-01              42\n",
       "1499    2018-09-01              11\n",
       "        2018-10-01              48\n",
       "        2018-11-01              59\n",
       "        2018-12-01              66\n",
       "\n",
       "[2717 rows x 1 columns]"
      ]
     },
     "metadata": {},
     "output_type": "display_data"
    }
   ],
   "source": [
    "messages_users = messages.pivot_table(index = ['user_id', 'month'] , values = 'id', aggfunc = 'count') \n",
    "messages_users = messages_users.rename(columns = {'id': 'messages_count'})\n",
    "display(messages_users)\n"
   ]
  },
  {
   "cell_type": "code",
   "execution_count": 20,
   "metadata": {},
   "outputs": [
    {
     "data": {
      "text/html": [
       "<div>\n",
       "<style scoped>\n",
       "    .dataframe tbody tr th:only-of-type {\n",
       "        vertical-align: middle;\n",
       "    }\n",
       "\n",
       "    .dataframe tbody tr th {\n",
       "        vertical-align: top;\n",
       "    }\n",
       "\n",
       "    .dataframe thead th {\n",
       "        text-align: right;\n",
       "    }\n",
       "</style>\n",
       "<table border=\"1\" class=\"dataframe\">\n",
       "  <thead>\n",
       "    <tr style=\"text-align: right;\">\n",
       "      <th></th>\n",
       "      <th></th>\n",
       "      <th>mb_used</th>\n",
       "    </tr>\n",
       "    <tr>\n",
       "      <th>user_id</th>\n",
       "      <th>month</th>\n",
       "      <th></th>\n",
       "    </tr>\n",
       "  </thead>\n",
       "  <tbody>\n",
       "    <tr>\n",
       "      <td rowspan=\"5\" valign=\"top\">1000</td>\n",
       "      <td>2018-05-01</td>\n",
       "      <td>2254.0</td>\n",
       "    </tr>\n",
       "    <tr>\n",
       "      <td>2018-06-01</td>\n",
       "      <td>23234.0</td>\n",
       "    </tr>\n",
       "    <tr>\n",
       "      <td>2018-07-01</td>\n",
       "      <td>14004.0</td>\n",
       "    </tr>\n",
       "    <tr>\n",
       "      <td>2018-08-01</td>\n",
       "      <td>14056.0</td>\n",
       "    </tr>\n",
       "    <tr>\n",
       "      <td>2018-09-01</td>\n",
       "      <td>14569.0</td>\n",
       "    </tr>\n",
       "    <tr>\n",
       "      <td>...</td>\n",
       "      <td>...</td>\n",
       "      <td>...</td>\n",
       "    </tr>\n",
       "    <tr>\n",
       "      <td>1498</td>\n",
       "      <td>2018-10-01</td>\n",
       "      <td>20580.0</td>\n",
       "    </tr>\n",
       "    <tr>\n",
       "      <td rowspan=\"4\" valign=\"top\">1499</td>\n",
       "      <td>2018-09-01</td>\n",
       "      <td>1846.0</td>\n",
       "    </tr>\n",
       "    <tr>\n",
       "      <td>2018-10-01</td>\n",
       "      <td>17789.0</td>\n",
       "    </tr>\n",
       "    <tr>\n",
       "      <td>2018-11-01</td>\n",
       "      <td>17964.0</td>\n",
       "    </tr>\n",
       "    <tr>\n",
       "      <td>2018-12-01</td>\n",
       "      <td>13056.0</td>\n",
       "    </tr>\n",
       "  </tbody>\n",
       "</table>\n",
       "<p>3203 rows × 1 columns</p>\n",
       "</div>"
      ],
      "text/plain": [
       "                    mb_used\n",
       "user_id month              \n",
       "1000    2018-05-01   2254.0\n",
       "        2018-06-01  23234.0\n",
       "        2018-07-01  14004.0\n",
       "        2018-08-01  14056.0\n",
       "        2018-09-01  14569.0\n",
       "...                     ...\n",
       "1498    2018-10-01  20580.0\n",
       "1499    2018-09-01   1846.0\n",
       "        2018-10-01  17789.0\n",
       "        2018-11-01  17964.0\n",
       "        2018-12-01  13056.0\n",
       "\n",
       "[3203 rows x 1 columns]"
      ]
     },
     "metadata": {},
     "output_type": "display_data"
    }
   ],
   "source": [
    "internet_users = internet.pivot_table(index = ['user_id', 'month'] , values = 'mb_used', aggfunc = 'sum')\n",
    "internet_users['mb_used'] = np.ceil(internet_users['mb_used'])\n",
    "display(internet_users)"
   ]
  },
  {
   "cell_type": "code",
   "execution_count": 21,
   "metadata": {},
   "outputs": [
    {
     "data": {
      "text/html": [
       "<div>\n",
       "<style scoped>\n",
       "    .dataframe tbody tr th:only-of-type {\n",
       "        vertical-align: middle;\n",
       "    }\n",
       "\n",
       "    .dataframe tbody tr th {\n",
       "        vertical-align: top;\n",
       "    }\n",
       "\n",
       "    .dataframe thead th {\n",
       "        text-align: right;\n",
       "    }\n",
       "</style>\n",
       "<table border=\"1\" class=\"dataframe\">\n",
       "  <thead>\n",
       "    <tr style=\"text-align: right;\">\n",
       "      <th></th>\n",
       "      <th></th>\n",
       "      <th>duration</th>\n",
       "      <th>messages_count</th>\n",
       "    </tr>\n",
       "    <tr>\n",
       "      <th>user_id</th>\n",
       "      <th>month</th>\n",
       "      <th></th>\n",
       "      <th></th>\n",
       "    </tr>\n",
       "  </thead>\n",
       "  <tbody>\n",
       "    <tr>\n",
       "      <td rowspan=\"5\" valign=\"top\">1000</td>\n",
       "      <td>2018-05-01</td>\n",
       "      <td>159.0</td>\n",
       "      <td>22.0</td>\n",
       "    </tr>\n",
       "    <tr>\n",
       "      <td>2018-06-01</td>\n",
       "      <td>172.0</td>\n",
       "      <td>60.0</td>\n",
       "    </tr>\n",
       "    <tr>\n",
       "      <td>2018-07-01</td>\n",
       "      <td>340.0</td>\n",
       "      <td>75.0</td>\n",
       "    </tr>\n",
       "    <tr>\n",
       "      <td>2018-08-01</td>\n",
       "      <td>408.0</td>\n",
       "      <td>81.0</td>\n",
       "    </tr>\n",
       "    <tr>\n",
       "      <td>2018-09-01</td>\n",
       "      <td>466.0</td>\n",
       "      <td>57.0</td>\n",
       "    </tr>\n",
       "    <tr>\n",
       "      <td>...</td>\n",
       "      <td>...</td>\n",
       "      <td>...</td>\n",
       "      <td>...</td>\n",
       "    </tr>\n",
       "    <tr>\n",
       "      <td rowspan=\"5\" valign=\"top\">1489</td>\n",
       "      <td>2018-08-01</td>\n",
       "      <td>NaN</td>\n",
       "      <td>17.0</td>\n",
       "    </tr>\n",
       "    <tr>\n",
       "      <td>2018-09-01</td>\n",
       "      <td>NaN</td>\n",
       "      <td>32.0</td>\n",
       "    </tr>\n",
       "    <tr>\n",
       "      <td>2018-10-01</td>\n",
       "      <td>NaN</td>\n",
       "      <td>21.0</td>\n",
       "    </tr>\n",
       "    <tr>\n",
       "      <td>2018-11-01</td>\n",
       "      <td>NaN</td>\n",
       "      <td>20.0</td>\n",
       "    </tr>\n",
       "    <tr>\n",
       "      <td>2018-12-01</td>\n",
       "      <td>NaN</td>\n",
       "      <td>35.0</td>\n",
       "    </tr>\n",
       "  </tbody>\n",
       "</table>\n",
       "<p>3213 rows × 2 columns</p>\n",
       "</div>"
      ],
      "text/plain": [
       "                    duration  messages_count\n",
       "user_id month                               \n",
       "1000    2018-05-01     159.0            22.0\n",
       "        2018-06-01     172.0            60.0\n",
       "        2018-07-01     340.0            75.0\n",
       "        2018-08-01     408.0            81.0\n",
       "        2018-09-01     466.0            57.0\n",
       "...                      ...             ...\n",
       "1489    2018-08-01       NaN            17.0\n",
       "        2018-09-01       NaN            32.0\n",
       "        2018-10-01       NaN            21.0\n",
       "        2018-11-01       NaN            20.0\n",
       "        2018-12-01       NaN            35.0\n",
       "\n",
       "[3213 rows x 2 columns]"
      ]
     },
     "execution_count": 21,
     "metadata": {},
     "output_type": "execute_result"
    }
   ],
   "source": [
    "test = calls_users.merge(messages_users, on = ['user_id', 'month'], how = 'outer' ) #делаем объединение таблиц\n",
    "test"
   ]
  },
  {
   "cell_type": "code",
   "execution_count": 22,
   "metadata": {},
   "outputs": [
    {
     "data": {
      "text/html": [
       "<div>\n",
       "<style scoped>\n",
       "    .dataframe tbody tr th:only-of-type {\n",
       "        vertical-align: middle;\n",
       "    }\n",
       "\n",
       "    .dataframe tbody tr th {\n",
       "        vertical-align: top;\n",
       "    }\n",
       "\n",
       "    .dataframe thead th {\n",
       "        text-align: right;\n",
       "    }\n",
       "</style>\n",
       "<table border=\"1\" class=\"dataframe\">\n",
       "  <thead>\n",
       "    <tr style=\"text-align: right;\">\n",
       "      <th></th>\n",
       "      <th></th>\n",
       "      <th>duration</th>\n",
       "      <th>messages_count</th>\n",
       "      <th>mb_used</th>\n",
       "    </tr>\n",
       "    <tr>\n",
       "      <th>user_id</th>\n",
       "      <th>month</th>\n",
       "      <th></th>\n",
       "      <th></th>\n",
       "      <th></th>\n",
       "    </tr>\n",
       "  </thead>\n",
       "  <tbody>\n",
       "    <tr>\n",
       "      <td rowspan=\"5\" valign=\"top\">1000</td>\n",
       "      <td>2018-05-01</td>\n",
       "      <td>159.0</td>\n",
       "      <td>22.0</td>\n",
       "      <td>2254.0</td>\n",
       "    </tr>\n",
       "    <tr>\n",
       "      <td>2018-06-01</td>\n",
       "      <td>172.0</td>\n",
       "      <td>60.0</td>\n",
       "      <td>23234.0</td>\n",
       "    </tr>\n",
       "    <tr>\n",
       "      <td>2018-07-01</td>\n",
       "      <td>340.0</td>\n",
       "      <td>75.0</td>\n",
       "      <td>14004.0</td>\n",
       "    </tr>\n",
       "    <tr>\n",
       "      <td>2018-08-01</td>\n",
       "      <td>408.0</td>\n",
       "      <td>81.0</td>\n",
       "      <td>14056.0</td>\n",
       "    </tr>\n",
       "    <tr>\n",
       "      <td>2018-09-01</td>\n",
       "      <td>466.0</td>\n",
       "      <td>57.0</td>\n",
       "      <td>14569.0</td>\n",
       "    </tr>\n",
       "    <tr>\n",
       "      <td>...</td>\n",
       "      <td>...</td>\n",
       "      <td>...</td>\n",
       "      <td>...</td>\n",
       "      <td>...</td>\n",
       "    </tr>\n",
       "    <tr>\n",
       "      <td rowspan=\"4\" valign=\"top\">1489</td>\n",
       "      <td>2018-09-01</td>\n",
       "      <td>NaN</td>\n",
       "      <td>32.0</td>\n",
       "      <td>17207.0</td>\n",
       "    </tr>\n",
       "    <tr>\n",
       "      <td>2018-10-01</td>\n",
       "      <td>NaN</td>\n",
       "      <td>21.0</td>\n",
       "      <td>19560.0</td>\n",
       "    </tr>\n",
       "    <tr>\n",
       "      <td>2018-11-01</td>\n",
       "      <td>NaN</td>\n",
       "      <td>20.0</td>\n",
       "      <td>17492.0</td>\n",
       "    </tr>\n",
       "    <tr>\n",
       "      <td>2018-12-01</td>\n",
       "      <td>NaN</td>\n",
       "      <td>35.0</td>\n",
       "      <td>17323.0</td>\n",
       "    </tr>\n",
       "    <tr>\n",
       "      <td>1476</td>\n",
       "      <td>2018-04-01</td>\n",
       "      <td>NaN</td>\n",
       "      <td>NaN</td>\n",
       "      <td>531.0</td>\n",
       "    </tr>\n",
       "  </tbody>\n",
       "</table>\n",
       "<p>3214 rows × 3 columns</p>\n",
       "</div>"
      ],
      "text/plain": [
       "                    duration  messages_count  mb_used\n",
       "user_id month                                        \n",
       "1000    2018-05-01     159.0            22.0   2254.0\n",
       "        2018-06-01     172.0            60.0  23234.0\n",
       "        2018-07-01     340.0            75.0  14004.0\n",
       "        2018-08-01     408.0            81.0  14056.0\n",
       "        2018-09-01     466.0            57.0  14569.0\n",
       "...                      ...             ...      ...\n",
       "1489    2018-09-01       NaN            32.0  17207.0\n",
       "        2018-10-01       NaN            21.0  19560.0\n",
       "        2018-11-01       NaN            20.0  17492.0\n",
       "        2018-12-01       NaN            35.0  17323.0\n",
       "1476    2018-04-01       NaN             NaN    531.0\n",
       "\n",
       "[3214 rows x 3 columns]"
      ]
     },
     "execution_count": 22,
     "metadata": {},
     "output_type": "execute_result"
    }
   ],
   "source": [
    "data = test.merge (internet_users, on = ['user_id', 'month'], how = 'outer' )\n",
    "data"
   ]
  },
  {
   "cell_type": "code",
   "execution_count": 23,
   "metadata": {},
   "outputs": [
    {
     "data": {
      "text/html": [
       "<div>\n",
       "<style scoped>\n",
       "    .dataframe tbody tr th:only-of-type {\n",
       "        vertical-align: middle;\n",
       "    }\n",
       "\n",
       "    .dataframe tbody tr th {\n",
       "        vertical-align: top;\n",
       "    }\n",
       "\n",
       "    .dataframe thead th {\n",
       "        text-align: right;\n",
       "    }\n",
       "</style>\n",
       "<table border=\"1\" class=\"dataframe\">\n",
       "  <thead>\n",
       "    <tr style=\"text-align: right;\">\n",
       "      <th></th>\n",
       "      <th>user_id</th>\n",
       "      <th>month</th>\n",
       "      <th>duration</th>\n",
       "      <th>messages_count</th>\n",
       "      <th>mb_used</th>\n",
       "      <th>city</th>\n",
       "      <th>tariff</th>\n",
       "    </tr>\n",
       "  </thead>\n",
       "  <tbody>\n",
       "    <tr>\n",
       "      <td>0</td>\n",
       "      <td>1000</td>\n",
       "      <td>2018-05-01</td>\n",
       "      <td>159.0</td>\n",
       "      <td>22.0</td>\n",
       "      <td>2254.0</td>\n",
       "      <td>Краснодар</td>\n",
       "      <td>ultra</td>\n",
       "    </tr>\n",
       "    <tr>\n",
       "      <td>1</td>\n",
       "      <td>1000</td>\n",
       "      <td>2018-06-01</td>\n",
       "      <td>172.0</td>\n",
       "      <td>60.0</td>\n",
       "      <td>23234.0</td>\n",
       "      <td>Краснодар</td>\n",
       "      <td>ultra</td>\n",
       "    </tr>\n",
       "    <tr>\n",
       "      <td>2</td>\n",
       "      <td>1000</td>\n",
       "      <td>2018-07-01</td>\n",
       "      <td>340.0</td>\n",
       "      <td>75.0</td>\n",
       "      <td>14004.0</td>\n",
       "      <td>Краснодар</td>\n",
       "      <td>ultra</td>\n",
       "    </tr>\n",
       "    <tr>\n",
       "      <td>3</td>\n",
       "      <td>1000</td>\n",
       "      <td>2018-08-01</td>\n",
       "      <td>408.0</td>\n",
       "      <td>81.0</td>\n",
       "      <td>14056.0</td>\n",
       "      <td>Краснодар</td>\n",
       "      <td>ultra</td>\n",
       "    </tr>\n",
       "    <tr>\n",
       "      <td>4</td>\n",
       "      <td>1000</td>\n",
       "      <td>2018-09-01</td>\n",
       "      <td>466.0</td>\n",
       "      <td>57.0</td>\n",
       "      <td>14569.0</td>\n",
       "      <td>Краснодар</td>\n",
       "      <td>ultra</td>\n",
       "    </tr>\n",
       "    <tr>\n",
       "      <td>...</td>\n",
       "      <td>...</td>\n",
       "      <td>...</td>\n",
       "      <td>...</td>\n",
       "      <td>...</td>\n",
       "      <td>...</td>\n",
       "      <td>...</td>\n",
       "      <td>...</td>\n",
       "    </tr>\n",
       "    <tr>\n",
       "      <td>3211</td>\n",
       "      <td>1489</td>\n",
       "      <td>2018-10-01</td>\n",
       "      <td>NaN</td>\n",
       "      <td>21.0</td>\n",
       "      <td>19560.0</td>\n",
       "      <td>Санкт-Петербург</td>\n",
       "      <td>smart</td>\n",
       "    </tr>\n",
       "    <tr>\n",
       "      <td>3212</td>\n",
       "      <td>1489</td>\n",
       "      <td>2018-11-01</td>\n",
       "      <td>NaN</td>\n",
       "      <td>20.0</td>\n",
       "      <td>17492.0</td>\n",
       "      <td>Санкт-Петербург</td>\n",
       "      <td>smart</td>\n",
       "    </tr>\n",
       "    <tr>\n",
       "      <td>3213</td>\n",
       "      <td>1489</td>\n",
       "      <td>2018-12-01</td>\n",
       "      <td>NaN</td>\n",
       "      <td>35.0</td>\n",
       "      <td>17323.0</td>\n",
       "      <td>Санкт-Петербург</td>\n",
       "      <td>smart</td>\n",
       "    </tr>\n",
       "    <tr>\n",
       "      <td>3214</td>\n",
       "      <td>1128</td>\n",
       "      <td>NaT</td>\n",
       "      <td>NaN</td>\n",
       "      <td>NaN</td>\n",
       "      <td>NaN</td>\n",
       "      <td>Волжский</td>\n",
       "      <td>ultra</td>\n",
       "    </tr>\n",
       "    <tr>\n",
       "      <td>3215</td>\n",
       "      <td>1371</td>\n",
       "      <td>NaT</td>\n",
       "      <td>NaN</td>\n",
       "      <td>NaN</td>\n",
       "      <td>NaN</td>\n",
       "      <td>Омск</td>\n",
       "      <td>smart</td>\n",
       "    </tr>\n",
       "  </tbody>\n",
       "</table>\n",
       "<p>3216 rows × 7 columns</p>\n",
       "</div>"
      ],
      "text/plain": [
       "      user_id      month  duration  messages_count  mb_used             city  \\\n",
       "0        1000 2018-05-01     159.0            22.0   2254.0        Краснодар   \n",
       "1        1000 2018-06-01     172.0            60.0  23234.0        Краснодар   \n",
       "2        1000 2018-07-01     340.0            75.0  14004.0        Краснодар   \n",
       "3        1000 2018-08-01     408.0            81.0  14056.0        Краснодар   \n",
       "4        1000 2018-09-01     466.0            57.0  14569.0        Краснодар   \n",
       "...       ...        ...       ...             ...      ...              ...   \n",
       "3211     1489 2018-10-01       NaN            21.0  19560.0  Санкт-Петербург   \n",
       "3212     1489 2018-11-01       NaN            20.0  17492.0  Санкт-Петербург   \n",
       "3213     1489 2018-12-01       NaN            35.0  17323.0  Санкт-Петербург   \n",
       "3214     1128        NaT       NaN             NaN      NaN         Волжский   \n",
       "3215     1371        NaT       NaN             NaN      NaN             Омск   \n",
       "\n",
       "     tariff  \n",
       "0     ultra  \n",
       "1     ultra  \n",
       "2     ultra  \n",
       "3     ultra  \n",
       "4     ultra  \n",
       "...     ...  \n",
       "3211  smart  \n",
       "3212  smart  \n",
       "3213  smart  \n",
       "3214  ultra  \n",
       "3215  smart  \n",
       "\n",
       "[3216 rows x 7 columns]"
      ]
     },
     "execution_count": 23,
     "metadata": {},
     "output_type": "execute_result"
    }
   ],
   "source": [
    "data = data.reset_index().merge(users[['city', 'tariff','user_id']], on = 'user_id', how = 'outer' )\n",
    "data"
   ]
  },
  {
   "cell_type": "code",
   "execution_count": 24,
   "metadata": {},
   "outputs": [
    {
     "data": {
      "text/html": [
       "<div>\n",
       "<style scoped>\n",
       "    .dataframe tbody tr th:only-of-type {\n",
       "        vertical-align: middle;\n",
       "    }\n",
       "\n",
       "    .dataframe tbody tr th {\n",
       "        vertical-align: top;\n",
       "    }\n",
       "\n",
       "    .dataframe thead th {\n",
       "        text-align: right;\n",
       "    }\n",
       "</style>\n",
       "<table border=\"1\" class=\"dataframe\">\n",
       "  <thead>\n",
       "    <tr style=\"text-align: right;\">\n",
       "      <th></th>\n",
       "      <th>user_id</th>\n",
       "      <th>month</th>\n",
       "      <th>duration</th>\n",
       "      <th>messages_count</th>\n",
       "      <th>mb_used</th>\n",
       "      <th>city</th>\n",
       "      <th>tariff</th>\n",
       "      <th>messages_included</th>\n",
       "      <th>mb_per_month_included</th>\n",
       "      <th>minutes_included</th>\n",
       "      <th>rub_monthly_fee</th>\n",
       "      <th>rub_per_gb</th>\n",
       "      <th>rub_per_message</th>\n",
       "      <th>rub_per_minute</th>\n",
       "      <th>tariff_name</th>\n",
       "    </tr>\n",
       "  </thead>\n",
       "  <tbody>\n",
       "    <tr>\n",
       "      <td>0</td>\n",
       "      <td>1000</td>\n",
       "      <td>2018-05-01</td>\n",
       "      <td>159.0</td>\n",
       "      <td>22.0</td>\n",
       "      <td>2254.0</td>\n",
       "      <td>Краснодар</td>\n",
       "      <td>ultra</td>\n",
       "      <td>1000</td>\n",
       "      <td>30720</td>\n",
       "      <td>3000</td>\n",
       "      <td>1950</td>\n",
       "      <td>150</td>\n",
       "      <td>1</td>\n",
       "      <td>1</td>\n",
       "      <td>ultra</td>\n",
       "    </tr>\n",
       "    <tr>\n",
       "      <td>1</td>\n",
       "      <td>1000</td>\n",
       "      <td>2018-06-01</td>\n",
       "      <td>172.0</td>\n",
       "      <td>60.0</td>\n",
       "      <td>23234.0</td>\n",
       "      <td>Краснодар</td>\n",
       "      <td>ultra</td>\n",
       "      <td>1000</td>\n",
       "      <td>30720</td>\n",
       "      <td>3000</td>\n",
       "      <td>1950</td>\n",
       "      <td>150</td>\n",
       "      <td>1</td>\n",
       "      <td>1</td>\n",
       "      <td>ultra</td>\n",
       "    </tr>\n",
       "    <tr>\n",
       "      <td>2</td>\n",
       "      <td>1000</td>\n",
       "      <td>2018-07-01</td>\n",
       "      <td>340.0</td>\n",
       "      <td>75.0</td>\n",
       "      <td>14004.0</td>\n",
       "      <td>Краснодар</td>\n",
       "      <td>ultra</td>\n",
       "      <td>1000</td>\n",
       "      <td>30720</td>\n",
       "      <td>3000</td>\n",
       "      <td>1950</td>\n",
       "      <td>150</td>\n",
       "      <td>1</td>\n",
       "      <td>1</td>\n",
       "      <td>ultra</td>\n",
       "    </tr>\n",
       "    <tr>\n",
       "      <td>3</td>\n",
       "      <td>1000</td>\n",
       "      <td>2018-08-01</td>\n",
       "      <td>408.0</td>\n",
       "      <td>81.0</td>\n",
       "      <td>14056.0</td>\n",
       "      <td>Краснодар</td>\n",
       "      <td>ultra</td>\n",
       "      <td>1000</td>\n",
       "      <td>30720</td>\n",
       "      <td>3000</td>\n",
       "      <td>1950</td>\n",
       "      <td>150</td>\n",
       "      <td>1</td>\n",
       "      <td>1</td>\n",
       "      <td>ultra</td>\n",
       "    </tr>\n",
       "    <tr>\n",
       "      <td>4</td>\n",
       "      <td>1000</td>\n",
       "      <td>2018-09-01</td>\n",
       "      <td>466.0</td>\n",
       "      <td>57.0</td>\n",
       "      <td>14569.0</td>\n",
       "      <td>Краснодар</td>\n",
       "      <td>ultra</td>\n",
       "      <td>1000</td>\n",
       "      <td>30720</td>\n",
       "      <td>3000</td>\n",
       "      <td>1950</td>\n",
       "      <td>150</td>\n",
       "      <td>1</td>\n",
       "      <td>1</td>\n",
       "      <td>ultra</td>\n",
       "    </tr>\n",
       "    <tr>\n",
       "      <td>...</td>\n",
       "      <td>...</td>\n",
       "      <td>...</td>\n",
       "      <td>...</td>\n",
       "      <td>...</td>\n",
       "      <td>...</td>\n",
       "      <td>...</td>\n",
       "      <td>...</td>\n",
       "      <td>...</td>\n",
       "      <td>...</td>\n",
       "      <td>...</td>\n",
       "      <td>...</td>\n",
       "      <td>...</td>\n",
       "      <td>...</td>\n",
       "      <td>...</td>\n",
       "      <td>...</td>\n",
       "    </tr>\n",
       "    <tr>\n",
       "      <td>3211</td>\n",
       "      <td>1489</td>\n",
       "      <td>2018-10-01</td>\n",
       "      <td>NaN</td>\n",
       "      <td>21.0</td>\n",
       "      <td>19560.0</td>\n",
       "      <td>Санкт-Петербург</td>\n",
       "      <td>smart</td>\n",
       "      <td>50</td>\n",
       "      <td>15360</td>\n",
       "      <td>500</td>\n",
       "      <td>550</td>\n",
       "      <td>200</td>\n",
       "      <td>3</td>\n",
       "      <td>3</td>\n",
       "      <td>smart</td>\n",
       "    </tr>\n",
       "    <tr>\n",
       "      <td>3212</td>\n",
       "      <td>1489</td>\n",
       "      <td>2018-11-01</td>\n",
       "      <td>NaN</td>\n",
       "      <td>20.0</td>\n",
       "      <td>17492.0</td>\n",
       "      <td>Санкт-Петербург</td>\n",
       "      <td>smart</td>\n",
       "      <td>50</td>\n",
       "      <td>15360</td>\n",
       "      <td>500</td>\n",
       "      <td>550</td>\n",
       "      <td>200</td>\n",
       "      <td>3</td>\n",
       "      <td>3</td>\n",
       "      <td>smart</td>\n",
       "    </tr>\n",
       "    <tr>\n",
       "      <td>3213</td>\n",
       "      <td>1489</td>\n",
       "      <td>2018-12-01</td>\n",
       "      <td>NaN</td>\n",
       "      <td>35.0</td>\n",
       "      <td>17323.0</td>\n",
       "      <td>Санкт-Петербург</td>\n",
       "      <td>smart</td>\n",
       "      <td>50</td>\n",
       "      <td>15360</td>\n",
       "      <td>500</td>\n",
       "      <td>550</td>\n",
       "      <td>200</td>\n",
       "      <td>3</td>\n",
       "      <td>3</td>\n",
       "      <td>smart</td>\n",
       "    </tr>\n",
       "    <tr>\n",
       "      <td>3214</td>\n",
       "      <td>1128</td>\n",
       "      <td>NaT</td>\n",
       "      <td>NaN</td>\n",
       "      <td>NaN</td>\n",
       "      <td>NaN</td>\n",
       "      <td>Волжский</td>\n",
       "      <td>ultra</td>\n",
       "      <td>1000</td>\n",
       "      <td>30720</td>\n",
       "      <td>3000</td>\n",
       "      <td>1950</td>\n",
       "      <td>150</td>\n",
       "      <td>1</td>\n",
       "      <td>1</td>\n",
       "      <td>ultra</td>\n",
       "    </tr>\n",
       "    <tr>\n",
       "      <td>3215</td>\n",
       "      <td>1371</td>\n",
       "      <td>NaT</td>\n",
       "      <td>NaN</td>\n",
       "      <td>NaN</td>\n",
       "      <td>NaN</td>\n",
       "      <td>Омск</td>\n",
       "      <td>smart</td>\n",
       "      <td>50</td>\n",
       "      <td>15360</td>\n",
       "      <td>500</td>\n",
       "      <td>550</td>\n",
       "      <td>200</td>\n",
       "      <td>3</td>\n",
       "      <td>3</td>\n",
       "      <td>smart</td>\n",
       "    </tr>\n",
       "  </tbody>\n",
       "</table>\n",
       "<p>3216 rows × 15 columns</p>\n",
       "</div>"
      ],
      "text/plain": [
       "      user_id      month  duration  messages_count  mb_used             city  \\\n",
       "0        1000 2018-05-01     159.0            22.0   2254.0        Краснодар   \n",
       "1        1000 2018-06-01     172.0            60.0  23234.0        Краснодар   \n",
       "2        1000 2018-07-01     340.0            75.0  14004.0        Краснодар   \n",
       "3        1000 2018-08-01     408.0            81.0  14056.0        Краснодар   \n",
       "4        1000 2018-09-01     466.0            57.0  14569.0        Краснодар   \n",
       "...       ...        ...       ...             ...      ...              ...   \n",
       "3211     1489 2018-10-01       NaN            21.0  19560.0  Санкт-Петербург   \n",
       "3212     1489 2018-11-01       NaN            20.0  17492.0  Санкт-Петербург   \n",
       "3213     1489 2018-12-01       NaN            35.0  17323.0  Санкт-Петербург   \n",
       "3214     1128        NaT       NaN             NaN      NaN         Волжский   \n",
       "3215     1371        NaT       NaN             NaN      NaN             Омск   \n",
       "\n",
       "     tariff  messages_included  mb_per_month_included  minutes_included  \\\n",
       "0     ultra               1000                  30720              3000   \n",
       "1     ultra               1000                  30720              3000   \n",
       "2     ultra               1000                  30720              3000   \n",
       "3     ultra               1000                  30720              3000   \n",
       "4     ultra               1000                  30720              3000   \n",
       "...     ...                ...                    ...               ...   \n",
       "3211  smart                 50                  15360               500   \n",
       "3212  smart                 50                  15360               500   \n",
       "3213  smart                 50                  15360               500   \n",
       "3214  ultra               1000                  30720              3000   \n",
       "3215  smart                 50                  15360               500   \n",
       "\n",
       "      rub_monthly_fee  rub_per_gb  rub_per_message  rub_per_minute tariff_name  \n",
       "0                1950         150                1               1       ultra  \n",
       "1                1950         150                1               1       ultra  \n",
       "2                1950         150                1               1       ultra  \n",
       "3                1950         150                1               1       ultra  \n",
       "4                1950         150                1               1       ultra  \n",
       "...               ...         ...              ...             ...         ...  \n",
       "3211              550         200                3               3       smart  \n",
       "3212              550         200                3               3       smart  \n",
       "3213              550         200                3               3       smart  \n",
       "3214             1950         150                1               1       ultra  \n",
       "3215              550         200                3               3       smart  \n",
       "\n",
       "[3216 rows x 15 columns]"
      ]
     },
     "execution_count": 24,
     "metadata": {},
     "output_type": "execute_result"
    }
   ],
   "source": [
    "data = data.merge(tariffs, how='left', left_on='tariff', right_on='tariff_name') #наша итоговая таблица после всех объединений.\n",
    "data "
   ]
  },
  {
   "cell_type": "code",
   "execution_count": 25,
   "metadata": {},
   "outputs": [
    {
     "data": {
      "text/plain": [
       "user_id                    0\n",
       "month                      2\n",
       "duration                  42\n",
       "messages_count           499\n",
       "mb_used                   13\n",
       "city                       0\n",
       "tariff                     0\n",
       "messages_included          0\n",
       "mb_per_month_included      0\n",
       "minutes_included           0\n",
       "rub_monthly_fee            0\n",
       "rub_per_gb                 0\n",
       "rub_per_message            0\n",
       "rub_per_minute             0\n",
       "tariff_name                0\n",
       "dtype: int64"
      ]
     },
     "execution_count": 25,
     "metadata": {},
     "output_type": "execute_result"
    }
   ],
   "source": [
    "data.isna().sum() #после присоединения таблиц образовалось много пропущенных значений, заполним значения нулями, а две строки с пропусками в колонке месяц удалим, на дальнейшее исследование это сильно не повлияет."
   ]
  },
  {
   "cell_type": "code",
   "execution_count": 26,
   "metadata": {},
   "outputs": [
    {
     "data": {
      "text/plain": [
       "user_id                  0\n",
       "month                    0\n",
       "duration                 0\n",
       "messages_count           0\n",
       "mb_used                  0\n",
       "city                     0\n",
       "tariff                   0\n",
       "messages_included        0\n",
       "mb_per_month_included    0\n",
       "minutes_included         0\n",
       "rub_monthly_fee          0\n",
       "rub_per_gb               0\n",
       "rub_per_message          0\n",
       "rub_per_minute           0\n",
       "tariff_name              0\n",
       "dtype: int64"
      ]
     },
     "execution_count": 26,
     "metadata": {},
     "output_type": "execute_result"
    }
   ],
   "source": [
    "data.dropna(subset = ['month'], inplace=True)\n",
    "data = data.fillna(0)\n",
    "data.isna().sum()"
   ]
  },
  {
   "cell_type": "markdown",
   "metadata": {},
   "source": [
    "Теперь напишем функцию, которая принимает строку датафрейма как аргумент(row), для расчета помесячной выручки с каждого пользователя."
   ]
  },
  {
   "cell_type": "code",
   "execution_count": 27,
   "metadata": {},
   "outputs": [],
   "source": [
    "def calculate_total_cost(row):\n",
    "    total_cost = 0\n",
    "    total_cost += row['rub_monthly_fee']\n",
    "    \n",
    "    paid_calls = row['duration'] - row['minutes_included']\n",
    "    if (paid_calls > 0):\n",
    "        total_cost += paid_calls * row['rub_per_minute']\n",
    "        \n",
    "    paid_messages = row['messages_count'] - row['messages_included']\n",
    "    if (paid_messages > 0):\n",
    "        total_cost += paid_messages * row['rub_per_message'] \n",
    "    \n",
    "    paid_mbs = row['mb_used'] - row['mb_per_month_included']\n",
    "    if (paid_mbs > 0):\n",
    "        paid_gbs = np.ceil(paid_mbs / 1024)\n",
    "        total_cost += paid_gbs * row['rub_per_gb']     \n",
    "        \n",
    "    \n",
    "    \n",
    "    \n",
    "    return total_cost \n"
   ]
  },
  {
   "cell_type": "code",
   "execution_count": 28,
   "metadata": {},
   "outputs": [
    {
     "data": {
      "text/html": [
       "<div>\n",
       "<style scoped>\n",
       "    .dataframe tbody tr th:only-of-type {\n",
       "        vertical-align: middle;\n",
       "    }\n",
       "\n",
       "    .dataframe tbody tr th {\n",
       "        vertical-align: top;\n",
       "    }\n",
       "\n",
       "    .dataframe thead th {\n",
       "        text-align: right;\n",
       "    }\n",
       "</style>\n",
       "<table border=\"1\" class=\"dataframe\">\n",
       "  <thead>\n",
       "    <tr style=\"text-align: right;\">\n",
       "      <th></th>\n",
       "      <th>user_id</th>\n",
       "      <th>month</th>\n",
       "      <th>duration</th>\n",
       "      <th>messages_count</th>\n",
       "      <th>mb_used</th>\n",
       "      <th>city</th>\n",
       "      <th>tariff</th>\n",
       "      <th>messages_included</th>\n",
       "      <th>mb_per_month_included</th>\n",
       "      <th>minutes_included</th>\n",
       "      <th>rub_monthly_fee</th>\n",
       "      <th>rub_per_gb</th>\n",
       "      <th>rub_per_message</th>\n",
       "      <th>rub_per_minute</th>\n",
       "      <th>tariff_name</th>\n",
       "      <th>total_cost</th>\n",
       "    </tr>\n",
       "  </thead>\n",
       "  <tbody>\n",
       "    <tr>\n",
       "      <td>0</td>\n",
       "      <td>1000</td>\n",
       "      <td>2018-05-01</td>\n",
       "      <td>159.0</td>\n",
       "      <td>22.0</td>\n",
       "      <td>2254.0</td>\n",
       "      <td>Краснодар</td>\n",
       "      <td>ultra</td>\n",
       "      <td>1000</td>\n",
       "      <td>30720</td>\n",
       "      <td>3000</td>\n",
       "      <td>1950</td>\n",
       "      <td>150</td>\n",
       "      <td>1</td>\n",
       "      <td>1</td>\n",
       "      <td>ultra</td>\n",
       "      <td>1950.0</td>\n",
       "    </tr>\n",
       "    <tr>\n",
       "      <td>1</td>\n",
       "      <td>1000</td>\n",
       "      <td>2018-06-01</td>\n",
       "      <td>172.0</td>\n",
       "      <td>60.0</td>\n",
       "      <td>23234.0</td>\n",
       "      <td>Краснодар</td>\n",
       "      <td>ultra</td>\n",
       "      <td>1000</td>\n",
       "      <td>30720</td>\n",
       "      <td>3000</td>\n",
       "      <td>1950</td>\n",
       "      <td>150</td>\n",
       "      <td>1</td>\n",
       "      <td>1</td>\n",
       "      <td>ultra</td>\n",
       "      <td>1950.0</td>\n",
       "    </tr>\n",
       "    <tr>\n",
       "      <td>2</td>\n",
       "      <td>1000</td>\n",
       "      <td>2018-07-01</td>\n",
       "      <td>340.0</td>\n",
       "      <td>75.0</td>\n",
       "      <td>14004.0</td>\n",
       "      <td>Краснодар</td>\n",
       "      <td>ultra</td>\n",
       "      <td>1000</td>\n",
       "      <td>30720</td>\n",
       "      <td>3000</td>\n",
       "      <td>1950</td>\n",
       "      <td>150</td>\n",
       "      <td>1</td>\n",
       "      <td>1</td>\n",
       "      <td>ultra</td>\n",
       "      <td>1950.0</td>\n",
       "    </tr>\n",
       "    <tr>\n",
       "      <td>3</td>\n",
       "      <td>1000</td>\n",
       "      <td>2018-08-01</td>\n",
       "      <td>408.0</td>\n",
       "      <td>81.0</td>\n",
       "      <td>14056.0</td>\n",
       "      <td>Краснодар</td>\n",
       "      <td>ultra</td>\n",
       "      <td>1000</td>\n",
       "      <td>30720</td>\n",
       "      <td>3000</td>\n",
       "      <td>1950</td>\n",
       "      <td>150</td>\n",
       "      <td>1</td>\n",
       "      <td>1</td>\n",
       "      <td>ultra</td>\n",
       "      <td>1950.0</td>\n",
       "    </tr>\n",
       "    <tr>\n",
       "      <td>4</td>\n",
       "      <td>1000</td>\n",
       "      <td>2018-09-01</td>\n",
       "      <td>466.0</td>\n",
       "      <td>57.0</td>\n",
       "      <td>14569.0</td>\n",
       "      <td>Краснодар</td>\n",
       "      <td>ultra</td>\n",
       "      <td>1000</td>\n",
       "      <td>30720</td>\n",
       "      <td>3000</td>\n",
       "      <td>1950</td>\n",
       "      <td>150</td>\n",
       "      <td>1</td>\n",
       "      <td>1</td>\n",
       "      <td>ultra</td>\n",
       "      <td>1950.0</td>\n",
       "    </tr>\n",
       "    <tr>\n",
       "      <td>...</td>\n",
       "      <td>...</td>\n",
       "      <td>...</td>\n",
       "      <td>...</td>\n",
       "      <td>...</td>\n",
       "      <td>...</td>\n",
       "      <td>...</td>\n",
       "      <td>...</td>\n",
       "      <td>...</td>\n",
       "      <td>...</td>\n",
       "      <td>...</td>\n",
       "      <td>...</td>\n",
       "      <td>...</td>\n",
       "      <td>...</td>\n",
       "      <td>...</td>\n",
       "      <td>...</td>\n",
       "      <td>...</td>\n",
       "    </tr>\n",
       "    <tr>\n",
       "      <td>3209</td>\n",
       "      <td>1489</td>\n",
       "      <td>2018-08-01</td>\n",
       "      <td>0.0</td>\n",
       "      <td>17.0</td>\n",
       "      <td>11051.0</td>\n",
       "      <td>Санкт-Петербург</td>\n",
       "      <td>smart</td>\n",
       "      <td>50</td>\n",
       "      <td>15360</td>\n",
       "      <td>500</td>\n",
       "      <td>550</td>\n",
       "      <td>200</td>\n",
       "      <td>3</td>\n",
       "      <td>3</td>\n",
       "      <td>smart</td>\n",
       "      <td>550.0</td>\n",
       "    </tr>\n",
       "    <tr>\n",
       "      <td>3210</td>\n",
       "      <td>1489</td>\n",
       "      <td>2018-09-01</td>\n",
       "      <td>0.0</td>\n",
       "      <td>32.0</td>\n",
       "      <td>17207.0</td>\n",
       "      <td>Санкт-Петербург</td>\n",
       "      <td>smart</td>\n",
       "      <td>50</td>\n",
       "      <td>15360</td>\n",
       "      <td>500</td>\n",
       "      <td>550</td>\n",
       "      <td>200</td>\n",
       "      <td>3</td>\n",
       "      <td>3</td>\n",
       "      <td>smart</td>\n",
       "      <td>950.0</td>\n",
       "    </tr>\n",
       "    <tr>\n",
       "      <td>3211</td>\n",
       "      <td>1489</td>\n",
       "      <td>2018-10-01</td>\n",
       "      <td>0.0</td>\n",
       "      <td>21.0</td>\n",
       "      <td>19560.0</td>\n",
       "      <td>Санкт-Петербург</td>\n",
       "      <td>smart</td>\n",
       "      <td>50</td>\n",
       "      <td>15360</td>\n",
       "      <td>500</td>\n",
       "      <td>550</td>\n",
       "      <td>200</td>\n",
       "      <td>3</td>\n",
       "      <td>3</td>\n",
       "      <td>smart</td>\n",
       "      <td>1550.0</td>\n",
       "    </tr>\n",
       "    <tr>\n",
       "      <td>3212</td>\n",
       "      <td>1489</td>\n",
       "      <td>2018-11-01</td>\n",
       "      <td>0.0</td>\n",
       "      <td>20.0</td>\n",
       "      <td>17492.0</td>\n",
       "      <td>Санкт-Петербург</td>\n",
       "      <td>smart</td>\n",
       "      <td>50</td>\n",
       "      <td>15360</td>\n",
       "      <td>500</td>\n",
       "      <td>550</td>\n",
       "      <td>200</td>\n",
       "      <td>3</td>\n",
       "      <td>3</td>\n",
       "      <td>smart</td>\n",
       "      <td>1150.0</td>\n",
       "    </tr>\n",
       "    <tr>\n",
       "      <td>3213</td>\n",
       "      <td>1489</td>\n",
       "      <td>2018-12-01</td>\n",
       "      <td>0.0</td>\n",
       "      <td>35.0</td>\n",
       "      <td>17323.0</td>\n",
       "      <td>Санкт-Петербург</td>\n",
       "      <td>smart</td>\n",
       "      <td>50</td>\n",
       "      <td>15360</td>\n",
       "      <td>500</td>\n",
       "      <td>550</td>\n",
       "      <td>200</td>\n",
       "      <td>3</td>\n",
       "      <td>3</td>\n",
       "      <td>smart</td>\n",
       "      <td>950.0</td>\n",
       "    </tr>\n",
       "  </tbody>\n",
       "</table>\n",
       "<p>3214 rows × 16 columns</p>\n",
       "</div>"
      ],
      "text/plain": [
       "      user_id      month  duration  messages_count  mb_used             city  \\\n",
       "0        1000 2018-05-01     159.0            22.0   2254.0        Краснодар   \n",
       "1        1000 2018-06-01     172.0            60.0  23234.0        Краснодар   \n",
       "2        1000 2018-07-01     340.0            75.0  14004.0        Краснодар   \n",
       "3        1000 2018-08-01     408.0            81.0  14056.0        Краснодар   \n",
       "4        1000 2018-09-01     466.0            57.0  14569.0        Краснодар   \n",
       "...       ...        ...       ...             ...      ...              ...   \n",
       "3209     1489 2018-08-01       0.0            17.0  11051.0  Санкт-Петербург   \n",
       "3210     1489 2018-09-01       0.0            32.0  17207.0  Санкт-Петербург   \n",
       "3211     1489 2018-10-01       0.0            21.0  19560.0  Санкт-Петербург   \n",
       "3212     1489 2018-11-01       0.0            20.0  17492.0  Санкт-Петербург   \n",
       "3213     1489 2018-12-01       0.0            35.0  17323.0  Санкт-Петербург   \n",
       "\n",
       "     tariff  messages_included  mb_per_month_included  minutes_included  \\\n",
       "0     ultra               1000                  30720              3000   \n",
       "1     ultra               1000                  30720              3000   \n",
       "2     ultra               1000                  30720              3000   \n",
       "3     ultra               1000                  30720              3000   \n",
       "4     ultra               1000                  30720              3000   \n",
       "...     ...                ...                    ...               ...   \n",
       "3209  smart                 50                  15360               500   \n",
       "3210  smart                 50                  15360               500   \n",
       "3211  smart                 50                  15360               500   \n",
       "3212  smart                 50                  15360               500   \n",
       "3213  smart                 50                  15360               500   \n",
       "\n",
       "      rub_monthly_fee  rub_per_gb  rub_per_message  rub_per_minute  \\\n",
       "0                1950         150                1               1   \n",
       "1                1950         150                1               1   \n",
       "2                1950         150                1               1   \n",
       "3                1950         150                1               1   \n",
       "4                1950         150                1               1   \n",
       "...               ...         ...              ...             ...   \n",
       "3209              550         200                3               3   \n",
       "3210              550         200                3               3   \n",
       "3211              550         200                3               3   \n",
       "3212              550         200                3               3   \n",
       "3213              550         200                3               3   \n",
       "\n",
       "     tariff_name  total_cost  \n",
       "0          ultra      1950.0  \n",
       "1          ultra      1950.0  \n",
       "2          ultra      1950.0  \n",
       "3          ultra      1950.0  \n",
       "4          ultra      1950.0  \n",
       "...          ...         ...  \n",
       "3209       smart       550.0  \n",
       "3210       smart       950.0  \n",
       "3211       smart      1550.0  \n",
       "3212       smart      1150.0  \n",
       "3213       smart       950.0  \n",
       "\n",
       "[3214 rows x 16 columns]"
      ]
     },
     "execution_count": 28,
     "metadata": {},
     "output_type": "execute_result"
    }
   ],
   "source": [
    "data['total_cost'] = data.apply(calculate_total_cost, axis=1) #создаем отдельный столбец с выручкой\n",
    "data"
   ]
  },
  {
   "cell_type": "markdown",
   "metadata": {},
   "source": [
    "Теперь наши данные подготовлены к дальнейшему анализу."
   ]
  },
  {
   "cell_type": "markdown",
   "metadata": {},
   "source": [
    "# Шаг 3. Проанализируйте данные"
   ]
  },
  {
   "cell_type": "markdown",
   "metadata": {},
   "source": [
    "Опишите поведение клиентов оператора, исходя из выборки. Сколько минут разговора, сколько сообщений и какой объём интернет-трафика требуется пользователям каждого тарифа в месяц? Посчитайте среднее количество, дисперсию и стандартное отклонение. Постройте гистограммы. Опишите распределения."
   ]
  },
  {
   "cell_type": "markdown",
   "metadata": {},
   "source": [
    "Для начала определим среднее количество минут разговора для каждого из тарифов и построим гистограмму распределения."
   ]
  },
  {
   "cell_type": "code",
   "execution_count": 29,
   "metadata": {},
   "outputs": [
    {
     "name": "stdout",
     "output_type": "stream",
     "text": [
      "417.9349484073576\n"
     ]
    }
   ],
   "source": [
    "calls_duration_smart = data.query('tariff == \"smart\"').groupby(['user_id','month']).agg({'duration': 'sum'})\n",
    "print(calls_duration_smart['duration'].mean())"
   ]
  },
  {
   "cell_type": "code",
   "execution_count": 30,
   "metadata": {
    "scrolled": true
   },
   "outputs": [
    {
     "name": "stdout",
     "output_type": "stream",
     "text": [
      "526.6233502538071\n"
     ]
    }
   ],
   "source": [
    "calls_duration_ultra = data.query('tariff == \"ultra\"').groupby(['user_id', 'month']).agg({'duration': 'sum'})\n",
    "print(calls_duration_ultra['duration'].mean())\n"
   ]
  },
  {
   "cell_type": "code",
   "execution_count": 31,
   "metadata": {},
   "outputs": [
    {
     "data": {
      "image/png": "[encoded data removed]",
      "text/plain": [
       "<Figure size 432x288 with 1 Axes>"
      ]
     },
     "metadata": {
      "needs_background": "light"
     },
     "output_type": "display_data"
    }
   ],
   "source": [
    "snsplot = sns.kdeplot(calls_duration_smart['duration'], shade=True)\n",
    "fig = snsplot.get_figure()"
   ]
  },
  {
   "cell_type": "code",
   "execution_count": 32,
   "metadata": {},
   "outputs": [
    {
     "data": {
      "image/png": "[encoded data removed]",
      "text/plain": [
       "<Figure size 432x288 with 1 Axes>"
      ]
     },
     "metadata": {
      "needs_background": "light"
     },
     "output_type": "display_data"
    }
   ],
   "source": [
    "snsplot = sns.kdeplot(calls_duration_ultra['duration'], shade=True)\n",
    "fig = snsplot.get_figure()"
   ]
  },
  {
   "cell_type": "markdown",
   "metadata": {},
   "source": [
    "Теперь найдем дисперсию и стандартное отклонение."
   ]
  },
  {
   "cell_type": "code",
   "execution_count": 33,
   "metadata": {},
   "outputs": [
    {
     "name": "stdout",
     "output_type": "stream",
     "text": [
      "Дисперсия продолжительности для тарифного плана смарт 36219.31578434428\n",
      "Дисперсия продолжительности для тарифного плана ультра 100873.63339730098\n"
     ]
    }
   ],
   "source": [
    "print('Дисперсия продолжительности для тарифного плана смарт' , np.var(calls_duration_smart['duration'], ddof=1))\n",
    "print('Дисперсия продолжительности для тарифного плана ультра', np.var(calls_duration_ultra['duration'],ddof=1))\n"
   ]
  },
  {
   "cell_type": "code",
   "execution_count": 34,
   "metadata": {},
   "outputs": [
    {
     "name": "stdout",
     "output_type": "stream",
     "text": [
      "Стандартное отклонение продолжительности для тарифного плана смарт 190.31372988921288\n",
      "Стандартное отклонение продолжительности для тарифного плана ультра 317.6060978591264\n"
     ]
    }
   ],
   "source": [
    "print('Стандартное отклонение продолжительности для тарифного плана смарт' , np.std(calls_duration_smart['duration'], ddof=1))\n",
    "print('Стандартное отклонение продолжительности для тарифного плана ультра', np.std(calls_duration_ultra['duration'],ddof=1))"
   ]
  },
  {
   "cell_type": "markdown",
   "metadata": {},
   "source": [
    "Что можно сказать исходя из приведенных выше данных. Среднее количество минут разговора в тарифе Смарт максимально приближено к значению, которое включено в пакет услуг и составляет 418 минут. Количество минут в Ультра, которое включено в тарифный план значительно превышает среднее значение из выборки, которое мы получили, в среднем пользователи данного тарифа тратят 527 минут на разговоры. \n",
    "По нашим графикам и результатам вычесления среднего отклонения можно увидеть как сильно разбросаны данные относительно среднего. На графике Ультра хвост длинне чем у Смарт, логично ведь в тарифный план включены 3000 минут разговора, несмотря на то, что в среднем люди не тратят больше чем 527 минут в месяц, наверняка есть те, кто использует все включенные минуты."
   ]
  },
  {
   "cell_type": "markdown",
   "metadata": {},
   "source": [
    "Посмотрим на среднее количество сообщений и распределение на графике."
   ]
  },
  {
   "cell_type": "code",
   "execution_count": 35,
   "metadata": {},
   "outputs": [
    {
     "name": "stdout",
     "output_type": "stream",
     "text": [
      "33.384028712427096\n"
     ]
    }
   ],
   "source": [
    "messages_count_smart = data.query('tariff == \"smart\"').groupby(['user_id','month']).agg({'messages_count': 'sum'})\n",
    "print(messages_count_smart['messages_count'].mean())"
   ]
  },
  {
   "cell_type": "code",
   "execution_count": 36,
   "metadata": {},
   "outputs": [
    {
     "name": "stdout",
     "output_type": "stream",
     "text": [
      "49.36345177664975\n"
     ]
    }
   ],
   "source": [
    "messages_count_ultra = data.query('tariff == \"ultra\"').groupby(['user_id','month']).agg({'messages_count': 'sum'})\n",
    "print(messages_count_ultra['messages_count'].mean())"
   ]
  },
  {
   "cell_type": "code",
   "execution_count": 37,
   "metadata": {},
   "outputs": [
    {
     "data": {
      "image/png": "[encoded data removed]",
      "text/plain": [
       "<Figure size 432x288 with 1 Axes>"
      ]
     },
     "metadata": {
      "needs_background": "light"
     },
     "output_type": "display_data"
    }
   ],
   "source": [
    "snsplot = sns.kdeplot(messages_count_smart['messages_count'], shade=True)\n",
    "fig = snsplot.get_figure()"
   ]
  },
  {
   "cell_type": "code",
   "execution_count": 38,
   "metadata": {},
   "outputs": [
    {
     "data": {
      "image/png": "[encoded data removed]",
      "text/plain": [
       "<Figure size 432x288 with 1 Axes>"
      ]
     },
     "metadata": {
      "needs_background": "light"
     },
     "output_type": "display_data"
    }
   ],
   "source": [
    "snsplot = sns.kdeplot(messages_count_ultra['messages_count'], shade=True)\n",
    "fig = snsplot.get_figure()"
   ]
  },
  {
   "cell_type": "code",
   "execution_count": 39,
   "metadata": {},
   "outputs": [
    {
     "name": "stdout",
     "output_type": "stream",
     "text": [
      "Дисперсия сообщений для тарифного плана смарт 796.8129584480083\n",
      "Дисперсия сообщений для тарифного плана ультра 2285.266142544674\n"
     ]
    }
   ],
   "source": [
    "print('Дисперсия сообщений для тарифного плана смарт' , np.var(messages_count_smart['messages_count'], ddof=1))\n",
    "print('Дисперсия сообщений для тарифного плана ультра', np.var(messages_count_ultra['messages_count'],ddof=1))\n"
   ]
  },
  {
   "cell_type": "code",
   "execution_count": 40,
   "metadata": {},
   "outputs": [
    {
     "name": "stdout",
     "output_type": "stream",
     "text": [
      "Стандартное отклонение сообщений для тарифного плана смарт 28.22787555676141\n",
      "Стандартное отклонение сообщений для тарифного плана ультра 47.80445735017472\n"
     ]
    }
   ],
   "source": [
    "print('Стандартное отклонение сообщений для тарифного плана смарт' , np.std(messages_count_smart['messages_count'], ddof=1))\n",
    "print('Стандартное отклонение сообщений для тарифного плана ультра', np.std(messages_count_ultra['messages_count'],ddof=1))"
   ]
  },
  {
   "cell_type": "markdown",
   "metadata": {},
   "source": [
    "Какой вывод можно сделать: в среднем пользователи тарифа Смарт отправляют 33 сообщения в месяц, в тарифный план входят 50 сообщений. В тарифе Ультра пользователи отправляют 49 сообщений из 3000 включенных в тариф. На гистограммах можно увидеть длинные хвосты распределения.\n",
    "Еще можно заметить, что оба графика скошены вправо, это говорит о том, что среднее больше чем медиана, значит в выборке есть клиенты, которые значительно превышают свой лимит сообщений. "
   ]
  },
  {
   "cell_type": "markdown",
   "metadata": {},
   "source": [
    "Посмотрим какой объём интернет-трафика требуется пользователям каждого тарифа в месяц"
   ]
  },
  {
   "cell_type": "code",
   "execution_count": 41,
   "metadata": {},
   "outputs": [
    {
     "name": "stdout",
     "output_type": "stream",
     "text": [
      "16208.873485868102\n"
     ]
    }
   ],
   "source": [
    "mb_used_smart = data.query('tariff == \"smart\"').groupby(['user_id','month']).agg({'mb_used': 'sum'})\n",
    "print(mb_used_smart['mb_used'].mean())"
   ]
  },
  {
   "cell_type": "code",
   "execution_count": 42,
   "metadata": {},
   "outputs": [
    {
     "name": "stdout",
     "output_type": "stream",
     "text": [
      "19469.308629441624\n"
     ]
    }
   ],
   "source": [
    "mb_used_ultra = data.query('tariff == \"ultra\"').groupby(['user_id', 'month']).agg({'mb_used': 'sum'})\n",
    "print(mb_used_ultra['mb_used'].mean())"
   ]
  },
  {
   "cell_type": "code",
   "execution_count": 43,
   "metadata": {},
   "outputs": [
    {
     "data": {
      "image/png": "[encoded data removed]",
      "text/plain": [
       "<Figure size 432x288 with 1 Axes>"
      ]
     },
     "metadata": {
      "needs_background": "light"
     },
     "output_type": "display_data"
    }
   ],
   "source": [
    "snsplot = sns.kdeplot(mb_used_smart['mb_used'], shade=True)\n",
    "fig = snsplot.get_figure()"
   ]
  },
  {
   "cell_type": "code",
   "execution_count": 44,
   "metadata": {},
   "outputs": [
    {
     "data": {
      "image/png": "[encoded data removed]",
      "text/plain": [
       "<Figure size 432x288 with 1 Axes>"
      ]
     },
     "metadata": {
      "needs_background": "light"
     },
     "output_type": "display_data"
    }
   ],
   "source": [
    "snsplot = sns.kdeplot(mb_used_ultra['mb_used'], shade=True)\n",
    "fig = snsplot.get_figure()"
   ]
  },
  {
   "cell_type": "code",
   "execution_count": 45,
   "metadata": {},
   "outputs": [
    {
     "name": "stdout",
     "output_type": "stream",
     "text": [
      "Дисперсия интернет-трафика для тарифного плана смарт 34462562.80624911\n",
      "Дисперсия интернет-трафика для тарифного плана ультра 101751557.96562667\n"
     ]
    }
   ],
   "source": [
    "print('Дисперсия интернет-трафика для тарифного плана смарт' , np.var(mb_used_smart['mb_used'], ddof=1))\n",
    "print('Дисперсия интернет-трафика для тарифного плана ультра', np.var(mb_used_ultra['mb_used'],ddof=1))\n"
   ]
  },
  {
   "cell_type": "code",
   "execution_count": 46,
   "metadata": {},
   "outputs": [
    {
     "name": "stdout",
     "output_type": "stream",
     "text": [
      "Стандартное отклонение интернет-трафика для тарифного плана смарт 5870.482331652921\n",
      "Стандартное отклонение интернет-трафика для тарифного плана ультра 10087.197726109402\n"
     ]
    }
   ],
   "source": [
    "print('Стандартное отклонение интернет-трафика для тарифного плана смарт' , np.std(mb_used_smart['mb_used'], ddof=1))\n",
    "print('Стандартное отклонение интернет-трафика для тарифного плана ультра', np.std(mb_used_ultra['mb_used'],ddof=1))"
   ]
  },
  {
   "cell_type": "markdown",
   "metadata": {},
   "source": [
    "Пользователи тарифа Смарт в среднем расходуют 16229 Mб трафика, что составляет примерно 15,85 Гб это значение уже немного за пределами месячного лимита в 15Гб, а пользователи тарифа Ультра в среднем расходуют 19487 Мб или 19 Гб из предложенных 30 Гб в месяц.\n",
    "\n"
   ]
  },
  {
   "cell_type": "markdown",
   "metadata": {},
   "source": [
    "**Вывод**"
   ]
  },
  {
   "cell_type": "markdown",
   "metadata": {},
   "source": [
    "Исходя из проведенного анализа, можно сказать, что тариф Смарт содержит минимально необходимый пакет с услугами для потребителя, за исключением интернета, как показывает статистика в месяц клиенты потребляют больше 15Гб. Как можно заметить из анализа пользователи тарифа Ультра в основном не используют полностью тарифный пакет, но скорее всего этот тариф более привлекавтельный из-за большего интернет-трафика. "
   ]
  },
  {
   "cell_type": "markdown",
   "metadata": {},
   "source": [
    "# Шаг 4. Проверьте гипотезы"
   ]
  },
  {
   "cell_type": "markdown",
   "metadata": {},
   "source": [
    "**-средняя выручка пользователей тарифов «Ультра» и «Смарт» различаются;**   \n",
    "**-средняя выручка пользователей из Москвы отличается от выручки пользователей из других регионов.**"
   ]
  },
  {
   "cell_type": "markdown",
   "metadata": {},
   "source": [
    "Проверяем первую исследовательскую гипотезу: Средние выручки по тарифам различаются.\n",
    "Она трансформируется в две статистические гипотезы:\n",
    "    - Н0: средняя выручка по тарифам равна  \n",
    "    - Н1: средняя выручка по тарифам не равна  \n",
    "Проведем t-тест, используя метод scipy.stats.ttest_ind (array1, array2,equal_var)"
   ]
  },
  {
   "cell_type": "code",
   "execution_count": 47,
   "metadata": {},
   "outputs": [
    {
     "name": "stdout",
     "output_type": "stream",
     "text": [
      "p-значение:  1.4229814360764067e-160\n",
      "Отвергаем нулевую гипотезу\n"
     ]
    }
   ],
   "source": [
    "smart = data[data['tariff'] == \"smart\"]['total_cost']\n",
    "ultra = data[data['tariff'] == \"ultra\"]['total_cost']\n",
    "#display(smart)\n",
    "#print(ultra)\n",
    "\n",
    "alpha = .05 # критический уровень статистической значимости\n",
    "# если p-value окажется меньше него - отвергнем гипотезу\n",
    "\n",
    "results = st.ttest_ind(\n",
    "    smart, \n",
    "    ultra,)\n",
    "print('p-значение: ', results.pvalue)\n",
    "\n",
    "if results.pvalue < alpha:\n",
    "    print(\"Отвергаем нулевую гипотезу\")\n",
    "else:\n",
    "    print(\"Не получилось отвергнуть нулевую гипотезу\") \n",
    "\n"
   ]
  },
  {
   "cell_type": "markdown",
   "metadata": {},
   "source": [
    "Проверяем вторую исследовательскую гипотезу: Средняя выручка пользователей Москвы отличается от выручки из других регионов. Она трансформируется в две статистические гипотезы: \n",
    "- Н0: средняя выручка  равна  \n",
    "- Н1: средняя выручка по тарифам не равна   \n",
    "Проведем t-тест, используя метод scipy.stats.ttest_ind (array1, array2,equal_var)  "
   ]
  },
  {
   "cell_type": "code",
   "execution_count": 48,
   "metadata": {},
   "outputs": [],
   "source": [
    "Moscow_city = data[data['city'] == \"Москва\"]['total_cost']\n",
    "Other_cities = data[data['city'] != \"Москва\"]['total_cost']\n",
    "#display(Moscow_city)\n",
    "#display(Other_cities)\n",
    "\n"
   ]
  },
  {
   "cell_type": "code",
   "execution_count": 49,
   "metadata": {},
   "outputs": [
    {
     "name": "stdout",
     "output_type": "stream",
     "text": [
      "p-значение:  0.5440152911670224\n",
      "Не получилось отвергнуть нулевую гипотезу\n"
     ]
    }
   ],
   "source": [
    "alpha = .05 # критический уровень статистической значимости\n",
    "# если p-value окажется меньше него - отвергнем гипотезу\n",
    "\n",
    "results = st.ttest_ind(\n",
    "    Moscow_city, \n",
    "    Other_cities,)\n",
    "print('p-значение: ', results.pvalue)\n",
    "\n",
    "if results.pvalue < alpha:\n",
    "    print(\"Отвергаем нулевую гипотезу\")\n",
    "else:\n",
    "    print(\"Не получилось отвергнуть нулевую гипотезу\") "
   ]
  },
  {
   "cell_type": "markdown",
   "metadata": {},
   "source": [
    "**Вывод**"
   ]
  },
  {
   "cell_type": "markdown",
   "metadata": {},
   "source": [
    "И так по итогам исследований можно сказать, что выручка по тарифам всё же отличается и средняя выручка от тарифов по Москве не отличается от выручки по остальным регионам."
   ]
  },
  {
   "cell_type": "markdown",
   "metadata": {},
   "source": [
    "# Шаг 5. Общий вывод"
   ]
  },
  {
   "cell_type": "markdown",
   "metadata": {},
   "source": [
    "В заключении хотелось бы сказать, что была проведена большая работа в области анализа данных на основе небольшой выборки клиентов от оператора стовой связи. Целью которой было, определение лучшего тарифа, по итогам анализа поведения клиентов.\n",
    "\n",
    "На этапе подготовки данных было проведено слияние 5 датасетов в одну таблицу для дальнейшего анализа. \n",
    "На этапе анализа поведения клиентов мы определили следующее, что тариф Смарт более оптимален для людей, которым не нужен большой интернет-трафик, в среднем пользователи обоих тарифов не превышают свои месячные лимиты по звонкам и сообщениям, которые включены в пакет услуг. В целом тариф Ультра лучше, так как средние значения по всем критериям(звонки, сообщения и интернет-трафик) не превышали месячные лимиты.\n"
   ]
  }
 ],
 "metadata": {
  "ExecuteTimeLog": [
   {
    "duration": 1440,
    "start_time": "2022-01-10T10:31:37.743Z"
   },
   {
    "duration": 394,
    "start_time": "2022-01-10T10:32:51.659Z"
   },
   {
    "duration": 703,
    "start_time": "2022-01-10T10:37:55.593Z"
   },
   {
    "duration": 776,
    "start_time": "2022-01-10T10:39:40.218Z"
   },
   {
    "duration": 628,
    "start_time": "2022-01-10T10:40:05.096Z"
   },
   {
    "duration": 643,
    "start_time": "2022-01-10T10:41:10.150Z"
   },
   {
    "duration": 27,
    "start_time": "2022-01-10T11:03:50.742Z"
   },
   {
    "duration": 344,
    "start_time": "2022-01-10T11:07:48.309Z"
   },
   {
    "duration": 66,
    "start_time": "2022-01-10T11:08:26.000Z"
   },
   {
    "duration": 154,
    "start_time": "2022-01-10T11:09:49.963Z"
   },
   {
    "duration": 116,
    "start_time": "2022-01-10T11:10:05.790Z"
   },
   {
    "duration": 216,
    "start_time": "2022-01-10T11:13:21.886Z"
   },
   {
    "duration": 7086,
    "start_time": "2022-01-10T11:17:18.282Z"
   },
   {
    "duration": 201,
    "start_time": "2022-01-10T11:17:43.304Z"
   },
   {
    "duration": 212,
    "start_time": "2022-01-10T11:20:06.488Z"
   },
   {
    "duration": 32,
    "start_time": "2022-01-10T11:44:46.553Z"
   },
   {
    "duration": 362,
    "start_time": "2022-01-10T12:20:09.878Z"
   },
   {
    "duration": 425,
    "start_time": "2022-01-10T12:23:07.920Z"
   },
   {
    "duration": 384,
    "start_time": "2022-01-10T12:24:16.754Z"
   },
   {
    "duration": 623,
    "start_time": "2022-01-10T12:24:25.899Z"
   },
   {
    "duration": 222,
    "start_time": "2022-01-10T12:24:28.836Z"
   },
   {
    "duration": 173,
    "start_time": "2022-01-10T13:09:29.108Z"
   },
   {
    "duration": 30,
    "start_time": "2022-01-10T13:11:17.621Z"
   },
   {
    "duration": 143,
    "start_time": "2022-01-10T13:11:53.549Z"
   },
   {
    "duration": 140,
    "start_time": "2022-01-10T13:12:19.866Z"
   },
   {
    "duration": 631,
    "start_time": "2022-01-10T13:14:11.607Z"
   },
   {
    "duration": 26,
    "start_time": "2022-01-10T13:16:42.622Z"
   },
   {
    "duration": 39,
    "start_time": "2022-01-10T13:17:52.725Z"
   },
   {
    "duration": 98,
    "start_time": "2022-01-10T13:34:30.075Z"
   },
   {
    "duration": 289,
    "start_time": "2022-01-10T13:41:02.897Z"
   },
   {
    "duration": 190,
    "start_time": "2022-01-10T13:43:58.325Z"
   },
   {
    "duration": 707,
    "start_time": "2022-01-10T13:44:04.901Z"
   },
   {
    "duration": 478,
    "start_time": "2022-01-10T13:44:05.614Z"
   },
   {
    "duration": 204,
    "start_time": "2022-01-10T13:44:05.891Z"
   },
   {
    "duration": 302,
    "start_time": "2022-01-10T13:44:32.000Z"
   },
   {
    "duration": 6913,
    "start_time": "2022-01-10T13:44:34.088Z"
   },
   {
    "duration": 6977,
    "start_time": "2022-01-10T13:44:41.961Z"
   },
   {
    "duration": 194,
    "start_time": "2022-01-10T13:45:18.539Z"
   },
   {
    "duration": 151,
    "start_time": "2022-01-10T13:45:47.470Z"
   },
   {
    "duration": 108,
    "start_time": "2022-01-10T13:45:58.263Z"
   },
   {
    "duration": 28,
    "start_time": "2022-01-10T13:47:25.772Z"
   },
   {
    "duration": 44,
    "start_time": "2022-01-10T13:47:54.623Z"
   },
   {
    "duration": 37,
    "start_time": "2022-01-10T13:52:24.543Z"
   },
   {
    "duration": 40,
    "start_time": "2022-01-10T13:53:11.984Z"
   },
   {
    "duration": 37,
    "start_time": "2022-01-10T13:53:24.320Z"
   },
   {
    "duration": 41,
    "start_time": "2022-01-10T13:59:12.084Z"
   },
   {
    "duration": 87,
    "start_time": "2022-01-10T13:59:40.861Z"
   },
   {
    "duration": 38,
    "start_time": "2022-01-10T13:59:46.312Z"
   },
   {
    "duration": 41,
    "start_time": "2022-01-10T14:05:04.731Z"
   },
   {
    "duration": 35,
    "start_time": "2022-01-10T14:09:39.229Z"
   },
   {
    "duration": 56,
    "start_time": "2022-01-10T14:11:16.114Z"
   },
   {
    "duration": 312,
    "start_time": "2022-01-10T14:20:37.205Z"
   },
   {
    "duration": 41,
    "start_time": "2022-01-10T14:20:44.755Z"
   },
   {
    "duration": 15,
    "start_time": "2022-01-10T14:21:50.336Z"
   },
   {
    "duration": 38,
    "start_time": "2022-01-10T14:21:54.612Z"
   },
   {
    "duration": 664,
    "start_time": "2022-01-10T14:26:58.958Z"
   },
   {
    "duration": 6701,
    "start_time": "2022-01-10T14:28:01.261Z"
   },
   {
    "duration": 9172,
    "start_time": "2022-01-10T14:33:20.542Z"
   },
   {
    "duration": 854,
    "start_time": "2022-01-10T14:33:34.520Z"
   },
   {
    "duration": 310,
    "start_time": "2022-01-10T14:33:35.377Z"
   },
   {
    "duration": 543,
    "start_time": "2022-01-10T14:33:35.691Z"
   },
   {
    "duration": 513,
    "start_time": "2022-01-10T14:33:36.239Z"
   },
   {
    "duration": 336,
    "start_time": "2022-01-10T14:33:36.756Z"
   },
   {
    "duration": 408,
    "start_time": "2022-01-10T14:33:37.095Z"
   },
   {
    "duration": 280,
    "start_time": "2022-01-10T14:33:37.506Z"
   },
   {
    "duration": 282,
    "start_time": "2022-01-10T14:33:37.790Z"
   },
   {
    "duration": 255,
    "start_time": "2022-01-10T14:33:38.081Z"
   },
   {
    "duration": 264,
    "start_time": "2022-01-10T14:33:38.339Z"
   },
   {
    "duration": 604,
    "start_time": "2022-01-10T14:33:38.606Z"
   },
   {
    "duration": 198,
    "start_time": "2022-01-10T14:33:39.015Z"
   },
   {
    "duration": 31,
    "start_time": "2022-01-10T14:34:15.688Z"
   },
   {
    "duration": 7055,
    "start_time": "2022-01-10T14:34:21.352Z"
   },
   {
    "duration": 30,
    "start_time": "2022-01-10T14:34:53.632Z"
   },
   {
    "duration": 259,
    "start_time": "2022-01-10T14:35:10.590Z"
   },
   {
    "duration": 31,
    "start_time": "2022-01-10T14:35:28.084Z"
   },
   {
    "duration": 35,
    "start_time": "2022-01-10T14:36:31.675Z"
   },
   {
    "duration": 864,
    "start_time": "2022-01-10T14:37:24.238Z"
   },
   {
    "duration": 433,
    "start_time": "2022-01-10T14:37:25.106Z"
   },
   {
    "duration": 246,
    "start_time": "2022-01-10T14:37:25.542Z"
   },
   {
    "duration": 173,
    "start_time": "2022-01-10T14:37:25.791Z"
   },
   {
    "duration": 247,
    "start_time": "2022-01-10T14:37:25.967Z"
   },
   {
    "duration": 448,
    "start_time": "2022-01-10T14:37:26.217Z"
   },
   {
    "duration": 954,
    "start_time": "2022-01-10T14:37:26.668Z"
   },
   {
    "duration": 911,
    "start_time": "2022-01-10T14:37:27.625Z"
   },
   {
    "duration": 426,
    "start_time": "2022-01-10T14:37:28.541Z"
   },
   {
    "duration": 533,
    "start_time": "2022-01-10T14:37:28.969Z"
   },
   {
    "duration": 344,
    "start_time": "2022-01-10T14:37:29.504Z"
   },
   {
    "duration": 236,
    "start_time": "2022-01-10T14:37:29.851Z"
   },
   {
    "duration": 36,
    "start_time": "2022-01-10T21:07:59.495Z"
   },
   {
    "duration": 1032,
    "start_time": "2022-01-10T21:16:24.472Z"
   },
   {
    "duration": 1174,
    "start_time": "2022-01-10T21:16:53.303Z"
   },
   {
    "duration": 609,
    "start_time": "2022-01-10T21:17:03.560Z"
   },
   {
    "duration": 267,
    "start_time": "2022-01-10T21:17:04.172Z"
   },
   {
    "duration": 232,
    "start_time": "2022-01-10T21:17:04.442Z"
   },
   {
    "duration": 170,
    "start_time": "2022-01-10T21:17:04.676Z"
   },
   {
    "duration": 30,
    "start_time": "2022-01-10T21:17:04.848Z"
   },
   {
    "duration": 76,
    "start_time": "2022-01-10T21:17:04.880Z"
   },
   {
    "duration": 61,
    "start_time": "2022-01-10T21:17:04.958Z"
   },
   {
    "duration": 1107,
    "start_time": "2022-01-10T21:17:05.022Z"
   },
   {
    "duration": 1084,
    "start_time": "2022-01-10T21:17:08.999Z"
   },
   {
    "duration": 47,
    "start_time": "2022-01-10T21:17:31.356Z"
   },
   {
    "duration": 34,
    "start_time": "2022-01-10T21:17:40.578Z"
   },
   {
    "duration": 32,
    "start_time": "2022-01-10T21:17:44.087Z"
   },
   {
    "duration": 81,
    "start_time": "2022-01-10T21:21:19.088Z"
   },
   {
    "duration": 45,
    "start_time": "2022-01-10T21:21:52.884Z"
   },
   {
    "duration": 48,
    "start_time": "2022-01-10T21:21:57.963Z"
   },
   {
    "duration": 34,
    "start_time": "2022-01-10T21:22:07.810Z"
   },
   {
    "duration": 52,
    "start_time": "2022-01-10T21:22:56.868Z"
   },
   {
    "duration": 657,
    "start_time": "2022-01-10T21:23:07.568Z"
   },
   {
    "duration": 430,
    "start_time": "2022-01-10T21:23:08.229Z"
   },
   {
    "duration": 339,
    "start_time": "2022-01-10T21:23:08.663Z"
   },
   {
    "duration": 171,
    "start_time": "2022-01-10T21:23:09.004Z"
   },
   {
    "duration": 47,
    "start_time": "2022-01-10T21:23:09.178Z"
   },
   {
    "duration": 43,
    "start_time": "2022-01-10T21:23:09.227Z"
   },
   {
    "duration": 78,
    "start_time": "2022-01-10T21:23:09.272Z"
   },
   {
    "duration": 35,
    "start_time": "2022-01-10T21:23:09.353Z"
   },
   {
    "duration": 61,
    "start_time": "2022-01-10T21:23:09.391Z"
   },
   {
    "duration": 30,
    "start_time": "2022-01-10T21:23:09.454Z"
   },
   {
    "duration": 60,
    "start_time": "2022-01-10T21:23:09.487Z"
   },
   {
    "duration": 30,
    "start_time": "2022-01-10T21:23:09.549Z"
   },
   {
    "duration": 38,
    "start_time": "2022-01-10T21:23:09.618Z"
   },
   {
    "duration": 6,
    "start_time": "2022-01-10T21:48:24.456Z"
   },
   {
    "duration": 302,
    "start_time": "2022-01-10T21:49:55.075Z"
   },
   {
    "duration": 362,
    "start_time": "2022-01-11T09:42:44.032Z"
   },
   {
    "duration": 336,
    "start_time": "2022-01-11T09:42:54.289Z"
   },
   {
    "duration": 1437,
    "start_time": "2022-01-11T09:42:58.866Z"
   },
   {
    "duration": 298,
    "start_time": "2022-01-11T09:43:00.306Z"
   },
   {
    "duration": 270,
    "start_time": "2022-01-11T09:43:00.606Z"
   },
   {
    "duration": 164,
    "start_time": "2022-01-11T09:43:00.879Z"
   },
   {
    "duration": 29,
    "start_time": "2022-01-11T09:43:01.046Z"
   },
   {
    "duration": 77,
    "start_time": "2022-01-11T09:43:01.078Z"
   },
   {
    "duration": 65,
    "start_time": "2022-01-11T09:43:01.158Z"
   },
   {
    "duration": 44,
    "start_time": "2022-01-11T09:43:01.227Z"
   },
   {
    "duration": 64,
    "start_time": "2022-01-11T09:43:01.274Z"
   },
   {
    "duration": 29,
    "start_time": "2022-01-11T09:43:01.340Z"
   },
   {
    "duration": 60,
    "start_time": "2022-01-11T09:43:01.371Z"
   },
   {
    "duration": 33,
    "start_time": "2022-01-11T09:43:01.434Z"
   },
   {
    "duration": 73,
    "start_time": "2022-01-11T09:43:01.470Z"
   },
   {
    "duration": 6,
    "start_time": "2022-01-11T09:43:01.546Z"
   },
   {
    "duration": 354,
    "start_time": "2022-01-11T09:43:01.554Z"
   },
   {
    "duration": 14,
    "start_time": "2022-01-11T09:43:01.911Z"
   },
   {
    "duration": 6,
    "start_time": "2022-01-11T09:44:32.880Z"
   },
   {
    "duration": 6,
    "start_time": "2022-01-11T09:44:44.690Z"
   },
   {
    "duration": 413,
    "start_time": "2022-01-11T09:53:56.582Z"
   },
   {
    "duration": 298,
    "start_time": "2022-01-11T09:54:41.480Z"
   },
   {
    "duration": 371,
    "start_time": "2022-01-11T09:54:44.052Z"
   },
   {
    "duration": 336,
    "start_time": "2022-01-11T09:56:15.841Z"
   },
   {
    "duration": 103,
    "start_time": "2022-01-11T09:56:57.511Z"
   },
   {
    "duration": 349,
    "start_time": "2022-01-11T09:57:33.794Z"
   },
   {
    "duration": 13,
    "start_time": "2022-01-11T10:00:58.009Z"
   },
   {
    "duration": 15,
    "start_time": "2022-01-11T10:02:51.259Z"
   },
   {
    "duration": 13,
    "start_time": "2022-01-11T10:04:28.026Z"
   },
   {
    "duration": 476,
    "start_time": "2022-01-11T10:11:41.753Z"
   },
   {
    "duration": 9,
    "start_time": "2022-01-11T10:11:57.759Z"
   },
   {
    "duration": 9,
    "start_time": "2022-01-11T10:12:02.810Z"
   },
   {
    "duration": 12,
    "start_time": "2022-01-11T10:17:08.897Z"
   },
   {
    "duration": 14,
    "start_time": "2022-01-11T10:17:46.909Z"
   },
   {
    "duration": 599,
    "start_time": "2022-01-11T10:32:04.857Z"
   },
   {
    "duration": 700,
    "start_time": "2022-01-11T10:32:35.996Z"
   },
   {
    "duration": 299,
    "start_time": "2022-01-11T10:33:06.738Z"
   },
   {
    "duration": 430,
    "start_time": "2022-01-11T10:33:59.701Z"
   },
   {
    "duration": 714,
    "start_time": "2022-01-11T10:34:26.534Z"
   },
   {
    "duration": 427,
    "start_time": "2022-01-11T10:34:31.599Z"
   },
   {
    "duration": 280,
    "start_time": "2022-01-11T10:45:49.829Z"
   },
   {
    "duration": 5,
    "start_time": "2022-01-11T10:47:50.471Z"
   },
   {
    "duration": 93,
    "start_time": "2022-01-11T10:48:16.209Z"
   },
   {
    "duration": 6,
    "start_time": "2022-01-11T10:48:41.027Z"
   },
   {
    "duration": 7,
    "start_time": "2022-01-11T10:50:15.457Z"
   },
   {
    "duration": 110,
    "start_time": "2022-01-11T10:52:31.239Z"
   },
   {
    "duration": 220,
    "start_time": "2022-01-11T10:52:39.785Z"
   },
   {
    "duration": 92,
    "start_time": "2022-01-11T10:53:42.203Z"
   },
   {
    "duration": 601,
    "start_time": "2022-01-11T10:53:50.185Z"
   },
   {
    "duration": 281,
    "start_time": "2022-01-11T10:53:50.790Z"
   },
   {
    "duration": 236,
    "start_time": "2022-01-11T10:53:51.075Z"
   },
   {
    "duration": 199,
    "start_time": "2022-01-11T10:53:51.324Z"
   },
   {
    "duration": 34,
    "start_time": "2022-01-11T10:53:51.526Z"
   },
   {
    "duration": 78,
    "start_time": "2022-01-11T10:53:51.563Z"
   },
   {
    "duration": 42,
    "start_time": "2022-01-11T10:53:51.644Z"
   },
   {
    "duration": 59,
    "start_time": "2022-01-11T10:53:51.690Z"
   },
   {
    "duration": 37,
    "start_time": "2022-01-11T10:53:51.752Z"
   },
   {
    "duration": 56,
    "start_time": "2022-01-11T10:53:51.792Z"
   },
   {
    "duration": 32,
    "start_time": "2022-01-11T10:53:51.851Z"
   },
   {
    "duration": 60,
    "start_time": "2022-01-11T10:53:51.885Z"
   },
   {
    "duration": 38,
    "start_time": "2022-01-11T10:53:51.948Z"
   },
   {
    "duration": 34,
    "start_time": "2022-01-11T10:53:51.989Z"
   },
   {
    "duration": 334,
    "start_time": "2022-01-11T10:53:52.025Z"
   },
   {
    "duration": 104,
    "start_time": "2022-01-11T10:53:52.362Z"
   },
   {
    "duration": -588,
    "start_time": "2022-01-11T10:53:53.057Z"
   },
   {
    "duration": -590,
    "start_time": "2022-01-11T10:53:53.061Z"
   },
   {
    "duration": -591,
    "start_time": "2022-01-11T10:53:53.065Z"
   },
   {
    "duration": -592,
    "start_time": "2022-01-11T10:53:53.068Z"
   },
   {
    "duration": -594,
    "start_time": "2022-01-11T10:53:53.072Z"
   },
   {
    "duration": -606,
    "start_time": "2022-01-11T10:53:53.086Z"
   },
   {
    "duration": 588,
    "start_time": "2022-01-11T10:54:03.643Z"
   },
   {
    "duration": 269,
    "start_time": "2022-01-11T10:54:04.234Z"
   },
   {
    "duration": 231,
    "start_time": "2022-01-11T10:54:04.506Z"
   },
   {
    "duration": 157,
    "start_time": "2022-01-11T10:54:04.741Z"
   },
   {
    "duration": 36,
    "start_time": "2022-01-11T10:54:04.901Z"
   },
   {
    "duration": 43,
    "start_time": "2022-01-11T10:54:04.940Z"
   },
   {
    "duration": 72,
    "start_time": "2022-01-11T10:54:04.986Z"
   },
   {
    "duration": 37,
    "start_time": "2022-01-11T10:54:05.063Z"
   },
   {
    "duration": 37,
    "start_time": "2022-01-11T10:54:05.124Z"
   },
   {
    "duration": 31,
    "start_time": "2022-01-11T10:54:05.163Z"
   },
   {
    "duration": 32,
    "start_time": "2022-01-11T10:54:05.224Z"
   },
   {
    "duration": 31,
    "start_time": "2022-01-11T10:54:05.259Z"
   },
   {
    "duration": 66,
    "start_time": "2022-01-11T10:54:05.293Z"
   },
   {
    "duration": 7,
    "start_time": "2022-01-11T10:54:05.362Z"
   },
   {
    "duration": 341,
    "start_time": "2022-01-11T10:54:05.372Z"
   },
   {
    "duration": 15,
    "start_time": "2022-01-11T10:54:05.724Z"
   },
   {
    "duration": 15,
    "start_time": "2022-01-11T10:54:05.742Z"
   },
   {
    "duration": 448,
    "start_time": "2022-01-11T10:54:05.760Z"
   },
   {
    "duration": 422,
    "start_time": "2022-01-11T10:54:06.211Z"
   },
   {
    "duration": 94,
    "start_time": "2022-01-11T10:54:06.636Z"
   },
   {
    "duration": -582,
    "start_time": "2022-01-11T10:54:07.314Z"
   },
   {
    "duration": 608,
    "start_time": "2022-01-11T10:54:14.919Z"
   },
   {
    "duration": 267,
    "start_time": "2022-01-11T10:54:15.531Z"
   },
   {
    "duration": 236,
    "start_time": "2022-01-11T10:54:15.801Z"
   },
   {
    "duration": 162,
    "start_time": "2022-01-11T10:54:16.039Z"
   },
   {
    "duration": 44,
    "start_time": "2022-01-11T10:54:16.204Z"
   },
   {
    "duration": 74,
    "start_time": "2022-01-11T10:54:16.251Z"
   },
   {
    "duration": 39,
    "start_time": "2022-01-11T10:54:16.328Z"
   },
   {
    "duration": 56,
    "start_time": "2022-01-11T10:54:16.371Z"
   },
   {
    "duration": 38,
    "start_time": "2022-01-11T10:54:16.430Z"
   },
   {
    "duration": 66,
    "start_time": "2022-01-11T10:54:16.470Z"
   },
   {
    "duration": 41,
    "start_time": "2022-01-11T10:54:16.539Z"
   },
   {
    "duration": 52,
    "start_time": "2022-01-11T10:54:16.583Z"
   },
   {
    "duration": 38,
    "start_time": "2022-01-11T10:54:16.638Z"
   },
   {
    "duration": 5,
    "start_time": "2022-01-11T10:54:16.679Z"
   },
   {
    "duration": 371,
    "start_time": "2022-01-11T10:54:16.686Z"
   },
   {
    "duration": 14,
    "start_time": "2022-01-11T10:54:17.060Z"
   },
   {
    "duration": 18,
    "start_time": "2022-01-11T10:54:17.076Z"
   },
   {
    "duration": 375,
    "start_time": "2022-01-11T10:54:17.097Z"
   },
   {
    "duration": 335,
    "start_time": "2022-01-11T10:54:17.475Z"
   },
   {
    "duration": 103,
    "start_time": "2022-01-11T10:54:17.813Z"
   },
   {
    "duration": 6,
    "start_time": "2022-01-11T10:55:00.495Z"
   },
   {
    "duration": 7,
    "start_time": "2022-01-11T10:57:10.121Z"
   },
   {
    "duration": 6,
    "start_time": "2022-01-11T10:57:39.335Z"
   },
   {
    "duration": 7,
    "start_time": "2022-01-11T11:08:45.546Z"
   },
   {
    "duration": 311,
    "start_time": "2022-01-11T11:21:43.831Z"
   },
   {
    "duration": 1211,
    "start_time": "2022-01-11T11:22:15.442Z"
   },
   {
    "duration": 605,
    "start_time": "2022-01-11T11:22:39.569Z"
   },
   {
    "duration": 285,
    "start_time": "2022-01-11T11:22:45.579Z"
   },
   {
    "duration": 273,
    "start_time": "2022-01-11T11:23:29.809Z"
   },
   {
    "duration": 590,
    "start_time": "2022-01-11T11:23:43.397Z"
   },
   {
    "duration": 354,
    "start_time": "2022-01-11T11:24:05.709Z"
   },
   {
    "duration": 282,
    "start_time": "2022-01-11T11:24:58.627Z"
   },
   {
    "duration": 280,
    "start_time": "2022-01-11T11:25:01.923Z"
   },
   {
    "duration": 740,
    "start_time": "2022-01-11T11:30:51.432Z"
   },
   {
    "duration": 757,
    "start_time": "2022-01-11T11:31:53.678Z"
   },
   {
    "duration": 92,
    "start_time": "2022-01-11T11:32:21.777Z"
   },
   {
    "duration": 883,
    "start_time": "2022-01-11T11:32:39.460Z"
   },
   {
    "duration": 803,
    "start_time": "2022-01-11T11:33:07.999Z"
   },
   {
    "duration": 346,
    "start_time": "2022-01-11T11:33:18.678Z"
   },
   {
    "duration": 8349,
    "start_time": "2022-01-11T12:12:36.484Z"
   },
   {
    "duration": -596,
    "start_time": "2022-01-11T12:12:45.432Z"
   },
   {
    "duration": 14274,
    "start_time": "2022-01-11T12:12:52.251Z"
   },
   {
    "duration": 10091,
    "start_time": "2022-01-11T12:13:09.425Z"
   },
   {
    "duration": 637,
    "start_time": "2022-01-11T12:13:21.129Z"
   },
   {
    "duration": 300,
    "start_time": "2022-01-11T12:13:21.769Z"
   },
   {
    "duration": 330,
    "start_time": "2022-01-11T12:13:22.073Z"
   },
   {
    "duration": 170,
    "start_time": "2022-01-11T12:13:22.406Z"
   },
   {
    "duration": 50,
    "start_time": "2022-01-11T12:13:22.578Z"
   },
   {
    "duration": 61,
    "start_time": "2022-01-11T12:13:22.631Z"
   },
   {
    "duration": 77,
    "start_time": "2022-01-11T12:13:22.694Z"
   },
   {
    "duration": 62,
    "start_time": "2022-01-11T12:13:22.776Z"
   },
   {
    "duration": 47,
    "start_time": "2022-01-11T12:13:22.842Z"
   },
   {
    "duration": 59,
    "start_time": "2022-01-11T12:13:22.891Z"
   },
   {
    "duration": 40,
    "start_time": "2022-01-11T12:13:22.953Z"
   },
   {
    "duration": 51,
    "start_time": "2022-01-11T12:13:22.996Z"
   },
   {
    "duration": 35,
    "start_time": "2022-01-11T12:13:23.049Z"
   },
   {
    "duration": 6,
    "start_time": "2022-01-11T12:13:23.087Z"
   },
   {
    "duration": 359,
    "start_time": "2022-01-11T12:13:23.095Z"
   },
   {
    "duration": 14,
    "start_time": "2022-01-11T12:13:23.456Z"
   },
   {
    "duration": 13,
    "start_time": "2022-01-11T12:13:23.473Z"
   },
   {
    "duration": 340,
    "start_time": "2022-01-11T12:13:23.489Z"
   },
   {
    "duration": 297,
    "start_time": "2022-01-11T12:13:23.832Z"
   },
   {
    "duration": 7,
    "start_time": "2022-01-11T12:13:24.132Z"
   },
   {
    "duration": 19,
    "start_time": "2022-01-11T12:13:24.142Z"
   },
   {
    "duration": 92,
    "start_time": "2022-01-11T12:13:24.164Z"
   },
   {
    "duration": -558,
    "start_time": "2022-01-11T12:13:24.817Z"
   },
   {
    "duration": -561,
    "start_time": "2022-01-11T12:13:24.821Z"
   },
   {
    "duration": 10926,
    "start_time": "2022-01-11T12:13:52.768Z"
   },
   {
    "duration": 12,
    "start_time": "2022-01-11T12:14:28.059Z"
   },
   {
    "duration": 17,
    "start_time": "2022-01-11T12:14:33.165Z"
   },
   {
    "duration": 18,
    "start_time": "2022-01-11T12:14:53.456Z"
   },
   {
    "duration": 17,
    "start_time": "2022-01-11T12:15:01.831Z"
   },
   {
    "duration": 272,
    "start_time": "2022-01-11T12:20:17.376Z"
   },
   {
    "duration": 283,
    "start_time": "2022-01-11T12:20:41.172Z"
   },
   {
    "duration": 272,
    "start_time": "2022-01-11T12:21:05.453Z"
   },
   {
    "duration": 8,
    "start_time": "2022-01-11T12:34:59.491Z"
   },
   {
    "duration": 7,
    "start_time": "2022-01-11T12:36:14.506Z"
   },
   {
    "duration": 13,
    "start_time": "2022-01-11T13:16:55.791Z"
   },
   {
    "duration": 16,
    "start_time": "2022-01-11T13:16:58.101Z"
   },
   {
    "duration": 278,
    "start_time": "2022-01-11T13:17:34.142Z"
   },
   {
    "duration": 302,
    "start_time": "2022-01-11T13:17:54.291Z"
   },
   {
    "duration": 8,
    "start_time": "2022-01-11T13:32:40.981Z"
   },
   {
    "duration": 9,
    "start_time": "2022-01-11T13:34:24.164Z"
   },
   {
    "duration": 91,
    "start_time": "2022-01-11T21:06:21.905Z"
   },
   {
    "duration": 1667,
    "start_time": "2022-01-12T09:54:27.138Z"
   },
   {
    "duration": 215,
    "start_time": "2022-01-12T09:54:28.807Z"
   },
   {
    "duration": 146,
    "start_time": "2022-01-12T09:54:29.024Z"
   },
   {
    "duration": 110,
    "start_time": "2022-01-12T09:54:29.172Z"
   },
   {
    "duration": 32,
    "start_time": "2022-01-12T09:54:29.283Z"
   },
   {
    "duration": 39,
    "start_time": "2022-01-12T09:54:29.316Z"
   },
   {
    "duration": 42,
    "start_time": "2022-01-12T09:54:29.357Z"
   },
   {
    "duration": 24,
    "start_time": "2022-01-12T09:54:29.402Z"
   },
   {
    "duration": 33,
    "start_time": "2022-01-12T09:54:29.428Z"
   },
   {
    "duration": 43,
    "start_time": "2022-01-12T09:54:29.463Z"
   },
   {
    "duration": 20,
    "start_time": "2022-01-12T09:54:29.509Z"
   },
   {
    "duration": 20,
    "start_time": "2022-01-12T09:54:29.531Z"
   },
   {
    "duration": 46,
    "start_time": "2022-01-12T09:54:29.553Z"
   },
   {
    "duration": 3,
    "start_time": "2022-01-12T09:54:29.601Z"
   },
   {
    "duration": 200,
    "start_time": "2022-01-12T09:54:29.606Z"
   },
   {
    "duration": 9,
    "start_time": "2022-01-12T09:54:29.807Z"
   },
   {
    "duration": 9,
    "start_time": "2022-01-12T09:54:29.818Z"
   },
   {
    "duration": 215,
    "start_time": "2022-01-12T09:54:29.828Z"
   },
   {
    "duration": 188,
    "start_time": "2022-01-12T09:54:30.045Z"
   },
   {
    "duration": 5,
    "start_time": "2022-01-12T09:54:30.234Z"
   },
   {
    "duration": 8,
    "start_time": "2022-01-12T09:54:30.241Z"
   },
   {
    "duration": 14,
    "start_time": "2022-01-12T09:54:30.250Z"
   },
   {
    "duration": 33,
    "start_time": "2022-01-12T09:54:30.267Z"
   },
   {
    "duration": 231,
    "start_time": "2022-01-12T09:54:30.302Z"
   },
   {
    "duration": 205,
    "start_time": "2022-01-12T09:54:30.535Z"
   },
   {
    "duration": 4,
    "start_time": "2022-01-12T09:54:30.741Z"
   },
   {
    "duration": 10,
    "start_time": "2022-01-12T09:54:30.747Z"
   },
   {
    "duration": 92,
    "start_time": "2022-01-12T09:54:30.759Z"
   },
   {
    "duration": 492,
    "start_time": "2022-01-12T09:54:30.361Z"
   },
   {
    "duration": 490,
    "start_time": "2022-01-12T09:54:30.365Z"
   },
   {
    "duration": 488,
    "start_time": "2022-01-12T09:54:30.368Z"
   },
   {
    "duration": 484,
    "start_time": "2022-01-12T09:54:30.373Z"
   },
   {
    "duration": 482,
    "start_time": "2022-01-12T09:54:30.376Z"
   },
   {
    "duration": 481,
    "start_time": "2022-01-12T09:54:30.378Z"
   },
   {
    "duration": 480,
    "start_time": "2022-01-12T09:54:30.380Z"
   },
   {
    "duration": 444,
    "start_time": "2022-01-12T09:54:36.836Z"
   },
   {
    "duration": 163,
    "start_time": "2022-01-12T09:54:37.281Z"
   },
   {
    "duration": 136,
    "start_time": "2022-01-12T09:54:37.446Z"
   },
   {
    "duration": 102,
    "start_time": "2022-01-12T09:54:37.583Z"
   },
   {
    "duration": 27,
    "start_time": "2022-01-12T09:54:37.687Z"
   },
   {
    "duration": 28,
    "start_time": "2022-01-12T09:54:37.715Z"
   },
   {
    "duration": 26,
    "start_time": "2022-01-12T09:54:37.745Z"
   },
   {
    "duration": 23,
    "start_time": "2022-01-12T09:54:37.800Z"
   },
   {
    "duration": 23,
    "start_time": "2022-01-12T09:54:37.825Z"
   },
   {
    "duration": 19,
    "start_time": "2022-01-12T09:54:37.850Z"
   },
   {
    "duration": 48,
    "start_time": "2022-01-12T09:54:37.870Z"
   },
   {
    "duration": 20,
    "start_time": "2022-01-12T09:54:37.919Z"
   },
   {
    "duration": 23,
    "start_time": "2022-01-12T09:54:37.940Z"
   },
   {
    "duration": 4,
    "start_time": "2022-01-12T09:54:37.965Z"
   },
   {
    "duration": 219,
    "start_time": "2022-01-12T09:54:37.970Z"
   },
   {
    "duration": 12,
    "start_time": "2022-01-12T09:54:38.191Z"
   },
   {
    "duration": 11,
    "start_time": "2022-01-12T09:54:38.205Z"
   },
   {
    "duration": 214,
    "start_time": "2022-01-12T09:54:38.217Z"
   },
   {
    "duration": 193,
    "start_time": "2022-01-12T09:54:38.433Z"
   },
   {
    "duration": 5,
    "start_time": "2022-01-12T09:54:38.629Z"
   },
   {
    "duration": 7,
    "start_time": "2022-01-12T09:54:38.635Z"
   },
   {
    "duration": 11,
    "start_time": "2022-01-12T09:54:38.644Z"
   },
   {
    "duration": 8,
    "start_time": "2022-01-12T09:54:38.658Z"
   },
   {
    "duration": 243,
    "start_time": "2022-01-12T09:54:38.668Z"
   },
   {
    "duration": 255,
    "start_time": "2022-01-12T09:54:38.913Z"
   },
   {
    "duration": 4,
    "start_time": "2022-01-12T09:54:39.170Z"
   },
   {
    "duration": 33,
    "start_time": "2022-01-12T09:54:39.176Z"
   },
   {
    "duration": 30,
    "start_time": "2022-01-12T09:54:39.211Z"
   },
   {
    "duration": 10,
    "start_time": "2022-01-12T09:54:39.242Z"
   },
   {
    "duration": 211,
    "start_time": "2022-01-12T09:54:39.254Z"
   },
   {
    "duration": 218,
    "start_time": "2022-01-12T09:54:39.467Z"
   },
   {
    "duration": 5,
    "start_time": "2022-01-12T09:54:39.687Z"
   },
   {
    "duration": 5,
    "start_time": "2022-01-12T09:54:39.699Z"
   },
   {
    "duration": 102,
    "start_time": "2022-01-12T09:54:39.706Z"
   },
   {
    "duration": 52,
    "start_time": "2022-01-12T09:55:23.163Z"
   },
   {
    "duration": 36,
    "start_time": "2022-01-12T09:55:51.759Z"
   },
   {
    "duration": 35,
    "start_time": "2022-01-12T09:56:06.272Z"
   },
   {
    "duration": 36,
    "start_time": "2022-01-12T09:56:13.467Z"
   },
   {
    "duration": 5,
    "start_time": "2022-01-12T09:56:16.452Z"
   },
   {
    "duration": 493,
    "start_time": "2022-01-12T09:56:17.760Z"
   },
   {
    "duration": 180,
    "start_time": "2022-01-12T09:56:18.255Z"
   },
   {
    "duration": 148,
    "start_time": "2022-01-12T09:56:18.438Z"
   },
   {
    "duration": 126,
    "start_time": "2022-01-12T09:56:18.588Z"
   },
   {
    "duration": 19,
    "start_time": "2022-01-12T09:56:18.716Z"
   },
   {
    "duration": 42,
    "start_time": "2022-01-12T09:56:18.736Z"
   },
   {
    "duration": 41,
    "start_time": "2022-01-12T09:56:18.780Z"
   },
   {
    "duration": 27,
    "start_time": "2022-01-12T09:56:18.824Z"
   },
   {
    "duration": 26,
    "start_time": "2022-01-12T09:56:18.853Z"
   },
   {
    "duration": 34,
    "start_time": "2022-01-12T09:56:18.881Z"
   },
   {
    "duration": 21,
    "start_time": "2022-01-12T09:56:18.917Z"
   },
   {
    "duration": 20,
    "start_time": "2022-01-12T09:56:18.939Z"
   },
   {
    "duration": 48,
    "start_time": "2022-01-12T09:56:18.961Z"
   },
   {
    "duration": 4,
    "start_time": "2022-01-12T09:56:19.011Z"
   },
   {
    "duration": 240,
    "start_time": "2022-01-12T09:56:19.016Z"
   },
   {
    "duration": 10,
    "start_time": "2022-01-12T09:56:19.257Z"
   },
   {
    "duration": 21,
    "start_time": "2022-01-12T09:56:19.269Z"
   },
   {
    "duration": 223,
    "start_time": "2022-01-12T09:56:19.292Z"
   },
   {
    "duration": 194,
    "start_time": "2022-01-12T09:56:19.516Z"
   },
   {
    "duration": 5,
    "start_time": "2022-01-12T09:56:19.712Z"
   },
   {
    "duration": 14,
    "start_time": "2022-01-12T09:56:19.719Z"
   },
   {
    "duration": 30,
    "start_time": "2022-01-12T09:56:19.735Z"
   },
   {
    "duration": 26,
    "start_time": "2022-01-12T09:56:19.768Z"
   },
   {
    "duration": 217,
    "start_time": "2022-01-12T09:56:19.796Z"
   },
   {
    "duration": 202,
    "start_time": "2022-01-12T09:56:20.014Z"
   },
   {
    "duration": 5,
    "start_time": "2022-01-12T09:56:20.217Z"
   },
   {
    "duration": 8,
    "start_time": "2022-01-12T09:56:20.224Z"
   },
   {
    "duration": 21,
    "start_time": "2022-01-12T09:56:20.234Z"
   },
   {
    "duration": 10,
    "start_time": "2022-01-12T09:56:20.258Z"
   },
   {
    "duration": 231,
    "start_time": "2022-01-12T09:56:20.270Z"
   },
   {
    "duration": 225,
    "start_time": "2022-01-12T09:56:20.503Z"
   },
   {
    "duration": 6,
    "start_time": "2022-01-12T09:56:20.730Z"
   },
   {
    "duration": 47,
    "start_time": "2022-01-12T09:56:20.738Z"
   },
   {
    "duration": 116,
    "start_time": "2022-01-12T09:56:20.787Z"
   },
   {
    "duration": 7,
    "start_time": "2022-01-12T10:10:29.163Z"
   },
   {
    "duration": 6,
    "start_time": "2022-01-12T10:11:10.618Z"
   },
   {
    "duration": 11,
    "start_time": "2022-01-12T10:16:14.695Z"
   },
   {
    "duration": 12,
    "start_time": "2022-01-12T10:16:23.870Z"
   },
   {
    "duration": 7,
    "start_time": "2022-01-12T10:16:25.292Z"
   },
   {
    "duration": 23,
    "start_time": "2022-01-12T10:17:43.494Z"
   },
   {
    "duration": 22,
    "start_time": "2022-01-12T10:17:56.926Z"
   },
   {
    "duration": 4,
    "start_time": "2022-01-12T10:17:56.950Z"
   },
   {
    "duration": 193,
    "start_time": "2022-01-12T10:17:56.956Z"
   },
   {
    "duration": 10,
    "start_time": "2022-01-12T10:17:57.150Z"
   },
   {
    "duration": 11,
    "start_time": "2022-01-12T10:17:57.162Z"
   },
   {
    "duration": 218,
    "start_time": "2022-01-12T10:17:57.175Z"
   },
   {
    "duration": 182,
    "start_time": "2022-01-12T10:17:57.398Z"
   },
   {
    "duration": 4,
    "start_time": "2022-01-12T10:17:57.582Z"
   },
   {
    "duration": 13,
    "start_time": "2022-01-12T10:17:57.588Z"
   },
   {
    "duration": 12,
    "start_time": "2022-01-12T10:17:57.603Z"
   },
   {
    "duration": 8,
    "start_time": "2022-01-12T10:17:57.617Z"
   },
   {
    "duration": 284,
    "start_time": "2022-01-12T10:17:57.627Z"
   },
   {
    "duration": 192,
    "start_time": "2022-01-12T10:17:57.912Z"
   },
   {
    "duration": 5,
    "start_time": "2022-01-12T10:17:58.106Z"
   },
   {
    "duration": 8,
    "start_time": "2022-01-12T10:17:58.113Z"
   },
   {
    "duration": 11,
    "start_time": "2022-01-12T10:17:58.123Z"
   },
   {
    "duration": 10,
    "start_time": "2022-01-12T10:17:58.136Z"
   },
   {
    "duration": 220,
    "start_time": "2022-01-12T10:17:58.148Z"
   },
   {
    "duration": 210,
    "start_time": "2022-01-12T10:17:58.371Z"
   },
   {
    "duration": 4,
    "start_time": "2022-01-12T10:17:58.583Z"
   },
   {
    "duration": 12,
    "start_time": "2022-01-12T10:17:58.589Z"
   },
   {
    "duration": 104,
    "start_time": "2022-01-12T10:17:58.603Z"
   },
   {
    "duration": 4,
    "start_time": "2022-01-12T10:18:09.572Z"
   },
   {
    "duration": 191,
    "start_time": "2022-01-12T10:18:11.865Z"
   },
   {
    "duration": 4,
    "start_time": "2022-01-12T10:18:47.463Z"
   },
   {
    "duration": 197,
    "start_time": "2022-01-12T10:18:51.739Z"
   },
   {
    "duration": 480,
    "start_time": "2022-01-12T10:18:57.748Z"
   },
   {
    "duration": 178,
    "start_time": "2022-01-12T10:18:58.230Z"
   },
   {
    "duration": 144,
    "start_time": "2022-01-12T10:18:58.410Z"
   },
   {
    "duration": 119,
    "start_time": "2022-01-12T10:18:58.556Z"
   },
   {
    "duration": 40,
    "start_time": "2022-01-12T10:18:58.677Z"
   },
   {
    "duration": 32,
    "start_time": "2022-01-12T10:18:58.719Z"
   },
   {
    "duration": 63,
    "start_time": "2022-01-12T10:18:58.753Z"
   },
   {
    "duration": 35,
    "start_time": "2022-01-12T10:18:58.820Z"
   },
   {
    "duration": 44,
    "start_time": "2022-01-12T10:18:58.858Z"
   },
   {
    "duration": 20,
    "start_time": "2022-01-12T10:18:58.903Z"
   },
   {
    "duration": 21,
    "start_time": "2022-01-12T10:18:58.924Z"
   },
   {
    "duration": 20,
    "start_time": "2022-01-12T10:18:58.947Z"
   },
   {
    "duration": 50,
    "start_time": "2022-01-12T10:18:58.969Z"
   },
   {
    "duration": 7,
    "start_time": "2022-01-12T10:18:59.021Z"
   },
   {
    "duration": 23,
    "start_time": "2022-01-12T10:18:59.029Z"
   },
   {
    "duration": 4,
    "start_time": "2022-01-12T10:18:59.054Z"
   },
   {
    "duration": 231,
    "start_time": "2022-01-12T10:18:59.059Z"
   },
   {
    "duration": 13,
    "start_time": "2022-01-12T10:18:59.292Z"
   },
   {
    "duration": 9,
    "start_time": "2022-01-12T10:18:59.307Z"
   },
   {
    "duration": 226,
    "start_time": "2022-01-12T10:18:59.318Z"
   },
   {
    "duration": 205,
    "start_time": "2022-01-12T10:18:59.546Z"
   },
   {
    "duration": 5,
    "start_time": "2022-01-12T10:18:59.753Z"
   },
   {
    "duration": 10,
    "start_time": "2022-01-12T10:18:59.761Z"
   },
   {
    "duration": 11,
    "start_time": "2022-01-12T10:18:59.774Z"
   },
   {
    "duration": 12,
    "start_time": "2022-01-12T10:18:59.801Z"
   },
   {
    "duration": 238,
    "start_time": "2022-01-12T10:18:59.815Z"
   },
   {
    "duration": 218,
    "start_time": "2022-01-12T10:19:00.055Z"
   },
   {
    "duration": 7,
    "start_time": "2022-01-12T10:19:00.276Z"
   },
   {
    "duration": 19,
    "start_time": "2022-01-12T10:19:00.285Z"
   },
   {
    "duration": 17,
    "start_time": "2022-01-12T10:19:00.307Z"
   },
   {
    "duration": 12,
    "start_time": "2022-01-12T10:19:00.327Z"
   },
   {
    "duration": 241,
    "start_time": "2022-01-12T10:19:00.341Z"
   },
   {
    "duration": 239,
    "start_time": "2022-01-12T10:19:00.583Z"
   },
   {
    "duration": 5,
    "start_time": "2022-01-12T10:19:00.824Z"
   },
   {
    "duration": 24,
    "start_time": "2022-01-12T10:19:00.831Z"
   },
   {
    "duration": 136,
    "start_time": "2022-01-12T10:19:00.856Z"
   },
   {
    "duration": 206,
    "start_time": "2022-01-12T10:19:35.469Z"
   },
   {
    "duration": 12,
    "start_time": "2022-01-12T10:19:45.090Z"
   },
   {
    "duration": 10,
    "start_time": "2022-01-12T10:19:47.806Z"
   },
   {
    "duration": 25,
    "start_time": "2022-01-12T10:19:54.126Z"
   },
   {
    "duration": 4,
    "start_time": "2022-01-12T10:20:10.890Z"
   },
   {
    "duration": 190,
    "start_time": "2022-01-12T10:20:18.428Z"
   },
   {
    "duration": 215,
    "start_time": "2022-01-12T10:20:21.875Z"
   },
   {
    "duration": 4,
    "start_time": "2022-01-12T10:21:03.277Z"
   },
   {
    "duration": 199,
    "start_time": "2022-01-12T10:21:08.228Z"
   },
   {
    "duration": 481,
    "start_time": "2022-01-12T10:21:27.561Z"
   },
   {
    "duration": 186,
    "start_time": "2022-01-12T10:21:28.044Z"
   },
   {
    "duration": 151,
    "start_time": "2022-01-12T10:21:28.233Z"
   },
   {
    "duration": 118,
    "start_time": "2022-01-12T10:21:28.386Z"
   },
   {
    "duration": 20,
    "start_time": "2022-01-12T10:21:28.506Z"
   },
   {
    "duration": 32,
    "start_time": "2022-01-12T10:21:28.527Z"
   },
   {
    "duration": 58,
    "start_time": "2022-01-12T10:21:28.561Z"
   },
   {
    "duration": 28,
    "start_time": "2022-01-12T10:21:28.622Z"
   },
   {
    "duration": 53,
    "start_time": "2022-01-12T10:21:28.652Z"
   },
   {
    "duration": 24,
    "start_time": "2022-01-12T10:21:28.707Z"
   },
   {
    "duration": 32,
    "start_time": "2022-01-12T10:21:28.733Z"
   },
   {
    "duration": 55,
    "start_time": "2022-01-12T10:21:28.767Z"
   },
   {
    "duration": 24,
    "start_time": "2022-01-12T10:21:28.824Z"
   },
   {
    "duration": 6,
    "start_time": "2022-01-12T10:21:28.850Z"
   },
   {
    "duration": 49,
    "start_time": "2022-01-12T10:21:28.858Z"
   },
   {
    "duration": 4,
    "start_time": "2022-01-12T10:21:28.908Z"
   },
   {
    "duration": 205,
    "start_time": "2022-01-12T10:21:28.914Z"
   },
   {
    "duration": 11,
    "start_time": "2022-01-12T10:21:29.120Z"
   },
   {
    "duration": 9,
    "start_time": "2022-01-12T10:21:29.132Z"
   },
   {
    "duration": 228,
    "start_time": "2022-01-12T10:21:29.143Z"
   },
   {
    "duration": 265,
    "start_time": "2022-01-12T10:21:29.373Z"
   },
   {
    "duration": 5,
    "start_time": "2022-01-12T10:21:29.640Z"
   },
   {
    "duration": 12,
    "start_time": "2022-01-12T10:21:29.648Z"
   },
   {
    "duration": 17,
    "start_time": "2022-01-12T10:21:29.662Z"
   },
   {
    "duration": 23,
    "start_time": "2022-01-12T10:21:29.681Z"
   },
   {
    "duration": 222,
    "start_time": "2022-01-12T10:21:29.706Z"
   },
   {
    "duration": 212,
    "start_time": "2022-01-12T10:21:29.930Z"
   },
   {
    "duration": 5,
    "start_time": "2022-01-12T10:21:30.143Z"
   },
   {
    "duration": 9,
    "start_time": "2022-01-12T10:21:30.150Z"
   },
   {
    "duration": 11,
    "start_time": "2022-01-12T10:21:30.160Z"
   },
   {
    "duration": 31,
    "start_time": "2022-01-12T10:21:30.173Z"
   },
   {
    "duration": 224,
    "start_time": "2022-01-12T10:21:30.206Z"
   },
   {
    "duration": 233,
    "start_time": "2022-01-12T10:21:30.431Z"
   },
   {
    "duration": 5,
    "start_time": "2022-01-12T10:21:30.665Z"
   },
   {
    "duration": 22,
    "start_time": "2022-01-12T10:21:30.672Z"
   },
   {
    "duration": 120,
    "start_time": "2022-01-12T10:21:30.696Z"
   },
   {
    "duration": 7,
    "start_time": "2022-01-12T10:28:19.705Z"
   },
   {
    "duration": 4,
    "start_time": "2022-01-12T10:28:23.606Z"
   },
   {
    "duration": 169,
    "start_time": "2022-01-12T10:28:25.580Z"
   },
   {
    "duration": 10,
    "start_time": "2022-01-12T10:28:38.692Z"
   },
   {
    "duration": 10,
    "start_time": "2022-01-12T10:28:42.847Z"
   },
   {
    "duration": 7,
    "start_time": "2022-01-12T10:42:59.383Z"
   },
   {
    "duration": 350,
    "start_time": "2022-01-12T10:43:23.764Z"
   },
   {
    "duration": 347,
    "start_time": "2022-01-12T10:44:02.852Z"
   },
   {
    "duration": 258,
    "start_time": "2022-01-12T10:44:33.915Z"
   },
   {
    "duration": 270,
    "start_time": "2022-01-12T10:46:09.549Z"
   },
   {
    "duration": 267,
    "start_time": "2022-01-12T10:46:16.483Z"
   },
   {
    "duration": 498,
    "start_time": "2022-01-12T10:46:21.896Z"
   },
   {
    "duration": 191,
    "start_time": "2022-01-12T10:46:22.396Z"
   },
   {
    "duration": 162,
    "start_time": "2022-01-12T10:46:22.589Z"
   },
   {
    "duration": 125,
    "start_time": "2022-01-12T10:46:22.753Z"
   },
   {
    "duration": 31,
    "start_time": "2022-01-12T10:46:22.880Z"
   },
   {
    "duration": 30,
    "start_time": "2022-01-12T10:46:22.913Z"
   },
   {
    "duration": 30,
    "start_time": "2022-01-12T10:46:22.944Z"
   },
   {
    "duration": 26,
    "start_time": "2022-01-12T10:46:23.000Z"
   },
   {
    "duration": 28,
    "start_time": "2022-01-12T10:46:23.029Z"
   },
   {
    "duration": 47,
    "start_time": "2022-01-12T10:46:23.059Z"
   },
   {
    "duration": 23,
    "start_time": "2022-01-12T10:46:23.107Z"
   },
   {
    "duration": 22,
    "start_time": "2022-01-12T10:46:23.132Z"
   },
   {
    "duration": 51,
    "start_time": "2022-01-12T10:46:23.155Z"
   },
   {
    "duration": 8,
    "start_time": "2022-01-12T10:46:23.208Z"
   },
   {
    "duration": 7,
    "start_time": "2022-01-12T10:46:23.218Z"
   },
   {
    "duration": 7,
    "start_time": "2022-01-12T10:46:23.227Z"
   },
   {
    "duration": 252,
    "start_time": "2022-01-12T10:46:23.236Z"
   },
   {
    "duration": 15,
    "start_time": "2022-01-12T10:46:23.490Z"
   },
   {
    "duration": 10,
    "start_time": "2022-01-12T10:46:23.507Z"
   },
   {
    "duration": 243,
    "start_time": "2022-01-12T10:46:23.519Z"
   },
   {
    "duration": 229,
    "start_time": "2022-01-12T10:46:23.765Z"
   },
   {
    "duration": 6,
    "start_time": "2022-01-12T10:46:23.996Z"
   },
   {
    "duration": 13,
    "start_time": "2022-01-12T10:46:24.006Z"
   },
   {
    "duration": 13,
    "start_time": "2022-01-12T10:46:24.021Z"
   },
   {
    "duration": 13,
    "start_time": "2022-01-12T10:46:24.036Z"
   },
   {
    "duration": 252,
    "start_time": "2022-01-12T10:46:24.051Z"
   },
   {
    "duration": 206,
    "start_time": "2022-01-12T10:46:24.304Z"
   },
   {
    "duration": 5,
    "start_time": "2022-01-12T10:46:24.512Z"
   },
   {
    "duration": 14,
    "start_time": "2022-01-12T10:46:24.519Z"
   },
   {
    "duration": 13,
    "start_time": "2022-01-12T10:46:24.534Z"
   },
   {
    "duration": 9,
    "start_time": "2022-01-12T10:46:24.548Z"
   },
   {
    "duration": 246,
    "start_time": "2022-01-12T10:46:24.559Z"
   },
   {
    "duration": 221,
    "start_time": "2022-01-12T10:46:24.807Z"
   },
   {
    "duration": 5,
    "start_time": "2022-01-12T10:46:25.030Z"
   },
   {
    "duration": 7,
    "start_time": "2022-01-12T10:46:25.037Z"
   },
   {
    "duration": 100,
    "start_time": "2022-01-12T10:46:25.045Z"
   },
   {
    "duration": 5,
    "start_time": "2022-01-12T10:46:46.097Z"
   },
   {
    "duration": 6,
    "start_time": "2022-01-12T10:47:02.560Z"
   },
   {
    "duration": 23,
    "start_time": "2022-01-12T10:47:57.714Z"
   },
   {
    "duration": 9,
    "start_time": "2022-01-12T10:48:19.267Z"
   },
   {
    "duration": 10,
    "start_time": "2022-01-12T10:48:36.462Z"
   },
   {
    "duration": 275,
    "start_time": "2022-01-12T10:48:50.123Z"
   },
   {
    "duration": 262,
    "start_time": "2022-01-12T10:48:54.989Z"
   },
   {
    "duration": 464,
    "start_time": "2022-01-12T10:48:58.071Z"
   },
   {
    "duration": 197,
    "start_time": "2022-01-12T10:48:58.536Z"
   },
   {
    "duration": 206,
    "start_time": "2022-01-12T10:48:58.736Z"
   },
   {
    "duration": 107,
    "start_time": "2022-01-12T10:48:58.944Z"
   },
   {
    "duration": 18,
    "start_time": "2022-01-12T10:48:59.052Z"
   },
   {
    "duration": 55,
    "start_time": "2022-01-12T10:48:59.072Z"
   },
   {
    "duration": 25,
    "start_time": "2022-01-12T10:48:59.129Z"
   },
   {
    "duration": 42,
    "start_time": "2022-01-12T10:48:59.157Z"
   },
   {
    "duration": 37,
    "start_time": "2022-01-12T10:48:59.201Z"
   },
   {
    "duration": 20,
    "start_time": "2022-01-12T10:48:59.240Z"
   },
   {
    "duration": 20,
    "start_time": "2022-01-12T10:48:59.262Z"
   },
   {
    "duration": 20,
    "start_time": "2022-01-12T10:48:59.299Z"
   },
   {
    "duration": 30,
    "start_time": "2022-01-12T10:48:59.321Z"
   },
   {
    "duration": 12,
    "start_time": "2022-01-12T10:48:59.353Z"
   },
   {
    "duration": 308,
    "start_time": "2022-01-12T10:48:59.366Z"
   },
   {
    "duration": 506,
    "start_time": "2022-01-12T10:48:59.170Z"
   },
   {
    "duration": 505,
    "start_time": "2022-01-12T10:48:59.173Z"
   },
   {
    "duration": 498,
    "start_time": "2022-01-12T10:48:59.181Z"
   },
   {
    "duration": 496,
    "start_time": "2022-01-12T10:48:59.185Z"
   },
   {
    "duration": 494,
    "start_time": "2022-01-12T10:48:59.188Z"
   },
   {
    "duration": 493,
    "start_time": "2022-01-12T10:48:59.191Z"
   },
   {
    "duration": 491,
    "start_time": "2022-01-12T10:48:59.194Z"
   },
   {
    "duration": 485,
    "start_time": "2022-01-12T10:48:59.201Z"
   },
   {
    "duration": 484,
    "start_time": "2022-01-12T10:48:59.204Z"
   },
   {
    "duration": 482,
    "start_time": "2022-01-12T10:48:59.207Z"
   },
   {
    "duration": 480,
    "start_time": "2022-01-12T10:48:59.210Z"
   },
   {
    "duration": 480,
    "start_time": "2022-01-12T10:48:59.212Z"
   },
   {
    "duration": 479,
    "start_time": "2022-01-12T10:48:59.214Z"
   },
   {
    "duration": 477,
    "start_time": "2022-01-12T10:48:59.216Z"
   },
   {
    "duration": 476,
    "start_time": "2022-01-12T10:48:59.218Z"
   },
   {
    "duration": 475,
    "start_time": "2022-01-12T10:48:59.220Z"
   },
   {
    "duration": 474,
    "start_time": "2022-01-12T10:48:59.222Z"
   },
   {
    "duration": 473,
    "start_time": "2022-01-12T10:48:59.224Z"
   },
   {
    "duration": 472,
    "start_time": "2022-01-12T10:48:59.226Z"
   },
   {
    "duration": 470,
    "start_time": "2022-01-12T10:48:59.229Z"
   },
   {
    "duration": 469,
    "start_time": "2022-01-12T10:48:59.231Z"
   },
   {
    "duration": 277,
    "start_time": "2022-01-12T10:52:22.692Z"
   },
   {
    "duration": 283,
    "start_time": "2022-01-12T10:52:31.455Z"
   },
   {
    "duration": 370,
    "start_time": "2022-01-12T10:52:48.124Z"
   },
   {
    "duration": 299,
    "start_time": "2022-01-12T10:53:18.724Z"
   },
   {
    "duration": 269,
    "start_time": "2022-01-12T10:54:26.403Z"
   },
   {
    "duration": 261,
    "start_time": "2022-01-12T10:54:32.622Z"
   },
   {
    "duration": 267,
    "start_time": "2022-01-12T10:54:38.978Z"
   },
   {
    "duration": 264,
    "start_time": "2022-01-12T10:54:48.303Z"
   },
   {
    "duration": 486,
    "start_time": "2022-01-12T10:54:50.709Z"
   },
   {
    "duration": 478,
    "start_time": "2022-01-12T10:54:59.771Z"
   },
   {
    "duration": 174,
    "start_time": "2022-01-12T10:55:00.250Z"
   },
   {
    "duration": 139,
    "start_time": "2022-01-12T10:55:00.425Z"
   },
   {
    "duration": 115,
    "start_time": "2022-01-12T10:55:00.566Z"
   },
   {
    "duration": 25,
    "start_time": "2022-01-12T10:55:00.683Z"
   },
   {
    "duration": 30,
    "start_time": "2022-01-12T10:55:00.710Z"
   },
   {
    "duration": 28,
    "start_time": "2022-01-12T10:55:00.741Z"
   },
   {
    "duration": 52,
    "start_time": "2022-01-12T10:55:00.771Z"
   },
   {
    "duration": 27,
    "start_time": "2022-01-12T10:55:00.826Z"
   },
   {
    "duration": 56,
    "start_time": "2022-01-12T10:55:00.855Z"
   },
   {
    "duration": 22,
    "start_time": "2022-01-12T10:55:00.913Z"
   },
   {
    "duration": 21,
    "start_time": "2022-01-12T10:55:00.937Z"
   },
   {
    "duration": 50,
    "start_time": "2022-01-12T10:55:00.960Z"
   },
   {
    "duration": 8,
    "start_time": "2022-01-12T10:55:01.012Z"
   },
   {
    "duration": 13,
    "start_time": "2022-01-12T10:55:01.022Z"
   },
   {
    "duration": 7,
    "start_time": "2022-01-12T10:55:01.037Z"
   },
   {
    "duration": 221,
    "start_time": "2022-01-12T10:55:01.046Z"
   },
   {
    "duration": 11,
    "start_time": "2022-01-12T10:55:01.269Z"
   },
   {
    "duration": 20,
    "start_time": "2022-01-12T10:55:01.282Z"
   },
   {
    "duration": 221,
    "start_time": "2022-01-12T10:55:01.303Z"
   },
   {
    "duration": 209,
    "start_time": "2022-01-12T10:55:01.526Z"
   },
   {
    "duration": 5,
    "start_time": "2022-01-12T10:55:01.737Z"
   },
   {
    "duration": 25,
    "start_time": "2022-01-12T10:55:01.745Z"
   },
   {
    "duration": 26,
    "start_time": "2022-01-12T10:55:01.772Z"
   },
   {
    "duration": 11,
    "start_time": "2022-01-12T10:55:01.800Z"
   },
   {
    "duration": 230,
    "start_time": "2022-01-12T10:55:01.813Z"
   },
   {
    "duration": 226,
    "start_time": "2022-01-12T10:55:02.046Z"
   },
   {
    "duration": 5,
    "start_time": "2022-01-12T10:55:02.274Z"
   },
   {
    "duration": 19,
    "start_time": "2022-01-12T10:55:02.281Z"
   },
   {
    "duration": 16,
    "start_time": "2022-01-12T10:55:02.301Z"
   },
   {
    "duration": 14,
    "start_time": "2022-01-12T10:55:02.319Z"
   },
   {
    "duration": 225,
    "start_time": "2022-01-12T10:55:02.335Z"
   },
   {
    "duration": 225,
    "start_time": "2022-01-12T10:55:02.562Z"
   },
   {
    "duration": 13,
    "start_time": "2022-01-12T10:55:02.788Z"
   },
   {
    "duration": 8,
    "start_time": "2022-01-12T10:55:02.802Z"
   },
   {
    "duration": 135,
    "start_time": "2022-01-12T10:55:02.812Z"
   },
   {
    "duration": 445,
    "start_time": "2022-01-12T10:55:12.103Z"
   },
   {
    "duration": 191,
    "start_time": "2022-01-12T10:55:14.879Z"
   },
   {
    "duration": 139,
    "start_time": "2022-01-12T10:55:17.088Z"
   },
   {
    "duration": 30,
    "start_time": "2022-01-12T10:55:22.369Z"
   },
   {
    "duration": 264,
    "start_time": "2022-01-12T10:55:24.981Z"
   },
   {
    "duration": 23,
    "start_time": "2022-01-12T10:55:32.557Z"
   },
   {
    "duration": 455,
    "start_time": "2022-01-12T10:55:35.376Z"
   },
   {
    "duration": 187,
    "start_time": "2022-01-12T10:55:35.834Z"
   },
   {
    "duration": 146,
    "start_time": "2022-01-12T10:55:36.024Z"
   },
   {
    "duration": 130,
    "start_time": "2022-01-12T10:55:36.173Z"
   },
   {
    "duration": 23,
    "start_time": "2022-01-12T10:55:36.305Z"
   },
   {
    "duration": 31,
    "start_time": "2022-01-12T10:55:36.330Z"
   },
   {
    "duration": 58,
    "start_time": "2022-01-12T10:55:36.363Z"
   },
   {
    "duration": 24,
    "start_time": "2022-01-12T10:55:36.423Z"
   },
   {
    "duration": 26,
    "start_time": "2022-01-12T10:55:36.448Z"
   },
   {
    "duration": 20,
    "start_time": "2022-01-12T10:55:36.499Z"
   },
   {
    "duration": 21,
    "start_time": "2022-01-12T10:55:36.521Z"
   },
   {
    "duration": 21,
    "start_time": "2022-01-12T10:55:41.767Z"
   },
   {
    "duration": 23,
    "start_time": "2022-01-12T10:55:44.119Z"
   },
   {
    "duration": 7,
    "start_time": "2022-01-12T10:55:46.134Z"
   },
   {
    "duration": 8,
    "start_time": "2022-01-12T10:56:08.633Z"
   },
   {
    "duration": 10,
    "start_time": "2022-01-12T10:57:19.281Z"
   },
   {
    "duration": 4,
    "start_time": "2022-01-12T10:57:27.515Z"
   },
   {
    "duration": 204,
    "start_time": "2022-01-12T10:57:30.415Z"
   },
   {
    "duration": 10,
    "start_time": "2022-01-12T10:57:40.801Z"
   },
   {
    "duration": 12,
    "start_time": "2022-01-12T10:57:40.812Z"
   },
   {
    "duration": 219,
    "start_time": "2022-01-12T10:57:40.826Z"
   },
   {
    "duration": 196,
    "start_time": "2022-01-12T10:57:41.046Z"
   },
   {
    "duration": 4,
    "start_time": "2022-01-12T10:57:41.244Z"
   },
   {
    "duration": 7,
    "start_time": "2022-01-12T10:57:41.250Z"
   },
   {
    "duration": 13,
    "start_time": "2022-01-12T10:57:41.258Z"
   },
   {
    "duration": 29,
    "start_time": "2022-01-12T10:57:41.273Z"
   },
   {
    "duration": 213,
    "start_time": "2022-01-12T10:57:41.304Z"
   },
   {
    "duration": 196,
    "start_time": "2022-01-12T10:57:41.519Z"
   },
   {
    "duration": 4,
    "start_time": "2022-01-12T10:57:41.717Z"
   },
   {
    "duration": 6,
    "start_time": "2022-01-12T10:57:41.723Z"
   },
   {
    "duration": 10,
    "start_time": "2022-01-12T10:57:41.731Z"
   },
   {
    "duration": 9,
    "start_time": "2022-01-12T10:57:41.743Z"
   },
   {
    "duration": 287,
    "start_time": "2022-01-12T10:57:41.754Z"
   },
   {
    "duration": 229,
    "start_time": "2022-01-12T10:57:42.043Z"
   },
   {
    "duration": 6,
    "start_time": "2022-01-12T10:57:42.274Z"
   },
   {
    "duration": 19,
    "start_time": "2022-01-12T10:57:42.282Z"
   },
   {
    "duration": 93,
    "start_time": "2022-01-12T10:57:42.303Z"
   },
   {
    "duration": 86,
    "start_time": "2022-01-12T11:03:19.332Z"
   },
   {
    "duration": 292,
    "start_time": "2022-01-12T11:12:21.979Z"
   },
   {
    "duration": 35,
    "start_time": "2022-01-12T11:12:26.082Z"
   },
   {
    "duration": 16,
    "start_time": "2022-01-12T11:50:17.019Z"
   },
   {
    "duration": 6,
    "start_time": "2022-01-12T11:54:49.928Z"
   },
   {
    "duration": 10,
    "start_time": "2022-01-12T11:55:54.352Z"
   },
   {
    "duration": 290,
    "start_time": "2022-01-12T11:57:20.669Z"
   },
   {
    "duration": 273,
    "start_time": "2022-01-12T11:57:32.866Z"
   },
   {
    "duration": 292,
    "start_time": "2022-01-12T11:58:38.596Z"
   },
   {
    "duration": 457,
    "start_time": "2022-01-12T11:59:01.207Z"
   },
   {
    "duration": 171,
    "start_time": "2022-01-12T11:59:01.666Z"
   },
   {
    "duration": 137,
    "start_time": "2022-01-12T11:59:01.839Z"
   },
   {
    "duration": 114,
    "start_time": "2022-01-12T11:59:01.978Z"
   },
   {
    "duration": 19,
    "start_time": "2022-01-12T11:59:02.099Z"
   },
   {
    "duration": 34,
    "start_time": "2022-01-12T11:59:02.119Z"
   },
   {
    "duration": 50,
    "start_time": "2022-01-12T11:59:02.154Z"
   },
   {
    "duration": 24,
    "start_time": "2022-01-12T11:59:02.206Z"
   },
   {
    "duration": 26,
    "start_time": "2022-01-12T11:59:02.233Z"
   },
   {
    "duration": 46,
    "start_time": "2022-01-12T11:59:02.261Z"
   },
   {
    "duration": 21,
    "start_time": "2022-01-12T11:59:02.309Z"
   },
   {
    "duration": 20,
    "start_time": "2022-01-12T11:59:02.332Z"
   },
   {
    "duration": 46,
    "start_time": "2022-01-12T11:59:02.354Z"
   },
   {
    "duration": 6,
    "start_time": "2022-01-12T11:59:02.402Z"
   },
   {
    "duration": 14,
    "start_time": "2022-01-12T11:59:02.410Z"
   },
   {
    "duration": 5,
    "start_time": "2022-01-12T11:59:02.426Z"
   },
   {
    "duration": 214,
    "start_time": "2022-01-12T11:59:02.432Z"
   },
   {
    "duration": 9,
    "start_time": "2022-01-12T11:59:02.648Z"
   },
   {
    "duration": 10,
    "start_time": "2022-01-12T11:59:02.659Z"
   },
   {
    "duration": 220,
    "start_time": "2022-01-12T11:59:02.671Z"
   },
   {
    "duration": 198,
    "start_time": "2022-01-12T11:59:02.893Z"
   },
   {
    "duration": 7,
    "start_time": "2022-01-12T11:59:03.093Z"
   },
   {
    "duration": 10,
    "start_time": "2022-01-12T11:59:03.102Z"
   },
   {
    "duration": 12,
    "start_time": "2022-01-12T11:59:03.113Z"
   },
   {
    "duration": 10,
    "start_time": "2022-01-12T11:59:03.127Z"
   },
   {
    "duration": 227,
    "start_time": "2022-01-12T11:59:03.139Z"
   },
   {
    "duration": 192,
    "start_time": "2022-01-12T11:59:03.370Z"
   },
   {
    "duration": 4,
    "start_time": "2022-01-12T11:59:03.564Z"
   },
   {
    "duration": 13,
    "start_time": "2022-01-12T11:59:03.569Z"
   },
   {
    "duration": 19,
    "start_time": "2022-01-12T11:59:03.584Z"
   },
   {
    "duration": 9,
    "start_time": "2022-01-12T11:59:03.604Z"
   },
   {
    "duration": 197,
    "start_time": "2022-01-12T11:59:03.614Z"
   },
   {
    "duration": 201,
    "start_time": "2022-01-12T11:59:03.813Z"
   },
   {
    "duration": 5,
    "start_time": "2022-01-12T11:59:04.015Z"
   },
   {
    "duration": 9,
    "start_time": "2022-01-12T11:59:04.022Z"
   },
   {
    "duration": 95,
    "start_time": "2022-01-12T11:59:04.032Z"
   },
   {
    "duration": 529,
    "start_time": "2022-01-12T11:59:03.600Z"
   },
   {
    "duration": 9,
    "start_time": "2022-01-12T11:59:11.128Z"
   },
   {
    "duration": 8,
    "start_time": "2022-01-12T11:59:46.804Z"
   },
   {
    "duration": 9,
    "start_time": "2022-01-12T11:59:57.412Z"
   },
   {
    "duration": 12,
    "start_time": "2022-01-12T12:08:22.503Z"
   },
   {
    "duration": 4354,
    "start_time": "2022-01-12T12:16:41.043Z"
   },
   {
    "duration": 187,
    "start_time": "2022-01-12T12:16:45.399Z"
   },
   {
    "duration": 144,
    "start_time": "2022-01-12T12:16:45.588Z"
   },
   {
    "duration": 113,
    "start_time": "2022-01-12T12:16:45.734Z"
   },
   {
    "duration": 18,
    "start_time": "2022-01-12T12:16:45.848Z"
   },
   {
    "duration": 48,
    "start_time": "2022-01-12T12:16:45.868Z"
   },
   {
    "duration": 27,
    "start_time": "2022-01-12T12:16:45.918Z"
   },
   {
    "duration": 25,
    "start_time": "2022-01-12T12:16:45.947Z"
   },
   {
    "duration": 49,
    "start_time": "2022-01-12T12:16:45.974Z"
   },
   {
    "duration": 20,
    "start_time": "2022-01-12T12:16:46.025Z"
   },
   {
    "duration": 21,
    "start_time": "2022-01-12T12:16:46.047Z"
   },
   {
    "duration": 48,
    "start_time": "2022-01-12T12:16:46.070Z"
   },
   {
    "duration": 23,
    "start_time": "2022-01-12T12:16:46.119Z"
   },
   {
    "duration": 6,
    "start_time": "2022-01-12T12:16:46.144Z"
   },
   {
    "duration": 22,
    "start_time": "2022-01-12T12:16:46.152Z"
   },
   {
    "duration": 23,
    "start_time": "2022-01-12T12:16:46.176Z"
   },
   {
    "duration": 212,
    "start_time": "2022-01-12T12:16:46.201Z"
   },
   {
    "duration": 11,
    "start_time": "2022-01-12T12:16:46.415Z"
   },
   {
    "duration": 10,
    "start_time": "2022-01-12T12:16:46.427Z"
   },
   {
    "duration": 228,
    "start_time": "2022-01-12T12:16:46.438Z"
   },
   {
    "duration": 210,
    "start_time": "2022-01-12T12:16:46.668Z"
   },
   {
    "duration": 5,
    "start_time": "2022-01-12T12:16:46.879Z"
   },
   {
    "duration": 16,
    "start_time": "2022-01-12T12:16:46.887Z"
   },
   {
    "duration": 25,
    "start_time": "2022-01-12T12:16:46.905Z"
   },
   {
    "duration": 21,
    "start_time": "2022-01-12T12:16:46.931Z"
   },
   {
    "duration": 227,
    "start_time": "2022-01-12T12:16:46.955Z"
   },
   {
    "duration": 280,
    "start_time": "2022-01-12T12:16:47.184Z"
   },
   {
    "duration": 5,
    "start_time": "2022-01-12T12:16:47.466Z"
   },
   {
    "duration": 8,
    "start_time": "2022-01-12T12:16:47.473Z"
   },
   {
    "duration": 24,
    "start_time": "2022-01-12T12:16:47.482Z"
   },
   {
    "duration": 8,
    "start_time": "2022-01-12T12:16:47.508Z"
   },
   {
    "duration": 222,
    "start_time": "2022-01-12T12:16:47.518Z"
   },
   {
    "duration": 239,
    "start_time": "2022-01-12T12:16:47.742Z"
   },
   {
    "duration": 6,
    "start_time": "2022-01-12T12:16:47.983Z"
   },
   {
    "duration": 6,
    "start_time": "2022-01-12T12:16:47.998Z"
   },
   {
    "duration": 11,
    "start_time": "2022-01-12T12:16:54.962Z"
   },
   {
    "duration": 11,
    "start_time": "2022-01-12T12:28:30.157Z"
   },
   {
    "duration": 5,
    "start_time": "2022-01-12T12:29:36.562Z"
   },
   {
    "duration": 5,
    "start_time": "2022-01-12T12:32:26.094Z"
   },
   {
    "duration": 5,
    "start_time": "2022-01-12T12:32:35.993Z"
   },
   {
    "duration": 5,
    "start_time": "2022-01-12T12:56:16.732Z"
   },
   {
    "duration": 5,
    "start_time": "2022-01-12T12:57:17.025Z"
   },
   {
    "duration": 96,
    "start_time": "2022-01-12T12:57:57.523Z"
   },
   {
    "duration": 2,
    "start_time": "2022-01-12T13:14:36.953Z"
   },
   {
    "duration": 310,
    "start_time": "2022-01-12T18:21:31.215Z"
   },
   {
    "duration": 2124,
    "start_time": "2022-01-12T18:21:35.506Z"
   },
   {
    "duration": 304,
    "start_time": "2022-01-12T18:21:37.633Z"
   },
   {
    "duration": 248,
    "start_time": "2022-01-12T18:21:37.939Z"
   },
   {
    "duration": 157,
    "start_time": "2022-01-12T18:21:46.128Z"
   },
   {
    "duration": 48,
    "start_time": "2022-01-12T18:25:44.265Z"
   },
   {
    "duration": 706,
    "start_time": "2022-01-12T18:52:38.628Z"
   },
   {
    "duration": 315,
    "start_time": "2022-01-12T18:52:39.336Z"
   },
   {
    "duration": 247,
    "start_time": "2022-01-12T18:52:39.667Z"
   },
   {
    "duration": 173,
    "start_time": "2022-01-12T18:52:39.918Z"
   },
   {
    "duration": 29,
    "start_time": "2022-01-12T18:52:40.094Z"
   },
   {
    "duration": 83,
    "start_time": "2022-01-12T18:52:40.126Z"
   },
   {
    "duration": 71,
    "start_time": "2022-01-12T18:52:40.212Z"
   },
   {
    "duration": 46,
    "start_time": "2022-01-12T18:52:40.287Z"
   },
   {
    "duration": 76,
    "start_time": "2022-01-12T18:52:40.337Z"
   },
   {
    "duration": 57,
    "start_time": "2022-01-12T18:52:40.416Z"
   },
   {
    "duration": 47,
    "start_time": "2022-01-12T18:52:40.476Z"
   },
   {
    "duration": 56,
    "start_time": "2022-01-12T18:52:40.526Z"
   },
   {
    "duration": 40,
    "start_time": "2022-01-12T18:52:40.585Z"
   },
   {
    "duration": 40,
    "start_time": "2022-01-12T18:52:40.628Z"
   },
   {
    "duration": 19,
    "start_time": "2022-01-12T18:52:40.671Z"
   },
   {
    "duration": 9,
    "start_time": "2022-01-12T18:52:40.693Z"
   },
   {
    "duration": 428,
    "start_time": "2022-01-12T18:52:40.705Z"
   },
   {
    "duration": 34,
    "start_time": "2022-01-12T18:52:41.135Z"
   },
   {
    "duration": 14,
    "start_time": "2022-01-12T18:52:41.171Z"
   },
   {
    "duration": 386,
    "start_time": "2022-01-12T18:52:41.187Z"
   },
   {
    "duration": 293,
    "start_time": "2022-01-12T18:52:41.577Z"
   },
   {
    "duration": 7,
    "start_time": "2022-01-12T18:52:41.872Z"
   },
   {
    "duration": 7,
    "start_time": "2022-01-12T18:52:41.884Z"
   },
   {
    "duration": 18,
    "start_time": "2022-01-12T18:52:41.894Z"
   },
   {
    "duration": 12,
    "start_time": "2022-01-12T18:52:41.915Z"
   },
   {
    "duration": 343,
    "start_time": "2022-01-12T18:52:41.930Z"
   },
   {
    "duration": 436,
    "start_time": "2022-01-12T18:52:42.275Z"
   },
   {
    "duration": 8,
    "start_time": "2022-01-12T18:52:42.714Z"
   },
   {
    "duration": 14,
    "start_time": "2022-01-12T18:52:42.724Z"
   },
   {
    "duration": 16,
    "start_time": "2022-01-12T18:52:42.767Z"
   },
   {
    "duration": 16,
    "start_time": "2022-01-12T18:52:42.786Z"
   },
   {
    "duration": 473,
    "start_time": "2022-01-12T18:52:42.806Z"
   },
   {
    "duration": 334,
    "start_time": "2022-01-12T18:52:43.282Z"
   },
   {
    "duration": 8,
    "start_time": "2022-01-12T18:52:43.618Z"
   },
   {
    "duration": 7,
    "start_time": "2022-01-12T18:52:43.629Z"
   },
   {
    "duration": 43,
    "start_time": "2022-01-12T18:52:43.639Z"
   },
   {
    "duration": 10,
    "start_time": "2022-01-12T18:52:43.685Z"
   },
   {
    "duration": 9,
    "start_time": "2022-01-12T18:52:43.698Z"
   },
   {
    "duration": 2383,
    "start_time": "2022-01-14T15:34:42.141Z"
   },
   {
    "duration": 272,
    "start_time": "2022-01-14T15:34:44.527Z"
   },
   {
    "duration": 242,
    "start_time": "2022-01-14T15:34:44.802Z"
   },
   {
    "duration": 167,
    "start_time": "2022-01-14T15:34:45.047Z"
   },
   {
    "duration": 30,
    "start_time": "2022-01-14T15:34:45.224Z"
   },
   {
    "duration": 89,
    "start_time": "2022-01-14T15:34:45.256Z"
   },
   {
    "duration": 47,
    "start_time": "2022-01-14T15:34:45.348Z"
   },
   {
    "duration": 49,
    "start_time": "2022-01-14T15:34:45.399Z"
   },
   {
    "duration": 33,
    "start_time": "2022-01-14T15:34:45.451Z"
   },
   {
    "duration": 48,
    "start_time": "2022-01-14T15:34:45.486Z"
   },
   {
    "duration": 28,
    "start_time": "2022-01-14T15:34:45.536Z"
   },
   {
    "duration": 58,
    "start_time": "2022-01-14T15:34:45.567Z"
   },
   {
    "duration": 31,
    "start_time": "2022-01-14T15:34:45.628Z"
   },
   {
    "duration": 11,
    "start_time": "2022-01-14T15:34:45.662Z"
   },
   {
    "duration": 49,
    "start_time": "2022-01-14T15:34:45.676Z"
   },
   {
    "duration": 8,
    "start_time": "2022-01-14T15:34:45.727Z"
   },
   {
    "duration": 205,
    "start_time": "2022-01-14T15:34:45.737Z"
   },
   {
    "duration": 16,
    "start_time": "2022-01-14T15:34:45.945Z"
   },
   {
    "duration": 14,
    "start_time": "2022-01-14T15:34:45.964Z"
   },
   {
    "duration": 343,
    "start_time": "2022-01-14T15:34:45.981Z"
   },
   {
    "duration": 285,
    "start_time": "2022-01-14T15:34:46.327Z"
   },
   {
    "duration": 11,
    "start_time": "2022-01-14T15:34:46.615Z"
   },
   {
    "duration": 7,
    "start_time": "2022-01-14T15:34:46.630Z"
   },
   {
    "duration": 12,
    "start_time": "2022-01-14T15:34:46.640Z"
   },
   {
    "duration": 10,
    "start_time": "2022-01-14T15:34:46.654Z"
   },
   {
    "duration": 357,
    "start_time": "2022-01-14T15:34:46.666Z"
   },
   {
    "duration": 285,
    "start_time": "2022-01-14T15:34:47.025Z"
   },
   {
    "duration": 16,
    "start_time": "2022-01-14T15:34:47.312Z"
   },
   {
    "duration": 8,
    "start_time": "2022-01-14T15:34:47.331Z"
   },
   {
    "duration": 13,
    "start_time": "2022-01-14T15:34:47.342Z"
   },
   {
    "duration": 13,
    "start_time": "2022-01-14T15:34:47.357Z"
   },
   {
    "duration": 342,
    "start_time": "2022-01-14T15:34:47.372Z"
   },
   {
    "duration": 376,
    "start_time": "2022-01-14T15:34:47.717Z"
   },
   {
    "duration": 9,
    "start_time": "2022-01-14T15:34:48.096Z"
   },
   {
    "duration": 7,
    "start_time": "2022-01-14T15:34:48.124Z"
   },
   {
    "duration": 16,
    "start_time": "2022-01-14T15:34:48.134Z"
   },
   {
    "duration": 7,
    "start_time": "2022-01-14T15:34:48.152Z"
   },
   {
    "duration": 8,
    "start_time": "2022-01-14T15:34:48.162Z"
   },
   {
    "duration": 482,
    "start_time": "2022-01-14T15:41:19.987Z"
   },
   {
    "duration": 24,
    "start_time": "2022-01-14T15:41:31.086Z"
   },
   {
    "duration": 177,
    "start_time": "2022-01-14T15:41:45.785Z"
   },
   {
    "duration": 1579,
    "start_time": "2022-01-14T21:02:12.455Z"
   },
   {
    "duration": 200,
    "start_time": "2022-01-14T21:02:14.037Z"
   },
   {
    "duration": 152,
    "start_time": "2022-01-14T21:02:14.240Z"
   },
   {
    "duration": 110,
    "start_time": "2022-01-14T21:02:14.395Z"
   },
   {
    "duration": 19,
    "start_time": "2022-01-14T21:02:14.507Z"
   },
   {
    "duration": 35,
    "start_time": "2022-01-14T21:02:14.528Z"
   },
   {
    "duration": 60,
    "start_time": "2022-01-14T21:02:14.565Z"
   },
   {
    "duration": 26,
    "start_time": "2022-01-14T21:02:14.628Z"
   },
   {
    "duration": 349,
    "start_time": "2022-01-14T21:02:14.656Z"
   },
   {
    "duration": -1565,
    "start_time": "2022-01-14T21:02:16.573Z"
   },
   {
    "duration": -1569,
    "start_time": "2022-01-14T21:02:16.577Z"
   },
   {
    "duration": -1570,
    "start_time": "2022-01-14T21:02:16.580Z"
   },
   {
    "duration": -1572,
    "start_time": "2022-01-14T21:02:16.582Z"
   },
   {
    "duration": -1574,
    "start_time": "2022-01-14T21:02:16.585Z"
   },
   {
    "duration": -1575,
    "start_time": "2022-01-14T21:02:16.587Z"
   },
   {
    "duration": -1580,
    "start_time": "2022-01-14T21:02:16.593Z"
   },
   {
    "duration": -1583,
    "start_time": "2022-01-14T21:02:16.596Z"
   },
   {
    "duration": -1584,
    "start_time": "2022-01-14T21:02:16.598Z"
   },
   {
    "duration": -1586,
    "start_time": "2022-01-14T21:02:16.601Z"
   },
   {
    "duration": -1587,
    "start_time": "2022-01-14T21:02:16.603Z"
   },
   {
    "duration": -1589,
    "start_time": "2022-01-14T21:02:16.606Z"
   },
   {
    "duration": -1590,
    "start_time": "2022-01-14T21:02:16.608Z"
   },
   {
    "duration": -1592,
    "start_time": "2022-01-14T21:02:16.610Z"
   },
   {
    "duration": -1594,
    "start_time": "2022-01-14T21:02:16.613Z"
   },
   {
    "duration": -1595,
    "start_time": "2022-01-14T21:02:16.615Z"
   },
   {
    "duration": -1596,
    "start_time": "2022-01-14T21:02:16.617Z"
   },
   {
    "duration": -1597,
    "start_time": "2022-01-14T21:02:16.619Z"
   },
   {
    "duration": -1599,
    "start_time": "2022-01-14T21:02:16.622Z"
   },
   {
    "duration": -1600,
    "start_time": "2022-01-14T21:02:16.624Z"
   },
   {
    "duration": -1602,
    "start_time": "2022-01-14T21:02:16.626Z"
   },
   {
    "duration": -1608,
    "start_time": "2022-01-14T21:02:16.633Z"
   },
   {
    "duration": -1610,
    "start_time": "2022-01-14T21:02:16.636Z"
   },
   {
    "duration": -1611,
    "start_time": "2022-01-14T21:02:16.638Z"
   },
   {
    "duration": -1612,
    "start_time": "2022-01-14T21:02:16.640Z"
   },
   {
    "duration": -1614,
    "start_time": "2022-01-14T21:02:16.643Z"
   },
   {
    "duration": -1615,
    "start_time": "2022-01-14T21:02:16.645Z"
   },
   {
    "duration": -1617,
    "start_time": "2022-01-14T21:02:16.648Z"
   },
   {
    "duration": -1618,
    "start_time": "2022-01-14T21:02:16.650Z"
   },
   {
    "duration": 30,
    "start_time": "2022-01-14T21:02:46.473Z"
   },
   {
    "duration": 30,
    "start_time": "2022-01-14T21:03:26.861Z"
   },
   {
    "duration": 490,
    "start_time": "2022-01-14T21:03:53.660Z"
   },
   {
    "duration": 166,
    "start_time": "2022-01-14T21:03:54.152Z"
   },
   {
    "duration": 138,
    "start_time": "2022-01-14T21:03:54.321Z"
   },
   {
    "duration": 109,
    "start_time": "2022-01-14T21:03:54.461Z"
   },
   {
    "duration": 32,
    "start_time": "2022-01-14T21:03:54.572Z"
   },
   {
    "duration": 32,
    "start_time": "2022-01-14T21:03:54.605Z"
   },
   {
    "duration": 61,
    "start_time": "2022-01-14T21:03:54.639Z"
   },
   {
    "duration": 26,
    "start_time": "2022-01-14T21:03:54.703Z"
   },
   {
    "duration": 31,
    "start_time": "2022-01-14T21:03:54.730Z"
   },
   {
    "duration": 44,
    "start_time": "2022-01-14T21:03:54.762Z"
   },
   {
    "duration": 20,
    "start_time": "2022-01-14T21:03:54.808Z"
   },
   {
    "duration": 19,
    "start_time": "2022-01-14T21:03:54.829Z"
   },
   {
    "duration": 46,
    "start_time": "2022-01-14T21:03:54.849Z"
   },
   {
    "duration": 7,
    "start_time": "2022-01-14T21:03:54.897Z"
   },
   {
    "duration": 10,
    "start_time": "2022-01-14T21:03:54.906Z"
   },
   {
    "duration": 4,
    "start_time": "2022-01-14T21:03:54.918Z"
   },
   {
    "duration": 210,
    "start_time": "2022-01-14T21:03:54.924Z"
   },
   {
    "duration": 11,
    "start_time": "2022-01-14T21:03:55.136Z"
   },
   {
    "duration": 10,
    "start_time": "2022-01-14T21:03:55.148Z"
   },
   {
    "duration": 210,
    "start_time": "2022-01-14T21:03:55.160Z"
   },
   {
    "duration": 181,
    "start_time": "2022-01-14T21:03:55.371Z"
   },
   {
    "duration": 4,
    "start_time": "2022-01-14T21:03:55.554Z"
   },
   {
    "duration": 8,
    "start_time": "2022-01-14T21:03:55.561Z"
   },
   {
    "duration": 24,
    "start_time": "2022-01-14T21:03:55.571Z"
   },
   {
    "duration": 9,
    "start_time": "2022-01-14T21:03:55.596Z"
   },
   {
    "duration": 196,
    "start_time": "2022-01-14T21:03:55.607Z"
   },
   {
    "duration": 171,
    "start_time": "2022-01-14T21:03:55.805Z"
   },
   {
    "duration": 5,
    "start_time": "2022-01-14T21:03:55.977Z"
   },
   {
    "duration": 4,
    "start_time": "2022-01-14T21:03:55.991Z"
   },
   {
    "duration": 11,
    "start_time": "2022-01-14T21:03:55.996Z"
   },
   {
    "duration": 8,
    "start_time": "2022-01-14T21:03:56.009Z"
   },
   {
    "duration": 197,
    "start_time": "2022-01-14T21:03:56.019Z"
   },
   {
    "duration": 191,
    "start_time": "2022-01-14T21:03:56.217Z"
   },
   {
    "duration": 4,
    "start_time": "2022-01-14T21:03:56.410Z"
   },
   {
    "duration": 7,
    "start_time": "2022-01-14T21:03:56.416Z"
   },
   {
    "duration": 9,
    "start_time": "2022-01-14T21:03:56.424Z"
   },
   {
    "duration": 5,
    "start_time": "2022-01-14T21:03:56.434Z"
   },
   {
    "duration": 5,
    "start_time": "2022-01-14T21:03:56.441Z"
   }
  ],
  "kernelspec": {
   "display_name": "Python 3 (ipykernel)",
   "language": "python",
   "name": "python3"
  },
  "language_info": {
   "codemirror_mode": {
    "name": "ipython",
    "version": 3
   },
   "file_extension": ".py",
   "mimetype": "text/x-python",
   "name": "python",
   "nbconvert_exporter": "python",
   "pygments_lexer": "ipython3",
   "version": "3.9.7"
  },
  "toc": {
   "base_numbering": 1,
   "nav_menu": {},
   "number_sections": true,
   "sideBar": true,
   "skip_h1_title": true,
   "title_cell": "Table of Contents",
   "title_sidebar": "Contents",
   "toc_cell": false,
   "toc_position": {},
   "toc_section_display": true,
   "toc_window_display": false
  }
 },
 "nbformat": 4,
 "nbformat_minor": 2
}
